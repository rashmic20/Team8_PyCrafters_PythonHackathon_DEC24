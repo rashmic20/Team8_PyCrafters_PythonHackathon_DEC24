{
 "cells": [
  {
   "cell_type": "code",
   "execution_count": 3,
   "id": "495cd762-91f7-4b05-b70a-546a4a20161e",
   "metadata": {},
   "outputs": [
    {
     "name": "stdout",
     "output_type": "stream",
     "text": [
      "OPO1: 32148 donors\n",
      "OPO2: 16145 donors\n",
      "OPO3: 12514 donors\n",
      "OPO4: 33641 donors\n",
      "OPO5: 15738 donors\n",
      "OPO6: 22915 donors\n"
     ]
    }
   ],
   "source": [
    "#Qu 16 -- How many donors were registered in each Organ Procurement Organization?\n",
    "import pandas\n",
    "opo_hospdetails = pandas.read_excel('OrganDonor_Consolidated.xlsx', sheet_name='OPO_HospDetails')\n",
    "# Initialize an empty dictionary to store the donor counts for each OPO ID\n",
    "opo_donor_count = {}\n",
    "# Loop through the list of donor OPO IDs \n",
    "for opo in opo_hospdetails['OPO']:\n",
    "    if opo in opo_donor_count:\n",
    "        opo_donor_count[opo] += 1\n",
    "    else:\n",
    "        opo_donor_count[opo] = 1\n",
    "\n",
    "# Display the count of donors for each OPO ID\n",
    "for opo, count in opo_donor_count.items():\n",
    "    print(f\"{opo}: {count} donors\")"
   ]
  },
  {
   "cell_type": "code",
   "execution_count": null,
   "id": "5dc294b1-58da-4c28-9a64-620132afdb35",
   "metadata": {},
   "outputs": [],
   "source": []
  },
  {
   "cell_type": "code",
   "execution_count": null,
   "id": "3d40e636-4427-462d-9503-dbd7821eac67",
   "metadata": {},
   "outputs": [],
   "source": []
  },
  {
   "cell_type": "code",
   "execution_count": null,
   "id": "13b3f7d9-6963-4232-af4d-4ed25752994f",
   "metadata": {},
   "outputs": [],
   "source": []
  }
 ],
 "metadata": {
  "kernelspec": {
   "display_name": "Python 3 (ipykernel)",
   "language": "python",
   "name": "python3"
  },
  "language_info": {
   "codemirror_mode": {
    "name": "ipython",
    "version": 3
   },
   "file_extension": ".py",
   "mimetype": "text/x-python",
   "name": "python",
   "nbconvert_exporter": "python",
   "pygments_lexer": "ipython3",
   "version": "3.12.7"
  }
 },
 "nbformat": 4,
 "nbformat_minor": 5
}
