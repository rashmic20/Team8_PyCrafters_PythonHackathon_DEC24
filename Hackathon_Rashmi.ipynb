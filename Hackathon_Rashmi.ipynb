{
 "cells": [
  {
   "cell_type": "markdown",
   "id": "df87e18c-7aec-4043-b4e0-21660de23bd3",
   "metadata": {},
   "source": [
    "## Team 8 Numpy Ninja Python Hackthaon Dec"
   ]
  },
  {
   "cell_type": "code",
   "execution_count": null,
   "id": "848b9938-e176-4825-9423-a599e49bbd1c",
   "metadata": {},
   "outputs": [],
   "source": [
    "import pandas as pd\n",
    "\n",
    "file_path = r'C:\\Users\\rashm\\OneDrive\\Documents\\Numpy Ninja\\Python Hackathon\\OrganDonor_Consolidated.xlsx'\n",
    "excel_file = pd.ExcelFile(file_path)\n"
   ]
  },
  {
   "cell_type": "markdown",
   "id": "c2a541d2-7a2c-4849-974b-b885d1e7283d",
   "metadata": {},
   "source": [
    "### 65. List any 10 donors that are not there in the outcomes sheet\n"
   ]
  },
  {
   "cell_type": "code",
   "execution_count": 11,
   "id": "b83b749b-e06f-480c-b0a0-3d189fcac301",
   "metadata": {},
   "outputs": [
    {
     "name": "stdout",
     "output_type": "stream",
     "text": [
      "Donors not in Outcomes sheet: ['OPO1_P679634', 'OPO2_P167750', 'OPO5_P294045', 'OPO4_P46514', 'OPO4_P798521', 'OPO3_P669905', 'OPO6_P757891', 'OPO4_P608341', 'OPO4_P492335', 'OPO1_P532673']\n"
     ]
    }
   ],
   "source": [
    "# Load the DonorDetails and Outcomes sheets\n",
    "donor_details = excel_file.parse('DonorDetails')\n",
    "outcomes = excel_file.parse('Outcomes')\n",
    "referral_details = excel_file.parse('ReferralDetails')\n",
    "OPO_HospDetails = excel_file.parse('OPO_HospDetails')\n",
    "yearly_0utcome= excel_file.parse('Yearly_Outcomes')\n",
    "\n",
    "# Extract donor IDs from both sheets\n",
    "donor_ids = set(donor_details['PatientID'])\n",
    "outcome_ids = set(outcomes['PatientID'])\n",
    "\n",
    "# Find donors in DonorDetails but not in Outcomes\n",
    "missing_donors = list(donor_ids - outcome_ids)\n",
    "\n",
    "# Display any 10 missing donors\n",
    "print(\"Donors not in Outcomes sheet:\", missing_donors[:10])"
   ]
  },
  {
   "cell_type": "code",
   "execution_count": 8,
   "id": "937d02fe-e8ff-4c53-b428-9b6053fc2c4c",
   "metadata": {},
   "outputs": [
    {
     "name": "stdout",
     "output_type": "stream",
     "text": [
      "<class 'pandas.core.frame.DataFrame'>\n",
      "RangeIndex: 133101 entries, 0 to 133100\n",
      "Data columns (total 9 columns):\n",
      " #   Column              Non-Null Count   Dtype         \n",
      "---  ------              --------------   -----         \n",
      " 0   PatientID           133101 non-null  object        \n",
      " 1   age                 133017 non-null  float64       \n",
      " 2   gender              133040 non-null  object        \n",
      " 3   race                133101 non-null  object        \n",
      " 4   causeofdeath        133101 non-null  object        \n",
      " 5   mechanism_of_death  133101 non-null  object        \n",
      " 6   brain_death         133101 non-null  int64         \n",
      " 7   time_asystole       89446 non-null   datetime64[ns]\n",
      " 8   time_brain_death    11856 non-null   datetime64[ns]\n",
      "dtypes: datetime64[ns](2), float64(1), int64(1), object(5)\n",
      "memory usage: 9.1+ MB\n"
     ]
    }
   ],
   "source": [
    "donor_details.info()"
   ]
  },
  {
   "cell_type": "code",
   "execution_count": null,
   "id": "bf862755-4faf-46e0-9459-b7847160c400",
   "metadata": {},
   "outputs": [],
   "source": []
  }
 ],
 "metadata": {
  "kernelspec": {
   "display_name": "Python 3 (ipykernel)",
   "language": "python",
   "name": "python3"
  },
  "language_info": {
   "codemirror_mode": {
    "name": "ipython",
    "version": 3
   },
   "file_extension": ".py",
   "mimetype": "text/x-python",
   "name": "python",
   "nbconvert_exporter": "python",
   "pygments_lexer": "ipython3",
   "version": "3.12.7"
  }
 },
 "nbformat": 4,
 "nbformat_minor": 5
}
