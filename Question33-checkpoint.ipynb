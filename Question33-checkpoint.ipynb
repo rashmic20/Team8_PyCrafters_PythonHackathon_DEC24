{
 "cells": [
  {
   "cell_type": "code",
   "execution_count": 1,
   "id": "b1c4df29",
   "metadata": {},
   "outputs": [
    {
     "name": "stdout",
     "output_type": "stream",
     "text": [
      "Requirement already satisfied: pandas in c:\\users\\suman\\anaconda3\\lib\\site-packages (1.4.4)\n",
      "Requirement already satisfied: openpyxl in c:\\users\\suman\\anaconda3\\lib\\site-packages (3.0.10)\n",
      "Requirement already satisfied: pytz>=2020.1 in c:\\users\\suman\\anaconda3\\lib\\site-packages (from pandas) (2022.1)\n",
      "Requirement already satisfied: numpy>=1.18.5 in c:\\users\\suman\\anaconda3\\lib\\site-packages (from pandas) (1.21.5)\n",
      "Requirement already satisfied: python-dateutil>=2.8.1 in c:\\users\\suman\\anaconda3\\lib\\site-packages (from pandas) (2.8.2)\n",
      "Requirement already satisfied: et_xmlfile in c:\\users\\suman\\anaconda3\\lib\\site-packages (from openpyxl) (1.1.0)\n",
      "Requirement already satisfied: six>=1.5 in c:\\users\\suman\\anaconda3\\lib\\site-packages (from python-dateutil>=2.8.1->pandas) (1.16.0)\n",
      "Note: you may need to restart the kernel to use updated packages.\n"
     ]
    }
   ],
   "source": [
    "pip install pandas openpyxl\n"
   ]
  },
  {
   "cell_type": "code",
   "execution_count": 2,
   "id": "89615582",
   "metadata": {},
   "outputs": [],
   "source": [
    "import pandas as pd"
   ]
  },
  {
   "cell_type": "code",
   "execution_count": 6,
   "id": "fb4a1328",
   "metadata": {},
   "outputs": [],
   "source": [
    "file_path = r\"C:\\Users\\suman\\Documents\\GitHub\\Python Hackathon\\OrganDonor_Consolidated.xlsx\"\n"
   ]
  },
  {
   "cell_type": "code",
   "execution_count": 9,
   "id": "90304194",
   "metadata": {},
   "outputs": [],
   "source": [
    "dfs = pd.read_excel(file_path,sheet_name = 'ReferralDetails' )"
   ]
  },
  {
   "cell_type": "code",
   "execution_count": 14,
   "id": "0a875831",
   "metadata": {},
   "outputs": [
    {
     "name": "stdout",
     "output_type": "stream",
     "text": [
      "      PatientID  Approached Relatives  Authorized By Family  Cross_Clamped  \\\n",
      "0  OPO1_P320866                     0                     0              0   \n",
      "1  OPO1_P549364                     0                     0              0   \n",
      "2  OPO1_P536997                     1                     0              0   \n",
      "3  OPO1_P463285                     0                     0              0   \n",
      "4  OPO1_P284978                     0                     0              0   \n",
      "\n",
      "   transplanted  Tissue_Referral  Eye_Referral           time_referred  \\\n",
      "0             0                1             1 2033-06-21 06:49:25.000   \n",
      "1             0                1             1 2036-11-21 08:41:13.397   \n",
      "2             0                1             1 2030-08-23 23:28:54.687   \n",
      "3             0                1             1 2034-05-12 17:34:52.277   \n",
      "4             0                1             1 2033-02-22 04:45:27.867   \n",
      "\n",
      "  time_approached time_authorized time_procured Referral_DayofWeek  \\\n",
      "0             NaT             NaT           NaT            Tuesday   \n",
      "1             NaT             NaT           NaT             Sunday   \n",
      "2             NaT             NaT           NaT             Friday   \n",
      "3             NaT             NaT           NaT             Monday   \n",
      "4             NaT             NaT           NaT             Friday   \n",
      "\n",
      "   Referral_Year  Procured_Year  \n",
      "0           2018            NaN  \n",
      "1           2021            NaN  \n",
      "2           2015            NaN  \n",
      "3           2019            NaN  \n",
      "4           2018            NaN  \n"
     ]
    }
   ],
   "source": [
    "print(dfs.head())"
   ]
  },
  {
   "cell_type": "code",
   "execution_count": 15,
   "id": "2816b76a",
   "metadata": {},
   "outputs": [
    {
     "name": "stdout",
     "output_type": "stream",
     "text": [
      "Index(['PatientID', 'Approached Relatives', 'Authorized By Family',\n",
      "       'Cross_Clamped', 'transplanted', 'Tissue_Referral', 'Eye_Referral',\n",
      "       'time_referred', 'time_approached', 'time_authorized', 'time_procured',\n",
      "       'Referral_DayofWeek', 'Referral_Year', 'Procured_Year'],\n",
      "      dtype='object')\n"
     ]
    }
   ],
   "source": [
    "print(dfs.columns)"
   ]
  },
  {
   "cell_type": "code",
   "execution_count": 27,
   "id": "7da3c0bc",
   "metadata": {},
   "outputs": [],
   "source": [
    "yearly_referrals = dfs.groupby('Referral_Year')['Referral_Year'].count()"
   ]
  },
  {
   "cell_type": "code",
   "execution_count": 28,
   "id": "f5231f0b",
   "metadata": {},
   "outputs": [],
   "source": [
    "max_referral_year = yearly_referrals.idxmax()"
   ]
  },
  {
   "cell_type": "code",
   "execution_count": 29,
   "id": "cff21d73",
   "metadata": {},
   "outputs": [
    {
     "name": "stdout",
     "output_type": "stream",
     "text": [
      "{2021}\n"
     ]
    }
   ],
   "source": [
    "print({max_referral_year})"
   ]
  },
  {
   "cell_type": "code",
   "execution_count": 37,
   "id": "61b6fc33",
   "metadata": {},
   "outputs": [],
   "source": [
    "max_referral_count= yearly_referrals.max()"
   ]
  },
  {
   "cell_type": "code",
   "execution_count": 38,
   "id": "f2bfb350",
   "metadata": {},
   "outputs": [
    {
     "name": "stdout",
     "output_type": "stream",
     "text": [
      "27670\n"
     ]
    }
   ],
   "source": [
    "print(max_referral_count)"
   ]
  },
  {
   "cell_type": "code",
   "execution_count": 41,
   "id": "d688dfd2",
   "metadata": {},
   "outputs": [
    {
     "name": "stdout",
     "output_type": "stream",
     "text": [
      "The Year with maximum referrals is 2021 having 27670 referrals\n"
     ]
    }
   ],
   "source": [
    "print(f\"The Year with maximum referrals is {max_referral_year} having {max_referral_count} referrals\")"
   ]
  },
  {
   "cell_type": "code",
   "execution_count": null,
   "id": "c69b7b4d",
   "metadata": {},
   "outputs": [],
   "source": []
  }
 ],
 "metadata": {
  "kernelspec": {
   "display_name": "Python 3 (ipykernel)",
   "language": "python",
   "name": "python3"
  },
  "language_info": {
   "codemirror_mode": {
    "name": "ipython",
    "version": 3
   },
   "file_extension": ".py",
   "mimetype": "text/x-python",
   "name": "python",
   "nbconvert_exporter": "python",
   "pygments_lexer": "ipython3",
   "version": "3.9.13"
  }
 },
 "nbformat": 4,
 "nbformat_minor": 5
}
