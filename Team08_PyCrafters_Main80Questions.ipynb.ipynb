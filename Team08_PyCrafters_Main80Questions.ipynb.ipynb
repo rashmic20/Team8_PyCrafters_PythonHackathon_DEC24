{
 "cells": [
  {
   "cell_type": "markdown",
   "id": "df87e18c-7aec-4043-b4e0-21660de23bd3",
   "metadata": {},
   "source": [
    "## Team 8 Numpy Ninja Python Hackthaon Dec"
   ]
  },
  {
   "cell_type": "code",
   "execution_count": 21,
   "id": "848b9938-e176-4825-9423-a599e49bbd1c",
   "metadata": {},
   "outputs": [],
   "source": [
    "import pandas as pd\n",
    "\n",
    "file_path = r'C:\\Users\\rashm\\OneDrive\\Documents\\Numpy Ninja\\Python Hackathon\\OrganDonor_Consolidated.xlsx'\n",
    "df = pd.ExcelFile(file_path)\n"
   ]
  },
  {
   "cell_type": "markdown",
   "id": "81cead12-7bf5-4059-bf6c-39c8a4e18d71",
   "metadata": {},
   "source": [
    "### Q59. What % of the dataset is male vs female?\n"
   ]
  },
  {
   "cell_type": "code",
   "execution_count": 46,
   "id": "10ddd25f-665b-4dc5-bedb-27bcaee36ccb",
   "metadata": {},
   "outputs": [
    {
     "name": "stdout",
     "output_type": "stream",
     "text": [
      "gender\n",
      "M    58.805719\n",
      "F    41.148451\n",
      "Name: count, dtype: float64\n"
     ]
    }
   ],
   "source": [
    "gender_count = donor_details['gender'].value_counts()\n",
    "\n",
    "# Calculate % of male and female\n",
    "gender_percentages = gender_count / len(donor_details) *100\n",
    "\n",
    "print(gender_percentages)"
   ]
  },
  {
   "cell_type": "markdown",
   "id": "ea206254-2fc9-4854-ac2c-7d5eb3dc978a",
   "metadata": {},
   "source": [
    "### Q60. How many patients of each race are listed under an Unknown cause of death?\n"
   ]
  },
  {
   "cell_type": "code",
   "execution_count": 58,
   "id": "934d5d7f-48e7-4052-a19e-07b93bf4f810",
   "metadata": {},
   "outputs": [
    {
     "name": "stdout",
     "output_type": "stream",
     "text": [
      "race\n",
      "White       15994\n",
      "Black        4970\n",
      "Hispanic     4181\n",
      "Other        1635\n",
      "Name: count, dtype: int64\n"
     ]
    }
   ],
   "source": [
    "# Filter the dataset for patients with an \"Unknown\" cause of death\n",
    "unknown_cause = donor_details[donor_details['causeofdeath'] == 'Unknown']\n",
    "\n",
    "race_counts = unknown_cause['race'].value_counts()\n",
    "\n",
    "print(race_counts)\n"
   ]
  },
  {
   "cell_type": "markdown",
   "id": "c2a541d2-7a2c-4849-974b-b885d1e7283d",
   "metadata": {},
   "source": [
    "### Q65. List any 10 donors that are not there in the outcomes sheet\n"
   ]
  },
  {
   "cell_type": "code",
   "execution_count": 24,
   "id": "b83b749b-e06f-480c-b0a0-3d189fcac301",
   "metadata": {},
   "outputs": [
    {
     "name": "stdout",
     "output_type": "stream",
     "text": [
      "Donors not in Outcomes sheet: ['OPO1_P679634', 'OPO2_P167750', 'OPO5_P294045', 'OPO4_P46514', 'OPO4_P798521', 'OPO3_P669905', 'OPO6_P757891', 'OPO4_P608341', 'OPO4_P492335', 'OPO1_P532673']\n"
     ]
    }
   ],
   "source": [
    "# Load the DonorDetails and Outcomes sheets\n",
    "donor_details = df.parse('DonorDetails')\n",
    "outcomes = df.parse('Outcomes')\n",
    "referral_details = df.parse('ReferralDetails')\n",
    "hosp_details = df.parse('OPO_HospDetails')\n",
    "yearly_outcomes = df.parse('Yearly_Outcomes')\n",
    "\n",
    "# Extract donor IDs from both sheets\n",
    "donor_ids = set(donor_details['PatientID'])\n",
    "outcome_ids = set(outcomes['PatientID'])\n",
    "\n",
    "# Find donors in DonorDetails but not in Outcomes\n",
    "missing_donors = list(donor_ids - outcome_ids)\n",
    "\n",
    "# Display any 10 missing donors\n",
    "print(\"Donors not in Outcomes sheet:\", missing_donors[:10])"
   ]
  },
  {
   "cell_type": "code",
   "execution_count": 26,
   "id": "937d02fe-e8ff-4c53-b428-9b6053fc2c4c",
   "metadata": {},
   "outputs": [
    {
     "name": "stdout",
     "output_type": "stream",
     "text": [
      "<class 'pandas.core.frame.DataFrame'>\n",
      "RangeIndex: 133101 entries, 0 to 133100\n",
      "Data columns (total 9 columns):\n",
      " #   Column              Non-Null Count   Dtype         \n",
      "---  ------              --------------   -----         \n",
      " 0   PatientID           133101 non-null  object        \n",
      " 1   age                 133017 non-null  float64       \n",
      " 2   gender              133040 non-null  object        \n",
      " 3   race                133101 non-null  object        \n",
      " 4   causeofdeath        133101 non-null  object        \n",
      " 5   mechanism_of_death  133101 non-null  object        \n",
      " 6   brain_death         133101 non-null  int64         \n",
      " 7   time_asystole       89446 non-null   datetime64[ns]\n",
      " 8   time_brain_death    11856 non-null   datetime64[ns]\n",
      "dtypes: datetime64[ns](2), float64(1), int64(1), object(5)\n",
      "memory usage: 9.1+ MB\n"
     ]
    }
   ],
   "source": [
    "donor_details.info()"
   ]
  },
  {
   "attachments": {},
   "cell_type": "markdown",
   "id": "1c9b9158-b370-4f61-b6bb-7fecaf883f5b",
   "metadata": {},
   "source": [
    "### Q.67 Plot a time series line graph showing yearly calculated deaths. Color each line by OPO ID\n"
   ]
  },
  {
   "cell_type": "code",
   "execution_count": null,
   "id": "bf862755-4faf-46e0-9459-b7847160c400",
   "metadata": {},
   "outputs": [],
   "source": [
    "import pandas as pd\n",
    "import matplotlib.pyplot as plt\n",
    "import seaborn as sns\n",
    "\n",
    "# Example data: Year, OPO ID, and Deaths\n",
    "data = {\n",
    "    'Year': [2020, 2020, 2020, 2021, 2021, 2021, 2022, 2022, 2022],\n",
    "    'OPO ID': ['OPO1', 'OPO2', 'OPO3', 'OPO1', 'OPO2', 'OPO3', 'OPO1', 'OPO2', 'OPO3'],\n",
    "    'Deaths': [100, 150, 200, 110, 160, 210, 120, 170, 220]\n",
    "}\n",
    "\n",
    "# Create DataFrame\n",
    "df = pd.DataFrame(data)\n",
    "\n",
    "# Aggregate data by Year and OPO ID\n",
    "yearly_deaths = df.groupby(['Year', 'OPO ID'], as_index=False)['Deaths'].sum()\n",
    "\n",
    "# Plotting the line graph\n",
    "plt.figure(figsize=(10, 6))\n",
    "sns.lineplot(data=yearly_deaths, x='Year', y='Deaths', hue='OPO ID', marker='o', palette='Set2')\n",
    "\n",
    "# Customize the plot\n",
    "plt.title('Yearly Calculated Deaths by OPO ID', fontsize=14)\n",
    "plt.xlabel('Year', fontsize=12)\n",
    "plt.ylabel('Deaths', fontsize=12)\n",
    "plt.legend(title='OPO ID', fontsize=10)\n",
    "plt.grid(True)\n",
    "\n",
    "# Show the plot\n",
    "plt.show()\n"
   ]
  },
  {
   "cell_type": "markdown",
   "id": "a5737d37-f20e-4727-8cea-4a6a274f33ca",
   "metadata": {},
   "source": [
    "### Q.68 Create any two 2-dimensional arrays and multiply them. Display the resulting array\n"
   ]
  },
  {
   "cell_type": "code",
   "execution_count": null,
   "id": "65d0c2c2-8c32-4916-bf78-c3d922fd8e32",
   "metadata": {},
   "outputs": [],
   "source": []
  },
  {
   "cell_type": "code",
   "execution_count": null,
   "id": "50f06c25-f256-4e2d-a967-c591fa6f7d95",
   "metadata": {},
   "outputs": [],
   "source": []
  }
 ],
 "metadata": {
  "kernelspec": {
   "display_name": "Python 3 (ipykernel)",
   "language": "python",
   "name": "python3"
  },
  "language_info": {
   "codemirror_mode": {
    "name": "ipython",
    "version": 3
   },
   "file_extension": ".py",
   "mimetype": "text/x-python",
   "name": "python",
   "nbconvert_exporter": "python",
   "pygments_lexer": "ipython3",
   "version": "3.12.7"
  }
 },
 "nbformat": 4,
 "nbformat_minor": 5
}
