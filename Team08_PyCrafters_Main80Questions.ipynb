{
 "cells": [
  {
   "cell_type": "code",
   "execution_count": 2,
   "id": "b642957e-acd6-4e14-82d9-17b3f0921534",
   "metadata": {},
   "outputs": [],
   "source": [
    "import numpy as np\n",
    "import pandas as pd"
   ]
  },
  {
   "cell_type": "code",
   "execution_count": 3,
   "id": "8d040ee3-0155-4639-8b53-821c5235f201",
   "metadata": {},
   "outputs": [
    {
     "name": "stdout",
     "output_type": "stream",
     "text": [
      "Requirement already satisfied: pandas in c:\\users\\suman\\anaconda3\\lib\\site-packages (1.4.4)\n",
      "Requirement already satisfied: python-dateutil>=2.8.1 in c:\\users\\suman\\anaconda3\\lib\\site-packages (from pandas) (2.8.2)\n",
      "Requirement already satisfied: pytz>=2020.1 in c:\\users\\suman\\anaconda3\\lib\\site-packages (from pandas) (2022.1)\n",
      "Requirement already satisfied: numpy>=1.18.5 in c:\\users\\suman\\anaconda3\\lib\\site-packages (from pandas) (1.21.5)\n",
      "Requirement already satisfied: six>=1.5 in c:\\users\\suman\\anaconda3\\lib\\site-packages (from python-dateutil>=2.8.1->pandas) (1.16.0)\n",
      "Note: you may need to restart the kernel to use updated packages.\n"
     ]
    }
   ],
   "source": [
    "pip install pandas"
   ]
  },
  {
   "cell_type": "code",
   "execution_count": 3,
   "id": "602fde59-60bb-469e-bff1-01e74fb1c510",
   "metadata": {},
   "outputs": [
    {
     "name": "stdout",
     "output_type": "stream",
     "text": [
      "[[0 1]\n",
      " [2 3]]\n",
      "[[0 2 4]\n",
      " [1 3 5]]\n",
      "[[ 1  3  5]\n",
      " [ 3 13 23]]\n"
     ]
    }
   ],
   "source": [
    "#1.Using numpy functions, multiply the following arrays using matrix multiplication.\n",
    " #a=np.arange(4).reshape(2,2)\n",
    "# b=np.arange(6).reshape(3,2)\n",
    "a=np.arange(4).reshape(2,2)\n",
    "b=np.arange(6).reshape(3,2)\n",
    "b_trps=np.transpose(b)\n",
    "print(a)\n",
    "print(b_trps)\n",
    "c=a @ b_trps\n",
    "print(c)"
   ]
  },
  {
   "cell_type": "code",
   "execution_count": 4,
   "id": "a3db62b5-6cf6-4c72-9086-d8d57537d220",
   "metadata": {},
   "outputs": [],
   "source": [
    "OrganD_df=pd.read_excel('OrganDonor_Consolidated.xlsx')\n"
   ]
  },
  {
   "cell_type": "code",
   "execution_count": 5,
   "id": "360e27ee-4677-4576-80a4-b76af1f46d4c",
   "metadata": {},
   "outputs": [
    {
     "data": {
      "text/html": [
       "<div>\n",
       "<style scoped>\n",
       "    .dataframe tbody tr th:only-of-type {\n",
       "        vertical-align: middle;\n",
       "    }\n",
       "\n",
       "    .dataframe tbody tr th {\n",
       "        vertical-align: top;\n",
       "    }\n",
       "\n",
       "    .dataframe thead th {\n",
       "        text-align: right;\n",
       "    }\n",
       "</style>\n",
       "<table border=\"1\" class=\"dataframe\">\n",
       "  <thead>\n",
       "    <tr style=\"text-align: right;\">\n",
       "      <th></th>\n",
       "      <th>PatientID</th>\n",
       "      <th>age</th>\n",
       "      <th>gender</th>\n",
       "      <th>race</th>\n",
       "      <th>causeofdeath</th>\n",
       "      <th>mechanism_of_death</th>\n",
       "      <th>brain_death</th>\n",
       "      <th>time_asystole</th>\n",
       "      <th>time_brain_death</th>\n",
       "    </tr>\n",
       "  </thead>\n",
       "  <tbody>\n",
       "    <tr>\n",
       "      <th>0</th>\n",
       "      <td>OPO1_P155959</td>\n",
       "      <td>54.0</td>\n",
       "      <td>M</td>\n",
       "      <td>White</td>\n",
       "      <td>Unknown</td>\n",
       "      <td>Unknown</td>\n",
       "      <td>0</td>\n",
       "      <td>2036-01-02 18:26:00</td>\n",
       "      <td>NaT</td>\n",
       "    </tr>\n",
       "    <tr>\n",
       "      <th>1</th>\n",
       "      <td>OPO1_P297347</td>\n",
       "      <td>78.0</td>\n",
       "      <td>M</td>\n",
       "      <td>Hispanic</td>\n",
       "      <td>Unknown</td>\n",
       "      <td>Unknown</td>\n",
       "      <td>0</td>\n",
       "      <td>2031-12-24 14:06:00</td>\n",
       "      <td>NaT</td>\n",
       "    </tr>\n",
       "    <tr>\n",
       "      <th>2</th>\n",
       "      <td>OPO1_P399316</td>\n",
       "      <td>57.0</td>\n",
       "      <td>M</td>\n",
       "      <td>Hispanic</td>\n",
       "      <td>Anoxia</td>\n",
       "      <td>Unknown</td>\n",
       "      <td>0</td>\n",
       "      <td>2034-05-11 00:00:00</td>\n",
       "      <td>NaT</td>\n",
       "    </tr>\n",
       "    <tr>\n",
       "      <th>3</th>\n",
       "      <td>OPO1_P246407</td>\n",
       "      <td>78.0</td>\n",
       "      <td>F</td>\n",
       "      <td>Black</td>\n",
       "      <td>cerebrovascular accident</td>\n",
       "      <td>Stroke</td>\n",
       "      <td>0</td>\n",
       "      <td>2035-06-14 14:18:00</td>\n",
       "      <td>NaT</td>\n",
       "    </tr>\n",
       "    <tr>\n",
       "      <th>4</th>\n",
       "      <td>OPO1_P187209</td>\n",
       "      <td>70.0</td>\n",
       "      <td>F</td>\n",
       "      <td>White</td>\n",
       "      <td>Unknown</td>\n",
       "      <td>Unknown</td>\n",
       "      <td>0</td>\n",
       "      <td>2034-02-18 18:50:00</td>\n",
       "      <td>NaT</td>\n",
       "    </tr>\n",
       "    <tr>\n",
       "      <th>...</th>\n",
       "      <td>...</td>\n",
       "      <td>...</td>\n",
       "      <td>...</td>\n",
       "      <td>...</td>\n",
       "      <td>...</td>\n",
       "      <td>...</td>\n",
       "      <td>...</td>\n",
       "      <td>...</td>\n",
       "      <td>...</td>\n",
       "    </tr>\n",
       "    <tr>\n",
       "      <th>133096</th>\n",
       "      <td>OPO6_P54946</td>\n",
       "      <td>54.0</td>\n",
       "      <td>F</td>\n",
       "      <td>Black</td>\n",
       "      <td>Anoxia</td>\n",
       "      <td>Natural Causes</td>\n",
       "      <td>0</td>\n",
       "      <td>2032-09-16 02:34:00</td>\n",
       "      <td>NaT</td>\n",
       "    </tr>\n",
       "    <tr>\n",
       "      <th>133097</th>\n",
       "      <td>OPO6_P630991</td>\n",
       "      <td>63.0</td>\n",
       "      <td>M</td>\n",
       "      <td>Black</td>\n",
       "      <td>cerebrovascular accident</td>\n",
       "      <td>Stroke</td>\n",
       "      <td>0</td>\n",
       "      <td>2034-06-06 22:14:00</td>\n",
       "      <td>NaT</td>\n",
       "    </tr>\n",
       "    <tr>\n",
       "      <th>133098</th>\n",
       "      <td>OPO6_P8748</td>\n",
       "      <td>28.0</td>\n",
       "      <td>M</td>\n",
       "      <td>White</td>\n",
       "      <td>Anoxia</td>\n",
       "      <td>Drug Intoxication</td>\n",
       "      <td>0</td>\n",
       "      <td>NaT</td>\n",
       "      <td>NaT</td>\n",
       "    </tr>\n",
       "    <tr>\n",
       "      <th>133099</th>\n",
       "      <td>OPO6_P5461</td>\n",
       "      <td>85.0</td>\n",
       "      <td>F</td>\n",
       "      <td>White</td>\n",
       "      <td>Anoxia</td>\n",
       "      <td>Cardiovascular</td>\n",
       "      <td>0</td>\n",
       "      <td>NaT</td>\n",
       "      <td>NaT</td>\n",
       "    </tr>\n",
       "    <tr>\n",
       "      <th>133100</th>\n",
       "      <td>OPO6_P942291</td>\n",
       "      <td>32.0</td>\n",
       "      <td>M</td>\n",
       "      <td>Black</td>\n",
       "      <td>Other</td>\n",
       "      <td>Natural Causes</td>\n",
       "      <td>0</td>\n",
       "      <td>NaT</td>\n",
       "      <td>NaT</td>\n",
       "    </tr>\n",
       "  </tbody>\n",
       "</table>\n",
       "<p>133101 rows × 9 columns</p>\n",
       "</div>"
      ],
      "text/plain": [
       "           PatientID   age gender      race              causeofdeath  \\\n",
       "0       OPO1_P155959  54.0      M     White                   Unknown   \n",
       "1       OPO1_P297347  78.0      M  Hispanic                   Unknown   \n",
       "2       OPO1_P399316  57.0      M  Hispanic                    Anoxia   \n",
       "3       OPO1_P246407  78.0      F     Black  cerebrovascular accident   \n",
       "4       OPO1_P187209  70.0      F     White                   Unknown   \n",
       "...              ...   ...    ...       ...                       ...   \n",
       "133096   OPO6_P54946  54.0      F     Black                    Anoxia   \n",
       "133097  OPO6_P630991  63.0      M     Black  cerebrovascular accident   \n",
       "133098    OPO6_P8748  28.0      M     White                    Anoxia   \n",
       "133099    OPO6_P5461  85.0      F     White                    Anoxia   \n",
       "133100  OPO6_P942291  32.0      M     Black                     Other   \n",
       "\n",
       "       mechanism_of_death  brain_death       time_asystole time_brain_death  \n",
       "0                 Unknown            0 2036-01-02 18:26:00              NaT  \n",
       "1                 Unknown            0 2031-12-24 14:06:00              NaT  \n",
       "2                 Unknown            0 2034-05-11 00:00:00              NaT  \n",
       "3                  Stroke            0 2035-06-14 14:18:00              NaT  \n",
       "4                 Unknown            0 2034-02-18 18:50:00              NaT  \n",
       "...                   ...          ...                 ...              ...  \n",
       "133096     Natural Causes            0 2032-09-16 02:34:00              NaT  \n",
       "133097             Stroke            0 2034-06-06 22:14:00              NaT  \n",
       "133098  Drug Intoxication            0                 NaT              NaT  \n",
       "133099     Cardiovascular            0                 NaT              NaT  \n",
       "133100     Natural Causes            0                 NaT              NaT  \n",
       "\n",
       "[133101 rows x 9 columns]"
      ]
     },
     "execution_count": 5,
     "metadata": {},
     "output_type": "execute_result"
    }
   ],
   "source": [
    "OrganD_df"
   ]
  },
  {
   "cell_type": "code",
   "execution_count": 6,
   "id": "a2cc2bf2-36e8-4740-ba1d-51b2087d6acb",
   "metadata": {},
   "outputs": [],
   "source": [
    "DataD_df=pd.read_excel('DataDictionary.xlsx')"
   ]
  },
  {
   "cell_type": "code",
   "execution_count": 7,
   "id": "472feb32-0930-46e3-b715-2d33ed27b9a9",
   "metadata": {},
   "outputs": [
    {
     "data": {
      "text/html": [
       "<div>\n",
       "<style scoped>\n",
       "    .dataframe tbody tr th:only-of-type {\n",
       "        vertical-align: middle;\n",
       "    }\n",
       "\n",
       "    .dataframe tbody tr th {\n",
       "        vertical-align: top;\n",
       "    }\n",
       "\n",
       "    .dataframe thead th {\n",
       "        text-align: right;\n",
       "    }\n",
       "</style>\n",
       "<table border=\"1\" class=\"dataframe\">\n",
       "  <thead>\n",
       "    <tr style=\"text-align: right;\">\n",
       "      <th></th>\n",
       "      <th>Field</th>\n",
       "      <th>Description</th>\n",
       "      <th>Type</th>\n",
       "      <th>Notes</th>\n",
       "    </tr>\n",
       "  </thead>\n",
       "  <tbody>\n",
       "    <tr>\n",
       "      <th>0</th>\n",
       "      <td>OPO</td>\n",
       "      <td>Anonymized OPO ID</td>\n",
       "      <td>String</td>\n",
       "      <td>e.g. OPO5</td>\n",
       "    </tr>\n",
       "    <tr>\n",
       "      <th>1</th>\n",
       "      <td>PatientID</td>\n",
       "      <td>Anonymized Patient ID</td>\n",
       "      <td>String</td>\n",
       "      <td>\"e.g. \"\"OPO5_P123\"\"\"</td>\n",
       "    </tr>\n",
       "    <tr>\n",
       "      <th>2</th>\n",
       "      <td>HospitalID</td>\n",
       "      <td>Referring hospital (anonymized ID)</td>\n",
       "      <td>String</td>\n",
       "      <td>\"e.g. \"\"OPO5_H12\"\"\"</td>\n",
       "    </tr>\n",
       "    <tr>\n",
       "      <th>3</th>\n",
       "      <td>Age</td>\n",
       "      <td>Exact patient age</td>\n",
       "      <td>Integer</td>\n",
       "      <td>If exact patient age was over 89, the age is l...</td>\n",
       "    </tr>\n",
       "    <tr>\n",
       "      <th>4</th>\n",
       "      <td>Gender</td>\n",
       "      <td>Patient sex/gender</td>\n",
       "      <td>String</td>\n",
       "      <td>M or F</td>\n",
       "    </tr>\n",
       "    <tr>\n",
       "      <th>5</th>\n",
       "      <td>Race</td>\n",
       "      <td>Patient sex/gender</td>\n",
       "      <td>String</td>\n",
       "      <td>Five categories (Black/Af-Am, White/Caucasian,...</td>\n",
       "    </tr>\n",
       "    <tr>\n",
       "      <th>6</th>\n",
       "      <td>Tissue_Referral</td>\n",
       "      <td>Was patient also referred for tissue donation?</td>\n",
       "      <td>Boolean</td>\n",
       "      <td>1- referred for tissue donation\\n0-not referre...</td>\n",
       "    </tr>\n",
       "    <tr>\n",
       "      <th>7</th>\n",
       "      <td>Eye_Referral</td>\n",
       "      <td>Was patient also referred for cornea donation?</td>\n",
       "      <td>Boolean</td>\n",
       "      <td>1- referred for eye donation\\n0-not referred f...</td>\n",
       "    </tr>\n",
       "    <tr>\n",
       "      <th>8</th>\n",
       "      <td>causeofdeath</td>\n",
       "      <td>Cause of death</td>\n",
       "      <td>String</td>\n",
       "      <td>Categorical variable</td>\n",
       "    </tr>\n",
       "    <tr>\n",
       "      <th>9</th>\n",
       "      <td>mechanism_of_death</td>\n",
       "      <td>UNOS defined mechanism of death</td>\n",
       "      <td>String</td>\n",
       "      <td>Categorical variable based on UNOS definitions</td>\n",
       "    </tr>\n",
       "    <tr>\n",
       "      <th>10</th>\n",
       "      <td>brain_death</td>\n",
       "      <td>Was patient declared brain dead?</td>\n",
       "      <td>Boolean</td>\n",
       "      <td>Brain death may not be documented if the OPO r...</td>\n",
       "    </tr>\n",
       "    <tr>\n",
       "      <th>11</th>\n",
       "      <td>Approached Relatives</td>\n",
       "      <td>Was patient's next-of-kin approached for donat...</td>\n",
       "      <td>Boolean</td>\n",
       "      <td>0-patient's next-of-kin not approached for don...</td>\n",
       "    </tr>\n",
       "    <tr>\n",
       "      <th>12</th>\n",
       "      <td>Authorized By Family</td>\n",
       "      <td>Did patient or their next-of-kin consent to do...</td>\n",
       "      <td>Boolean</td>\n",
       "      <td>1-patient or their next-of-kin consent to dona...</td>\n",
       "    </tr>\n",
       "    <tr>\n",
       "      <th>13</th>\n",
       "      <td>Cross_Clamped</td>\n",
       "      <td>Was patient cross-clamped for organ procurement?</td>\n",
       "      <td>Boolean</td>\n",
       "      <td>1 patient cross-clamped for organ procurement\\...</td>\n",
       "    </tr>\n",
       "    <tr>\n",
       "      <th>14</th>\n",
       "      <td>transplanted</td>\n",
       "      <td>Did patients organ(s) lead to a transplant?</td>\n",
       "      <td>Boolean</td>\n",
       "      <td>1-patients organ(s) transplanted\\n0- patients ...</td>\n",
       "    </tr>\n",
       "    <tr>\n",
       "      <th>15</th>\n",
       "      <td>time_brain_death</td>\n",
       "      <td>Time of brain death</td>\n",
       "      <td>Datetime</td>\n",
       "      <td>Randomly date-shifted (all timestamps from the...</td>\n",
       "    </tr>\n",
       "    <tr>\n",
       "      <th>16</th>\n",
       "      <td>time_asystole</td>\n",
       "      <td>Time of asystole (i.e. cardiac death)</td>\n",
       "      <td>Datetime</td>\n",
       "      <td>Randomly date-shifted (all timestamps from the...</td>\n",
       "    </tr>\n",
       "    <tr>\n",
       "      <th>17</th>\n",
       "      <td>time_referred</td>\n",
       "      <td>Time of referral from hospital</td>\n",
       "      <td>Datetime</td>\n",
       "      <td>Randomly date-shifted (all timestamps from the...</td>\n",
       "    </tr>\n",
       "    <tr>\n",
       "      <th>18</th>\n",
       "      <td>time_approached</td>\n",
       "      <td>Time of approach by OPO</td>\n",
       "      <td>Datetime</td>\n",
       "      <td>Randomly date-shifted (all timestamps from the...</td>\n",
       "    </tr>\n",
       "    <tr>\n",
       "      <th>19</th>\n",
       "      <td>time_authorized</td>\n",
       "      <td>Time of consent given for donation by patient ...</td>\n",
       "      <td>Datetime</td>\n",
       "      <td>Randomly date-shifted (all timestamps from the...</td>\n",
       "    </tr>\n",
       "    <tr>\n",
       "      <th>20</th>\n",
       "      <td>time_procured</td>\n",
       "      <td>Time of cross clamp for organ procurement</td>\n",
       "      <td>Datetime</td>\n",
       "      <td>Randomly date-shifted (all timestamps from the...</td>\n",
       "    </tr>\n",
       "    <tr>\n",
       "      <th>21</th>\n",
       "      <td>Referral_Year</td>\n",
       "      <td>Year in which patient was referred</td>\n",
       "      <td>Integer</td>\n",
       "      <td>Not shifted; can be used to calculate annual r...</td>\n",
       "    </tr>\n",
       "    <tr>\n",
       "      <th>22</th>\n",
       "      <td>Referral_DayofWeek</td>\n",
       "      <td>Day of week on which patient was referred</td>\n",
       "      <td>String</td>\n",
       "      <td>NaN</td>\n",
       "    </tr>\n",
       "    <tr>\n",
       "      <th>23</th>\n",
       "      <td>Procured_Year</td>\n",
       "      <td>Year in which patient was cross-clamped for pr...</td>\n",
       "      <td>Integer</td>\n",
       "      <td>Not shifted; can be used to calculate annual r...</td>\n",
       "    </tr>\n",
       "    <tr>\n",
       "      <th>24</th>\n",
       "      <td>outcome_heart</td>\n",
       "      <td>Final disposition of procured heart (Transplan...</td>\n",
       "      <td>String</td>\n",
       "      <td>'Recovered for Research' includes both organs ...</td>\n",
       "    </tr>\n",
       "    <tr>\n",
       "      <th>25</th>\n",
       "      <td>outcome_liver</td>\n",
       "      <td>Final disposition of procured liver (Transplan...</td>\n",
       "      <td>String</td>\n",
       "      <td>'Recovered for Research' includes both organs ...</td>\n",
       "    </tr>\n",
       "    <tr>\n",
       "      <th>26</th>\n",
       "      <td>outcome_kidney_left</td>\n",
       "      <td>Final disposition of procured left kidney (Tra...</td>\n",
       "      <td>String</td>\n",
       "      <td>'Recovered for Research' includes both organs ...</td>\n",
       "    </tr>\n",
       "    <tr>\n",
       "      <th>27</th>\n",
       "      <td>outcome_kidney_right</td>\n",
       "      <td>Final disposition of procured right kidney (Tr...</td>\n",
       "      <td>String</td>\n",
       "      <td>'Recovered for Research' includes both organs ...</td>\n",
       "    </tr>\n",
       "    <tr>\n",
       "      <th>28</th>\n",
       "      <td>outcome_lung_left</td>\n",
       "      <td>Final disposition of procured left lung (Trans...</td>\n",
       "      <td>String</td>\n",
       "      <td>'Recovered for Research' includes both organs ...</td>\n",
       "    </tr>\n",
       "    <tr>\n",
       "      <th>29</th>\n",
       "      <td>outcome_lung_right</td>\n",
       "      <td>Final disposition of procured right lung (Tran...</td>\n",
       "      <td>String</td>\n",
       "      <td>'Recovered for Research' includes both organs ...</td>\n",
       "    </tr>\n",
       "    <tr>\n",
       "      <th>30</th>\n",
       "      <td>outcome_intestine</td>\n",
       "      <td>Final disposition of procured intestine (Trans...</td>\n",
       "      <td>String</td>\n",
       "      <td>'Recovered for Research' includes both organs ...</td>\n",
       "    </tr>\n",
       "    <tr>\n",
       "      <th>31</th>\n",
       "      <td>outcome_pancreas</td>\n",
       "      <td>Final disposition of procured pancreas (Transp...</td>\n",
       "      <td>String</td>\n",
       "      <td>'Recovered for Research' includes both organs ...</td>\n",
       "    </tr>\n",
       "  </tbody>\n",
       "</table>\n",
       "</div>"
      ],
      "text/plain": [
       "                   Field                                        Description  \\\n",
       "0                    OPO                                  Anonymized OPO ID   \n",
       "1              PatientID                              Anonymized Patient ID   \n",
       "2             HospitalID                 Referring hospital (anonymized ID)   \n",
       "3                    Age                                  Exact patient age   \n",
       "4                 Gender                                 Patient sex/gender   \n",
       "5                   Race                                 Patient sex/gender   \n",
       "6        Tissue_Referral     Was patient also referred for tissue donation?   \n",
       "7           Eye_Referral     Was patient also referred for cornea donation?   \n",
       "8           causeofdeath                                     Cause of death   \n",
       "9     mechanism_of_death                    UNOS defined mechanism of death   \n",
       "10           brain_death                   Was patient declared brain dead?   \n",
       "11  Approached Relatives  Was patient's next-of-kin approached for donat...   \n",
       "12  Authorized By Family  Did patient or their next-of-kin consent to do...   \n",
       "13         Cross_Clamped   Was patient cross-clamped for organ procurement?   \n",
       "14          transplanted        Did patients organ(s) lead to a transplant?   \n",
       "15      time_brain_death                                Time of brain death   \n",
       "16         time_asystole              Time of asystole (i.e. cardiac death)   \n",
       "17         time_referred                     Time of referral from hospital   \n",
       "18       time_approached                            Time of approach by OPO   \n",
       "19       time_authorized  Time of consent given for donation by patient ...   \n",
       "20         time_procured          Time of cross clamp for organ procurement   \n",
       "21         Referral_Year                 Year in which patient was referred   \n",
       "22    Referral_DayofWeek          Day of week on which patient was referred   \n",
       "23         Procured_Year  Year in which patient was cross-clamped for pr...   \n",
       "24         outcome_heart  Final disposition of procured heart (Transplan...   \n",
       "25         outcome_liver  Final disposition of procured liver (Transplan...   \n",
       "26   outcome_kidney_left  Final disposition of procured left kidney (Tra...   \n",
       "27  outcome_kidney_right  Final disposition of procured right kidney (Tr...   \n",
       "28     outcome_lung_left  Final disposition of procured left lung (Trans...   \n",
       "29    outcome_lung_right  Final disposition of procured right lung (Tran...   \n",
       "30     outcome_intestine  Final disposition of procured intestine (Trans...   \n",
       "31      outcome_pancreas  Final disposition of procured pancreas (Transp...   \n",
       "\n",
       "        Type                                              Notes  \n",
       "0     String                                          e.g. OPO5  \n",
       "1     String                               \"e.g. \"\"OPO5_P123\"\"\"  \n",
       "2     String                                \"e.g. \"\"OPO5_H12\"\"\"  \n",
       "3    Integer  If exact patient age was over 89, the age is l...  \n",
       "4     String                                             M or F  \n",
       "5     String  Five categories (Black/Af-Am, White/Caucasian,...  \n",
       "6    Boolean  1- referred for tissue donation\\n0-not referre...  \n",
       "7    Boolean  1- referred for eye donation\\n0-not referred f...  \n",
       "8     String                               Categorical variable  \n",
       "9     String     Categorical variable based on UNOS definitions  \n",
       "10   Boolean  Brain death may not be documented if the OPO r...  \n",
       "11   Boolean  0-patient's next-of-kin not approached for don...  \n",
       "12   Boolean  1-patient or their next-of-kin consent to dona...  \n",
       "13   Boolean  1 patient cross-clamped for organ procurement\\...  \n",
       "14   Boolean  1-patients organ(s) transplanted\\n0- patients ...  \n",
       "15  Datetime  Randomly date-shifted (all timestamps from the...  \n",
       "16  Datetime  Randomly date-shifted (all timestamps from the...  \n",
       "17  Datetime  Randomly date-shifted (all timestamps from the...  \n",
       "18  Datetime  Randomly date-shifted (all timestamps from the...  \n",
       "19  Datetime  Randomly date-shifted (all timestamps from the...  \n",
       "20  Datetime  Randomly date-shifted (all timestamps from the...  \n",
       "21   Integer  Not shifted; can be used to calculate annual r...  \n",
       "22    String                                                NaN  \n",
       "23   Integer  Not shifted; can be used to calculate annual r...  \n",
       "24    String  'Recovered for Research' includes both organs ...  \n",
       "25    String  'Recovered for Research' includes both organs ...  \n",
       "26    String  'Recovered for Research' includes both organs ...  \n",
       "27    String  'Recovered for Research' includes both organs ...  \n",
       "28    String  'Recovered for Research' includes both organs ...  \n",
       "29    String  'Recovered for Research' includes both organs ...  \n",
       "30    String  'Recovered for Research' includes both organs ...  \n",
       "31    String  'Recovered for Research' includes both organs ...  "
      ]
     },
     "execution_count": 7,
     "metadata": {},
     "output_type": "execute_result"
    }
   ],
   "source": [
    "DataD_df"
   ]
  },
  {
   "cell_type": "code",
   "execution_count": 8,
   "id": "25a6157b-00b3-4e6d-a4de-f6aba531eef4",
   "metadata": {},
   "outputs": [
    {
     "ename": "KeyError",
     "evalue": "\"None of [Index(['time_approached', 'time_procured'], dtype='object')] are in the [columns]\"",
     "output_type": "error",
     "traceback": [
      "\u001b[1;31m---------------------------------------------------------------------------\u001b[0m",
      "\u001b[1;31mKeyError\u001b[0m                                  Traceback (most recent call last)",
      "\u001b[1;32m~\\AppData\\Local\\Temp\\ipykernel_28136\\2163258844.py\u001b[0m in \u001b[0;36m<module>\u001b[1;34m\u001b[0m\n\u001b[0;32m      1\u001b[0m \u001b[1;31m#2.On Average, what is the time that passes between approach and procurement?\u001b[0m\u001b[1;33m\u001b[0m\u001b[1;33m\u001b[0m\u001b[0m\n\u001b[1;32m----> 2\u001b[1;33m \u001b[0msub_OrganD_df\u001b[0m\u001b[1;33m=\u001b[0m\u001b[0mOrganD_df\u001b[0m\u001b[1;33m[\u001b[0m\u001b[1;33m[\u001b[0m\u001b[1;34m'time_approached'\u001b[0m\u001b[1;33m,\u001b[0m\u001b[1;34m'time_procured'\u001b[0m\u001b[1;33m]\u001b[0m\u001b[1;33m]\u001b[0m\u001b[1;33m\u001b[0m\u001b[1;33m\u001b[0m\u001b[0m\n\u001b[0m",
      "\u001b[1;32m~\\anaconda3\\lib\\site-packages\\pandas\\core\\frame.py\u001b[0m in \u001b[0;36m__getitem__\u001b[1;34m(self, key)\u001b[0m\n\u001b[0;32m   3509\u001b[0m             \u001b[1;32mif\u001b[0m \u001b[0mis_iterator\u001b[0m\u001b[1;33m(\u001b[0m\u001b[0mkey\u001b[0m\u001b[1;33m)\u001b[0m\u001b[1;33m:\u001b[0m\u001b[1;33m\u001b[0m\u001b[1;33m\u001b[0m\u001b[0m\n\u001b[0;32m   3510\u001b[0m                 \u001b[0mkey\u001b[0m \u001b[1;33m=\u001b[0m \u001b[0mlist\u001b[0m\u001b[1;33m(\u001b[0m\u001b[0mkey\u001b[0m\u001b[1;33m)\u001b[0m\u001b[1;33m\u001b[0m\u001b[1;33m\u001b[0m\u001b[0m\n\u001b[1;32m-> 3511\u001b[1;33m             \u001b[0mindexer\u001b[0m \u001b[1;33m=\u001b[0m \u001b[0mself\u001b[0m\u001b[1;33m.\u001b[0m\u001b[0mcolumns\u001b[0m\u001b[1;33m.\u001b[0m\u001b[0m_get_indexer_strict\u001b[0m\u001b[1;33m(\u001b[0m\u001b[0mkey\u001b[0m\u001b[1;33m,\u001b[0m \u001b[1;34m\"columns\"\u001b[0m\u001b[1;33m)\u001b[0m\u001b[1;33m[\u001b[0m\u001b[1;36m1\u001b[0m\u001b[1;33m]\u001b[0m\u001b[1;33m\u001b[0m\u001b[1;33m\u001b[0m\u001b[0m\n\u001b[0m\u001b[0;32m   3512\u001b[0m \u001b[1;33m\u001b[0m\u001b[0m\n\u001b[0;32m   3513\u001b[0m         \u001b[1;31m# take() does not accept boolean indexers\u001b[0m\u001b[1;33m\u001b[0m\u001b[1;33m\u001b[0m\u001b[0m\n",
      "\u001b[1;32m~\\anaconda3\\lib\\site-packages\\pandas\\core\\indexes\\base.py\u001b[0m in \u001b[0;36m_get_indexer_strict\u001b[1;34m(self, key, axis_name)\u001b[0m\n\u001b[0;32m   5794\u001b[0m             \u001b[0mkeyarr\u001b[0m\u001b[1;33m,\u001b[0m \u001b[0mindexer\u001b[0m\u001b[1;33m,\u001b[0m \u001b[0mnew_indexer\u001b[0m \u001b[1;33m=\u001b[0m \u001b[0mself\u001b[0m\u001b[1;33m.\u001b[0m\u001b[0m_reindex_non_unique\u001b[0m\u001b[1;33m(\u001b[0m\u001b[0mkeyarr\u001b[0m\u001b[1;33m)\u001b[0m\u001b[1;33m\u001b[0m\u001b[1;33m\u001b[0m\u001b[0m\n\u001b[0;32m   5795\u001b[0m \u001b[1;33m\u001b[0m\u001b[0m\n\u001b[1;32m-> 5796\u001b[1;33m         \u001b[0mself\u001b[0m\u001b[1;33m.\u001b[0m\u001b[0m_raise_if_missing\u001b[0m\u001b[1;33m(\u001b[0m\u001b[0mkeyarr\u001b[0m\u001b[1;33m,\u001b[0m \u001b[0mindexer\u001b[0m\u001b[1;33m,\u001b[0m \u001b[0maxis_name\u001b[0m\u001b[1;33m)\u001b[0m\u001b[1;33m\u001b[0m\u001b[1;33m\u001b[0m\u001b[0m\n\u001b[0m\u001b[0;32m   5797\u001b[0m \u001b[1;33m\u001b[0m\u001b[0m\n\u001b[0;32m   5798\u001b[0m         \u001b[0mkeyarr\u001b[0m \u001b[1;33m=\u001b[0m \u001b[0mself\u001b[0m\u001b[1;33m.\u001b[0m\u001b[0mtake\u001b[0m\u001b[1;33m(\u001b[0m\u001b[0mindexer\u001b[0m\u001b[1;33m)\u001b[0m\u001b[1;33m\u001b[0m\u001b[1;33m\u001b[0m\u001b[0m\n",
      "\u001b[1;32m~\\anaconda3\\lib\\site-packages\\pandas\\core\\indexes\\base.py\u001b[0m in \u001b[0;36m_raise_if_missing\u001b[1;34m(self, key, indexer, axis_name)\u001b[0m\n\u001b[0;32m   5854\u001b[0m                 \u001b[1;32mif\u001b[0m \u001b[0muse_interval_msg\u001b[0m\u001b[1;33m:\u001b[0m\u001b[1;33m\u001b[0m\u001b[1;33m\u001b[0m\u001b[0m\n\u001b[0;32m   5855\u001b[0m                     \u001b[0mkey\u001b[0m \u001b[1;33m=\u001b[0m \u001b[0mlist\u001b[0m\u001b[1;33m(\u001b[0m\u001b[0mkey\u001b[0m\u001b[1;33m)\u001b[0m\u001b[1;33m\u001b[0m\u001b[1;33m\u001b[0m\u001b[0m\n\u001b[1;32m-> 5856\u001b[1;33m                 \u001b[1;32mraise\u001b[0m \u001b[0mKeyError\u001b[0m\u001b[1;33m(\u001b[0m\u001b[1;34mf\"None of [{key}] are in the [{axis_name}]\"\u001b[0m\u001b[1;33m)\u001b[0m\u001b[1;33m\u001b[0m\u001b[1;33m\u001b[0m\u001b[0m\n\u001b[0m\u001b[0;32m   5857\u001b[0m \u001b[1;33m\u001b[0m\u001b[0m\n\u001b[0;32m   5858\u001b[0m             \u001b[0mnot_found\u001b[0m \u001b[1;33m=\u001b[0m \u001b[0mlist\u001b[0m\u001b[1;33m(\u001b[0m\u001b[0mensure_index\u001b[0m\u001b[1;33m(\u001b[0m\u001b[0mkey\u001b[0m\u001b[1;33m)\u001b[0m\u001b[1;33m[\u001b[0m\u001b[0mmissing_mask\u001b[0m\u001b[1;33m.\u001b[0m\u001b[0mnonzero\u001b[0m\u001b[1;33m(\u001b[0m\u001b[1;33m)\u001b[0m\u001b[1;33m[\u001b[0m\u001b[1;36m0\u001b[0m\u001b[1;33m]\u001b[0m\u001b[1;33m]\u001b[0m\u001b[1;33m.\u001b[0m\u001b[0munique\u001b[0m\u001b[1;33m(\u001b[0m\u001b[1;33m)\u001b[0m\u001b[1;33m)\u001b[0m\u001b[1;33m\u001b[0m\u001b[1;33m\u001b[0m\u001b[0m\n",
      "\u001b[1;31mKeyError\u001b[0m: \"None of [Index(['time_approached', 'time_procured'], dtype='object')] are in the [columns]\""
     ]
    }
   ],
   "source": [
    "#2.On Average, what is the time that passes between approach and procurement?\n",
    "sub_OrganD_df=OrganD_df[['time_approached','time_procured']]\n"
   ]
  },
  {
   "cell_type": "code",
   "execution_count": null,
   "id": "77deced5-f54c-4bdf-b13c-492c8534c3d7",
   "metadata": {},
   "outputs": [],
   "source": [
    "df_donor_details=pd.read_excel('OrganDonor_Consolidated.xlsx',sheet_name='DonorDetails')\n",
    "df_donor_details"
   ]
  },
  {
   "cell_type": "code",
   "execution_count": null,
   "id": "719240e2-7cd3-4830-b350-89fcd85ac33c",
   "metadata": {},
   "outputs": [],
   "source": [
    "#7.Make Patient ID as index to the table.\n",
    "\n",
    "\n",
    "subdf_donor_details=df_donor_details['PatientID']\n",
    "column_name=['age','gender','race','causeofdeath','mechanism_of_death','brain_death','time_asystole','time_brain_death']\n",
    "subdf_donor_details\n",
    "s1=pd.DataFrame(data=df_donor_details,index=subdf_donor_details,columns=column_name)\n",
    "s1"
   ]
  },
  {
   "cell_type": "code",
   "execution_count": null,
   "id": "58f093c5-d24f-46de-9953-164d43ebe98f",
   "metadata": {},
   "outputs": [],
   "source": [
    "#8.Create a dictionary with the Age and Cause of Death for any 5 random donors.\n",
    " #Access any one cause of death using the donors age using the get() function\n",
    "dic={\n",
    "    \"PatientID\":['OPO1_P155959','OPO1_P297347','OPO1_P399316','OPO1_P246407','OPO1_P187209'],\n",
    "    \"age\":[54,78,57,78,70],\n",
    "    \"causeofdeath\":['Unknown','Unknown','Anoxia','cerebrovascular accident','Unknown']\n",
    "}\n",
    "print(dic)\n"
   ]
  },
  {
   "cell_type": "code",
   "execution_count": null,
   "id": "b969e080-491e-4115-94ea-cc0a01b23ea0",
   "metadata": {},
   "outputs": [],
   "source": [
    "#8.Access any one cause of death using the donors age using the get() function\n",
    "\n",
    "age=dic['age']\n",
    "causeofdeath=dic['causeofdeath']\n",
    "data=dict(zip(age,causeofdeath))\n",
    "#data\n",
    "print(data.get(78))"
   ]
  },
  {
   "cell_type": "code",
   "execution_count": 25,
   "id": "b7eec295-36c9-4e95-a9ed-c3969e488557",
   "metadata": {},
   "outputs": [
    {
     "name": "stdout",
     "output_type": "stream",
     "text": [
      "The Year with maximum referrals is 2021\n"
     ]
    }
   ],
   "source": [
    "#Question 33.Which year had the maximum referrals\n",
    "dfs = pd.read_excel('OrganDonor_Consolidated.xlsx',sheet_name = 'ReferralDetails' )\n",
    "yearwise_count = dfs['Referral_Year'].value_counts()\n",
    "maxcount_year = yearwise_count.idxmax()\n",
    "print(f\"The Year with maximum referrals is {maxcount_year}\")"
   ]
  },
  {
   "cell_type": "code",
   "execution_count": 4,
   "id": "3abf71c7",
   "metadata": {
    "scrolled": true
   },
   "outputs": [
    {
     "name": "stdout",
     "output_type": "stream",
     "text": [
      "3245\n"
     ]
    }
   ],
   "source": [
    "#Question 34 How Many Organs are recovered for transplant but not transplanted?\n",
    "dfs1 = pd.read_excel('OrganDonor_Consolidated.xlsx',sheet_name = 'Outcomes' )\n",
    "valuetobe_counted = 'Recovered for Transplant but not Transplanted'\n",
    "column_names  = dfs1.columns #['outcome_heart','outcome_liver','outcome_kidney_left','outcome_kidney_right','outcome_lung_left','outcome_lung_right','outcome_intestine','outcome_pancreas']\n",
    "count = 0\n",
    "for column_name in column_names:\n",
    "    count  += dfs1[column_name].value_counts().get(valuetobe_counted,0)\n",
    "    \n",
    "print(count)"
   ]
  },
  {
   "cell_type": "code",
   "execution_count": 31,
   "id": "c4a9a50b",
   "metadata": {},
   "outputs": [
    {
     "name": "stdout",
     "output_type": "stream",
     "text": [
      "The 3 most frequent causes of death are Anoxia , Unknown , cerebrovascular accident\n"
     ]
    }
   ],
   "source": [
    "#Question 35 . What are the 3 most frequenst causes of death?\n",
    "dfs2 = pd.read_excel('OrganDonor_Consolidated.xlsx',sheet_name = 'DonorDetails' )\n",
    "cause_death = dfs2['causeofdeath'].value_counts()\n",
    "most_frequent = cause_death.head(3)\n",
    "\n",
    "key_cause = ' , '.join(most_frequent.keys())\n",
    "print(f\"The 3 most frequent causes of death are {key_cause}\")"
   ]
  },
  {
   "cell_type": "code",
   "execution_count": 3,
   "id": "6f784568",
   "metadata": {
    "scrolled": true
   },
   "outputs": [
    {
     "name": "stdout",
     "output_type": "stream",
     "text": [
      "OPO4    33641\n",
      "OPO1    32148\n",
      "OPO6    22915\n",
      "OPO2    16145\n",
      "OPO5    15738\n",
      "OPO3    12514\n",
      "Name: OPO, dtype: int64\n"
     ]
    }
   ],
   "source": [
    "#Question 36.How many transplants were registered under each OPO?\n",
    "dfs3 = pd.read_excel('OrganDonor_Consolidated.xlsx',sheet_name = 'OPO_HospDetails' )\n",
    "transplants_eachopo = dfs3['OPO'].value_counts()\n",
    "print(transplants_eachopo)"
   ]
  },
  {
   "cell_type": "code",
   "execution_count": null,
   "id": "183ba0bd",
   "metadata": {},
   "outputs": [],
   "source": [
    "#Quuestion 37.Plot a stacked bar chart to show different procurement outcomes for organs - heart, liver, and pancreas.\n",
    " #Label the bars with the actual numbers for each outcome.\n",
    "    "
   ]
  },
  {
   "cell_type": "code",
   "execution_count": 6,
   "id": "ea1a6c28",
   "metadata": {},
   "outputs": [
    {
     "name": "stdout",
     "output_type": "stream",
     "text": [
      "Percentage of left lung transplants is : 22.51%\n",
      "Percentage of right lung transplants is: 22.31%\n"
     ]
    }
   ],
   "source": [
    "#Question 38.What percentage of all transplants are lung transplants\n",
    "dfs1 = pd.read_excel('OrganDonor_Consolidated.xlsx',sheet_name = 'Outcomes' )\n",
    "count_patients = len(dfs1)\n",
    "\n",
    "valuetobe_counted = 'Transplanted'\n",
    "\n",
    "\n",
    "count_left = dfs1['outcome_lung_left'].value_counts()\n",
    "count_left_transplanted = count_left.get(valuetobe_counted, 0)\n",
    "\n",
    "\n",
    "count_right = dfs1['outcome_lung_right'].value_counts()\n",
    "count_right_transplanted = count_right.get(valuetobe_counted, 0)\n",
    "\n",
    "\n",
    "# percentage of left lung transplants\n",
    "percentage_left_lung = (count_left_transplanted/count_patients)*100\n",
    "percentage_right_lung = (count_right_transplanted/count_patients)*100\n",
    "print(f\"Percentage of left lung transplants is : {percentage_left_lung:.2f}%\")\n",
    "print(f\"Percentage of right lung transplants is: {percentage_right_lung:.2f}%\")"
   ]
  },
  {
   "cell_type": "code",
   "execution_count": 9,
   "id": "80388cb9",
   "metadata": {},
   "outputs": [
    {
     "name": "stdout",
     "output_type": "stream",
     "text": [
      "The year with the maximum procurements is 2035 with 1619 procurements.\n"
     ]
    }
   ],
   "source": [
    "#Question 39.Which year had the maximum number of procurements?\n",
    "dfs = pd.read_excel('OrganDonor_Consolidated.xlsx',sheet_name = 'ReferralDetails' )\n",
    "date_column = 'time_procured' \n",
    "dfs[date_column] = pd.to_datetime(dfs[date_column])\n",
    "dfs['year'] = dfs[date_column].dt.year\n",
    "year_count = dfs['year'].value_counts()\n",
    "max_year = year_count.idxmax()\n",
    "max_count = year_count.max()\n",
    "print(f\"The year with the maximum procurements is {int(max_year)} with {max_count} procurements.\")"
   ]
  },
  {
   "cell_type": "code",
   "execution_count": 11,
   "id": "1307d481",
   "metadata": {},
   "outputs": [
    {
     "name": "stdout",
     "output_type": "stream",
     "text": [
      "                 PID        Date Referral Time\n",
      "0       OPO1_P320866  06/21/2033      06:49 AM\n",
      "1       OPO1_P549364  11/21/2036      08:41 AM\n",
      "2       OPO1_P536997  08/23/2030      11:28 PM\n",
      "3       OPO1_P463285  05/12/2034      05:34 PM\n",
      "4       OPO1_P284978  02/22/2033      04:45 AM\n",
      "...              ...         ...           ...\n",
      "133096  OPO6_P384794  07/10/2034      01:26 PM\n",
      "133097  OPO6_P902138  08/04/2035      05:13 AM\n",
      "133098    OPO6_P5461  03/13/2031      08:13 PM\n",
      "133099  OPO6_P942291  11/20/2032      01:32 PM\n",
      "133100  OPO6_P210235  02/26/2030      05:22 AM\n",
      "\n",
      "[133101 rows x 3 columns]\n"
     ]
    }
   ],
   "source": [
    "#Question 40.Create a dataframe with date and time as columns, where the values are the referral time.\n",
    "dfs = pd.read_excel('OrganDonor_Consolidated.xlsx',sheet_name = 'ReferralDetails' )\n",
    "datestamp_column = 'time_referred'\n",
    "dfs[datestamp_column] = pd.to_datetime(dfs[datestamp_column], errors='coerce')\n",
    "dfs['PID'] = dfs['PatientID']\n",
    "dfs['Date'] = dfs[datestamp_column].dt.strftime('%m/%d/%Y')\n",
    "dfs['Referral Time'] = dfs[datestamp_column].dt.strftime('%I:%M %p')\n",
    "print(dfs[['PID','Date','Referral Time']])"
   ]
  },
  {
   "cell_type": "code",
   "execution_count": null,
   "id": "ea26d2f3",
   "metadata": {},
   "outputs": [],
   "source": [
    "#Question 41.Create a pair plot of the outcomes, using different outcome statuses as the hue."
   ]
  },
  {
   "cell_type": "code",
   "execution_count": 14,
   "id": "629de61d",
   "metadata": {},
   "outputs": [
    {
     "name": "stdout",
     "output_type": "stream",
     "text": [
      "2015    13.19\n",
      "2016    12.63\n",
      "2017    13.26\n",
      "2018    15.06\n",
      "2019    13.45\n",
      "2020    16.36\n",
      "2021    18.22\n",
      "dtype: float64\n"
     ]
    }
   ],
   "source": [
    "#Question 42.What is the ratio of referrals to transplants by year?\n",
    "yearly_counts = dfs['Referral_Year'].value_counts()\n",
    "count_transplanted =dfs[dfs['transplanted'] == 1].groupby('Referral_Year').size()\n",
    "ratio = yearly_counts / count_transplanted\n",
    "print(ratio.round(2))"
   ]
  },
  {
   "cell_type": "code",
   "execution_count": 15,
   "id": "f6297fad",
   "metadata": {},
   "outputs": [
    {
     "name": "stdout",
     "output_type": "stream",
     "text": [
      "Number of Donors died from Drug Overdose are : 156\n"
     ]
    }
   ],
   "source": [
    "#Question 43.How many donors died from a drug overdose?\n",
    "dfs2 = pd.read_excel('OrganDonor_Consolidated.xlsx',sheet_name = 'DonorDetails' )\n",
    "cause_death = dfs2['causeofdeath'].value_counts()\n",
    "count_DrugOverdose = cause_death.get('Drug Overdose',0)\n",
    "print(f\"Number of Donors died from Drug Overdose are : {count_DrugOverdose}\")"
   ]
  },
  {
   "cell_type": "code",
   "execution_count": null,
   "id": "ff4c5dcf",
   "metadata": {},
   "outputs": [],
   "source": [
    "#Question 44.Create a count plot to show distribution of patient-ages in any 2 mechanisms of death."
   ]
  },
  {
   "cell_type": "code",
   "execution_count": null,
   "id": "8f3386ab",
   "metadata": {},
   "outputs": [],
   "source": [
    "#Question 45.Create a Waffle chart to show what percentage of total deaths belong to each mechanism"
   ]
  },
  {
   "cell_type": "code",
   "execution_count": 16,
   "id": "8d4878e6",
   "metadata": {},
   "outputs": [
    {
     "name": "stdout",
     "output_type": "stream",
     "text": [
      "OPO4_H16532    3682\n",
      "OPO6_H22175    3629\n",
      "OPO6_H6602     3578\n",
      "OPO3_H4291     3123\n",
      "OPO4_H30877    2335\n",
      "               ... \n",
      "OPO5_H11845       1\n",
      "OPO2_H6517        1\n",
      "OPO2_H5905        1\n",
      "OPO2_H158         1\n",
      "OPO6_H21263       1\n",
      "Name: HospitalID, Length: 557, dtype: int64\n"
     ]
    }
   ],
   "source": [
    "#Question 46.How many donors were registered under each hospital?\n",
    "dfs3 = pd.read_excel('OrganDonor_Consolidated.xlsx',sheet_name = 'OPO_HospDetails' )\n",
    "donors_eachhosp = dfs3['HospitalID'].value_counts()\n",
    "print(donors_eachhosp)"
   ]
  },
  {
   "cell_type": "code",
   "execution_count": null,
   "id": "925d63d3",
   "metadata": {},
   "outputs": [],
   "source": [
    "#Question 47.What is the predominant 'identified mechanism of death' among the youngest donors in the dataset.\n",
    "dfs2 = pd.read_excel('OrganDonor_Consolidated.xlsx',sheet_name = 'DonorDetails' )\n",
    "youngest_donor_age = dfs2['age'].min()\n",
    "youngest_donors = dfs2[dfs2['age']== youngest_donor_age]\n",
    "mech_of_death = youngest_donors['causeofdeath'].value_counts()\n",
    "max_mech_of_death = mech_of_death.idxmax()\n",
    "print(f\" The predominant mechanism of death among the youngest donors who is of age {int(youngest_donor_age)} is {max_mech_of_death}\")"
   ]
  },
  {
   "cell_type": "code",
   "execution_count": null,
   "id": "5c3b6c6b",
   "metadata": {},
   "outputs": [],
   "source": [
    "#Question 48.Show a bar plot of the number of patients by race?"
   ]
  }
 ],
 "metadata": {
  "kernelspec": {
   "display_name": "Python 3 (ipykernel)",
   "language": "python",
   "name": "python3"
  },
  "language_info": {
   "codemirror_mode": {
    "name": "ipython",
    "version": 3
   },
   "file_extension": ".py",
   "mimetype": "text/x-python",
   "name": "python",
   "nbconvert_exporter": "python",
   "pygments_lexer": "ipython3",
   "version": "3.9.13"
  }
 },
 "nbformat": 4,
 "nbformat_minor": 5
}
