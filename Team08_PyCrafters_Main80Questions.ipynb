{
 "cells": [
  {
   "cell_type": "code",
   "execution_count": 1,
   "id": "8d040ee3-0155-4639-8b53-821c5235f201",
   "metadata": {},
   "outputs": [
    {
     "name": "stdout",
     "output_type": "stream",
     "text": [
      "Requirement already satisfied: pandas in c:\\users\\sateesh\\anaconda3\\lib\\site-packages (2.2.2)Note: you may need to restart the kernel to use updated packages.\n",
      "\n",
      "Requirement already satisfied: numpy>=1.26.0 in c:\\users\\sateesh\\anaconda3\\lib\\site-packages (from pandas) (1.26.4)\n",
      "Requirement already satisfied: python-dateutil>=2.8.2 in c:\\users\\sateesh\\anaconda3\\lib\\site-packages (from pandas) (2.9.0.post0)\n",
      "Requirement already satisfied: pytz>=2020.1 in c:\\users\\sateesh\\anaconda3\\lib\\site-packages (from pandas) (2024.1)\n",
      "Requirement already satisfied: tzdata>=2022.7 in c:\\users\\sateesh\\anaconda3\\lib\\site-packages (from pandas) (2023.3)\n",
      "Requirement already satisfied: six>=1.5 in c:\\users\\sateesh\\anaconda3\\lib\\site-packages (from python-dateutil>=2.8.2->pandas) (1.16.0)\n"
     ]
    }
   ],
   "source": [
 "pip install pandas"
 ]
  },
  {
   "cell_type": "code",
   "execution_count": 2,
   "id": "b17c20e9-5d9a-4422-8c0c-efdb9f6d53f1",
   "metadata": {},
   "outputs": [
    {
     "name": "stdout",
     "output_type": "stream",
     "text": [
      "Requirement already satisfied: matplotlib in c:\\users\\sateesh\\anaconda3\\lib\\site-packages (3.9.2)\n",
      "Requirement already satisfied: contourpy>=1.0.1 in c:\\users\\sateesh\\anaconda3\\lib\\site-packages (from matplotlib) (1.2.0)\n",
      "Requirement already satisfied: cycler>=0.10 in c:\\users\\sateesh\\anaconda3\\lib\\site-packages (from matplotlib) (0.11.0)\n",
      "Requirement already satisfied: fonttools>=4.22.0 in c:\\users\\sateesh\\anaconda3\\lib\\site-packages (from matplotlib) (4.51.0)\n",
      "Requirement already satisfied: kiwisolver>=1.3.1 in c:\\users\\sateesh\\anaconda3\\lib\\site-packages (from matplotlib) (1.4.4)\n",
      "Requirement already satisfied: numpy>=1.23 in c:\\users\\sateesh\\anaconda3\\lib\\site-packages (from matplotlib) (1.26.4)\n",
      "Requirement already satisfied: packaging>=20.0 in c:\\users\\sateesh\\anaconda3\\lib\\site-packages (from matplotlib) (24.1)\n",
      "Requirement already satisfied: pillow>=8 in c:\\users\\sateesh\\anaconda3\\lib\\site-packages (from matplotlib) (10.4.0)\n",
      "Requirement already satisfied: pyparsing>=2.3.1 in c:\\users\\sateesh\\anaconda3\\lib\\site-packages (from matplotlib) (3.1.2)\n",
      "Requirement already satisfied: python-dateutil>=2.7 in c:\\users\\sateesh\\anaconda3\\lib\\site-packages (from matplotlib) (2.9.0.post0)\n",
      "Requirement already satisfied: six>=1.5 in c:\\users\\sateesh\\anaconda3\\lib\\site-packages (from python-dateutil>=2.7->matplotlib) (1.16.0)\n",
      "Note: you may need to restart the kernel to use updated packages.\n"
     ]
    }
   ],
   "source": [
    "pip install matplotlib"
   ]
  },
  {
   "cell_type": "code",
   "execution_count": 3,
   "id": "0aa02aa1-ea57-4698-97dd-18ccc7257493",
   "metadata": {},
   "outputs": [],
   "source": [
    "import numpy as np\n",
    "import pandas as pd\n",
    "import matplotlib\n",
    "import matplotlib.pyplot as plt\n",
    "import seaborn as sns\n"
   ]
  },
  {
   "cell_type": "code"
    "execution_count": 4,
   "id": "f4973288-a481-499f-b4f0-5c4aaeda36d8",
   "metadata": {},
   "outputs": [],
   "source": [
    "df_outcomes_details=pd.read_excel('OrganDonor_Consolidated.xlsx',sheet_name='Outcomes')\n",
    "df_donor_details=pd.read_excel('OrganDonor_Consolidated.xlsx',sheet_name='DonorDetails')\n",
    "df_referral_details=pd.read_excel('OrganDonor_Consolidated.xlsx',sheet_name='ReferralDetails')\n",
    "DataD_df=pd.read_excel('DataDictionary.xlsx')\n"
   ]
  },
  {
   "cell_type": "markdown",
   "id": "0cda83db-593f-4075-85ee-d165ff1cd76d",
   "metadata": {},
   "source": [
    "1.Using numpy functions, multiply the following arrays using matrix multiplication.\n"
   ]
  },
  {
   "cell_type": "code",
   "execution_count": 6,
   "id": "602fde59-60bb-469e-bff1-01e74fb1c510",
 "metadata": {},
   "outputs": [
    {
     "name": "stdout",
     "output_type": "stream",
     "text": [
      "Requirement already satisfied: plotly in c:\\users\\kbaks\\anaconda3\\lib\\site-packages (5.24.1)\n",
      "Requirement already satisfied: tenacity>=6.2.0 in c:\\users\\kbaks\\anaconda3\\lib\\site-packages (from plotly) (8.2.3)\n",
      "Requirement already satisfied: packaging in c:\\users\\kbaks\\anaconda3\\lib\\site-packages (from plotly) (24.1)\n",
      "Note: you may need to restart the kernel to use updated packages.\n"
     ]
    }
   ],
   "source": [
     "#1.Using numpy functions, multiply the following arrays using matrix multiplication.\n",
    " #a=np.arange(4).reshape(2,2)\n",
    "# b=np.arange(6).reshape(3,2)\n",
    "\n",
    "a=np.arange(4).reshape(2,2)\n",
    "b=np.arange(6).reshape(3,2)\n",
    "b_trps=np.transpose(b)\n",
    "print(a)\n",
    "print(b_trps)\n",
    "c=a @ b_trps\n",
    "print(c)"
  ]
  },
  {
   "cell_type": "markdown",
   "id": "3c85fc1f-f02a-4486-997c-f161d0495646",
   "metadata": {},
   "source": [
    "2.On Average, what is the time that passes between approach and procurement?"
   ]
  },
  {
   "cell_type": "code",
 "execution_count": 7,
   "id": "4a908e0b-b727-4775-9fb3-e686b94b04b0",
   "metadata": {},
   "outputs": [
    {
     "name": "stdout",
     "output_type": "stream",
     "text": [
      "           PatientID  Approached Relatives  Authorized By Family  \\\n",
      "25      OPO1_P648384                     1                     1   \n",
      "49      OPO1_P404478                     1                     1   \n",
      "65      OPO1_P340806                     1                     1   \n",
      "70      OPO1_P278912                     1                     1   \n",
      "92      OPO1_P160928                     1                     1   \n",
      "...              ...                   ...                   ...   \n",
      "133010  OPO6_P925470                     1                     1   \n",
      "133023  OPO6_P273753                     1                     1   \n",
      "133026  OPO6_P751972                     1                     1   \n",
      "133081  OPO6_P667026                     1                     1   \n",
      "133090  OPO6_P721333                     1                     1   \n",
      "\n",
      "        Cross_Clamped  transplanted  Tissue_Referral  Eye_Referral  \\\n",
      "25                  1             1                1             1   \n",
      "49                  1             1                1             1   \n",
      "65                  1             1                1             1   \n",
      "70                  1             1                1             1   \n",
      "92                  1             1                1             1   \n",
      "...               ...           ...              ...           ...   \n",
      "133010              1             1                1             1   \n",
      "133023              1             1                1             1   \n",
      "133026              1             0                1             1   \n",
      "133081              1             1                1             1   \n",
      "133090              1             1                1             1   \n",
      "\n",
      "                 time_referred     time_approached     time_authorized  \\\n",
      "25     2035-03-09 13:19:38.767 2035-03-11 17:28:00 2035-03-11 17:28:00   \n",
      "49     2031-04-17 22:41:00.000 2031-04-19 13:00:00 2031-04-19 13:00:00   \n",
      "65     2035-05-15 16:54:46.200 2035-05-16 18:05:00 2035-05-16 19:38:00   \n",
      "70     2035-01-29 04:55:52.807 2035-02-02 11:35:00 2035-02-01 19:00:00   \n",
      "92     2036-10-18 05:54:06.447 2036-10-19 11:30:00 2036-10-19 13:00:00   \n",
      "...                        ...                 ...                 ...   \n",
      "133010 2035-05-24 05:12:00.000 2035-05-28 18:16:00 2035-05-28 20:50:00   \n",
      "133023 2036-11-19 13:03:00.000 2036-11-20 19:30:00 2036-11-20 19:43:00   \n",
      "133026 2033-12-16 14:47:00.000 2033-12-17 15:00:00 2033-12-17 18:38:00   \n",
      "133081 2033-07-16 06:43:00.000 2033-07-18 02:30:00 2033-07-18 02:30:00   \n",
      "133090 2036-10-29 19:41:00.000 2036-10-29 22:00:00 2036-10-29 22:00:00   \n",
      "\n",
      "             time_procured Referral_DayofWeek  Referral_Year  Procured_Year  \\\n",
      "25     2035-03-14 07:18:00           Thursday           2019         2019.0   \n",
      "49     2031-04-20 18:57:00             Monday           2017         2017.0   \n",
      "65     2035-05-20 01:14:00           Thursday           2019         2019.0   \n",
      "70     2035-02-04 17:03:00             Friday           2020         2020.0   \n",
      "92     2036-10-22 03:10:00           Thursday           2020         2020.0   \n",
      "...                    ...                ...            ...            ...   \n",
      "133010 2035-06-01 02:03:00             Sunday           2021         2021.0   \n",
      "133023 2036-11-23 06:57:00             Friday           2021         2021.0   \n",
      "133026 2033-12-20 20:51:00             Friday           2019         2019.0   \n",
      "133081 2033-07-20 06:15:00             Friday           2018         2018.0   \n",
      "133090 2036-10-30 21:23:00             Monday           2020         2020.0   \n",
      "\n",
      "        difference  \n",
      "25               2  \n",
      "49               1  \n",
      "65               3  \n",
      "70               2  \n",
      "92               2  \n",
      "...            ...  \n",
      "133010           3  \n",
      "133023           2  \n",
      "133026           3  \n",
      "133081           2  \n",
      "133090           0  \n",
      "\n",
      "[9414 rows x 15 columns]\n",
      "3.1798385383471426\n"
     ]
    },
    {
     "name": "stderr",
     "output_type": "stream",
     "text": [
      "C:\\Users\\sateesh\\AppData\\Local\\Temp\\ipykernel_2784\\851664507.py:4: SettingWithCopyWarning: \n",
      "A value is trying to be set on a copy of a slice from a DataFrame.\n",
      "Try using .loc[row_indexer,col_indexer] = value instead\n",
      "\n",
      "See the caveats in the documentation: https://pandas.pydata.org/pandas-docs/stable/user_guide/indexing.html#returning-a-view-versus-a-copy\n",
      "  df_clean['time_approached']=pd.to_datetime(df_clean['time_approached'])\n",
      "C:\\Users\\sateesh\\AppData\\Local\\Temp\\ipykernel_2784\\851664507.py:7: SettingWithCopyWarning: \n",
      "A value is trying to be set on a copy of a slice from a DataFrame.\n",
      "Try using .loc[row_indexer,col_indexer] = value instead\n",
      "\n",
      "See the caveats in the documentation: https://pandas.pydata.org/pandas-docs/stable/user_guide/indexing.html#returning-a-view-versus-a-copy\n",
      "  df_clean['time_procured']=pd.to_datetime(df_clean['time_procured'])\n",
      "C:\\Users\\sateesh\\AppData\\Local\\Temp\\ipykernel_2784\\851664507.py:10: SettingWithCopyWarning: \n",
      "A value is trying to be set on a copy of a slice from a DataFrame.\n",
      "Try using .loc[row_indexer,col_indexer] = value instead\n",
      "\n",
      "See the caveats in the documentation: https://pandas.pydata.org/pandas-docs/stable/user_guide/indexing.html#returning-a-view-versus-a-copy\n",
      "  df_clean['difference']=(df_clean['time_procured']-df_clean['time_approached']).dt.days\n"
     ]
    }
   ],
   "source": [
    "#2.On Average, what is the time that passes between approach and procurement?\n",
    "\n",
    "#From Referral details table removing empty rows of time approached and procured\n",
    "df_clean=df_referral_details.dropna(subset=['time_approached','time_procured'])\n",
    "\n",
    "df_clean['time_approached']=pd.to_datetime(df_clean['time_approached'])\n",
    "#df_clean['year']=df_clean['time_approached'].dt.year\n",
    "\n",
    "df_clean['time_procured']=pd.to_datetime(df_clean['time_procured'])\n",
    "#df_clean['year']=df_clean['time_referred'].dt.year\n",
    "\n",
    "df_clean['difference']=(df_clean['time_procured']-df_clean['time_approached']).dt.days\n",
    "avg=df_clean['difference'].mean()\n",
    "print(df_clean)\n",
    "print(avg)\n"
   ]
  },
  {
   "cell_type": "markdown",
   "id": "eb9a167a-07f1-406e-b1dc-a46f518d8c81",
   "metadata": {},
   "source": [
    "3.Plot the time series of Donor referrals with 5 month intervals between each."
   ]
  },
  {
   "cell_type": "code",
   "execution_count": null,
   "id": "50c40e0c-fdd6-4199-923d-5a5f74f5fb8a",
   "metadata": {},
   "outputs": [],
   "source": [
    "#3.Plot the time series of Donor referrals with 5 month intervals between each.\n",
    "df_referral_details['time_referred']=pd.to_datetime(df_referral_details['time_referred'])\n",
    "df_referral_details['year']=df_referral_details['time_referred'].dt.year\n",
    "df_referral_details_maxYear=df_referral_details['year'].max()\n",
    "df_referral_details_minYear=df_referral_details['year'].min()\n",
    "#print(df_referral_details_maxYear)\n",
    "\n",
    "#print(df_referral_details_minYear)\n",
    "#x=np.arange(df_referral_details_maxYear,df_referral_details_minYear,5)\n",
    "df_referral_details_resample=df_referral_details['year'].resample('5M').sum()\n",
    "\n",
    "title_font = {'family': 'sans-serif', 'color': 'crimson', 'weight': 'bold', 'size': 20}\n",
    "label_font = {'family': 'sans-serif', 'color': 'DarkBlue', 'weight': 'normal', 'size': 15}\n",
    "\n",
    "\n",
    "\n",
    "plt.title('With 5 month intervals',fontdict=title_font)\n",
    "plt.xlabel('time_referred',fontdict=label_font)\n",
    "plt.ylabel('Patient_ID',fontdict=label_font)\n",
    "plt.plot(df_referral_details_resample.index,df_referral_details_resample.values,color='Blue',marker='o',ms = 15,mec='DarkGreen',mfc='lime',mew=3)\n",
    "plt.tight_layout()\n",
    "\n",
    "\n",
    "plt.show()"
   ]
  },
  {
   "cell_type": "markdown",
   "id": "7a5d80f6-c43d-4c36-b5af-b59cfa776869",
   "metadata": {},
   "source": [
    "4.Who is the oldest patient who died of drug overdose?"
 ]
  },
  {
   "cell_type": "code",

   "execution_count": 137,
   "id": "b7eec295-36c9-4e95-a9ed-c3969e488557",
   "metadata": {},
   "outputs": [
    {
     "name": "stdout",
     "output_type": "stream",
     "text": [
      "OPO1: 32148 donors\n",
      "OPO2: 16145 donors\n",
      "OPO3: 12514 donors\n",
      "OPO4: 33641 donors\n",
      "OPO5: 15738 donors\n",
      "OPO6: 22915 donors\n"
     ]
    }
   ],
   "source": [
    "#Qu 16 -- How many donors were registered in each Organ Procurement Organization?\n",
    "\n",
    "# Initialize an empty dictionary to store the donor counts for each OPO ID\n",
    "opo_donor_count = {}\n",
    "# Loop through the list of donor OPO IDs \n",
    "for opo in opo_hospdetails['OPO']:\n",
    "    if opo in opo_donor_count:\n",
    "        opo_donor_count[opo] += 1\n",
    "    else:\n",
    "        opo_donor_count[opo] = 1\n",
    "\n",
    "# Display the count of donors for each OPO ID\n",
    "for opo, count in opo_donor_count.items():\n",
    "    print(f\"{opo}: {count} donors\")"
   ]
  },
  {
   "cell_type": "code",
   "execution_count": 138,
   "id": "21422e8c-5125-443c-81cc-f78d2aa8cf80",
   "metadata": {},
   "outputs": [
    {
     "name": "stdout",
     "output_type": "stream",
     "text": [
      "           mechanism_of_death  Time Difference\n",
      "0                Asphyxiation       110.935700\n",
      "1                Blunt Injury       107.066895\n",
      "2              Cardiovascular       100.448968\n",
      "3   Death from Natural Causes        63.550680\n",
      "4                    Drowning       116.006417\n",
      "5           Drug Intoxication       104.320918\n",
      "6                  Electrical       111.511563\n",
      "7              Gun Shot Wound        95.280820\n",
      "8               Gunshot Wound        72.290249\n",
      "9              Natural Causes       106.429103\n",
      "10          None of the Above       101.138974\n",
      "11          None of the above        54.616667\n",
      "12                      Other        56.929167\n",
      "13                    Seizure       100.839926\n",
      "14                       Stab        96.541678\n",
      "15                     Stroke        86.378084\n",
      "16        Sudden Infant Death        95.613979\n",
      "17                    Unknown    -97002.425227\n"
     ]
    }
   ],
   "source": [
    "#17 Calculate the average time between referral and procurement for each mechanism of death\n",
    "\n",
    "# Merge df_donardetails and dataframe_referraldetails  \n",
    "merged_data = pd.merge(dataframe_donardetails, dataframe_referraldetails, on='PatientID', how='inner')\n",
    "\n",
    "# Calculate time difference (procurement - referral)\n",
    "merged_data['Time Difference'] = (merged_data['time_procured'] - merged_data['time_referred']).dt.total_seconds() / 3600  # Time difference \n",
    "\n",
    "# Group by 'Mechanism of Death' and calculate average time difference\n",
    "avg_time_diff = merged_data.groupby('mechanism_of_death')['Time Difference'].mean().reset_index()\n",
    "\n",
    "# Print the result\n",
    "print(avg_time_diff)\n"
   ]
  },
  {
   "cell_type": "code",
   "execution_count": 139,
   "id": "7009bde5-af16-44c0-aa87-5903807a2ef9",
   "metadata": {},
   "outputs": [
    {
     "name": "stdout",
     "output_type": "stream",
     "text": [
      "Percentage of referrals that are procured: 7.17%\n"
     ]
    }
   ],
   "source": [
    "#18 What % of all referrals are procured?\n",
    "\n",
    "# Convert timestamps to datetime\n",
    "dataframe_ReferralDetails['time_referred'] = pd.to_datetime(dataframe_ReferralDetails['time_referred'])\n",
    "dataframe_ReferralDetails['time_procured'] = pd.to_datetime(dataframe_ReferralDetails['time_procured'])\n",
    "\n",
    "# Count total referrals and procured referrals\n",
    "total_referrals = dataframe_ReferralDetails['time_referred'].notna().sum()  # Count total referrals\n",
    "procured_referrals = dataframe_ReferralDetails['time_procured'].notna().sum()  # Count procured referrals\n",
    "\n",
    "procured_percentage = (procured_referrals / total_referrals) * 100\n",
    "print(f\"Percentage of referrals that are procured: {procured_percentage:.2f}%\")    \n"
   ]
  },
  {
   "cell_type": "code",
   "execution_count": 140,
   "id": "43bf148d-209e-4234-9879-3941da70d76d",
   "metadata": {},
   "outputs": [
    {
     "name": "stdout",
     "output_type": "stream",
     "text": [
      "       age  Referral_Year  Birth_Year\n",
      "0     57.0           2020      1963.0\n",
      "1     45.0           2021      1976.0\n",
      "2     40.0           2019      1979.0\n",
      "3     39.0           2018      1979.0\n",
      "4     42.0           2021      1979.0\n",
      "...    ...            ...         ...\n",
      "3516  54.0           2018      1964.0\n",
      "3517  24.0           2018      1994.0\n",
      "3518  77.0           2016      1939.0\n",
      "3519  34.0           2017      1983.0\n",
      "3520  33.0           2017      1984.0\n",
      "\n",
      "[3521 rows x 3 columns]\n"
     ]
    }
   ],
   "source": [
    "#19 Write a function to calculate the year of birth for each patient using year of referral as a base.\n",
    "\n",
    "# Extracting relevant columns\n",
    "df_age = df_donardetails['age']\n",
    "referrals_year = dataframe_ReferralDetails['Referral_Year']\n",
    "\n",
    "# Merging both dataframes \n",
    "df_merged = pd.merge(df_donardetails, dataframe_ReferralDetails[['Referral_Year', 'PatientID']], on='PatientID', how='left')\n",
    "\n",
    "# Function to calculate birth year\n",
    "def calculate_birth_year(age, referral_year):\n",
    "   \n",
    "    return referral_year - age\n",
    "\n",
    "# Applying the function to calculate 'Birth_Year'\n",
    "df_merged['Birth_Year'] = df_merged.apply(\n",
    "    lambda row: calculate_birth_year(row['age'], row['Referral_Year']), axis=1)\n",
    "\n",
    "# Printing the result\n",
    "print(df_merged[['age', 'Referral_Year', 'Birth_Year']])\n"
   ]
  },
  {
   "cell_type": "code",
   "execution_count": 142,
   "id": "5500018d-a218-409e-80f7-340066433493",
   "metadata": {},
   "outputs": [
    {
     "name": "stdout",
     "output_type": "stream",
     "text": [
      "Number of patients who died from sepsis following drowning incidents: 0\n"
     ]
    }
   ],
   "source": [
    "#20 How many patients have died of sepsis following drowning incidents?\n",
    "\n",
    "#  Filter the dataset for drowning incidents\n",
    "drowning_data = df_donardetails[df_donardetails['mechanism_of_death'] == 'Drowning']\n",
    "\n",
    "# Filter for cases where sepsis was the cause of death\n",
    "sepsis_deaths = drowning_data[drowning_data['causeofdeath'] == 'Sepsis']\n",
    "\n",
    "# Count the number of cases\n",
    "sepsis_death_count = sepsis_deaths.shape[0]\n",
    "\n",
    "# Output the result\n",
    "print(f\"Number of patients who died from sepsis following drowning incidents: {sepsis_death_count}\")\n"

   ]
  },
  {
   "cell_type": "code",
 "execution_count": 15,
   "id": "7fa3047e-a4b9-4fde-b24b-b26313b44467",
   "metadata": {},
   "outputs": [
    {
     "data": {
      "text/html": [
       "<div>\n",
       "<style scoped>\n",
       "    .dataframe tbody tr th:only-of-type {\n",
       "        vertical-align: middle;\n",
       "    }\n",
       "\n",
       "    .dataframe tbody tr th {\n",
       "        vertical-align: top;\n",
       "    }\n",
       "\n",
       "    .dataframe thead th {\n",
       "        text-align: right;\n",
       "    }\n",
       "</style>\n",
       "<table border=\"1\" class=\"dataframe\">\n",
       "  <thead>\n",
       "    <tr style=\"text-align: right;\">\n",
       "      <th></th>\n",
       "      <th>age</th>\n",
       "      <th>gender</th>\n",
       "      <th>race</th>\n",
       "      <th>causeofdeath</th>\n",
       "      <th>mechanism_of_death</th>\n",
       "      <th>brain_death</th>\n",
       "      <th>time_asystole</th>\n",
       "      <th>time_brain_death</th>\n",
       "    </tr>\n",
       "    <tr>\n",
       "      <th>PatientID</th>\n",
       "      <th></th>\n",
       "      <th></th>\n",
       "      <th></th>\n",
       "      <th></th>\n",
       "      <th></th>\n",
       "      <th></th>\n",
       "      <th></th>\n",
       "      <th></th>\n",
       "    </tr>\n",
       "  </thead>\n",
       "  <tbody>\n",
       "    <tr>\n",
       "      <th>OPO1_P155959</th>\n",
       "      <td>NaN</td>\n",
       "      <td>NaN</td>\n",
       "      <td>NaN</td>\n",
       "      <td>NaN</td>\n",
       "      <td>NaN</td>\n",
       "      <td>NaN</td>\n",
       "      <td>NaT</td>\n",
       "      <td>NaT</td>\n",
       "    </tr>\n",
       "    <tr>\n",
       "      <th>OPO1_P297347</th>\n",
       "      <td>NaN</td>\n",
       "      <td>NaN</td>\n",
       "      <td>NaN</td>\n",
       "      <td>NaN</td>\n",
       "      <td>NaN</td>\n",
       "      <td>NaN</td>\n",
       "      <td>NaT</td>\n",
       "      <td>NaT</td>\n",
       "    </tr>\n",
       "    <tr>\n",
       "      <th>OPO1_P399316</th>\n",
       "      <td>NaN</td>\n",
       "      <td>NaN</td>\n",
       "      <td>NaN</td>\n",
       "      <td>NaN</td>\n",
       "      <td>NaN</td>\n",
       "      <td>NaN</td>\n",
       "      <td>NaT</td>\n",
       "      <td>NaT</td>\n",
       "    </tr>\n",
       "    <tr>\n",
       "      <th>OPO1_P246407</th>\n",
       "      <td>NaN</td>\n",
       "      <td>NaN</td>\n",
       "      <td>NaN</td>\n",
       "      <td>NaN</td>\n",
       "      <td>NaN</td>\n",
       "      <td>NaN</td>\n",
       "      <td>NaT</td>\n",
       "      <td>NaT</td>\n",
       "    </tr>\n",
       "    <tr>\n",
       "      <th>OPO1_P187209</th>\n",
       "      <td>NaN</td>\n",
       "      <td>NaN</td>\n",
       "      <td>NaN</td>\n",
       "      <td>NaN</td>\n",
       "      <td>NaN</td>\n",
       "      <td>NaN</td>\n",
       "      <td>NaT</td>\n",
       "      <td>NaT</td>\n",
       "    </tr>\n",
       "    <tr>\n",
       "      <th>...</th>\n",
       "      <td>...</td>\n",
       "      <td>...</td>\n",
       "      <td>...</td>\n",
       "      <td>...</td>\n",
       "      <td>...</td>\n",
       "      <td>...</td>\n",
       "      <td>...</td>\n",
       "      <td>...</td>\n",
       "    </tr>\n",
       "    <tr>\n",
       "      <th>OPO6_P54946</th>\n",
       "      <td>NaN</td>\n",
       "      <td>NaN</td>\n",
       "      <td>NaN</td>\n",
       "      <td>NaN</td>\n",
       "      <td>NaN</td>\n",
       "      <td>NaN</td>\n",
       "      <td>NaT</td>\n",
       "      <td>NaT</td>\n",
       "    </tr>\n",
       "    <tr>\n",
       "      <th>OPO6_P630991</th>\n",
       "      <td>NaN</td>\n",
       "      <td>NaN</td>\n",
       "      <td>NaN</td>\n",
       "      <td>NaN</td>\n",
       "      <td>NaN</td>\n",
       "      <td>NaN</td>\n",
       "      <td>NaT</td>\n",
       "      <td>NaT</td>\n",
       "    </tr>\n",
       "    <tr>\n",
       "      <th>OPO6_P8748</th>\n",
       "      <td>NaN</td>\n",
       "      <td>NaN</td>\n",
       "      <td>NaN</td>\n",
       "      <td>NaN</td>\n",
       "      <td>NaN</td>\n",
       "      <td>NaN</td>\n",
       "      <td>NaT</td>\n",
       "      <td>NaT</td>\n",
       "    </tr>\n",
       "    <tr>\n",
       "      <th>OPO6_P5461</th>\n",
       "      <td>NaN</td>\n",
       "      <td>NaN</td>\n",
       "      <td>NaN</td>\n",
       "      <td>NaN</td>\n",
       "      <td>NaN</td>\n",
       "      <td>NaN</td>\n",
       "      <td>NaT</td>\n",
       "      <td>NaT</td>\n",
       "    </tr>\n",
       "    <tr>\n",
       "      <th>OPO6_P942291</th>\n",
       "      <td>NaN</td>\n",
       "      <td>NaN</td>\n",
       "      <td>NaN</td>\n",
       "      <td>NaN</td>\n",
       "      <td>NaN</td>\n",
       "      <td>NaN</td>\n",
       "      <td>NaT</td>\n",
       "      <td>NaT</td>\n",
       "    </tr>\n",
       "  </tbody>\n",
       "</table>\n",
       "<p>133101 rows × 8 columns</p>\n",
       "</div>"
      ],
      "text/plain": [
       "              age gender race causeofdeath mechanism_of_death  brain_death  \\\n",
       "PatientID                                                                    \n",
       "OPO1_P155959  NaN    NaN  NaN          NaN                NaN          NaN   \n",
       "OPO1_P297347  NaN    NaN  NaN          NaN                NaN          NaN   \n",
       "OPO1_P399316  NaN    NaN  NaN          NaN                NaN          NaN   \n",
       "OPO1_P246407  NaN    NaN  NaN          NaN                NaN          NaN   \n",
       "OPO1_P187209  NaN    NaN  NaN          NaN                NaN          NaN   \n",
       "...           ...    ...  ...          ...                ...          ...   \n",
       "OPO6_P54946   NaN    NaN  NaN          NaN                NaN          NaN   \n",
       "OPO6_P630991  NaN    NaN  NaN          NaN                NaN          NaN   \n",
       "OPO6_P8748    NaN    NaN  NaN          NaN                NaN          NaN   \n",
       "OPO6_P5461    NaN    NaN  NaN          NaN                NaN          NaN   \n",
       "OPO6_P942291  NaN    NaN  NaN          NaN                NaN          NaN   \n",
       "\n",
       "             time_asystole time_brain_death  \n",
       "PatientID                                    \n",
       "OPO1_P155959           NaT              NaT  \n",
       "OPO1_P297347           NaT              NaT  \n",
       "OPO1_P399316           NaT              NaT  \n",
       "OPO1_P246407           NaT              NaT  \n",
       "OPO1_P187209           NaT              NaT  \n",
       "...                    ...              ...  \n",
       "OPO6_P54946            NaT              NaT  \n",
       "OPO6_P630991           NaT              NaT  \n",
       "OPO6_P8748             NaT              NaT  \n",
       "OPO6_P5461             NaT              NaT  \n",
       "OPO6_P942291           NaT              NaT  \n",
       "\n",
       "[133101 rows x 8 columns]"
      ]
     },
     "execution_count": 15,
     "metadata": {},
     "output_type": "execute_result"
   }
   ],
   "source": [
    "#21 What percentage of all procurements are actually transplanted?\n",
    "\n",
     "#Creating sub dataframe \n",
    "subdf_donor_details=df_donor_details['PatientID']\n",
    "column_name=['age','gender','race','causeofdeath','mechanism_of_death','brain_death','time_asystole','time_brain_death']\n",
    "subdf_donor_details\n",
    "s1=pd.DataFrame(data=df_donor_details,index=subdf_donor_details,columns=column_name)\n",
    "s1"
   ]
  },
  {
   "cell_type": "markdown",
   "id": "2204782f-c127-49b5-abd7-e46776821055",
   "metadata": {},
   "source": [
    "8.Create a dictionary with the Age and Cause of Death for any 5 random donors.\n",
    " Access any one cause of death using the donors age using the get() function"
   ]
  },
  {
   "cell_type": "code",
   "execution_count": 17,
   "id": "58f093c5-d24f-46de-9953-164d43ebe98f",

   "metadata": {},
   "outputs": [
    {
     "name": "stdout",
     "output_type": "stream",
     "text": [
      "Number of referrals in 2018: 19175\n"
     ]
    }
   ],
   "source": [
 "#8.Create a dictionary with the Age and Cause of Death for any 5 random donors.\n",
    " #Access any one cause of death using the donors age using the get() function\n",
    "\n",
    "dic={\n",
    "    \"PatientID\":['OPO1_P155959','OPO1_P297347','OPO1_P399316','OPO1_P246407','OPO1_P187209'],\n",
    "    \"age\":[54,78,57,78,70],\n",
    "    \"causeofdeath\":['Unknown','Unknown','Anoxia','cerebrovascular accident','Unknown']\n",
    "}\n",
    "print(dic)\n"

   ]
  },
  {
   "cell_type": "code",
    "execution_count": 18,
   "id": "b969e080-491e-4115-94ea-cc0a01b23ea0",
 "metadata": {},
   "outputs": [
    {
     "name": "stdout",
     "output_type": "stream",
     "text": [
      "Hospital with the lowest rate of procured but not transplanted lungs:\n",
      "lungs_procured                         1.0\n",
      "lungs_transplanted                     1.0\n",
      "lungs_procured_but_not_transplanted    0.0\n",
      "procured_but_not_transplanted_rate     0.0\n",
      "Name: OPO1_H15524, dtype: float64\n"
     ]
    }
   ],
   "source": [
 "#24 Which hospital had the lowest rate of lung transplants? Procured but not transplanted\n",
    "\n",
    "# Merging  dataframes \n",
    "df_merged = pd.merge(dataframe_outcomes,opo_hospdetails,on='PatientID',how='inner')\n",
    "\n",
    "df_merged['lung_left_transplanted'] = df_merged['outcome_lung_left'].notna()\n",
    "df_merged['lung_right_transplanted'] = df_merged['outcome_lung_right'].notna()\n",
    "\n",
    "# Mark rows where either the left or right lung is transplanted\n",
    "df_merged['lung_transplanted'] = df_merged['lung_left_transplanted'] | df_merged['lung_right_transplanted']\n",
    "\n",
    "# Count how many lungs were procured but not transplanted (group by hospital)\n",
    "# A lung is considered procured but not transplanted if it's not transplanted \n",
    "hospital_summary = df_merged.groupby('HospitalID').agg(\n",
    "    lungs_procured=('PatientID', 'count'),  # Total lungs procured (i.e., total rows per hospital)\n",
    "    lungs_transplanted=('lung_transplanted', 'sum')  # Total number of transplanted lungs\n",
    ")\n",
    "\n",
    "# Calculate the number of lungs procured but not transplanted\n",
    "hospital_summary['lungs_procured_but_not_transplanted'] = hospital_summary['lungs_procured'] - hospital_summary['lungs_transplanted']\n",
    "\n",
    "# Calculate the rate of procured but not transplanted lungs\n",
    "hospital_summary['procured_but_not_transplanted_rate'] = hospital_summary['lungs_procured_but_not_transplanted'] / hospital_summary['lungs_procured']\n",
    "\n",
    "# Identify the hospital with the lowest rate\n",
    "lowest_rate_hospital = hospital_summary.loc[hospital_summary['procured_but_not_transplanted_rate'].idxmin()]\n",
    "\n",
    "# Display the hospital with the lowest procured but not transplanted rate\n",
    "print(\"Hospital with the lowest rate of procured but not transplanted lungs:\")\n",
    "print(lowest_rate_hospital)\n",
    "\n"
   ]
  },
  {
   "cell_type": "code",
   "execution_count": 148,
   "id": "7953d365-eedb-4520-8602-796f5959138e",
   "metadata": {},
   "outputs": [
    {
     "name": "stdout",
     "output_type": "stream",
     "text": [
      "        brain_death    time_brain_death       time_asystole       time_diff\n",
      "114               1 2034-07-14 18:07:00 2034-07-15 14:15:00 0 days 20:08:00\n",
      "135               1 2037-01-07 11:45:00 2037-01-08 08:20:00 0 days 20:35:00\n",
      "154               1 2035-01-04 15:59:00 2035-01-04 23:36:00 0 days 07:37:00\n",
      "159               1 2033-10-30 09:00:00 2033-10-30 18:15:00 0 days 09:15:00\n",
      "239               1 2037-09-06 18:35:00 2037-09-09 15:44:00 2 days 21:09:00\n",
      "...             ...                 ...                 ...             ...\n",
      "129973            1 2033-06-07 19:20:00 2033-06-10 00:13:00 2 days 04:53:00\n",
      "130627            1 2034-01-21 16:02:00 2034-01-21 16:02:00 0 days 00:00:00\n",
      "131195            1 2031-05-14 21:01:00 2031-05-14 23:00:00 0 days 01:59:00\n",
      "131656            1 2033-04-12 15:07:00 2033-04-13 06:45:00 0 days 15:38:00\n",
      "132866            1 2032-05-15 16:47:00 2032-05-15 16:47:00 0 days 00:00:00\n",
      "\n",
      "[3521 rows x 4 columns]\n"
     ]
    }
   ],
   "source": [
    "#25 In donors where brain death occurred, what was the time difference between brain death and asystole?\n",
    " \n",
    "# handling invalid formats\n",
    "df_donardetails['time_brain_death'] = pd.to_datetime(df_donardetails['time_brain_death'], errors='coerce')\n",
    "df_donardetails['time_asystole'] = pd.to_datetime(df_donardetails['time_asystole'], errors='coerce')\n",
    "\n",
    "# Dropping rows where 'time_asystole' or 'time_brain_death' is missing\n",
    "df_donardetails = df_donardetails.dropna(subset=['time_asystole', 'time_brain_death'])\n",
    "\n",
    "# Calculate the time difference\n",
    "df_donardetails['time_diff'] = df_donardetails.apply(\n",
    "    lambda row: row['time_asystole'] - row['time_brain_death'] if row['brain_death'] else pd.NaT,\n",
    "    axis=1\n",
    ")\n",
    "# Output the result\n",
    "print(df_donardetails[['brain_death', 'time_brain_death', 'time_asystole', 'time_diff']])\n"
   ]
  },
  {
   "cell_type": "code",
   "execution_count": 149,
   "id": "f8786174-958f-4fd7-8ac6-c1597138d326",
   "metadata": {},
   "outputs": [
    {
     "name": "stdout",
     "output_type": "stream",
     "text": [
      "The OPO with the highest calculated deaths in 2015 is OPO4 with 3074.575 deaths.\n"
     ]
    }
   ],
   "source": [
    "#26 Which OPO recorded the highest calculated deaths in the year 2015?\n",
    "\n",
    "# Filter the data for the year 2015\n",
    "df_2015 = df_yearlyoutcomes [df_yearlyoutcomes ['Year'] == 2015]\n",
    "\n",
    "# Find the OPO with the highest number of recorded deaths\n",
    "highest_deaths = df_2015.loc[df_2015['mean calc deaths'].idxmax()]\n",
    "\n",
    "# Output the OPO with the highest recorded deaths in 2015\n",
    "print(f\"The OPO with the highest calculated deaths in 2015 is {highest_deaths['OPO']} with {highest_deaths['mean calc deaths']} deaths.\")"
   ]
  },
  {
   "cell_type": "code",
   "execution_count": 150,
   "id": "04117169-3af8-4846-8535-b8945b5f1cdf",
   "metadata": {},
   "outputs": [
    {
     "name": "stdout",
     "output_type": "stream",
     "text": [
      "outcome_status            Recovered for Research  \\\n",
      "organ_based_outcome_type                           \n",
      "outcome_heart                                682   \n",
      "outcome_intestine                            279   \n",
      "outcome_kidney_left                          466   \n",
      "outcome_kidney_right                         459   \n",
      "outcome_liver                                533   \n",
      "outcome_lung_left                           1182   \n",
      "outcome_lung_right                          1246   \n",
      "outcome_pancreas                             627   \n",
      "\n",
      "outcome_status            Recovered for Transplant but not Transplanted  \\\n",
      "organ_based_outcome_type                                                  \n",
      "outcome_heart                                                        21   \n",
      "outcome_intestine                                                     4   \n",
      "outcome_kidney_left                                                1252   \n",
      "outcome_kidney_right                                               1300   \n",
      "outcome_liver                                                       355   \n",
      "outcome_lung_left                                                    79   \n",
      "outcome_lung_right                                                   74   \n",
      "outcome_pancreas                                                    160   \n",
      "\n",
      "outcome_status            Transplanted  \n",
      "organ_based_outcome_type                \n",
      "outcome_heart                     2987  \n",
      "outcome_intestine                   85  \n",
      "outcome_kidney_left               7084  \n",
      "outcome_kidney_right              7052  \n",
      "outcome_liver                     7014  \n",
      "outcome_lung_left                 2146  \n",
      "outcome_lung_right                2127  \n",
      "outcome_pancreas                   892  \n"
     ]
    }
   ],
   "source": [
    "#27 Create a pivot table shows organ-based outcome type as rows and outcome statuses as columns\n",
    "\n",
    "# Melt the DataFrame to long format\n",
    "df_pivot_data = pd.melt(dataframe_outcomes, id_vars=['PatientID'], value_vars=['outcome_heart', 'outcome_liver', 'outcome_kidney_left', \n",
    "                                                          'outcome_kidney_right', 'outcome_lung_left', 'outcome_lung_right', \n",
    "                                                          'outcome_intestine', 'outcome_pancreas'],\n",
    "                    var_name='organ_based_outcome_type', value_name='outcome_status')\n",
    "\n",
    "# Create the pivot table\n",
    "pivot_table = pd.pivot_table(df_pivot_data, \n",
    "                             index='organ_based_outcome_type', \n",
    "                             columns='outcome_status', \n",
    "                             aggfunc='size', \n",
    "                             fill_value=0)\n",
    "\n",
    "# Display the pivot table\n",
    "print(pivot_table)\n",
    "\n"
   ]
  },
  {
   "cell_type": "code",
   "execution_count": 151,
   "id": "34e8031e-e375-4a1c-bd83-6d99c915b9a2",
   "metadata": {},
   "outputs": [
    {
     "name": "stdout",
     "output_type": "stream",
     "text": [
      "     OPO  Year  mean calc deaths\n",
      "30  OPO1  2015           2852.69\n",
      "31  OPO1  2016           2954.13\n",
      "32  OPO1  2017           3112.34\n",
      "33  OPO1  2018           3019.04\n",
      "34  OPO1  2019           3148.80\n",
      "35  OPO1  2020           3236.50\n"
     ]
    }
   ],
   "source": [
    "#29 How many deaths were registered with OPO 1? List them by year.\n",
    "\n",
    "#Check for OPO1\n",
    "df_OPO1 =  df_yearlyoutcomes[df_yearlyoutcomes['OPO'] == 'OPO1']\n",
    "print(df_OPO1)\n"
   ]
  },
  {
   "cell_type": "code",
   "execution_count": 152,
   "id": "469faedc-a9a2-479a-a42e-2faadbf173f6",
   "metadata": {},
   "outputs": [
    {
     "name": "stdout",
     "output_type": "stream",
     "text": [
      "Number of donors with a successful transplant who died of a seizure: 3\n"
     ]
    }
   ],
   "source": [
    "#31 How many donors with a successful transplant died of a seizure?\n",
    "\n",
    "# Merge dataframe_donardetails and dataframe_referraldetails \n",
    "merged_data = pd.merge(dataframe_donardetails, dataframe_referraldetails, on='PatientID', how='inner')\n",
    "\n",
    "#Filter the merged DataFrame for successful transplants and cause of death 'Seizure'\n",
    "successful_donors = merged_data[(merged_data['causeofdeath'] == 'Seizure') & (merged_data['transplanted'] == 1)]\n",
    "\n",
    "# Count how many donors died of seizures after a successful transplant\n",
    "num_donors_with_seizure = successful_donors.shape[0]\n",
    "\n",
    "# Output the result\n",
    "print(f\"Number of donors with a successful transplant who died of a seizure: {num_donors_with_seizure}\")\n",
    "\n"
   ]
  },
  {
   "cell_type": "code",
   "execution_count": 156,
   "id": "81b2eb10-3f63-46bd-a80d-8ab7687314a0",
   "metadata": {},
   "outputs": [
    {
     "data": {
      "application/vnd.plotly.v1+json": {
       "config": {
        "plotlyServerURL": "https://plot.ly"
       },
       "data": [
        {
         "branchvalues": "total",
         "domain": {
          "x": [
           0,
           1
          ],
          "y": [
           0,
           1
          ]
         },
         "hovertemplate": "labels=%{label}<br>count=%{value}<br>parent=%{parent}<br>id=%{id}<extra></extra>",
         "ids": [
          "18.0/Black/Recovered for Research",
          "19.0/Black/Recovered for Research",
          "22.0/Black/Recovered for Research",
          "24.0/Black/Recovered for Research",
          "25.0/Black/Recovered for Research",
          "29.0/Black/Recovered for Research",
          "30.0/Black/Recovered for Research",
          "32.0/Black/Recovered for Research",
          "34.0/Black/Recovered for Research",
          "35.0/Black/Recovered for Research",
          "36.0/Black/Recovered for Research",
          "37.0/Black/Recovered for Research",
          "39.0/Black/Recovered for Research",
          "40.0/Black/Recovered for Research",
          "41.0/Black/Recovered for Research",
          "42.0/Black/Recovered for Research",
          "44.0/Black/Recovered for Research",
          "45.0/Black/Recovered for Research",
          "46.0/Black/Recovered for Research",
          "47.0/Black/Recovered for Research",
          "49.0/Black/Recovered for Research",
          "50.0/Black/Recovered for Research",
          "52.0/Black/Recovered for Research",
          "53.0/Black/Recovered for Research",
          "54.0/Black/Recovered for Research",
          "55.0/Black/Recovered for Research",
          "56.0/Black/Recovered for Research",
          "57.0/Black/Recovered for Research",
          "58.0/Black/Recovered for Research",
          "59.0/Black/Recovered for Research",
          "60.0/Black/Recovered for Research",
          "62.0/Black/Recovered for Research",
          "63.0/Black/Recovered for Research",
          "64.0/Black/Recovered for Research",
          "65.0/Black/Recovered for Research",
          "68.0/Black/Recovered for Research",
          "71.0/Black/Recovered for Research",
          "78.0/Black/Recovered for Research",
          "79.0/Black/Recovered for Research",
          "25.0/Hispanic/Recovered for Research",
          "40.0/Hispanic/Recovered for Research",
          "69.0/Hispanic/Recovered for Research",
          "38.0/Other/Recovered for Research",
          "44.0/Other/Recovered for Research",
          "58.0/Other/Recovered for Research",
          "64.0/Other/Recovered for Research",
          "68.0/Other/Recovered for Research",
          "17.0/White/Recovered for Research",
          "19.0/White/Recovered for Research",
          "20.0/White/Recovered for Research",
          "21.0/White/Recovered for Research",
          "23.0/White/Recovered for Research",
          "24.0/White/Recovered for Research",
          "25.0/White/Recovered for Research",
          "26.0/White/Recovered for Research",
          "27.0/White/Recovered for Research",
          "28.0/White/Recovered for Research",
          "29.0/White/Recovered for Research",
          "30.0/White/Recovered for Research",
          "31.0/White/Recovered for Research",
          "32.0/White/Recovered for Research",
          "33.0/White/Recovered for Research",
          "34.0/White/Recovered for Research",
          "35.0/White/Recovered for Research",
          "36.0/White/Recovered for Research",
          "37.0/White/Recovered for Research",
          "38.0/White/Recovered for Research",
          "39.0/White/Recovered for Research",
          "40.0/White/Recovered for Research",
          "41.0/White/Recovered for Research",
          "42.0/White/Recovered for Research",
          "43.0/White/Recovered for Research",
          "44.0/White/Recovered for Research",
          "45.0/White/Recovered for Research",
          "46.0/White/Recovered for Research",
          "47.0/White/Recovered for Research",
          "48.0/White/Recovered for Research",
          "49.0/White/Recovered for Research",
          "50.0/White/Recovered for Research",
          "51.0/White/Recovered for Research",
          "52.0/White/Recovered for Research",
          "53.0/White/Recovered for Research",
          "54.0/White/Recovered for Research",
          "55.0/White/Recovered for Research",
          "56.0/White/Recovered for Research",
          "57.0/White/Recovered for Research",
          "58.0/White/Recovered for Research",
          "59.0/White/Recovered for Research",
          "60.0/White/Recovered for Research",
          "61.0/White/Recovered for Research",
          "62.0/White/Recovered for Research",
          "63.0/White/Recovered for Research",
          "64.0/White/Recovered for Research",
          "65.0/White/Recovered for Research",
          "66.0/White/Recovered for Research",
          "67.0/White/Recovered for Research",
          "68.0/White/Recovered for Research",
          "69.0/White/Recovered for Research",
          "70.0/White/Recovered for Research",
          "71.0/White/Recovered for Research",
          "72.0/White/Recovered for Research",
          "74.0/White/Recovered for Research",
          "75.0/White/Recovered for Research",
          "18.0/White/Recovered for Transplant but not Transplanted",
          "2.0/Black/Transplanted",
          "3.0/Black/Transplanted",
          "4.0/Black/Transplanted",
          "6.0/Black/Transplanted",
          "8.0/Black/Transplanted",
          "9.0/Black/Transplanted",
          "12.0/Black/Transplanted",
          "13.0/Black/Transplanted",
          "14.0/Black/Transplanted",
          "15.0/Black/Transplanted",
          "16.0/Black/Transplanted",
          "17.0/Black/Transplanted",
          "18.0/Black/Transplanted",
          "19.0/Black/Transplanted",
          "20.0/Black/Transplanted",
          "21.0/Black/Transplanted",
          "22.0/Black/Transplanted",
          "23.0/Black/Transplanted",
          "24.0/Black/Transplanted",
          "25.0/Black/Transplanted",
          "26.0/Black/Transplanted",
          "27.0/Black/Transplanted",
          "28.0/Black/Transplanted",
          "29.0/Black/Transplanted",
          "30.0/Black/Transplanted",
          "31.0/Black/Transplanted",
          "32.0/Black/Transplanted",
          "33.0/Black/Transplanted",
          "34.0/Black/Transplanted",
          "35.0/Black/Transplanted",
          "36.0/Black/Transplanted",
          "37.0/Black/Transplanted",
          "38.0/Black/Transplanted",
          "39.0/Black/Transplanted",
          "40.0/Black/Transplanted",
          "41.0/Black/Transplanted",
          "42.0/Black/Transplanted",
          "43.0/Black/Transplanted",
          "45.0/Black/Transplanted",
          "48.0/Black/Transplanted",
          "51.0/Black/Transplanted",
          "14.0/Hispanic/Transplanted",
          "16.0/Hispanic/Transplanted",
          "18.0/Hispanic/Transplanted",
          "19.0/Hispanic/Transplanted",
          "21.0/Hispanic/Transplanted",
          "22.0/Hispanic/Transplanted",
          "23.0/Hispanic/Transplanted",
          "24.0/Hispanic/Transplanted",
          "25.0/Hispanic/Transplanted",
          "27.0/Hispanic/Transplanted",
          "28.0/Hispanic/Transplanted",
          "30.0/Hispanic/Transplanted",
          "31.0/Hispanic/Transplanted",
          "32.0/Hispanic/Transplanted",
          "35.0/Hispanic/Transplanted",
          "36.0/Hispanic/Transplanted",
          "39.0/Hispanic/Transplanted",
          "42.0/Hispanic/Transplanted",
          "43.0/Hispanic/Transplanted",
          "49.0/Hispanic/Transplanted",
          "2.0/Other/Transplanted",
          "22.0/Other/Transplanted",
          "25.0/Other/Transplanted",
          "26.0/Other/Transplanted",
          "27.0/Other/Transplanted",
          "28.0/Other/Transplanted",
          "30.0/Other/Transplanted",
          "35.0/Other/Transplanted",
          "38.0/Other/Transplanted",
          "43.0/Other/Transplanted",
          "1.0/White/Transplanted",
          "2.0/White/Transplanted",
          "3.0/White/Transplanted",
          "5.0/White/Transplanted",
          "6.0/White/Transplanted",
          "9.0/White/Transplanted",
          "10.0/White/Transplanted",
          "11.0/White/Transplanted",
          "12.0/White/Transplanted",
          "13.0/White/Transplanted",
          "14.0/White/Transplanted",
          "15.0/White/Transplanted",
          "16.0/White/Transplanted",
          "17.0/White/Transplanted",
          "18.0/White/Transplanted",
          "19.0/White/Transplanted",
          "20.0/White/Transplanted",
          "21.0/White/Transplanted",
          "22.0/White/Transplanted",
          "23.0/White/Transplanted",
          "24.0/White/Transplanted",
          "25.0/White/Transplanted",
          "26.0/White/Transplanted",
          "27.0/White/Transplanted",
          "28.0/White/Transplanted",
          "29.0/White/Transplanted",
          "30.0/White/Transplanted",
          "31.0/White/Transplanted",
          "32.0/White/Transplanted",
          "33.0/White/Transplanted",
          "34.0/White/Transplanted",
          "35.0/White/Transplanted",
          "36.0/White/Transplanted",
          "37.0/White/Transplanted",
          "38.0/White/Transplanted",
          "39.0/White/Transplanted",
          "40.0/White/Transplanted",
          "41.0/White/Transplanted",
          "42.0/White/Transplanted",
          "43.0/White/Transplanted",
          "44.0/White/Transplanted",
          "45.0/White/Transplanted",
          "46.0/White/Transplanted",
          "47.0/White/Transplanted",
          "48.0/White/Transplanted",
          "51.0/White/Transplanted",
          "52.0/White/Transplanted",
          "53.0/White/Transplanted",
          "54.0/White/Transplanted",
          "55.0/White/Transplanted",
          "2.0/Black",
          "3.0/Black",
          "4.0/Black",
          "6.0/Black",
          "8.0/Black",
          "9.0/Black",
          "12.0/Black",
          "13.0/Black",
          "14.0/Black",
          "15.0/Black",
          "16.0/Black",
          "17.0/Black",
          "18.0/Black",
          "19.0/Black",
          "20.0/Black",
          "21.0/Black",
          "22.0/Black",
          "23.0/Black",
          "24.0/Black",
          "25.0/Black",
          "26.0/Black",
          "27.0/Black",
          "28.0/Black",
          "29.0/Black",
          "30.0/Black",
          "31.0/Black",
          "32.0/Black",
          "33.0/Black",
          "34.0/Black",
          "35.0/Black",
          "36.0/Black",
          "37.0/Black",
          "38.0/Black",
          "39.0/Black",
          "40.0/Black",
          "41.0/Black",
          "42.0/Black",
          "43.0/Black",
          "44.0/Black",
          "45.0/Black",
          "46.0/Black",
          "47.0/Black",
          "48.0/Black",
          "49.0/Black",
          "50.0/Black",
          "51.0/Black",
          "52.0/Black",
          "53.0/Black",
          "54.0/Black",
          "55.0/Black",
          "56.0/Black",
          "57.0/Black",
          "58.0/Black",
          "59.0/Black",
          "60.0/Black",
          "62.0/Black",
          "63.0/Black",
          "64.0/Black",
          "65.0/Black",
          "68.0/Black",
          "71.0/Black",
          "78.0/Black",
          "79.0/Black",
          "14.0/Hispanic",
          "16.0/Hispanic",
          "18.0/Hispanic",
          "19.0/Hispanic",
          "21.0/Hispanic",
          "22.0/Hispanic",
          "23.0/Hispanic",
          "24.0/Hispanic",
          "25.0/Hispanic",
          "27.0/Hispanic",
          "28.0/Hispanic",
          "30.0/Hispanic",
          "31.0/Hispanic",
          "32.0/Hispanic",
          "35.0/Hispanic",
          "36.0/Hispanic",
          "39.0/Hispanic",
          "40.0/Hispanic",
          "42.0/Hispanic",
          "43.0/Hispanic",
          "49.0/Hispanic",
          "69.0/Hispanic",
          "2.0/Other",
          "22.0/Other",
          "25.0/Other",
          "26.0/Other",
          "27.0/Other",
          "28.0/Other",
          "30.0/Other",
          "35.0/Other",
          "38.0/Other",
          "43.0/Other",
          "44.0/Other",
          "58.0/Other",
          "64.0/Other",
          "68.0/Other",
          "1.0/White",
          "2.0/White",
          "3.0/White",
          "5.0/White",
          "6.0/White",
          "9.0/White",
          "10.0/White",
          "11.0/White",
          "12.0/White",
          "13.0/White",
          "14.0/White",
          "15.0/White",
          "16.0/White",
          "17.0/White",
          "18.0/White",
          "19.0/White",
          "20.0/White",
          "21.0/White",
          "22.0/White",
          "23.0/White",
          "24.0/White",
          "25.0/White",
          "26.0/White",
          "27.0/White",
          "28.0/White",
          "29.0/White",
          "30.0/White",
          "31.0/White",
          "32.0/White",
          "33.0/White",
          "34.0/White",
          "35.0/White",
          "36.0/White",
          "37.0/White",
          "38.0/White",
          "39.0/White",
          "40.0/White",
          "41.0/White",
          "42.0/White",
          "43.0/White",
          "44.0/White",
          "45.0/White",
          "46.0/White",
          "47.0/White",
          "48.0/White",
          "49.0/White",
          "50.0/White",
          "51.0/White",
          "52.0/White",
          "53.0/White",
          "54.0/White",
          "55.0/White",
          "56.0/White",
          "57.0/White",
          "58.0/White",
          "59.0/White",
          "60.0/White",
          "61.0/White",
          "62.0/White",
          "63.0/White",
          "64.0/White",
          "65.0/White",
          "66.0/White",
          "67.0/White",
          "68.0/White",
          "69.0/White",
          "70.0/White",
          "71.0/White",
          "72.0/White",
          "74.0/White",
          "75.0/White",
          "1.0",
          "2.0",
          "3.0",
          "4.0",
          "5.0",
          "6.0",
          "8.0",
          "9.0",
          "10.0",
          "11.0",
          "12.0",
          "13.0",
          "14.0",
          "15.0",
          "16.0",
          "17.0",
          "18.0",
          "19.0",
          "20.0",
          "21.0",
          "22.0",
          "23.0",
          "24.0",
          "25.0",
          "26.0",
          "27.0",
          "28.0",
          "29.0",
          "30.0",
          "31.0",
          "32.0",
          "33.0",
          "34.0",
          "35.0",
          "36.0",
          "37.0",
          "38.0",
          "39.0",
          "40.0",
          "41.0",
          "42.0",
          "43.0",
          "44.0",
          "45.0",
          "46.0",
          "47.0",
          "48.0",
          "49.0",
          "50.0",
          "51.0",
          "52.0",
          "53.0",
          "54.0",
          "55.0",
          "56.0",
          "57.0",
          "58.0",
          "59.0",
          "60.0",
          "61.0",
          "62.0",
          "63.0",
          "64.0",
          "65.0",
          "66.0",
          "67.0",
          "68.0",
          "69.0",
          "70.0",
          "71.0",
          "72.0",
          "74.0",
          "75.0",
          "78.0",
          "79.0"
         ],
         "labels": [
          "Recovered for Research",
          "Recovered for Research",
          "Recovered for Research",
          "Recovered for Research",
          "Recovered for Research",
          "Recovered for Research",
          "Recovered for Research",
          "Recovered for Research",
          "Recovered for Research",
          "Recovered for Research",
          "Recovered for Research",
          "Recovered for Research",
          "Recovered for Research",
          "Recovered for Research",
          "Recovered for Research",
          "Recovered for Research",
          "Recovered for Research",
          "Recovered for Research",
          "Recovered for Research",
          "Recovered for Research",
          "Recovered for Research",
          "Recovered for Research",
          "Recovered for Research",
          "Recovered for Research",
          "Recovered for Research",
          "Recovered for Research",
          "Recovered for Research",
          "Recovered for Research",
          "Recovered for Research",
          "Recovered for Research",
          "Recovered for Research",
          "Recovered for Research",
          "Recovered for Research",
          "Recovered for Research",
          "Recovered for Research",
          "Recovered for Research",
          "Recovered for Research",
          "Recovered for Research",
          "Recovered for Research",
          "Recovered for Research",
          "Recovered for Research",
          "Recovered for Research",
          "Recovered for Research",
          "Recovered for Research",
          "Recovered for Research",
          "Recovered for Research",
          "Recovered for Research",
          "Recovered for Research",
          "Recovered for Research",
          "Recovered for Research",
          "Recovered for Research",
          "Recovered for Research",
          "Recovered for Research",
          "Recovered for Research",
          "Recovered for Research",
          "Recovered for Research",
          "Recovered for Research",
          "Recovered for Research",
          "Recovered for Research",
          "Recovered for Research",
          "Recovered for Research",
          "Recovered for Research",
          "Recovered for Research",
          "Recovered for Research",
          "Recovered for Research",
          "Recovered for Research",
          "Recovered for Research",
          "Recovered for Research",
          "Recovered for Research",
          "Recovered for Research",
          "Recovered for Research",
          "Recovered for Research",
          "Recovered for Research",
          "Recovered for Research",
          "Recovered for Research",
          "Recovered for Research",
          "Recovered for Research",
          "Recovered for Research",
          "Recovered for Research",
          "Recovered for Research",
          "Recovered for Research",
          "Recovered for Research",
          "Recovered for Research",
          "Recovered for Research",
          "Recovered for Research",
          "Recovered for Research",
          "Recovered for Research",
          "Recovered for Research",
          "Recovered for Research",
          "Recovered for Research",
          "Recovered for Research",
          "Recovered for Research",
          "Recovered for Research",
          "Recovered for Research",
          "Recovered for Research",
          "Recovered for Research",
          "Recovered for Research",
          "Recovered for Research",
          "Recovered for Research",
          "Recovered for Research",
          "Recovered for Research",
          "Recovered for Research",
          "Recovered for Research",
          "Recovered for Transplant but not Transplanted",
          "Transplanted",
          "Transplanted",
          "Transplanted",
          "Transplanted",
          "Transplanted",
          "Transplanted",
          "Transplanted",
          "Transplanted",
          "Transplanted",
          "Transplanted",
          "Transplanted",
          "Transplanted",
          "Transplanted",
          "Transplanted",
          "Transplanted",
          "Transplanted",
          "Transplanted",
          "Transplanted",
          "Transplanted",
          "Transplanted",
          "Transplanted",
          "Transplanted",
          "Transplanted",
          "Transplanted",
          "Transplanted",
          "Transplanted",
          "Transplanted",
          "Transplanted",
          "Transplanted",
          "Transplanted",
          "Transplanted",
          "Transplanted",
          "Transplanted",
          "Transplanted",
          "Transplanted",
          "Transplanted",
          "Transplanted",
          "Transplanted",
          "Transplanted",
          "Transplanted",
          "Transplanted",
          "Transplanted",
          "Transplanted",
          "Transplanted",
          "Transplanted",
          "Transplanted",
          "Transplanted",
          "Transplanted",
          "Transplanted",
          "Transplanted",
          "Transplanted",
          "Transplanted",
          "Transplanted",
          "Transplanted",
          "Transplanted",
          "Transplanted",
          "Transplanted",
          "Transplanted",
          "Transplanted",
          "Transplanted",
          "Transplanted",
          "Transplanted",
          "Transplanted",
          "Transplanted",
          "Transplanted",
          "Transplanted",
          "Transplanted",
          "Transplanted",
          "Transplanted",
          "Transplanted",
          "Transplanted",
          "Transplanted",
          "Transplanted",
          "Transplanted",
          "Transplanted",
          "Transplanted",
          "Transplanted",
          "Transplanted",
          "Transplanted",
          "Transplanted",
          "Transplanted",
          "Transplanted",
          "Transplanted",
          "Transplanted",
          "Transplanted",
          "Transplanted",
          "Transplanted",
          "Transplanted",
          "Transplanted",
          "Transplanted",
          "Transplanted",
          "Transplanted",
          "Transplanted",
          "Transplanted",
          "Transplanted",
          "Transplanted",
          "Transplanted",
          "Transplanted",
          "Transplanted",
          "Transplanted",
          "Transplanted",
          "Transplanted",
          "Transplanted",
          "Transplanted",
          "Transplanted",
          "Transplanted",
          "Transplanted",
          "Transplanted",
          "Transplanted",
          "Transplanted",
          "Transplanted",
          "Transplanted",
          "Transplanted",
          "Transplanted",
          "Transplanted",
          "Transplanted",
          "Transplanted",
          "Transplanted",
          "Transplanted",
          "Transplanted",
          "Transplanted",
          "Black",
          "Black",
          "Black",
          "Black",
          "Black",
          "Black",
          "Black",
          "Black",
          "Black",
          "Black",
          "Black",
          "Black",
          "Black",
          "Black",
          "Black",
          "Black",
          "Black",
          "Black",
          "Black",
          "Black",
          "Black",
          "Black",
          "Black",
          "Black",
          "Black",
          "Black",
          "Black",
          "Black",
          "Black",
          "Black",
          "Black",
          "Black",
          "Black",
          "Black",
          "Black",
          "Black",
          "Black",
          "Black",
          "Black",
          "Black",
          "Black",
          "Black",
          "Black",
          "Black",
          "Black",
          "Black",
          "Black",
          "Black",
          "Black",
          "Black",
          "Black",
          "Black",
          "Black",
          "Black",
          "Black",
          "Black",
          "Black",
          "Black",
          "Black",
          "Black",
          "Black",
          "Black",
          "Black",
          "Hispanic",
          "Hispanic",
          "Hispanic",
          "Hispanic",
          "Hispanic",
          "Hispanic",
          "Hispanic",
          "Hispanic",
          "Hispanic",
          "Hispanic",
          "Hispanic",
          "Hispanic",
          "Hispanic",
          "Hispanic",
          "Hispanic",
          "Hispanic",
          "Hispanic",
          "Hispanic",
          "Hispanic",
          "Hispanic",
          "Hispanic",
          "Hispanic",
          "Other",
          "Other",
          "Other",
          "Other",
          "Other",
          "Other",
          "Other",
          "Other",
          "Other",
          "Other",
          "Other",
          "Other",
          "Other",
          "Other",
          "White",
          "White",
          "White",
          "White",
          "White",
          "White",
          "White",
          "White",
          "White",
          "White",
          "White",
          "White",
          "White",
          "White",
          "White",
          "White",
          "White",
          "White",
          "White",
          "White",
          "White",
          "White",
          "White",
          "White",
          "White",
          "White",
          "White",
          "White",
          "White",
          "White",
          "White",
          "White",
          "White",
          "White",
          "White",
          "White",
          "White",
          "White",
          "White",
          "White",
          "White",
          "White",
          "White",
          "White",
          "White",
          "White",
          "White",
          "White",
          "White",
          "White",
          "White",
          "White",
          "White",
          "White",
          "White",
          "White",
          "White",
          "White",
          "White",
          "White",
          "White",
          "White",
          "White",
          "White",
          "White",
          "White",
          "White",
          "White",
          "White",
          "White",
          "White",
          "1.0",
          "2.0",
          "3.0",
          "4.0",
          "5.0",
          "6.0",
          "8.0",
          "9.0",
          "10.0",
          "11.0",
          "12.0",
          "13.0",
          "14.0",
          "15.0",
          "16.0",
          "17.0",
          "18.0",
          "19.0",
          "20.0",
          "21.0",
          "22.0",
          "23.0",
          "24.0",
          "25.0",
          "26.0",
          "27.0",
          "28.0",
          "29.0",
          "30.0",
          "31.0",
          "32.0",
          "33.0",
          "34.0",
          "35.0",
          "36.0",
          "37.0",
          "38.0",
          "39.0",
          "40.0",
          "41.0",
          "42.0",
          "43.0",
          "44.0",
          "45.0",
          "46.0",
          "47.0",
          "48.0",
          "49.0",
          "50.0",
          "51.0",
          "52.0",
          "53.0",
          "54.0",
          "55.0",
          "56.0",
          "57.0",
          "58.0",
          "59.0",
          "60.0",
          "61.0",
          "62.0",
          "63.0",
          "64.0",
          "65.0",
          "66.0",
          "67.0",
          "68.0",
          "69.0",
          "70.0",
          "71.0",
          "72.0",
          "74.0",
          "75.0",
          "78.0",
          "79.0"
         ],
         "name": "",
         "parents": [
          "18.0/Black",
          "19.0/Black",
          "22.0/Black",
          "24.0/Black",
          "25.0/Black",
          "29.0/Black",
          "30.0/Black",
          "32.0/Black",
          "34.0/Black",
          "35.0/Black",
          "36.0/Black",
          "37.0/Black",
          "39.0/Black",
          "40.0/Black",
          "41.0/Black",
          "42.0/Black",
          "44.0/Black",
          "45.0/Black",
          "46.0/Black",
          "47.0/Black",
          "49.0/Black",
          "50.0/Black",
          "52.0/Black",
          "53.0/Black",
          "54.0/Black",
          "55.0/Black",
          "56.0/Black",
          "57.0/Black",
          "58.0/Black",
          "59.0/Black",
          "60.0/Black",
          "62.0/Black",
          "63.0/Black",
          "64.0/Black",
          "65.0/Black",
          "68.0/Black",
          "71.0/Black",
          "78.0/Black",
          "79.0/Black",
          "25.0/Hispanic",
          "40.0/Hispanic",
          "69.0/Hispanic",
          "38.0/Other",
          "44.0/Other",
          "58.0/Other",
          "64.0/Other",
          "68.0/Other",
          "17.0/White",
          "19.0/White",
          "20.0/White",
          "21.0/White",
          "23.0/White",
          "24.0/White",
          "25.0/White",
          "26.0/White",
          "27.0/White",
          "28.0/White",
          "29.0/White",
          "30.0/White",
          "31.0/White",
          "32.0/White",
          "33.0/White",
          "34.0/White",
          "35.0/White",
          "36.0/White",
          "37.0/White",
          "38.0/White",
          "39.0/White",
          "40.0/White",
          "41.0/White",
          "42.0/White",
          "43.0/White",
          "44.0/White",
          "45.0/White",
          "46.0/White",
          "47.0/White",
          "48.0/White",
          "49.0/White",
          "50.0/White",
          "51.0/White",
          "52.0/White",
          "53.0/White",
          "54.0/White",
          "55.0/White",
          "56.0/White",
          "57.0/White",
          "58.0/White",
          "59.0/White",
          "60.0/White",
          "61.0/White",
          "62.0/White",
          "63.0/White",
          "64.0/White",
          "65.0/White",
          "66.0/White",
          "67.0/White",
          "68.0/White",
          "69.0/White",
          "70.0/White",
          "71.0/White",
          "72.0/White",
          "74.0/White",
          "75.0/White",
          "18.0/White",
          "2.0/Black",
          "3.0/Black",
          "4.0/Black",
          "6.0/Black",
          "8.0/Black",
          "9.0/Black",
          "12.0/Black",
          "13.0/Black",
          "14.0/Black",
          "15.0/Black",
          "16.0/Black",
          "17.0/Black",
          "18.0/Black",
          "19.0/Black",
          "20.0/Black",
          "21.0/Black",
          "22.0/Black",
          "23.0/Black",
          "24.0/Black",
          "25.0/Black",
          "26.0/Black",
          "27.0/Black",
          "28.0/Black",
          "29.0/Black",
          "30.0/Black",
          "31.0/Black",
          "32.0/Black",
          "33.0/Black",
          "34.0/Black",
          "35.0/Black",
          "36.0/Black",
          "37.0/Black",
          "38.0/Black",
          "39.0/Black",
          "40.0/Black",
          "41.0/Black",
          "42.0/Black",
          "43.0/Black",
          "45.0/Black",
          "48.0/Black",
          "51.0/Black",
          "14.0/Hispanic",
          "16.0/Hispanic",
          "18.0/Hispanic",
          "19.0/Hispanic",
          "21.0/Hispanic",
          "22.0/Hispanic",
          "23.0/Hispanic",
          "24.0/Hispanic",
          "25.0/Hispanic",
          "27.0/Hispanic",
          "28.0/Hispanic",
          "30.0/Hispanic",
          "31.0/Hispanic",
          "32.0/Hispanic",
          "35.0/Hispanic",
          "36.0/Hispanic",
          "39.0/Hispanic",
          "42.0/Hispanic",
          "43.0/Hispanic",
          "49.0/Hispanic",
          "2.0/Other",
          "22.0/Other",
          "25.0/Other",
          "26.0/Other",
          "27.0/Other",
          "28.0/Other",
          "30.0/Other",
          "35.0/Other",
          "38.0/Other",
          "43.0/Other",
          "1.0/White",
          "2.0/White",
          "3.0/White",
          "5.0/White",
          "6.0/White",
          "9.0/White",
          "10.0/White",
          "11.0/White",
          "12.0/White",
          "13.0/White",
          "14.0/White",
          "15.0/White",
          "16.0/White",
          "17.0/White",
          "18.0/White",
          "19.0/White",
          "20.0/White",
          "21.0/White",
          "22.0/White",
          "23.0/White",
          "24.0/White",
          "25.0/White",
          "26.0/White",
          "27.0/White",
          "28.0/White",
          "29.0/White",
          "30.0/White",
          "31.0/White",
          "32.0/White",
          "33.0/White",
          "34.0/White",
          "35.0/White",
          "36.0/White",
          "37.0/White",
          "38.0/White",
          "39.0/White",
          "40.0/White",
          "41.0/White",
          "42.0/White",
          "43.0/White",
          "44.0/White",
          "45.0/White",
          "46.0/White",
          "47.0/White",
          "48.0/White",
          "51.0/White",
          "52.0/White",
          "53.0/White",
          "54.0/White",
          "55.0/White",
          "2.0",
          "3.0",
          "4.0",
          "6.0",
          "8.0",
          "9.0",
          "12.0",
          "13.0",
          "14.0",
          "15.0",
          "16.0",
          "17.0",
          "18.0",
          "19.0",
          "20.0",
          "21.0",
          "22.0",
          "23.0",
          "24.0",
          "25.0",
          "26.0",
          "27.0",
          "28.0",
          "29.0",
          "30.0",
          "31.0",
          "32.0",
          "33.0",
          "34.0",
          "35.0",
          "36.0",
          "37.0",
          "38.0",
          "39.0",
          "40.0",
          "41.0",
          "42.0",
          "43.0",
          "44.0",
          "45.0",
          "46.0",
          "47.0",
          "48.0",
          "49.0",
          "50.0",
          "51.0",
          "52.0",
          "53.0",
          "54.0",
          "55.0",
          "56.0",
          "57.0",
          "58.0",
          "59.0",
          "60.0",
          "62.0",
          "63.0",
          "64.0",
          "65.0",
          "68.0",
          "71.0",
          "78.0",
          "79.0",
          "14.0",
          "16.0",
          "18.0",
          "19.0",
          "21.0",
          "22.0",
          "23.0",
          "24.0",
          "25.0",
          "27.0",
          "28.0",
          "30.0",
          "31.0",
          "32.0",
          "35.0",
          "36.0",
          "39.0",
          "40.0",
          "42.0",
          "43.0",
          "49.0",
          "69.0",
          "2.0",
          "22.0",
          "25.0",
          "26.0",
          "27.0",
          "28.0",
          "30.0",
          "35.0",
          "38.0",
          "43.0",
          "44.0",
          "58.0",
          "64.0",
          "68.0",
          "1.0",
          "2.0",
          "3.0",
          "5.0",
          "6.0",
          "9.0",
          "10.0",
          "11.0",
          "12.0",
          "13.0",
          "14.0",
          "15.0",
          "16.0",
          "17.0",
          "18.0",
          "19.0",
          "20.0",
          "21.0",
          "22.0",
          "23.0",
          "24.0",
          "25.0",
          "26.0",
          "27.0",
          "28.0",
          "29.0",
          "30.0",
          "31.0",
          "32.0",
          "33.0",
          "34.0",
          "35.0",
          "36.0",
          "37.0",
          "38.0",
          "39.0",
          "40.0",
          "41.0",
          "42.0",
          "43.0",
          "44.0",
          "45.0",
          "46.0",
          "47.0",
          "48.0",
          "49.0",
          "50.0",
          "51.0",
          "52.0",
          "53.0",
          "54.0",
          "55.0",
          "56.0",
          "57.0",
          "58.0",
          "59.0",
          "60.0",
          "61.0",
          "62.0",
          "63.0",
          "64.0",
          "65.0",
          "66.0",
          "67.0",
          "68.0",
          "69.0",
          "70.0",
          "71.0",
          "72.0",
          "74.0",
          "75.0",
          "",
          "",
          "",
          "",
          "",
          "",
          "",
          "",
          "",
          "",
          "",
          "",
          "",
          "",
          "",
          "",
          "",
          "",
          "",
          "",
          "",
          "",
          "",
          "",
          "",
          "",
          "",
          "",
          "",
          "",
          "",
          "",
          "",
          "",
          "",
          "",
          "",
          "",
          "",
          "",
          "",
          "",
          "",
          "",
          "",
          "",
          "",
          "",
          "",
          "",
          "",
          "",
          "",
          "",
          "",
          "",
          "",
          "",
          "",
          "",
          "",
          "",
          "",
          "",
          "",
          "",
          "",
          "",
          "",
          "",
          "",
          "",
          "",
          "",
          ""
         ],
         "type": "sunburst",
         "values": [
          1,
          1,
          1,
          1,
          1,
          1,
          2,
          2,
          3,
          2,
          1,
          3,
          1,
          2,
          1,
          2,
          6,
          1,
          2,
          3,
          1,
          1,
          1,
          1,
          2,
          1,
          3,
          1,
          1,
          2,
          4,
          1,
          1,
          1,
          4,
          1,
          1,
          1,
          1,
          2,
          1,
          1,
          1,
          1,
          1,
          1,
          1,
          1,
          2,
          1,
          1,
          2,
          2,
          1,
          2,
          2,
          3,
          2,
          1,
          2,
          1,
          1,
          2,
          3,
          4,
          3,
          1,
          1,
          1,
          3,
          2,
          2,
          2,
          3,
          3,
          5,
          3,
          6,
          5,
          2,
          1,
          3,
          7,
          4,
          4,
          5,
          4,
          5,
          4,
          7,
          5,
          4,
          7,
          3,
          2,
          2,
          2,
          1,
          3,
          2,
          1,
          4,
          2,
          1,
          1,
          2,
          2,
          2,
          1,
          1,
          2,
          1,
          1,
          1,
          3,
          1,
          2,
          5,
          4,
          7,
          5,
          5,
          2,
          5,
          3,
          10,
          3,
          3,
          5,
          7,
          3,
          4,
          1,
          1,
          1,
          3,
          1,
          1,
          1,
          3,
          3,
          2,
          1,
          1,
          1,
          1,
          1,
          1,
          1,
          1,
          3,
          1,
          1,
          1,
          2,
          1,
          2,
          1,
          1,
          1,
          1,
          1,
          1,
          1,
          1,
          1,
          1,
          1,
          1,
          1,
          1,
          1,
          1,
          1,
          1,
          3,
          3,
          6,
          3,
          3,
          1,
          3,
          2,
          4,
          4,
          4,
          3,
          6,
          11,
          19,
          9,
          17,
          12,
          7,
          13,
          16,
          14,
          7,
          13,
          6,
          13,
          10,
          10,
          8,
          10,
          10,
          11,
          16,
          2,
          10,
          10,
          7,
          2,
          5,
          4,
          5,
          7,
          6,
          2,
          1,
          1,
          1,
          3,
          2,
          1,
          1,
          2,
          2,
          2,
          1,
          1,
          2,
          1,
          1,
          1,
          3,
          1,
          3,
          6,
          4,
          7,
          6,
          5,
          3,
          6,
          3,
          10,
          3,
          4,
          7,
          7,
          5,
          4,
          4,
          3,
          2,
          6,
          1,
          2,
          3,
          4,
          5,
          2,
          6,
          2,
          2,
          3,
          1,
          1,
          1,
          1,
          1,
          1,
          2,
          1,
          3,
          1,
          1,
          2,
          4,
          1,
          1,
          1,
          4,
          1,
          1,
          1,
          1,
          1,
          1,
          1,
          1,
          1,
          3,
          1,
          1,
          3,
          2,
          1,
          2,
          1,
          1,
          1,
          1,
          1,
          1,
          1,
          1,
          1,
          1,
          1,
          1,
          1,
          1,
          1,
          1,
          1,
          1,
          2,
          1,
          1,
          1,
          1,
          1,
          3,
          3,
          6,
          3,
          3,
          1,
          3,
          2,
          4,
          4,
          4,
          3,
          6,
          12,
          20,
          11,
          18,
          13,
          7,
          15,
          18,
          15,
          9,
          15,
          9,
          15,
          11,
          12,
          9,
          11,
          12,
          14,
          20,
          5,
          11,
          11,
          8,
          5,
          7,
          6,
          7,
          10,
          9,
          7,
          4,
          6,
          5,
          3,
          2,
          6,
          9,
          5,
          4,
          5,
          4,
          5,
          4,
          7,
          5,
          4,
          7,
          3,
          2,
          2,
          2,
          1,
          3,
          2,
          1,
          4,
          2,
          3,
          5,
          8,
          2,
          3,
          5,
          1,
          2,
          3,
          2,
          6,
          5,
          6,
          4,
          10,
          13,
          24,
          18,
          22,
          21,
          17,
          21,
          22,
          25,
          13,
          28,
          14,
          19,
          21,
          20,
          15,
          15,
          16,
          19,
          23,
          11,
          14,
          14,
          12,
          9,
          13,
          10,
          14,
          12,
          11,
          10,
          5,
          8,
          6,
          4,
          3,
          7,
          11,
          6,
          7,
          6,
          6,
          7,
          8,
          7,
          6,
          5,
          9,
          7,
          2,
          2,
          4,
          2,
          3,
          3,
          1,
          4,
          2,
          1,
          1
         ]
        }
       ],
       "layout": {
        "autosize": true,
        "legend": {
         "tracegroupgap": 0
        },
        "template": {
         "data": {
          "bar": [
           {
            "error_x": {
             "color": "#2a3f5f"
            },
            "error_y": {
             "color": "#2a3f5f"
            },
            "marker": {
             "line": {
              "color": "#E5ECF6",
              "width": 0.5
             },
             "pattern": {
              "fillmode": "overlay",
              "size": 10,
              "solidity": 0.2
             }
            },
            "type": "bar"
           }
          ],
          "barpolar": [
           {
            "marker": {
             "line": {
              "color": "#E5ECF6",
              "width": 0.5
             },
             "pattern": {
              "fillmode": "overlay",
              "size": 10,
              "solidity": 0.2
             }
            },
            "type": "barpolar"
           }
          ],
          "carpet": [
           {
            "aaxis": {
             "endlinecolor": "#2a3f5f",
             "gridcolor": "white",
             "linecolor": "white",
             "minorgridcolor": "white",
             "startlinecolor": "#2a3f5f"
            },
            "baxis": {
             "endlinecolor": "#2a3f5f",
             "gridcolor": "white",
             "linecolor": "white",
             "minorgridcolor": "white",
             "startlinecolor": "#2a3f5f"
            },
            "type": "carpet"
           }
          ],
          "choropleth": [
           {
            "colorbar": {
             "outlinewidth": 0,
             "ticks": ""
            },
            "type": "choropleth"
           }
          ],
          "contour": [
           {
            "colorbar": {
             "outlinewidth": 0,
             "ticks": ""
            },
            "colorscale": [
             [
              0,
              "#0d0887"
             ],
             [
              0.1111111111111111,
              "#46039f"
             ],
             [
              0.2222222222222222,
              "#7201a8"
             ],
             [
              0.3333333333333333,
              "#9c179e"
             ],
             [
              0.4444444444444444,
              "#bd3786"
             ],
             [
              0.5555555555555556,
              "#d8576b"
             ],
             [
              0.6666666666666666,
              "#ed7953"
             ],
             [
              0.7777777777777778,
              "#fb9f3a"
             ],
             [
              0.8888888888888888,
              "#fdca26"
             ],
             [
              1,
              "#f0f921"
             ]
            ],
            "type": "contour"
           }
          ],
          "contourcarpet": [
           {
            "colorbar": {
             "outlinewidth": 0,
             "ticks": ""
            },
            "type": "contourcarpet"
           }
          ],
          "heatmap": [
           {
            "colorbar": {
             "outlinewidth": 0,
             "ticks": ""
            },
            "colorscale": [
             [
              0,
              "#0d0887"
             ],
             [
              0.1111111111111111,
              "#46039f"
             ],
             [
              0.2222222222222222,
              "#7201a8"
             ],
             [
              0.3333333333333333,
              "#9c179e"
             ],
             [
              0.4444444444444444,
              "#bd3786"
             ],
             [
              0.5555555555555556,
              "#d8576b"
             ],
             [
              0.6666666666666666,
              "#ed7953"
             ],
             [
              0.7777777777777778,
              "#fb9f3a"
             ],
             [
              0.8888888888888888,
              "#fdca26"
             ],
             [
              1,
              "#f0f921"
             ]
            ],
            "type": "heatmap"
           }
          ],
          "heatmapgl": [
           {
            "colorbar": {
             "outlinewidth": 0,
             "ticks": ""
            },
            "colorscale": [
             [
              0,
              "#0d0887"
             ],
             [
              0.1111111111111111,
              "#46039f"
             ],
             [
              0.2222222222222222,
              "#7201a8"
             ],
             [
              0.3333333333333333,
              "#9c179e"
             ],
             [
              0.4444444444444444,
              "#bd3786"
             ],
             [
              0.5555555555555556,
              "#d8576b"
             ],
             [
              0.6666666666666666,
              "#ed7953"
             ],
             [
              0.7777777777777778,
              "#fb9f3a"
             ],
             [
              0.8888888888888888,
              "#fdca26"
             ],
             [
              1,
              "#f0f921"
             ]
            ],
            "type": "heatmapgl"
           }
          ],
          "histogram": [
           {
            "marker": {
             "pattern": {
              "fillmode": "overlay",
              "size": 10,
              "solidity": 0.2
             }
            },
            "type": "histogram"
           }
          ],
          "histogram2d": [
           {
            "colorbar": {
             "outlinewidth": 0,
             "ticks": ""
            },
            "colorscale": [
             [
              0,
              "#0d0887"
             ],
             [
              0.1111111111111111,
              "#46039f"
             ],
             [
              0.2222222222222222,
              "#7201a8"
             ],
             [
              0.3333333333333333,
              "#9c179e"
             ],
             [
              0.4444444444444444,
              "#bd3786"
             ],
             [
              0.5555555555555556,
              "#d8576b"
             ],
             [
              0.6666666666666666,
              "#ed7953"
             ],
             [
              0.7777777777777778,
              "#fb9f3a"
             ],
             [
              0.8888888888888888,
              "#fdca26"
             ],
             [
              1,
              "#f0f921"
             ]
            ],
            "type": "histogram2d"
           }
          ],
          "histogram2dcontour": [
           {
            "colorbar": {
             "outlinewidth": 0,
             "ticks": ""
            },
            "colorscale": [
             [
              0,
              "#0d0887"
             ],
             [
              0.1111111111111111,
              "#46039f"
             ],
             [
              0.2222222222222222,
              "#7201a8"
             ],
             [
              0.3333333333333333,
              "#9c179e"
             ],
             [
              0.4444444444444444,
              "#bd3786"
             ],
             [
              0.5555555555555556,
              "#d8576b"
             ],
             [
              0.6666666666666666,
              "#ed7953"
             ],
             [
              0.7777777777777778,
              "#fb9f3a"
             ],
             [
              0.8888888888888888,
              "#fdca26"
             ],
             [
              1,
              "#f0f921"
             ]
            ],
            "type": "histogram2dcontour"
           }
          ],
          "mesh3d": [
           {
            "colorbar": {
             "outlinewidth": 0,
             "ticks": ""
            },
            "type": "mesh3d"
           }
          ],
          "parcoords": [
           {
            "line": {
             "colorbar": {
              "outlinewidth": 0,
              "ticks": ""
             }
            },
            "type": "parcoords"
           }
          ],
          "pie": [
           {
            "automargin": true,
            "type": "pie"
           }
          ],
          "scatter": [
           {
            "fillpattern": {
             "fillmode": "overlay",
             "size": 10,
             "solidity": 0.2
            },
            "type": "scatter"
           }
          ],
          "scatter3d": [
           {
            "line": {
             "colorbar": {
              "outlinewidth": 0,
              "ticks": ""
             }
            },
            "marker": {
             "colorbar": {
              "outlinewidth": 0,
              "ticks": ""
             }
            },
            "type": "scatter3d"
           }
          ],
          "scattercarpet": [
           {
            "marker": {
             "colorbar": {
              "outlinewidth": 0,
              "ticks": ""
             }
            },
            "type": "scattercarpet"
           }
          ],
          "scattergeo": [
           {
            "marker": {
             "colorbar": {
              "outlinewidth": 0,
              "ticks": ""
             }
            },
            "type": "scattergeo"
           }
          ],
          "scattergl": [
           {
            "marker": {
             "colorbar": {
              "outlinewidth": 0,
              "ticks": ""
             }
            },
            "type": "scattergl"
           }
          ],
          "scattermapbox": [
           {
            "marker": {
             "colorbar": {
              "outlinewidth": 0,
              "ticks": ""
             }
            },
            "type": "scattermapbox"
           }
          ],
          "scatterpolar": [
           {
            "marker": {
             "colorbar": {
              "outlinewidth": 0,
              "ticks": ""
             }
            },
            "type": "scatterpolar"
           }
          ],
          "scatterpolargl": [
           {
            "marker": {
             "colorbar": {
              "outlinewidth": 0,
              "ticks": ""
             }
            },
            "type": "scatterpolargl"
           }
          ],
          "scatterternary": [
           {
            "marker": {
             "colorbar": {
              "outlinewidth": 0,
              "ticks": ""
             }
            },
            "type": "scatterternary"
           }
          ],
          "surface": [
           {
            "colorbar": {
             "outlinewidth": 0,
             "ticks": ""
            },
            "colorscale": [
             [
              0,
              "#0d0887"
             ],
             [
              0.1111111111111111,
              "#46039f"
             ],
             [
              0.2222222222222222,
              "#7201a8"
             ],
             [
              0.3333333333333333,
              "#9c179e"
             ],
             [
              0.4444444444444444,
              "#bd3786"
             ],
             [
              0.5555555555555556,
              "#d8576b"
             ],
             [
              0.6666666666666666,
              "#ed7953"
             ],
             [
              0.7777777777777778,
              "#fb9f3a"
             ],
             [
              0.8888888888888888,
              "#fdca26"
             ],
             [
              1,
              "#f0f921"
             ]
            ],
            "type": "surface"
           }
          ],
          "table": [
           {
            "cells": {
             "fill": {
              "color": "#EBF0F8"
             },
             "line": {
              "color": "white"
             }
            },
            "header": {
             "fill": {
              "color": "#C8D4E3"
             },
             "line": {
              "color": "white"
             }
            },
            "type": "table"
           }
          ]
         },
         "layout": {
          "annotationdefaults": {
           "arrowcolor": "#2a3f5f",
           "arrowhead": 0,
           "arrowwidth": 1
          },
          "autotypenumbers": "strict",
          "coloraxis": {
           "colorbar": {
            "outlinewidth": 0,
            "ticks": ""
           }
          },
          "colorscale": {
           "diverging": [
            [
             0,
             "#8e0152"
            ],
            [
             0.1,
             "#c51b7d"
            ],
            [
             0.2,
             "#de77ae"
            ],
            [
             0.3,
             "#f1b6da"
            ],
            [
             0.4,
             "#fde0ef"
            ],
            [
             0.5,
             "#f7f7f7"
            ],
            [
             0.6,
             "#e6f5d0"
            ],
            [
             0.7,
             "#b8e186"
            ],
            [
             0.8,
             "#7fbc41"
            ],
            [
             0.9,
             "#4d9221"
            ],
            [
             1,
             "#276419"
            ]
           ],
           "sequential": [
            [
             0,
             "#0d0887"
            ],
            [
             0.1111111111111111,
             "#46039f"
            ],
            [
             0.2222222222222222,
             "#7201a8"
            ],
            [
             0.3333333333333333,
             "#9c179e"
            ],
            [
             0.4444444444444444,
             "#bd3786"
            ],
            [
             0.5555555555555556,
             "#d8576b"
            ],
            [
             0.6666666666666666,
             "#ed7953"
            ],
            [
             0.7777777777777778,
             "#fb9f3a"
            ],
            [
             0.8888888888888888,
             "#fdca26"
            ],
            [
             1,
             "#f0f921"
            ]
           ],
           "sequentialminus": [
            [
             0,
             "#0d0887"
            ],
            [
             0.1111111111111111,
             "#46039f"
            ],
            [
             0.2222222222222222,
             "#7201a8"
            ],
            [
             0.3333333333333333,
             "#9c179e"
            ],
            [
             0.4444444444444444,
             "#bd3786"
            ],
            [
             0.5555555555555556,
             "#d8576b"
            ],
            [
             0.6666666666666666,
             "#ed7953"
            ],
            [
             0.7777777777777778,
             "#fb9f3a"
            ],
            [
             0.8888888888888888,
             "#fdca26"
            ],
            [
             1,
             "#f0f921"
            ]
           ]
          },
          "colorway": [
           "#636efa",
           "#EF553B",
           "#00cc96",
           "#ab63fa",
           "#FFA15A",
           "#19d3f3",
           "#FF6692",
           "#B6E880",
           "#FF97FF",
           "#FECB52"
          ],
          "font": {
           "color": "#2a3f5f"
          },
          "geo": {
           "bgcolor": "white",
           "lakecolor": "white",
           "landcolor": "#E5ECF6",
           "showlakes": true,
           "showland": true,
           "subunitcolor": "white"
          },
          "hoverlabel": {
           "align": "left"
          },
          "hovermode": "closest",
          "mapbox": {
           "style": "light"
          },
          "paper_bgcolor": "white",
          "plot_bgcolor": "#E5ECF6",
          "polar": {
           "angularaxis": {
            "gridcolor": "white",
            "linecolor": "white",
            "ticks": ""
           },
           "bgcolor": "#E5ECF6",
           "radialaxis": {
            "gridcolor": "white",
            "linecolor": "white",
            "ticks": ""
           }
          },
          "scene": {
           "xaxis": {
            "backgroundcolor": "#E5ECF6",
            "gridcolor": "white",
            "gridwidth": 2,
            "linecolor": "white",
            "showbackground": true,
            "ticks": "",
            "zerolinecolor": "white"
           },
           "yaxis": {
            "backgroundcolor": "#E5ECF6",
            "gridcolor": "white",
            "gridwidth": 2,
            "linecolor": "white",
            "showbackground": true,
            "ticks": "",
            "zerolinecolor": "white"
           },
           "zaxis": {
            "backgroundcolor": "#E5ECF6",
            "gridcolor": "white",
            "gridwidth": 2,
            "linecolor": "white",
            "showbackground": true,
            "ticks": "",
            "zerolinecolor": "white"
           }
          },
          "shapedefaults": {
           "line": {
            "color": "#2a3f5f"
           }
          },
          "ternary": {
           "aaxis": {
            "gridcolor": "white",
            "linecolor": "white",
            "ticks": ""
           },
           "baxis": {
            "gridcolor": "white",
            "linecolor": "white",
            "ticks": ""
           },
           "bgcolor": "#E5ECF6",
           "caxis": {
            "gridcolor": "white",
            "linecolor": "white",
            "ticks": ""
           }
          },
          "title": {
           "x": 0.05
          },
          "xaxis": {
           "automargin": true,
           "gridcolor": "white",
           "linecolor": "white",
           "ticks": "",
           "title": {
            "standoff": 15
           },
           "zerolinecolor": "white",
           "zerolinewidth": 2
          },
          "yaxis": {
           "automargin": true,
           "gridcolor": "white",
           "linecolor": "white",
           "ticks": "",
           "title": {
            "standoff": 15
           },
           "zerolinecolor": "white",
           "zerolinewidth": 2
          }
         }
        },
        "title": {
         "text": "Sunburst Chart of Age, Race, and Heart Outcome"
        }
       }
      },
      "image/png": "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",
      "text/html": [
       "<div>                            <div id=\"753e961b-4a80-4aae-af70-611498878d75\" class=\"plotly-graph-div\" style=\"height:525px; width:100%;\"></div>            <script type=\"text/javascript\">                require([\"plotly\"], function(Plotly) {                    window.PLOTLYENV=window.PLOTLYENV || {};                                    if (document.getElementById(\"753e961b-4a80-4aae-af70-611498878d75\")) {                    Plotly.newPlot(                        \"753e961b-4a80-4aae-af70-611498878d75\",                        [{\"branchvalues\":\"total\",\"domain\":{\"x\":[0.0,1.0],\"y\":[0.0,1.0]},\"hovertemplate\":\"labels=%{label}\\u003cbr\\u003ecount=%{value}\\u003cbr\\u003eparent=%{parent}\\u003cbr\\u003eid=%{id}\\u003cextra\\u003e\\u003c\\u002fextra\\u003e\",\"ids\":[\"18.0\\u002fBlack\\u002fRecovered for Research\",\"19.0\\u002fBlack\\u002fRecovered for Research\",\"22.0\\u002fBlack\\u002fRecovered for Research\",\"24.0\\u002fBlack\\u002fRecovered for Research\",\"25.0\\u002fBlack\\u002fRecovered for Research\",\"29.0\\u002fBlack\\u002fRecovered for Research\",\"30.0\\u002fBlack\\u002fRecovered for Research\",\"32.0\\u002fBlack\\u002fRecovered for Research\",\"34.0\\u002fBlack\\u002fRecovered for Research\",\"35.0\\u002fBlack\\u002fRecovered for Research\",\"36.0\\u002fBlack\\u002fRecovered for Research\",\"37.0\\u002fBlack\\u002fRecovered for Research\",\"39.0\\u002fBlack\\u002fRecovered for Research\",\"40.0\\u002fBlack\\u002fRecovered for Research\",\"41.0\\u002fBlack\\u002fRecovered for Research\",\"42.0\\u002fBlack\\u002fRecovered for Research\",\"44.0\\u002fBlack\\u002fRecovered for Research\",\"45.0\\u002fBlack\\u002fRecovered for Research\",\"46.0\\u002fBlack\\u002fRecovered for Research\",\"47.0\\u002fBlack\\u002fRecovered for Research\",\"49.0\\u002fBlack\\u002fRecovered for Research\",\"50.0\\u002fBlack\\u002fRecovered for Research\",\"52.0\\u002fBlack\\u002fRecovered for Research\",\"53.0\\u002fBlack\\u002fRecovered for Research\",\"54.0\\u002fBlack\\u002fRecovered for Research\",\"55.0\\u002fBlack\\u002fRecovered for Research\",\"56.0\\u002fBlack\\u002fRecovered for Research\",\"57.0\\u002fBlack\\u002fRecovered for Research\",\"58.0\\u002fBlack\\u002fRecovered for Research\",\"59.0\\u002fBlack\\u002fRecovered for Research\",\"60.0\\u002fBlack\\u002fRecovered for Research\",\"62.0\\u002fBlack\\u002fRecovered for Research\",\"63.0\\u002fBlack\\u002fRecovered for Research\",\"64.0\\u002fBlack\\u002fRecovered for Research\",\"65.0\\u002fBlack\\u002fRecovered for Research\",\"68.0\\u002fBlack\\u002fRecovered for Research\",\"71.0\\u002fBlack\\u002fRecovered for Research\",\"78.0\\u002fBlack\\u002fRecovered for Research\",\"79.0\\u002fBlack\\u002fRecovered for Research\",\"25.0\\u002fHispanic\\u002fRecovered for Research\",\"40.0\\u002fHispanic\\u002fRecovered for Research\",\"69.0\\u002fHispanic\\u002fRecovered for Research\",\"38.0\\u002fOther\\u002fRecovered for Research\",\"44.0\\u002fOther\\u002fRecovered for Research\",\"58.0\\u002fOther\\u002fRecovered for Research\",\"64.0\\u002fOther\\u002fRecovered for Research\",\"68.0\\u002fOther\\u002fRecovered for Research\",\"17.0\\u002fWhite\\u002fRecovered for Research\",\"19.0\\u002fWhite\\u002fRecovered for Research\",\"20.0\\u002fWhite\\u002fRecovered for Research\",\"21.0\\u002fWhite\\u002fRecovered for Research\",\"23.0\\u002fWhite\\u002fRecovered for Research\",\"24.0\\u002fWhite\\u002fRecovered for Research\",\"25.0\\u002fWhite\\u002fRecovered for Research\",\"26.0\\u002fWhite\\u002fRecovered for Research\",\"27.0\\u002fWhite\\u002fRecovered for Research\",\"28.0\\u002fWhite\\u002fRecovered for Research\",\"29.0\\u002fWhite\\u002fRecovered for Research\",\"30.0\\u002fWhite\\u002fRecovered for Research\",\"31.0\\u002fWhite\\u002fRecovered for Research\",\"32.0\\u002fWhite\\u002fRecovered for Research\",\"33.0\\u002fWhite\\u002fRecovered for Research\",\"34.0\\u002fWhite\\u002fRecovered for Research\",\"35.0\\u002fWhite\\u002fRecovered for Research\",\"36.0\\u002fWhite\\u002fRecovered for Research\",\"37.0\\u002fWhite\\u002fRecovered for Research\",\"38.0\\u002fWhite\\u002fRecovered for Research\",\"39.0\\u002fWhite\\u002fRecovered for Research\",\"40.0\\u002fWhite\\u002fRecovered for Research\",\"41.0\\u002fWhite\\u002fRecovered for Research\",\"42.0\\u002fWhite\\u002fRecovered for Research\",\"43.0\\u002fWhite\\u002fRecovered for Research\",\"44.0\\u002fWhite\\u002fRecovered for Research\",\"45.0\\u002fWhite\\u002fRecovered for Research\",\"46.0\\u002fWhite\\u002fRecovered for Research\",\"47.0\\u002fWhite\\u002fRecovered for Research\",\"48.0\\u002fWhite\\u002fRecovered for Research\",\"49.0\\u002fWhite\\u002fRecovered for Research\",\"50.0\\u002fWhite\\u002fRecovered for Research\",\"51.0\\u002fWhite\\u002fRecovered for Research\",\"52.0\\u002fWhite\\u002fRecovered for Research\",\"53.0\\u002fWhite\\u002fRecovered for Research\",\"54.0\\u002fWhite\\u002fRecovered for Research\",\"55.0\\u002fWhite\\u002fRecovered for Research\",\"56.0\\u002fWhite\\u002fRecovered for Research\",\"57.0\\u002fWhite\\u002fRecovered for Research\",\"58.0\\u002fWhite\\u002fRecovered for Research\",\"59.0\\u002fWhite\\u002fRecovered for Research\",\"60.0\\u002fWhite\\u002fRecovered for Research\",\"61.0\\u002fWhite\\u002fRecovered for Research\",\"62.0\\u002fWhite\\u002fRecovered for Research\",\"63.0\\u002fWhite\\u002fRecovered for Research\",\"64.0\\u002fWhite\\u002fRecovered for Research\",\"65.0\\u002fWhite\\u002fRecovered for Research\",\"66.0\\u002fWhite\\u002fRecovered for Research\",\"67.0\\u002fWhite\\u002fRecovered for Research\",\"68.0\\u002fWhite\\u002fRecovered for Research\",\"69.0\\u002fWhite\\u002fRecovered for Research\",\"70.0\\u002fWhite\\u002fRecovered for Research\",\"71.0\\u002fWhite\\u002fRecovered for Research\",\"72.0\\u002fWhite\\u002fRecovered for Research\",\"74.0\\u002fWhite\\u002fRecovered for Research\",\"75.0\\u002fWhite\\u002fRecovered for Research\",\"18.0\\u002fWhite\\u002fRecovered for Transplant but not Transplanted\",\"2.0\\u002fBlack\\u002fTransplanted\",\"3.0\\u002fBlack\\u002fTransplanted\",\"4.0\\u002fBlack\\u002fTransplanted\",\"6.0\\u002fBlack\\u002fTransplanted\",\"8.0\\u002fBlack\\u002fTransplanted\",\"9.0\\u002fBlack\\u002fTransplanted\",\"12.0\\u002fBlack\\u002fTransplanted\",\"13.0\\u002fBlack\\u002fTransplanted\",\"14.0\\u002fBlack\\u002fTransplanted\",\"15.0\\u002fBlack\\u002fTransplanted\",\"16.0\\u002fBlack\\u002fTransplanted\",\"17.0\\u002fBlack\\u002fTransplanted\",\"18.0\\u002fBlack\\u002fTransplanted\",\"19.0\\u002fBlack\\u002fTransplanted\",\"20.0\\u002fBlack\\u002fTransplanted\",\"21.0\\u002fBlack\\u002fTransplanted\",\"22.0\\u002fBlack\\u002fTransplanted\",\"23.0\\u002fBlack\\u002fTransplanted\",\"24.0\\u002fBlack\\u002fTransplanted\",\"25.0\\u002fBlack\\u002fTransplanted\",\"26.0\\u002fBlack\\u002fTransplanted\",\"27.0\\u002fBlack\\u002fTransplanted\",\"28.0\\u002fBlack\\u002fTransplanted\",\"29.0\\u002fBlack\\u002fTransplanted\",\"30.0\\u002fBlack\\u002fTransplanted\",\"31.0\\u002fBlack\\u002fTransplanted\",\"32.0\\u002fBlack\\u002fTransplanted\",\"33.0\\u002fBlack\\u002fTransplanted\",\"34.0\\u002fBlack\\u002fTransplanted\",\"35.0\\u002fBlack\\u002fTransplanted\",\"36.0\\u002fBlack\\u002fTransplanted\",\"37.0\\u002fBlack\\u002fTransplanted\",\"38.0\\u002fBlack\\u002fTransplanted\",\"39.0\\u002fBlack\\u002fTransplanted\",\"40.0\\u002fBlack\\u002fTransplanted\",\"41.0\\u002fBlack\\u002fTransplanted\",\"42.0\\u002fBlack\\u002fTransplanted\",\"43.0\\u002fBlack\\u002fTransplanted\",\"45.0\\u002fBlack\\u002fTransplanted\",\"48.0\\u002fBlack\\u002fTransplanted\",\"51.0\\u002fBlack\\u002fTransplanted\",\"14.0\\u002fHispanic\\u002fTransplanted\",\"16.0\\u002fHispanic\\u002fTransplanted\",\"18.0\\u002fHispanic\\u002fTransplanted\",\"19.0\\u002fHispanic\\u002fTransplanted\",\"21.0\\u002fHispanic\\u002fTransplanted\",\"22.0\\u002fHispanic\\u002fTransplanted\",\"23.0\\u002fHispanic\\u002fTransplanted\",\"24.0\\u002fHispanic\\u002fTransplanted\",\"25.0\\u002fHispanic\\u002fTransplanted\",\"27.0\\u002fHispanic\\u002fTransplanted\",\"28.0\\u002fHispanic\\u002fTransplanted\",\"30.0\\u002fHispanic\\u002fTransplanted\",\"31.0\\u002fHispanic\\u002fTransplanted\",\"32.0\\u002fHispanic\\u002fTransplanted\",\"35.0\\u002fHispanic\\u002fTransplanted\",\"36.0\\u002fHispanic\\u002fTransplanted\",\"39.0\\u002fHispanic\\u002fTransplanted\",\"42.0\\u002fHispanic\\u002fTransplanted\",\"43.0\\u002fHispanic\\u002fTransplanted\",\"49.0\\u002fHispanic\\u002fTransplanted\",\"2.0\\u002fOther\\u002fTransplanted\",\"22.0\\u002fOther\\u002fTransplanted\",\"25.0\\u002fOther\\u002fTransplanted\",\"26.0\\u002fOther\\u002fTransplanted\",\"27.0\\u002fOther\\u002fTransplanted\",\"28.0\\u002fOther\\u002fTransplanted\",\"30.0\\u002fOther\\u002fTransplanted\",\"35.0\\u002fOther\\u002fTransplanted\",\"38.0\\u002fOther\\u002fTransplanted\",\"43.0\\u002fOther\\u002fTransplanted\",\"1.0\\u002fWhite\\u002fTransplanted\",\"2.0\\u002fWhite\\u002fTransplanted\",\"3.0\\u002fWhite\\u002fTransplanted\",\"5.0\\u002fWhite\\u002fTransplanted\",\"6.0\\u002fWhite\\u002fTransplanted\",\"9.0\\u002fWhite\\u002fTransplanted\",\"10.0\\u002fWhite\\u002fTransplanted\",\"11.0\\u002fWhite\\u002fTransplanted\",\"12.0\\u002fWhite\\u002fTransplanted\",\"13.0\\u002fWhite\\u002fTransplanted\",\"14.0\\u002fWhite\\u002fTransplanted\",\"15.0\\u002fWhite\\u002fTransplanted\",\"16.0\\u002fWhite\\u002fTransplanted\",\"17.0\\u002fWhite\\u002fTransplanted\",\"18.0\\u002fWhite\\u002fTransplanted\",\"19.0\\u002fWhite\\u002fTransplanted\",\"20.0\\u002fWhite\\u002fTransplanted\",\"21.0\\u002fWhite\\u002fTransplanted\",\"22.0\\u002fWhite\\u002fTransplanted\",\"23.0\\u002fWhite\\u002fTransplanted\",\"24.0\\u002fWhite\\u002fTransplanted\",\"25.0\\u002fWhite\\u002fTransplanted\",\"26.0\\u002fWhite\\u002fTransplanted\",\"27.0\\u002fWhite\\u002fTransplanted\",\"28.0\\u002fWhite\\u002fTransplanted\",\"29.0\\u002fWhite\\u002fTransplanted\",\"30.0\\u002fWhite\\u002fTransplanted\",\"31.0\\u002fWhite\\u002fTransplanted\",\"32.0\\u002fWhite\\u002fTransplanted\",\"33.0\\u002fWhite\\u002fTransplanted\",\"34.0\\u002fWhite\\u002fTransplanted\",\"35.0\\u002fWhite\\u002fTransplanted\",\"36.0\\u002fWhite\\u002fTransplanted\",\"37.0\\u002fWhite\\u002fTransplanted\",\"38.0\\u002fWhite\\u002fTransplanted\",\"39.0\\u002fWhite\\u002fTransplanted\",\"40.0\\u002fWhite\\u002fTransplanted\",\"41.0\\u002fWhite\\u002fTransplanted\",\"42.0\\u002fWhite\\u002fTransplanted\",\"43.0\\u002fWhite\\u002fTransplanted\",\"44.0\\u002fWhite\\u002fTransplanted\",\"45.0\\u002fWhite\\u002fTransplanted\",\"46.0\\u002fWhite\\u002fTransplanted\",\"47.0\\u002fWhite\\u002fTransplanted\",\"48.0\\u002fWhite\\u002fTransplanted\",\"51.0\\u002fWhite\\u002fTransplanted\",\"52.0\\u002fWhite\\u002fTransplanted\",\"53.0\\u002fWhite\\u002fTransplanted\",\"54.0\\u002fWhite\\u002fTransplanted\",\"55.0\\u002fWhite\\u002fTransplanted\",\"2.0\\u002fBlack\",\"3.0\\u002fBlack\",\"4.0\\u002fBlack\",\"6.0\\u002fBlack\",\"8.0\\u002fBlack\",\"9.0\\u002fBlack\",\"12.0\\u002fBlack\",\"13.0\\u002fBlack\",\"14.0\\u002fBlack\",\"15.0\\u002fBlack\",\"16.0\\u002fBlack\",\"17.0\\u002fBlack\",\"18.0\\u002fBlack\",\"19.0\\u002fBlack\",\"20.0\\u002fBlack\",\"21.0\\u002fBlack\",\"22.0\\u002fBlack\",\"23.0\\u002fBlack\",\"24.0\\u002fBlack\",\"25.0\\u002fBlack\",\"26.0\\u002fBlack\",\"27.0\\u002fBlack\",\"28.0\\u002fBlack\",\"29.0\\u002fBlack\",\"30.0\\u002fBlack\",\"31.0\\u002fBlack\",\"32.0\\u002fBlack\",\"33.0\\u002fBlack\",\"34.0\\u002fBlack\",\"35.0\\u002fBlack\",\"36.0\\u002fBlack\",\"37.0\\u002fBlack\",\"38.0\\u002fBlack\",\"39.0\\u002fBlack\",\"40.0\\u002fBlack\",\"41.0\\u002fBlack\",\"42.0\\u002fBlack\",\"43.0\\u002fBlack\",\"44.0\\u002fBlack\",\"45.0\\u002fBlack\",\"46.0\\u002fBlack\",\"47.0\\u002fBlack\",\"48.0\\u002fBlack\",\"49.0\\u002fBlack\",\"50.0\\u002fBlack\",\"51.0\\u002fBlack\",\"52.0\\u002fBlack\",\"53.0\\u002fBlack\",\"54.0\\u002fBlack\",\"55.0\\u002fBlack\",\"56.0\\u002fBlack\",\"57.0\\u002fBlack\",\"58.0\\u002fBlack\",\"59.0\\u002fBlack\",\"60.0\\u002fBlack\",\"62.0\\u002fBlack\",\"63.0\\u002fBlack\",\"64.0\\u002fBlack\",\"65.0\\u002fBlack\",\"68.0\\u002fBlack\",\"71.0\\u002fBlack\",\"78.0\\u002fBlack\",\"79.0\\u002fBlack\",\"14.0\\u002fHispanic\",\"16.0\\u002fHispanic\",\"18.0\\u002fHispanic\",\"19.0\\u002fHispanic\",\"21.0\\u002fHispanic\",\"22.0\\u002fHispanic\",\"23.0\\u002fHispanic\",\"24.0\\u002fHispanic\",\"25.0\\u002fHispanic\",\"27.0\\u002fHispanic\",\"28.0\\u002fHispanic\",\"30.0\\u002fHispanic\",\"31.0\\u002fHispanic\",\"32.0\\u002fHispanic\",\"35.0\\u002fHispanic\",\"36.0\\u002fHispanic\",\"39.0\\u002fHispanic\",\"40.0\\u002fHispanic\",\"42.0\\u002fHispanic\",\"43.0\\u002fHispanic\",\"49.0\\u002fHispanic\",\"69.0\\u002fHispanic\",\"2.0\\u002fOther\",\"22.0\\u002fOther\",\"25.0\\u002fOther\",\"26.0\\u002fOther\",\"27.0\\u002fOther\",\"28.0\\u002fOther\",\"30.0\\u002fOther\",\"35.0\\u002fOther\",\"38.0\\u002fOther\",\"43.0\\u002fOther\",\"44.0\\u002fOther\",\"58.0\\u002fOther\",\"64.0\\u002fOther\",\"68.0\\u002fOther\",\"1.0\\u002fWhite\",\"2.0\\u002fWhite\",\"3.0\\u002fWhite\",\"5.0\\u002fWhite\",\"6.0\\u002fWhite\",\"9.0\\u002fWhite\",\"10.0\\u002fWhite\",\"11.0\\u002fWhite\",\"12.0\\u002fWhite\",\"13.0\\u002fWhite\",\"14.0\\u002fWhite\",\"15.0\\u002fWhite\",\"16.0\\u002fWhite\",\"17.0\\u002fWhite\",\"18.0\\u002fWhite\",\"19.0\\u002fWhite\",\"20.0\\u002fWhite\",\"21.0\\u002fWhite\",\"22.0\\u002fWhite\",\"23.0\\u002fWhite\",\"24.0\\u002fWhite\",\"25.0\\u002fWhite\",\"26.0\\u002fWhite\",\"27.0\\u002fWhite\",\"28.0\\u002fWhite\",\"29.0\\u002fWhite\",\"30.0\\u002fWhite\",\"31.0\\u002fWhite\",\"32.0\\u002fWhite\",\"33.0\\u002fWhite\",\"34.0\\u002fWhite\",\"35.0\\u002fWhite\",\"36.0\\u002fWhite\",\"37.0\\u002fWhite\",\"38.0\\u002fWhite\",\"39.0\\u002fWhite\",\"40.0\\u002fWhite\",\"41.0\\u002fWhite\",\"42.0\\u002fWhite\",\"43.0\\u002fWhite\",\"44.0\\u002fWhite\",\"45.0\\u002fWhite\",\"46.0\\u002fWhite\",\"47.0\\u002fWhite\",\"48.0\\u002fWhite\",\"49.0\\u002fWhite\",\"50.0\\u002fWhite\",\"51.0\\u002fWhite\",\"52.0\\u002fWhite\",\"53.0\\u002fWhite\",\"54.0\\u002fWhite\",\"55.0\\u002fWhite\",\"56.0\\u002fWhite\",\"57.0\\u002fWhite\",\"58.0\\u002fWhite\",\"59.0\\u002fWhite\",\"60.0\\u002fWhite\",\"61.0\\u002fWhite\",\"62.0\\u002fWhite\",\"63.0\\u002fWhite\",\"64.0\\u002fWhite\",\"65.0\\u002fWhite\",\"66.0\\u002fWhite\",\"67.0\\u002fWhite\",\"68.0\\u002fWhite\",\"69.0\\u002fWhite\",\"70.0\\u002fWhite\",\"71.0\\u002fWhite\",\"72.0\\u002fWhite\",\"74.0\\u002fWhite\",\"75.0\\u002fWhite\",\"1.0\",\"2.0\",\"3.0\",\"4.0\",\"5.0\",\"6.0\",\"8.0\",\"9.0\",\"10.0\",\"11.0\",\"12.0\",\"13.0\",\"14.0\",\"15.0\",\"16.0\",\"17.0\",\"18.0\",\"19.0\",\"20.0\",\"21.0\",\"22.0\",\"23.0\",\"24.0\",\"25.0\",\"26.0\",\"27.0\",\"28.0\",\"29.0\",\"30.0\",\"31.0\",\"32.0\",\"33.0\",\"34.0\",\"35.0\",\"36.0\",\"37.0\",\"38.0\",\"39.0\",\"40.0\",\"41.0\",\"42.0\",\"43.0\",\"44.0\",\"45.0\",\"46.0\",\"47.0\",\"48.0\",\"49.0\",\"50.0\",\"51.0\",\"52.0\",\"53.0\",\"54.0\",\"55.0\",\"56.0\",\"57.0\",\"58.0\",\"59.0\",\"60.0\",\"61.0\",\"62.0\",\"63.0\",\"64.0\",\"65.0\",\"66.0\",\"67.0\",\"68.0\",\"69.0\",\"70.0\",\"71.0\",\"72.0\",\"74.0\",\"75.0\",\"78.0\",\"79.0\"],\"labels\":[\"Recovered for Research\",\"Recovered for Research\",\"Recovered for Research\",\"Recovered for Research\",\"Recovered for Research\",\"Recovered for Research\",\"Recovered for Research\",\"Recovered for Research\",\"Recovered for Research\",\"Recovered for Research\",\"Recovered for Research\",\"Recovered for Research\",\"Recovered for Research\",\"Recovered for Research\",\"Recovered for Research\",\"Recovered for Research\",\"Recovered for Research\",\"Recovered for Research\",\"Recovered for Research\",\"Recovered for Research\",\"Recovered for Research\",\"Recovered for Research\",\"Recovered for Research\",\"Recovered for Research\",\"Recovered for Research\",\"Recovered for Research\",\"Recovered for Research\",\"Recovered for Research\",\"Recovered for Research\",\"Recovered for Research\",\"Recovered for Research\",\"Recovered for Research\",\"Recovered for Research\",\"Recovered for Research\",\"Recovered for Research\",\"Recovered for Research\",\"Recovered for Research\",\"Recovered for Research\",\"Recovered for Research\",\"Recovered for Research\",\"Recovered for Research\",\"Recovered for Research\",\"Recovered for Research\",\"Recovered for Research\",\"Recovered for Research\",\"Recovered for Research\",\"Recovered for Research\",\"Recovered for Research\",\"Recovered for Research\",\"Recovered for Research\",\"Recovered for Research\",\"Recovered for Research\",\"Recovered for Research\",\"Recovered for Research\",\"Recovered for Research\",\"Recovered for Research\",\"Recovered for Research\",\"Recovered for Research\",\"Recovered for Research\",\"Recovered for Research\",\"Recovered for Research\",\"Recovered for Research\",\"Recovered for Research\",\"Recovered for Research\",\"Recovered for Research\",\"Recovered for Research\",\"Recovered for Research\",\"Recovered for Research\",\"Recovered for Research\",\"Recovered for Research\",\"Recovered for Research\",\"Recovered for Research\",\"Recovered for Research\",\"Recovered for Research\",\"Recovered for Research\",\"Recovered for Research\",\"Recovered for Research\",\"Recovered for Research\",\"Recovered for Research\",\"Recovered for Research\",\"Recovered for Research\",\"Recovered for Research\",\"Recovered for Research\",\"Recovered for Research\",\"Recovered for Research\",\"Recovered for Research\",\"Recovered for Research\",\"Recovered for Research\",\"Recovered for Research\",\"Recovered for Research\",\"Recovered for Research\",\"Recovered for Research\",\"Recovered for Research\",\"Recovered for Research\",\"Recovered for Research\",\"Recovered for Research\",\"Recovered for Research\",\"Recovered for Research\",\"Recovered for Research\",\"Recovered for Research\",\"Recovered for Research\",\"Recovered for Research\",\"Recovered for Research\",\"Recovered for Transplant but not Transplanted\",\"Transplanted\",\"Transplanted\",\"Transplanted\",\"Transplanted\",\"Transplanted\",\"Transplanted\",\"Transplanted\",\"Transplanted\",\"Transplanted\",\"Transplanted\",\"Transplanted\",\"Transplanted\",\"Transplanted\",\"Transplanted\",\"Transplanted\",\"Transplanted\",\"Transplanted\",\"Transplanted\",\"Transplanted\",\"Transplanted\",\"Transplanted\",\"Transplanted\",\"Transplanted\",\"Transplanted\",\"Transplanted\",\"Transplanted\",\"Transplanted\",\"Transplanted\",\"Transplanted\",\"Transplanted\",\"Transplanted\",\"Transplanted\",\"Transplanted\",\"Transplanted\",\"Transplanted\",\"Transplanted\",\"Transplanted\",\"Transplanted\",\"Transplanted\",\"Transplanted\",\"Transplanted\",\"Transplanted\",\"Transplanted\",\"Transplanted\",\"Transplanted\",\"Transplanted\",\"Transplanted\",\"Transplanted\",\"Transplanted\",\"Transplanted\",\"Transplanted\",\"Transplanted\",\"Transplanted\",\"Transplanted\",\"Transplanted\",\"Transplanted\",\"Transplanted\",\"Transplanted\",\"Transplanted\",\"Transplanted\",\"Transplanted\",\"Transplanted\",\"Transplanted\",\"Transplanted\",\"Transplanted\",\"Transplanted\",\"Transplanted\",\"Transplanted\",\"Transplanted\",\"Transplanted\",\"Transplanted\",\"Transplanted\",\"Transplanted\",\"Transplanted\",\"Transplanted\",\"Transplanted\",\"Transplanted\",\"Transplanted\",\"Transplanted\",\"Transplanted\",\"Transplanted\",\"Transplanted\",\"Transplanted\",\"Transplanted\",\"Transplanted\",\"Transplanted\",\"Transplanted\",\"Transplanted\",\"Transplanted\",\"Transplanted\",\"Transplanted\",\"Transplanted\",\"Transplanted\",\"Transplanted\",\"Transplanted\",\"Transplanted\",\"Transplanted\",\"Transplanted\",\"Transplanted\",\"Transplanted\",\"Transplanted\",\"Transplanted\",\"Transplanted\",\"Transplanted\",\"Transplanted\",\"Transplanted\",\"Transplanted\",\"Transplanted\",\"Transplanted\",\"Transplanted\",\"Transplanted\",\"Transplanted\",\"Transplanted\",\"Transplanted\",\"Transplanted\",\"Transplanted\",\"Transplanted\",\"Transplanted\",\"Transplanted\",\"Transplanted\",\"Transplanted\",\"Black\",\"Black\",\"Black\",\"Black\",\"Black\",\"Black\",\"Black\",\"Black\",\"Black\",\"Black\",\"Black\",\"Black\",\"Black\",\"Black\",\"Black\",\"Black\",\"Black\",\"Black\",\"Black\",\"Black\",\"Black\",\"Black\",\"Black\",\"Black\",\"Black\",\"Black\",\"Black\",\"Black\",\"Black\",\"Black\",\"Black\",\"Black\",\"Black\",\"Black\",\"Black\",\"Black\",\"Black\",\"Black\",\"Black\",\"Black\",\"Black\",\"Black\",\"Black\",\"Black\",\"Black\",\"Black\",\"Black\",\"Black\",\"Black\",\"Black\",\"Black\",\"Black\",\"Black\",\"Black\",\"Black\",\"Black\",\"Black\",\"Black\",\"Black\",\"Black\",\"Black\",\"Black\",\"Black\",\"Hispanic\",\"Hispanic\",\"Hispanic\",\"Hispanic\",\"Hispanic\",\"Hispanic\",\"Hispanic\",\"Hispanic\",\"Hispanic\",\"Hispanic\",\"Hispanic\",\"Hispanic\",\"Hispanic\",\"Hispanic\",\"Hispanic\",\"Hispanic\",\"Hispanic\",\"Hispanic\",\"Hispanic\",\"Hispanic\",\"Hispanic\",\"Hispanic\",\"Other\",\"Other\",\"Other\",\"Other\",\"Other\",\"Other\",\"Other\",\"Other\",\"Other\",\"Other\",\"Other\",\"Other\",\"Other\",\"Other\",\"White\",\"White\",\"White\",\"White\",\"White\",\"White\",\"White\",\"White\",\"White\",\"White\",\"White\",\"White\",\"White\",\"White\",\"White\",\"White\",\"White\",\"White\",\"White\",\"White\",\"White\",\"White\",\"White\",\"White\",\"White\",\"White\",\"White\",\"White\",\"White\",\"White\",\"White\",\"White\",\"White\",\"White\",\"White\",\"White\",\"White\",\"White\",\"White\",\"White\",\"White\",\"White\",\"White\",\"White\",\"White\",\"White\",\"White\",\"White\",\"White\",\"White\",\"White\",\"White\",\"White\",\"White\",\"White\",\"White\",\"White\",\"White\",\"White\",\"White\",\"White\",\"White\",\"White\",\"White\",\"White\",\"White\",\"White\",\"White\",\"White\",\"White\",\"White\",\"1.0\",\"2.0\",\"3.0\",\"4.0\",\"5.0\",\"6.0\",\"8.0\",\"9.0\",\"10.0\",\"11.0\",\"12.0\",\"13.0\",\"14.0\",\"15.0\",\"16.0\",\"17.0\",\"18.0\",\"19.0\",\"20.0\",\"21.0\",\"22.0\",\"23.0\",\"24.0\",\"25.0\",\"26.0\",\"27.0\",\"28.0\",\"29.0\",\"30.0\",\"31.0\",\"32.0\",\"33.0\",\"34.0\",\"35.0\",\"36.0\",\"37.0\",\"38.0\",\"39.0\",\"40.0\",\"41.0\",\"42.0\",\"43.0\",\"44.0\",\"45.0\",\"46.0\",\"47.0\",\"48.0\",\"49.0\",\"50.0\",\"51.0\",\"52.0\",\"53.0\",\"54.0\",\"55.0\",\"56.0\",\"57.0\",\"58.0\",\"59.0\",\"60.0\",\"61.0\",\"62.0\",\"63.0\",\"64.0\",\"65.0\",\"66.0\",\"67.0\",\"68.0\",\"69.0\",\"70.0\",\"71.0\",\"72.0\",\"74.0\",\"75.0\",\"78.0\",\"79.0\"],\"name\":\"\",\"parents\":[\"18.0\\u002fBlack\",\"19.0\\u002fBlack\",\"22.0\\u002fBlack\",\"24.0\\u002fBlack\",\"25.0\\u002fBlack\",\"29.0\\u002fBlack\",\"30.0\\u002fBlack\",\"32.0\\u002fBlack\",\"34.0\\u002fBlack\",\"35.0\\u002fBlack\",\"36.0\\u002fBlack\",\"37.0\\u002fBlack\",\"39.0\\u002fBlack\",\"40.0\\u002fBlack\",\"41.0\\u002fBlack\",\"42.0\\u002fBlack\",\"44.0\\u002fBlack\",\"45.0\\u002fBlack\",\"46.0\\u002fBlack\",\"47.0\\u002fBlack\",\"49.0\\u002fBlack\",\"50.0\\u002fBlack\",\"52.0\\u002fBlack\",\"53.0\\u002fBlack\",\"54.0\\u002fBlack\",\"55.0\\u002fBlack\",\"56.0\\u002fBlack\",\"57.0\\u002fBlack\",\"58.0\\u002fBlack\",\"59.0\\u002fBlack\",\"60.0\\u002fBlack\",\"62.0\\u002fBlack\",\"63.0\\u002fBlack\",\"64.0\\u002fBlack\",\"65.0\\u002fBlack\",\"68.0\\u002fBlack\",\"71.0\\u002fBlack\",\"78.0\\u002fBlack\",\"79.0\\u002fBlack\",\"25.0\\u002fHispanic\",\"40.0\\u002fHispanic\",\"69.0\\u002fHispanic\",\"38.0\\u002fOther\",\"44.0\\u002fOther\",\"58.0\\u002fOther\",\"64.0\\u002fOther\",\"68.0\\u002fOther\",\"17.0\\u002fWhite\",\"19.0\\u002fWhite\",\"20.0\\u002fWhite\",\"21.0\\u002fWhite\",\"23.0\\u002fWhite\",\"24.0\\u002fWhite\",\"25.0\\u002fWhite\",\"26.0\\u002fWhite\",\"27.0\\u002fWhite\",\"28.0\\u002fWhite\",\"29.0\\u002fWhite\",\"30.0\\u002fWhite\",\"31.0\\u002fWhite\",\"32.0\\u002fWhite\",\"33.0\\u002fWhite\",\"34.0\\u002fWhite\",\"35.0\\u002fWhite\",\"36.0\\u002fWhite\",\"37.0\\u002fWhite\",\"38.0\\u002fWhite\",\"39.0\\u002fWhite\",\"40.0\\u002fWhite\",\"41.0\\u002fWhite\",\"42.0\\u002fWhite\",\"43.0\\u002fWhite\",\"44.0\\u002fWhite\",\"45.0\\u002fWhite\",\"46.0\\u002fWhite\",\"47.0\\u002fWhite\",\"48.0\\u002fWhite\",\"49.0\\u002fWhite\",\"50.0\\u002fWhite\",\"51.0\\u002fWhite\",\"52.0\\u002fWhite\",\"53.0\\u002fWhite\",\"54.0\\u002fWhite\",\"55.0\\u002fWhite\",\"56.0\\u002fWhite\",\"57.0\\u002fWhite\",\"58.0\\u002fWhite\",\"59.0\\u002fWhite\",\"60.0\\u002fWhite\",\"61.0\\u002fWhite\",\"62.0\\u002fWhite\",\"63.0\\u002fWhite\",\"64.0\\u002fWhite\",\"65.0\\u002fWhite\",\"66.0\\u002fWhite\",\"67.0\\u002fWhite\",\"68.0\\u002fWhite\",\"69.0\\u002fWhite\",\"70.0\\u002fWhite\",\"71.0\\u002fWhite\",\"72.0\\u002fWhite\",\"74.0\\u002fWhite\",\"75.0\\u002fWhite\",\"18.0\\u002fWhite\",\"2.0\\u002fBlack\",\"3.0\\u002fBlack\",\"4.0\\u002fBlack\",\"6.0\\u002fBlack\",\"8.0\\u002fBlack\",\"9.0\\u002fBlack\",\"12.0\\u002fBlack\",\"13.0\\u002fBlack\",\"14.0\\u002fBlack\",\"15.0\\u002fBlack\",\"16.0\\u002fBlack\",\"17.0\\u002fBlack\",\"18.0\\u002fBlack\",\"19.0\\u002fBlack\",\"20.0\\u002fBlack\",\"21.0\\u002fBlack\",\"22.0\\u002fBlack\",\"23.0\\u002fBlack\",\"24.0\\u002fBlack\",\"25.0\\u002fBlack\",\"26.0\\u002fBlack\",\"27.0\\u002fBlack\",\"28.0\\u002fBlack\",\"29.0\\u002fBlack\",\"30.0\\u002fBlack\",\"31.0\\u002fBlack\",\"32.0\\u002fBlack\",\"33.0\\u002fBlack\",\"34.0\\u002fBlack\",\"35.0\\u002fBlack\",\"36.0\\u002fBlack\",\"37.0\\u002fBlack\",\"38.0\\u002fBlack\",\"39.0\\u002fBlack\",\"40.0\\u002fBlack\",\"41.0\\u002fBlack\",\"42.0\\u002fBlack\",\"43.0\\u002fBlack\",\"45.0\\u002fBlack\",\"48.0\\u002fBlack\",\"51.0\\u002fBlack\",\"14.0\\u002fHispanic\",\"16.0\\u002fHispanic\",\"18.0\\u002fHispanic\",\"19.0\\u002fHispanic\",\"21.0\\u002fHispanic\",\"22.0\\u002fHispanic\",\"23.0\\u002fHispanic\",\"24.0\\u002fHispanic\",\"25.0\\u002fHispanic\",\"27.0\\u002fHispanic\",\"28.0\\u002fHispanic\",\"30.0\\u002fHispanic\",\"31.0\\u002fHispanic\",\"32.0\\u002fHispanic\",\"35.0\\u002fHispanic\",\"36.0\\u002fHispanic\",\"39.0\\u002fHispanic\",\"42.0\\u002fHispanic\",\"43.0\\u002fHispanic\",\"49.0\\u002fHispanic\",\"2.0\\u002fOther\",\"22.0\\u002fOther\",\"25.0\\u002fOther\",\"26.0\\u002fOther\",\"27.0\\u002fOther\",\"28.0\\u002fOther\",\"30.0\\u002fOther\",\"35.0\\u002fOther\",\"38.0\\u002fOther\",\"43.0\\u002fOther\",\"1.0\\u002fWhite\",\"2.0\\u002fWhite\",\"3.0\\u002fWhite\",\"5.0\\u002fWhite\",\"6.0\\u002fWhite\",\"9.0\\u002fWhite\",\"10.0\\u002fWhite\",\"11.0\\u002fWhite\",\"12.0\\u002fWhite\",\"13.0\\u002fWhite\",\"14.0\\u002fWhite\",\"15.0\\u002fWhite\",\"16.0\\u002fWhite\",\"17.0\\u002fWhite\",\"18.0\\u002fWhite\",\"19.0\\u002fWhite\",\"20.0\\u002fWhite\",\"21.0\\u002fWhite\",\"22.0\\u002fWhite\",\"23.0\\u002fWhite\",\"24.0\\u002fWhite\",\"25.0\\u002fWhite\",\"26.0\\u002fWhite\",\"27.0\\u002fWhite\",\"28.0\\u002fWhite\",\"29.0\\u002fWhite\",\"30.0\\u002fWhite\",\"31.0\\u002fWhite\",\"32.0\\u002fWhite\",\"33.0\\u002fWhite\",\"34.0\\u002fWhite\",\"35.0\\u002fWhite\",\"36.0\\u002fWhite\",\"37.0\\u002fWhite\",\"38.0\\u002fWhite\",\"39.0\\u002fWhite\",\"40.0\\u002fWhite\",\"41.0\\u002fWhite\",\"42.0\\u002fWhite\",\"43.0\\u002fWhite\",\"44.0\\u002fWhite\",\"45.0\\u002fWhite\",\"46.0\\u002fWhite\",\"47.0\\u002fWhite\",\"48.0\\u002fWhite\",\"51.0\\u002fWhite\",\"52.0\\u002fWhite\",\"53.0\\u002fWhite\",\"54.0\\u002fWhite\",\"55.0\\u002fWhite\",\"2.0\",\"3.0\",\"4.0\",\"6.0\",\"8.0\",\"9.0\",\"12.0\",\"13.0\",\"14.0\",\"15.0\",\"16.0\",\"17.0\",\"18.0\",\"19.0\",\"20.0\",\"21.0\",\"22.0\",\"23.0\",\"24.0\",\"25.0\",\"26.0\",\"27.0\",\"28.0\",\"29.0\",\"30.0\",\"31.0\",\"32.0\",\"33.0\",\"34.0\",\"35.0\",\"36.0\",\"37.0\",\"38.0\",\"39.0\",\"40.0\",\"41.0\",\"42.0\",\"43.0\",\"44.0\",\"45.0\",\"46.0\",\"47.0\",\"48.0\",\"49.0\",\"50.0\",\"51.0\",\"52.0\",\"53.0\",\"54.0\",\"55.0\",\"56.0\",\"57.0\",\"58.0\",\"59.0\",\"60.0\",\"62.0\",\"63.0\",\"64.0\",\"65.0\",\"68.0\",\"71.0\",\"78.0\",\"79.0\",\"14.0\",\"16.0\",\"18.0\",\"19.0\",\"21.0\",\"22.0\",\"23.0\",\"24.0\",\"25.0\",\"27.0\",\"28.0\",\"30.0\",\"31.0\",\"32.0\",\"35.0\",\"36.0\",\"39.0\",\"40.0\",\"42.0\",\"43.0\",\"49.0\",\"69.0\",\"2.0\",\"22.0\",\"25.0\",\"26.0\",\"27.0\",\"28.0\",\"30.0\",\"35.0\",\"38.0\",\"43.0\",\"44.0\",\"58.0\",\"64.0\",\"68.0\",\"1.0\",\"2.0\",\"3.0\",\"5.0\",\"6.0\",\"9.0\",\"10.0\",\"11.0\",\"12.0\",\"13.0\",\"14.0\",\"15.0\",\"16.0\",\"17.0\",\"18.0\",\"19.0\",\"20.0\",\"21.0\",\"22.0\",\"23.0\",\"24.0\",\"25.0\",\"26.0\",\"27.0\",\"28.0\",\"29.0\",\"30.0\",\"31.0\",\"32.0\",\"33.0\",\"34.0\",\"35.0\",\"36.0\",\"37.0\",\"38.0\",\"39.0\",\"40.0\",\"41.0\",\"42.0\",\"43.0\",\"44.0\",\"45.0\",\"46.0\",\"47.0\",\"48.0\",\"49.0\",\"50.0\",\"51.0\",\"52.0\",\"53.0\",\"54.0\",\"55.0\",\"56.0\",\"57.0\",\"58.0\",\"59.0\",\"60.0\",\"61.0\",\"62.0\",\"63.0\",\"64.0\",\"65.0\",\"66.0\",\"67.0\",\"68.0\",\"69.0\",\"70.0\",\"71.0\",\"72.0\",\"74.0\",\"75.0\",\"\",\"\",\"\",\"\",\"\",\"\",\"\",\"\",\"\",\"\",\"\",\"\",\"\",\"\",\"\",\"\",\"\",\"\",\"\",\"\",\"\",\"\",\"\",\"\",\"\",\"\",\"\",\"\",\"\",\"\",\"\",\"\",\"\",\"\",\"\",\"\",\"\",\"\",\"\",\"\",\"\",\"\",\"\",\"\",\"\",\"\",\"\",\"\",\"\",\"\",\"\",\"\",\"\",\"\",\"\",\"\",\"\",\"\",\"\",\"\",\"\",\"\",\"\",\"\",\"\",\"\",\"\",\"\",\"\",\"\",\"\",\"\",\"\",\"\",\"\"],\"values\":[1,1,1,1,1,1,2,2,3,2,1,3,1,2,1,2,6,1,2,3,1,1,1,1,2,1,3,1,1,2,4,1,1,1,4,1,1,1,1,2,1,1,1,1,1,1,1,1,2,1,1,2,2,1,2,2,3,2,1,2,1,1,2,3,4,3,1,1,1,3,2,2,2,3,3,5,3,6,5,2,1,3,7,4,4,5,4,5,4,7,5,4,7,3,2,2,2,1,3,2,1,4,2,1,1,2,2,2,1,1,2,1,1,1,3,1,2,5,4,7,5,5,2,5,3,10,3,3,5,7,3,4,1,1,1,3,1,1,1,3,3,2,1,1,1,1,1,1,1,1,3,1,1,1,2,1,2,1,1,1,1,1,1,1,1,1,1,1,1,1,1,1,1,1,1,3,3,6,3,3,1,3,2,4,4,4,3,6,11,19,9,17,12,7,13,16,14,7,13,6,13,10,10,8,10,10,11,16,2,10,10,7,2,5,4,5,7,6,2,1,1,1,3,2,1,1,2,2,2,1,1,2,1,1,1,3,1,3,6,4,7,6,5,3,6,3,10,3,4,7,7,5,4,4,3,2,6,1,2,3,4,5,2,6,2,2,3,1,1,1,1,1,1,2,1,3,1,1,2,4,1,1,1,4,1,1,1,1,1,1,1,1,1,3,1,1,3,2,1,2,1,1,1,1,1,1,1,1,1,1,1,1,1,1,1,1,1,1,2,1,1,1,1,1,3,3,6,3,3,1,3,2,4,4,4,3,6,12,20,11,18,13,7,15,18,15,9,15,9,15,11,12,9,11,12,14,20,5,11,11,8,5,7,6,7,10,9,7,4,6,5,3,2,6,9,5,4,5,4,5,4,7,5,4,7,3,2,2,2,1,3,2,1,4,2,3,5,8,2,3,5,1,2,3,2,6,5,6,4,10,13,24,18,22,21,17,21,22,25,13,28,14,19,21,20,15,15,16,19,23,11,14,14,12,9,13,10,14,12,11,10,5,8,6,4,3,7,11,6,7,6,6,7,8,7,6,5,9,7,2,2,4,2,3,3,1,4,2,1,1],\"type\":\"sunburst\"}],                        {\"template\":{\"data\":{\"histogram2dcontour\":[{\"type\":\"histogram2dcontour\",\"colorbar\":{\"outlinewidth\":0,\"ticks\":\"\"},\"colorscale\":[[0.0,\"#0d0887\"],[0.1111111111111111,\"#46039f\"],[0.2222222222222222,\"#7201a8\"],[0.3333333333333333,\"#9c179e\"],[0.4444444444444444,\"#bd3786\"],[0.5555555555555556,\"#d8576b\"],[0.6666666666666666,\"#ed7953\"],[0.7777777777777778,\"#fb9f3a\"],[0.8888888888888888,\"#fdca26\"],[1.0,\"#f0f921\"]]}],\"choropleth\":[{\"type\":\"choropleth\",\"colorbar\":{\"outlinewidth\":0,\"ticks\":\"\"}}],\"histogram2d\":[{\"type\":\"histogram2d\",\"colorbar\":{\"outlinewidth\":0,\"ticks\":\"\"},\"colorscale\":[[0.0,\"#0d0887\"],[0.1111111111111111,\"#46039f\"],[0.2222222222222222,\"#7201a8\"],[0.3333333333333333,\"#9c179e\"],[0.4444444444444444,\"#bd3786\"],[0.5555555555555556,\"#d8576b\"],[0.6666666666666666,\"#ed7953\"],[0.7777777777777778,\"#fb9f3a\"],[0.8888888888888888,\"#fdca26\"],[1.0,\"#f0f921\"]]}],\"heatmap\":[{\"type\":\"heatmap\",\"colorbar\":{\"outlinewidth\":0,\"ticks\":\"\"},\"colorscale\":[[0.0,\"#0d0887\"],[0.1111111111111111,\"#46039f\"],[0.2222222222222222,\"#7201a8\"],[0.3333333333333333,\"#9c179e\"],[0.4444444444444444,\"#bd3786\"],[0.5555555555555556,\"#d8576b\"],[0.6666666666666666,\"#ed7953\"],[0.7777777777777778,\"#fb9f3a\"],[0.8888888888888888,\"#fdca26\"],[1.0,\"#f0f921\"]]}],\"heatmapgl\":[{\"type\":\"heatmapgl\",\"colorbar\":{\"outlinewidth\":0,\"ticks\":\"\"},\"colorscale\":[[0.0,\"#0d0887\"],[0.1111111111111111,\"#46039f\"],[0.2222222222222222,\"#7201a8\"],[0.3333333333333333,\"#9c179e\"],[0.4444444444444444,\"#bd3786\"],[0.5555555555555556,\"#d8576b\"],[0.6666666666666666,\"#ed7953\"],[0.7777777777777778,\"#fb9f3a\"],[0.8888888888888888,\"#fdca26\"],[1.0,\"#f0f921\"]]}],\"contourcarpet\":[{\"type\":\"contourcarpet\",\"colorbar\":{\"outlinewidth\":0,\"ticks\":\"\"}}],\"contour\":[{\"type\":\"contour\",\"colorbar\":{\"outlinewidth\":0,\"ticks\":\"\"},\"colorscale\":[[0.0,\"#0d0887\"],[0.1111111111111111,\"#46039f\"],[0.2222222222222222,\"#7201a8\"],[0.3333333333333333,\"#9c179e\"],[0.4444444444444444,\"#bd3786\"],[0.5555555555555556,\"#d8576b\"],[0.6666666666666666,\"#ed7953\"],[0.7777777777777778,\"#fb9f3a\"],[0.8888888888888888,\"#fdca26\"],[1.0,\"#f0f921\"]]}],\"surface\":[{\"type\":\"surface\",\"colorbar\":{\"outlinewidth\":0,\"ticks\":\"\"},\"colorscale\":[[0.0,\"#0d0887\"],[0.1111111111111111,\"#46039f\"],[0.2222222222222222,\"#7201a8\"],[0.3333333333333333,\"#9c179e\"],[0.4444444444444444,\"#bd3786\"],[0.5555555555555556,\"#d8576b\"],[0.6666666666666666,\"#ed7953\"],[0.7777777777777778,\"#fb9f3a\"],[0.8888888888888888,\"#fdca26\"],[1.0,\"#f0f921\"]]}],\"mesh3d\":[{\"type\":\"mesh3d\",\"colorbar\":{\"outlinewidth\":0,\"ticks\":\"\"}}],\"scatter\":[{\"fillpattern\":{\"fillmode\":\"overlay\",\"size\":10,\"solidity\":0.2},\"type\":\"scatter\"}],\"parcoords\":[{\"type\":\"parcoords\",\"line\":{\"colorbar\":{\"outlinewidth\":0,\"ticks\":\"\"}}}],\"scatterpolargl\":[{\"type\":\"scatterpolargl\",\"marker\":{\"colorbar\":{\"outlinewidth\":0,\"ticks\":\"\"}}}],\"bar\":[{\"error_x\":{\"color\":\"#2a3f5f\"},\"error_y\":{\"color\":\"#2a3f5f\"},\"marker\":{\"line\":{\"color\":\"#E5ECF6\",\"width\":0.5},\"pattern\":{\"fillmode\":\"overlay\",\"size\":10,\"solidity\":0.2}},\"type\":\"bar\"}],\"scattergeo\":[{\"type\":\"scattergeo\",\"marker\":{\"colorbar\":{\"outlinewidth\":0,\"ticks\":\"\"}}}],\"scatterpolar\":[{\"type\":\"scatterpolar\",\"marker\":{\"colorbar\":{\"outlinewidth\":0,\"ticks\":\"\"}}}],\"histogram\":[{\"marker\":{\"pattern\":{\"fillmode\":\"overlay\",\"size\":10,\"solidity\":0.2}},\"type\":\"histogram\"}],\"scattergl\":[{\"type\":\"scattergl\",\"marker\":{\"colorbar\":{\"outlinewidth\":0,\"ticks\":\"\"}}}],\"scatter3d\":[{\"type\":\"scatter3d\",\"line\":{\"colorbar\":{\"outlinewidth\":0,\"ticks\":\"\"}},\"marker\":{\"colorbar\":{\"outlinewidth\":0,\"ticks\":\"\"}}}],\"scattermapbox\":[{\"type\":\"scattermapbox\",\"marker\":{\"colorbar\":{\"outlinewidth\":0,\"ticks\":\"\"}}}],\"scatterternary\":[{\"type\":\"scatterternary\",\"marker\":{\"colorbar\":{\"outlinewidth\":0,\"ticks\":\"\"}}}],\"scattercarpet\":[{\"type\":\"scattercarpet\",\"marker\":{\"colorbar\":{\"outlinewidth\":0,\"ticks\":\"\"}}}],\"carpet\":[{\"aaxis\":{\"endlinecolor\":\"#2a3f5f\",\"gridcolor\":\"white\",\"linecolor\":\"white\",\"minorgridcolor\":\"white\",\"startlinecolor\":\"#2a3f5f\"},\"baxis\":{\"endlinecolor\":\"#2a3f5f\",\"gridcolor\":\"white\",\"linecolor\":\"white\",\"minorgridcolor\":\"white\",\"startlinecolor\":\"#2a3f5f\"},\"type\":\"carpet\"}],\"table\":[{\"cells\":{\"fill\":{\"color\":\"#EBF0F8\"},\"line\":{\"color\":\"white\"}},\"header\":{\"fill\":{\"color\":\"#C8D4E3\"},\"line\":{\"color\":\"white\"}},\"type\":\"table\"}],\"barpolar\":[{\"marker\":{\"line\":{\"color\":\"#E5ECF6\",\"width\":0.5},\"pattern\":{\"fillmode\":\"overlay\",\"size\":10,\"solidity\":0.2}},\"type\":\"barpolar\"}],\"pie\":[{\"automargin\":true,\"type\":\"pie\"}]},\"layout\":{\"autotypenumbers\":\"strict\",\"colorway\":[\"#636efa\",\"#EF553B\",\"#00cc96\",\"#ab63fa\",\"#FFA15A\",\"#19d3f3\",\"#FF6692\",\"#B6E880\",\"#FF97FF\",\"#FECB52\"],\"font\":{\"color\":\"#2a3f5f\"},\"hovermode\":\"closest\",\"hoverlabel\":{\"align\":\"left\"},\"paper_bgcolor\":\"white\",\"plot_bgcolor\":\"#E5ECF6\",\"polar\":{\"bgcolor\":\"#E5ECF6\",\"angularaxis\":{\"gridcolor\":\"white\",\"linecolor\":\"white\",\"ticks\":\"\"},\"radialaxis\":{\"gridcolor\":\"white\",\"linecolor\":\"white\",\"ticks\":\"\"}},\"ternary\":{\"bgcolor\":\"#E5ECF6\",\"aaxis\":{\"gridcolor\":\"white\",\"linecolor\":\"white\",\"ticks\":\"\"},\"baxis\":{\"gridcolor\":\"white\",\"linecolor\":\"white\",\"ticks\":\"\"},\"caxis\":{\"gridcolor\":\"white\",\"linecolor\":\"white\",\"ticks\":\"\"}},\"coloraxis\":{\"colorbar\":{\"outlinewidth\":0,\"ticks\":\"\"}},\"colorscale\":{\"sequential\":[[0.0,\"#0d0887\"],[0.1111111111111111,\"#46039f\"],[0.2222222222222222,\"#7201a8\"],[0.3333333333333333,\"#9c179e\"],[0.4444444444444444,\"#bd3786\"],[0.5555555555555556,\"#d8576b\"],[0.6666666666666666,\"#ed7953\"],[0.7777777777777778,\"#fb9f3a\"],[0.8888888888888888,\"#fdca26\"],[1.0,\"#f0f921\"]],\"sequentialminus\":[[0.0,\"#0d0887\"],[0.1111111111111111,\"#46039f\"],[0.2222222222222222,\"#7201a8\"],[0.3333333333333333,\"#9c179e\"],[0.4444444444444444,\"#bd3786\"],[0.5555555555555556,\"#d8576b\"],[0.6666666666666666,\"#ed7953\"],[0.7777777777777778,\"#fb9f3a\"],[0.8888888888888888,\"#fdca26\"],[1.0,\"#f0f921\"]],\"diverging\":[[0,\"#8e0152\"],[0.1,\"#c51b7d\"],[0.2,\"#de77ae\"],[0.3,\"#f1b6da\"],[0.4,\"#fde0ef\"],[0.5,\"#f7f7f7\"],[0.6,\"#e6f5d0\"],[0.7,\"#b8e186\"],[0.8,\"#7fbc41\"],[0.9,\"#4d9221\"],[1,\"#276419\"]]},\"xaxis\":{\"gridcolor\":\"white\",\"linecolor\":\"white\",\"ticks\":\"\",\"title\":{\"standoff\":15},\"zerolinecolor\":\"white\",\"automargin\":true,\"zerolinewidth\":2},\"yaxis\":{\"gridcolor\":\"white\",\"linecolor\":\"white\",\"ticks\":\"\",\"title\":{\"standoff\":15},\"zerolinecolor\":\"white\",\"automargin\":true,\"zerolinewidth\":2},\"scene\":{\"xaxis\":{\"backgroundcolor\":\"#E5ECF6\",\"gridcolor\":\"white\",\"linecolor\":\"white\",\"showbackground\":true,\"ticks\":\"\",\"zerolinecolor\":\"white\",\"gridwidth\":2},\"yaxis\":{\"backgroundcolor\":\"#E5ECF6\",\"gridcolor\":\"white\",\"linecolor\":\"white\",\"showbackground\":true,\"ticks\":\"\",\"zerolinecolor\":\"white\",\"gridwidth\":2},\"zaxis\":{\"backgroundcolor\":\"#E5ECF6\",\"gridcolor\":\"white\",\"linecolor\":\"white\",\"showbackground\":true,\"ticks\":\"\",\"zerolinecolor\":\"white\",\"gridwidth\":2}},\"shapedefaults\":{\"line\":{\"color\":\"#2a3f5f\"}},\"annotationdefaults\":{\"arrowcolor\":\"#2a3f5f\",\"arrowhead\":0,\"arrowwidth\":1},\"geo\":{\"bgcolor\":\"white\",\"landcolor\":\"#E5ECF6\",\"subunitcolor\":\"white\",\"showland\":true,\"showlakes\":true,\"lakecolor\":\"white\"},\"title\":{\"x\":0.05},\"mapbox\":{\"style\":\"light\"}}},\"legend\":{\"tracegroupgap\":0},\"title\":{\"text\":\"Sunburst Chart of Age, Race, and Heart Outcome\"}},                        {\"responsive\": true}                    ).then(function(){\n",
       "                            \n",
       "var gd = document.getElementById('753e961b-4a80-4aae-af70-611498878d75');\n",
       "var x = new MutationObserver(function (mutations, observer) {{\n",
       "        var display = window.getComputedStyle(gd).display;\n",
       "        if (!display || display === 'none') {{\n",
       "            console.log([gd, 'removed!']);\n",
       "            Plotly.purge(gd);\n",
       "            observer.disconnect();\n",
       "        }}\n",
       "}});\n",
       "\n",
       "// Listen for the removal of the full notebook cells\n",
       "var notebookContainer = gd.closest('#notebook-container');\n",
       "if (notebookContainer) {{\n",
       "    x.observe(notebookContainer, {childList: true});\n",
       "}}\n",
       "\n",
       "// Listen for the clearing of the current output cell\n",
       "var outputEl = gd.closest('.output');\n",
       "if (outputEl) {{\n",
       "    x.observe(outputEl, {childList: true});\n",
       "}}\n",
       "\n",
       "                        })                };                });            </script>        </div>"
      ]
     },
     "metadata": {},
     "output_type": "display_data"
    }
   ],
   "source": [
    "#32 Create a sunburst chart of age, race and any one outcome\n",
    "\n",
    "# Merge the dataframes based on the 'PatientID' column\n",
    "merged_data = pd.merge(df_donardetails, dataframe_outcomes, on='PatientID', how='inner')\n",
    "\n",
    "# Drop rows with missing values in 'age', 'race', or 'outcome_heart'\n",
    "merged_data_clean = merged_data.dropna(subset=['age', 'race', 'outcome_heart'])\n",
    "\n",
    "# Group the data by age, race, and outcome_heart, then count the occurrences\n",
    "grouped_data = merged_data_clean.groupby(['age', 'race', 'outcome_heart']).size().reset_index(name='count')\n",
    "\n",
    "\n",
    "# Create the sunburst chart\n",
    "sunburst = px.sunburst(grouped_data, path=['age', 'race', 'outcome_heart'], values='count',\n",
    "                  title=\"Sunburst Chart of Age, Race, and Heart Outcome\")\n",
    "\n",
    "# Show the chart\n",
    "sunburst.show()\n"
 ]
  },
  {
   "cell_type": "markdown",
   "id": "c63fdaa4-12bf-4485-b38e-ae5a0a926328",
   "metadata": {},
   "source": [
    "9.Create a heatmap on the donor details table.\n"
   ]
  },
  {
   "cell_type": "code",
   "execution_count": 53,
   "id": "1969e96f-de20-4f75-a948-dfa238592cbb",
   "metadata": {},
   "outputs": [
    {
     "data": {
      "image/png": "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",
      "text/plain": [
       "<Figure size 640x480 with 2 Axes>"
      ]
     },
     "metadata": {},
     "output_type": "display_data"
    }
   ],
   "source": [
    "#9.Create a heatmap on the donor details table.\n",
    "df_donor_details\n",
    "\n",
    "#heatmap works for numerical values.should avoid the string datatype columns for heatmap\n",
    "#if we include those will get this error(ValueError: could not convert string to float: 'OPO1_P155959')\n",
    "\n",
    "numerical_columns = df_donor_details.select_dtypes(include=['number']).columns\n",
    "correlation_matrix = df_donor_details[numerical_columns].corr()\n",
    "hm=sns.heatmap(data=correlation_matrix)\n",
    "plt.title('Donor details table')\n",
    "\n",
    "plt.show()"
   ]
  },
  {
   "cell_type": "markdown",
   "id": "c13519c0-4031-47c4-83fe-3b8b45523a5c",
   "metadata": {},
   "source": [
    "10.Create a bar chart showing the number of donors by procured year. \n",
    "Add hatching to the bars using the set_hatch() method, and exclude any outlier years."
   ]
  },
  {
   "cell_type": "code",
   "execution_count": 20,
   "id": "82144161-197d-439b-8523-963052949aac",
   "metadata": {},
   "outputs": [
    {
     "name": "stderr",
     "output_type": "stream",
     "text": [
      "C:\\Users\\sateesh\\AppData\\Local\\Temp\\ipykernel_2784\\4214951040.py:11: SettingWithCopyWarning: \n",
      "A value is trying to be set on a copy of a slice from a DataFrame.\n",
      "Try using .loc[row_indexer,col_indexer] = value instead\n",
      "\n",
      "See the caveats in the documentation: https://pandas.pydata.org/pandas-docs/stable/user_guide/indexing.html#returning-a-view-versus-a-copy\n",
      "  merged_don_ref_df_cleaned['Year'] = merged_don_ref_df_cleaned['time_procured'].dt.year\n"
     ]
    },
    {
     "data": {
      "image/png": "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",
      "text/plain": [
       "<Figure size 800x600 with 1 Axes>"
      ]
     },
     "metadata": {},
     "output_type": "display_data"
    }
   ],
   "source": [
    "#10.Create a bar chart showing the number of donors by procured year. \n",
    "#Add hatching to the bars using the set_hatch() method, and exclude any outlier years.\n",
    "\n",
    "# Merging two data sets of donor_details and referral_details\n",
    "merged_don_ref_df=pd.merge(df_donor_details,df_referral_details,on='PatientID',how='left')\n",
    "#merged_don_ref_df\n",
    "merged_don_ref_df['time_procured']=pd.to_datetime(merged_don_ref_df['time_procured'])\n",
    "#merged_don_ref_df['year']=merged_don_ref_df['time_procured'].dt.year\n",
    "\n",
    "\n",
    "merged_don_ref_df_cleaned = merged_don_ref_df.dropna(subset=['time_procured'])\n",
    "merged_don_ref_df_cleaned['Year'] = merged_don_ref_df_cleaned['time_procured'].dt.year\n",
    "donors_by_year = merged_don_ref_df_cleaned.groupby('Year').size()\n",
    "\n",
    "# Identify outlier years using IQR (Interquartile Range)\n",
    "Q1 = donors_by_year.quantile(0.25)\n",
    "Q3 = donors_by_year.quantile(0.75)\n",
    "IQR = Q3 - Q1\n",
    "\n",
    "# Define outliers as those outside of 1.5 * IQR range\n",
    "lower_bound = Q1 - 1.5 * IQR\n",
    "upper_bound = Q3 + 1.5 * IQR\n",
    "\n",
    "donors_by_year_cleaned = donors_by_year[(donors_by_year >= lower_bound) & (donors_by_year <= upper_bound)]\n",
    "\n",
    "fig, ax = plt.subplots(figsize=(8, 6))\n",
    "bars = ax.bar(donors_by_year_cleaned.index, donors_by_year_cleaned.values, color='orange')\n",
    "\n",
    "for bar in bars:\n",
    "    bar.set_hatch('x')  # 'x' creates a crosshatch pattern\n",
    "\n",
    "ax.set_title('Number of Donors by time_procured ', fontsize=16)\n",
    "ax.set_xlabel('time_procured', fontsize=12)\n",
    "ax.set_ylabel('Number of Donors', fontsize=12)\n",
    "\n",
    "# Show the plot\n",
    "plt.tight_layout()\n",
    "plt.show()"
   ]
  },
  {
   "cell_type": "markdown",
   "id": "28c7ce8d-e609-4d11-a625-9d178ecac50c",
   "metadata": {},
   "source": [
    "11.Plot a Donut chart to show donor distribution by Gender.\n"
   ]
  },
  {
   "cell_type": "code",
   "execution_count": 57,
   "id": "7c31389a-a211-4220-b71c-efea8fce6398",
   "metadata": {},
   "outputs": [
    {
     "data": {
      "image/png": "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",
      "text/plain": [
       "<Figure size 800x600 with 1 Axes>"
      ]
     },
     "metadata": {},
     "output_type": "display_data"
    }
   ],
   "source": [
    "#11.Plot a Donut chart to show donor distribution by Gender.\n",
    "#Donor detials table\n",
    "df_donor_details\n",
    "\n",
    "# count the number of donors by gender\n",
    "gender_counts = df_donor_details['gender'].value_counts()\n",
    "\n",
    "mycolors=['Khaki','DarkOliveGreen']\n",
    "\n",
    "plt.figure(figsize=(8, 6))\n",
    "plt.pie(gender_counts, labels=gender_counts.index, autopct='%1.1f%%', startangle=90, colors=mycolors)\n",
    "\n",
    "# Add a circle at the center to create a donut effect\n",
    "centre_circle = plt.Circle((0, 0), 0.70, color='white', fc='white', linewidth=0)\n",
    "plt.gca().add_artist(centre_circle)\n",
    "\n",
    "plt.title('Donor Distribution by Gender')\n",
    "plt.axis('equal')  \n",
    "plt.show()\n"
   ]
  },
  {
   "cell_type": "markdown",
   "id": "db648c3b-ae0a-41e4-a798-1d5195870c4e",
   "metadata": {},
   "source": [
    "12.Using loc, retrieve the race and time of aysytole of donors between indices 1001 and 2001."
   ]
  },
  {
   "cell_type": "code",
   "execution_count": 23,
   "id": "d7e231dc-9cb8-4812-83b3-0967d6641df5",
   "metadata": {},
   "outputs": [
    {
     "data": {
      "text/html": [
       "<div>\n",
       "<style scoped>\n",
       "    .dataframe tbody tr th:only-of-type {\n",
       "        vertical-align: middle;\n",
       "    }\n",
       "\n",
       "    .dataframe tbody tr th {\n",
       "        vertical-align: top;\n",
       "    }\n",
       "\n",
       "    .dataframe thead th {\n",
       "        text-align: right;\n",
       "    }\n",
       "</style>\n",
       "<table border=\"1\" class=\"dataframe\">\n",
       "  <thead>\n",
       "    <tr style=\"text-align: right;\">\n",
       "      <th></th>\n",
       "      <th>race</th>\n",
       "      <th>time_asystole</th>\n",
       "      <th>PatientID</th>\n",
       "    </tr>\n",
       "  </thead>\n",
       "  <tbody>\n",
       "    <tr>\n",
       "      <th>1001</th>\n",
       "      <td>White</td>\n",
       "      <td>2034-03-28 16:47:00</td>\n",
       "      <td>OPO1_P124711</td>\n",
       "    </tr>\n",
       "    <tr>\n",
       "      <th>1002</th>\n",
       "      <td>Hispanic</td>\n",
       "      <td>NaT</td>\n",
       "      <td>OPO1_P934782</td>\n",
       "    </tr>\n",
       "    <tr>\n",
       "      <th>1003</th>\n",
       "      <td>White</td>\n",
       "      <td>2034-01-19 12:00:00</td>\n",
       "      <td>OPO1_P496267</td>\n",
       "    </tr>\n",
       "    <tr>\n",
       "      <th>1004</th>\n",
       "      <td>Hispanic</td>\n",
       "      <td>2032-01-19 18:49:00</td>\n",
       "      <td>OPO1_P962984</td>\n",
       "    </tr>\n",
       "    <tr>\n",
       "      <th>1005</th>\n",
       "      <td>Hispanic</td>\n",
       "      <td>2036-02-05 18:31:00</td>\n",
       "      <td>OPO1_P725315</td>\n",
       "    </tr>\n",
       "    <tr>\n",
       "      <th>...</th>\n",
       "      <td>...</td>\n",
       "      <td>...</td>\n",
       "      <td>...</td>\n",
       "    </tr>\n",
       "    <tr>\n",
       "      <th>1997</th>\n",
       "      <td>Hispanic</td>\n",
       "      <td>2037-05-19 23:10:00</td>\n",
       "      <td>OPO1_P136906</td>\n",
       "    </tr>\n",
       "    <tr>\n",
       "      <th>1998</th>\n",
       "      <td>Hispanic</td>\n",
       "      <td>NaT</td>\n",
       "      <td>OPO1_P966799</td>\n",
       "    </tr>\n",
       "    <tr>\n",
       "      <th>1999</th>\n",
       "      <td>White</td>\n",
       "      <td>2034-11-20 21:21:00</td>\n",
       "      <td>OPO1_P636889</td>\n",
       "    </tr>\n",
       "    <tr>\n",
       "      <th>2000</th>\n",
       "      <td>Hispanic</td>\n",
       "      <td>2034-02-04 15:00:00</td>\n",
       "      <td>OPO1_P154285</td>\n",
       "    </tr>\n",
       "    <tr>\n",
       "      <th>2001</th>\n",
       "      <td>White</td>\n",
       "      <td>2035-06-15 05:58:00</td>\n",
       "      <td>OPO1_P693114</td>\n",
       "    </tr>\n",
       "  </tbody>\n",
       "</table>\n",
       "<p>1001 rows × 3 columns</p>\n",
       "</div>"
      ],
      "text/plain": [
       "          race       time_asystole     PatientID\n",
       "1001     White 2034-03-28 16:47:00  OPO1_P124711\n",
       "1002  Hispanic                 NaT  OPO1_P934782\n",
       "1003     White 2034-01-19 12:00:00  OPO1_P496267\n",
       "1004  Hispanic 2032-01-19 18:49:00  OPO1_P962984\n",
       "1005  Hispanic 2036-02-05 18:31:00  OPO1_P725315\n",
       "...        ...                 ...           ...\n",
       "1997  Hispanic 2037-05-19 23:10:00  OPO1_P136906\n",
       "1998  Hispanic                 NaT  OPO1_P966799\n",
       "1999     White 2034-11-20 21:21:00  OPO1_P636889\n",
       "2000  Hispanic 2034-02-04 15:00:00  OPO1_P154285\n",
       "2001     White 2035-06-15 05:58:00  OPO1_P693114\n",
       "\n",
       "[1001 rows x 3 columns]"
      ]
     },
     "execution_count": 23,
     "metadata": {},
     "output_type": "execute_result"
    }
   ],
   "source": [
    "#12.Using loc, retrieve the race and time of aysytole of donors between indices 1001 and 2001.\n",
    "df_donor_details.loc[1001:2001,['race','time_asystole','PatientID']]\n"
   ]
  },
  {
   "cell_type": "markdown",
   "id": "d87b19cb-53ce-4402-9116-ecba70e2372d",
   "metadata": {},
   "source": [
    "13.np.arange(1,31).reshape(6,5)\n",
    "    1. Find array slicing to get the elements 1,2,8,30. \n",
    "    2. When the value is less than 9, print as 0,else print 99"
   ]
  },
  {
   "cell_type": "code",
   "execution_count": 25,
   "id": "f727f946-b3df-459a-a3b7-389357696a09",
   "metadata": {},
   "outputs": [
    {
     "name": "stdout",
     "output_type": "stream",
     "text": [
      "[[1 2]]\n",
      "1\n",
      "2\n",
      "8\n",
      "30\n"
     ]
    }
   ],
   "source": [
    "#13.np.arange(1,31).reshape(6,5)\n",
    "   # 1. Find array slicing to get the elements 1,2,8,30. \n",
    "   # 2. When the value is less than 9, print as 0,else print 99\n",
    "arr1=np.arange(1,31).reshape(6,5)\n",
    "arr1\n",
    "print(arr1[0:1,0:2])\n",
    "print(arr1[0,0])\n",
    "print(arr1[0,1])\n",
    "print(arr1[1,2])\n",
    "print(arr1[5,4])\n",
    "\n",
    "\n"
   ]
  },
  {
   "cell_type": "code",
   "execution_count": 26,
   "id": "56bdf584-3c1b-4943-a568-408bbf6e621b",
   "metadata": {},
   "outputs": [
    {
     "data": {
      "text/plain": [
       "array([[ 0,  0,  0,  0,  0],\n",
       "       [ 0,  0,  0, 99, 99],\n",
       "       [99, 99, 99, 99, 99],\n",
       "       [99, 99, 99, 99, 99],\n",
       "       [99, 99, 99, 99, 99],\n",
       "       [99, 99, 99, 99, 99]])"
      ]
     },
     "execution_count": 26,
     "metadata": {},
     "output_type": "execute_result"
    }
   ],
   "source": [
    "  # 13.2. When the value is less than 9, print as 0,else print 99\n",
    "arr1=np.arange(1,31).reshape(6,5)\n",
    "newarr=np.where(arr1<9,0,99)\n",
    "newarr"
   ]
  },
  {
   "cell_type": "markdown",
   "id": "7f1ff362-a8b4-44ff-b8e9-bb8a17f07c0f",
   "metadata": {},
   "source": [
    "14.Create subplots for the following data\n",
    "x = np.arange(0, 10, 0.1)\n",
    "y = np.sin(np.pi * x) + x \n",
    "using an object-oriented approach, and arrange the subplots in a 2x2 grid layout"
   ]
  },
  {
   "cell_type": "code",
   "execution_count": 28,
   "id": "93ca1a45-af06-46f7-8209-034f836de755",
   "metadata": {},
   "outputs": [
    {
     "data": {
      "image/png": "iVBORw0KGgoAAAANSUhEUgAAA90AAAMUCAYAAAChKUT6AAAAOXRFWHRTb2Z0d2FyZQBNYXRwbG90bGliIHZlcnNpb24zLjkuMiwgaHR0cHM6Ly9tYXRwbG90bGliLm9yZy8hTgPZAAAACXBIWXMAAA9hAAAPYQGoP6dpAADdC0lEQVR4nOzdd3hUVbfH8d8kgRAgCVJDL4pSVYogRWmCVKlSBBuoIKCAr4ooSpEiqNgFKWJBmtIFEaRKk65SRJEqRaQl1ECSc//YdwgtMEnOzJlJvp/nmWdOhpmzV3Lf6561y9ouy7IsAQAAAAAA2wU5HQAAAAAAAGkVSTcAAAAAAF5C0g0AAAAAgJeQdAMAAAAA4CUk3QAAAAAAeAlJNwAAAAAAXkLSDQAAAACAl5B0AwAAAADgJSTdAAAAAAB4CUk3ACBNW7x4sTp27KgSJUooS5Ysyp8/v5o2baoNGzak6H4xMTEaPHiwatasqaioKGXNmlVly5bVsGHDdP78eZujv7kiRYqocePGtt6zf//+crlcKfrsxIkT9f7779saDwAAgYykGwCQpo0cOVJ79uxRjx49NG/ePH3wwQc6cuSI7r33Xi1evDjZ99u3b5/ef/99lS9fXqNHj9bs2bPVqlUr9e/fX40bN5ZlWV74LQIHSTcAAFcKcToAAAC86ZNPPlHu3LmveK1+/fq67bbbNGTIENWuXTtZ9ytatKj27NmjLFmyXHqtdu3aypIli1566SWtXLlS1atXtyV2AAAQ+JjpBgCkaVcn3JKUNWtWlSpVSvv377/02ooVK5QhQwa9+OKLV7z3iy++kMvl0rhx4yRJWbJkuSLhdqtUqZIkXXHPpIwcOVJ33XWXsmbNqvDwcJUoUUKvvvrqpX9Panm3O5Y9e/Zc828zZszQnXfeqUyZMqlYsWL68MMPr/j3pUuXyuVyacKECXrhhRcUFRWlsLAw1ahRQ5s2bbppzAkJCRo+fLhKlCih0NBQ5c6dW4899pj++eefS++pWbOm5s6dq71798rlcl16ePp7AwCQFpF0AwDSnejoaG3cuFGlS5e+9Fr16tU1aNAgvfvuu5o9e7YkaevWrerWrZs6dOigTp063fCe7qXql9/zeiZPnqyuXbuqRo0amjFjhmbOnKlevXrpzJkzKf59Nm/erJ49e6pXr16aMWOGqlatqh49euidd9655r2vvvqqdu3apbFjx2rs2LE6ePCgatasqV27dt2wjWeffVa9e/dW3bp1NXv2bL355puaP3++qlatqqNHj0qSPv30U1WrVk1RUVFavXr1pYe3fm8AAAKCBQBAOtO+fXsrJCTEWr9+/RWvJyQkWA0bNrSyZctmbdmyxSpVqpRVokQJ6/Tp0ze836+//mqFhYVZzZs3v2nb3bt3t7Jly3bD9/Tr18+6Xhc9fvx4S5K1e/fuS68VLlzYcrlc1ubNm694b926da2IiAjrzJkzlmVZ1pIlSyxJVvny5a2EhIRL79uzZ4+VIUMG66mnnkqy/e3bt1uSrK5du17Rxi+//GJJsl599dVLrzVq1MgqXLhwin5vAADSIma6AQDpyuuvv65vvvlG7733nipUqHDFv7lcLn311VcKDw9XxYoVtXv3bk2dOvW6y8nd9uzZo8aNG6tgwYIaO3bsTduvVKmSTp48qXbt2mnWrFmXZolTo3Tp0rrrrruueO2RRx5RTEyMNm7ceM3rly/5Lly4sKpWraolS5YkeX/3vz3xxBNXvF6pUiWVLFlSixYtummM3vi9AQAIBCTdAIB0Y8CAARo0aJAGDx6s7t27X/c9OXLk0EMPPaTz58+rfv36Klu2bJL327t3r2rVqqWQkBAtWrRI2bNnv2kMjz76qD7//HPt3btXLVu2VO7cuVW5cmUtXLgwxb9XVFRUkq8dO3bMo/de/b7Luf8tb9681/xbvnz5bvhZN2/83gAABAKSbgBAujBgwAD1799f/fv3v2HxroULF2rkyJGqVKmSZsyYoWnTpl33fXv37lXNmjVlWZaWLFmiAgUKeBzLk08+qVWrVik6Olpz586VZVlq3Lix9u7dK0nKlCmTJCk2NvaKzyU1O3z48OEkX8uRI4dH7736fZdz/9uhQ4eu+beDBw8qZ86cSX72cjf7vQEASItIugEAad6bb76p/v37q2/fvurXr1+S7zt06JA6dOigGjVqaNWqVXrooYfUqVMn7d69+4r37du3TzVr1lR8fLwWL16swoULpyiuLFmyqEGDBnrttdd04cIFbd26VZJUpEgRSdJvv/12xfvnzJlz3fts3bpVv/766xWvTZw4UeHh4SpfvvwVr0+aNOmKs8T37t2rVatWqWbNmknG6T5WbcKECVe8vm7dOm3fvl116tS59FpoaKjOnTuX5L2kpH9vAADSIs7pBgCkae+++67eeOMN1a9fX40aNdKaNWuu+Pd7771XkhQfH6927drJ5XJp4sSJCg4O1hdffKG7775bbdq00YoVK5QxY0YdOXJEtWrV0qFDhzRu3DgdOXJER44cuXS/AgUK3HDW++mnn1ZYWJiqVaumvHnz6vDhwxo6dKgiIyN1zz33SJIaNmyo7Nmzq1OnTho4cKBCQkL0xRdfJHkcWb58+fTQQw+pf//+yps3ryZMmKCFCxdq2LBhypw58xXvPXLkiJo3b66nn35a0dHR6tevnzJlyqQ+ffokGfMdd9yhZ555Rh999JGCgoLUoEED7dmzR6+//roKFiyoXr16XXpv2bJlNX36dI0cOVIVKlRQUFCQKlas6NHvDQBAmuRsHTcAALyrRo0alqQkH26vvfaaFRQUZC1atOiKz69atcoKCQmxevToYVlWYhXwpB79+vW7YTxffvmlVatWLStPnjxWxowZrXz58lmtW7e2fvvttyvet3btWqtq1apWlixZrPz581v9+vWzxo4de93q5Y0aNbK+++47q3Tp0lbGjBmtIkWKWCNGjLjifu64v/76a+v555+3cuXKZYWGhlr33XffNVXcr1c9PT4+3ho2bJh1++23WxkyZLBy5sxpdejQwdq/f/8V7zt+/LjVqlUrK1u2bJbL5bp0H09/bwAA0hqXZV22xgwAAKRJS5cuVa1atfTtt9+qVatWTocDAEC6wZ5uAAAAAAC8hKQbAAAAAAAvYXk5AAAAAABewkw3AAAAAABeQtINAAAAAICXkHQDAAAAAOAlJN0AAAAAAHgJSTcAAAAAAF5C0g0AAAAAgJeQdAMAAAAA4CUk3QAAAAAAeAlJNwAAAAAAXkLSDQAAAACAl5B0AwAAAADgJSTdAAAAAAB4CUk3AAAAAABeQtINAAAAAICXJDvpXr58uZo0aaJ8+fLJ5XJp5syZV/y7ZVnq37+/8uXLp7CwMNWsWVNbt261K14AAOAB+msAAPxDSHI/cObMGd1111168skn1bJly2v+ffjw4RoxYoS++OIL3X777Ro0aJDq1q2rHTt2KDw8/Kb3T0hI0MGDBxUeHi6Xy5Xc8AAACHiWZenUqVPKly+fgoJStijN2/21RJ8NAEjfPO6vrVSQZM2YMePSzwkJCVZUVJT11ltvXXrt/PnzVmRkpDVq1CiP7rl//35LEg8ePHjw4JHuH/v3709NN+3V/po+mwcPHjx48DCPm/XXyZ7pvpHdu3fr8OHDqlev3qXXQkNDVaNGDa1atUqdO3e+5jOxsbGKjY299LP5biDt379fERERdoYHAEBAiImJUcGCBT2ecU6ulPTXEn02AACX87S/tjXpPnz4sCQpT548V7yeJ08e7d2797qfGTp0qAYMGHDN6xEREXTgAIB0zVtLtlPSX0v02QAAXM/N+muvVC+/ulHLspIMpE+fPoqOjr702L9/vzdCAgAAV0lOfy3RZwMAkBK2znRHRUVJMiPoefPmvfT6kSNHrhlNdwsNDVVoaKidYQAAgBtISX8t0WcDAJASts50Fy1aVFFRUVq4cOGl1y5cuKBly5apatWqdjYFAABSiP4aAADfSfZM9+nTp7Vz585LP+/evVubN29W9uzZVahQIfXs2VNDhgxR8eLFVbx4cQ0ZMkSZM2fWI488YmvgAAAgafTXAAD4h2Qn3evXr1etWrUu/fzCCy9Ikh5//HF98cUXevnll3Xu3Dl17dpVJ06cUOXKlbVgwQKvVWAFAADXor8GAMA/uCz3eR9+IiYmRpGRkYqOjqYSKgAgXQqUvjBQ4gQAwBs87Qe9Ur0cAAAAAACQdAMAAAAA4DUk3QAAAAAAeAlJNwAAAAAAXkLSDQBAaixZIh065HQUAADgBo4ckRYvluLjfd82STcAACl18aLUurWUP7+0bp3T0QAAgCRMmiTVqSM1b+77tkm6AQDeFR8v/fij9PDDUqlSUteu0qJFUlyc05Gl3uLF0tGjUs6cUrlyTkcDAECqHDokDR1qurTataWPP5YOHHA6KntMnmye69b1fdshvm8SAJAuHDkijRoljRsn7duX+Pr27dLIkVKOHFKzZtKAAWamOBC5e/CHH5ZC6FIBAIHHsszY+MiR0ty5Vy6/XrJEeu456d57zZj5o486F2dq7N4trVkjBQWZLtvX+IYAALDfoUOmh3Yn29mymZ76/vtNzz5zppkhHjdOWrhQ+uknqXhxJyNOvthYafp0c922rbOxAACQQm+9Jb36auLP1apJHTtK0dHStGnSqlUmYV2zRvrjD2nQIMnlci7elJg61TzXrClFRfm+fZaXAwDsdfq01KiRSbiLFZMmTJAOHpQ+/FBq1UoaM8Yk5YsWSbffbt5Xvbr0669OR5488+dLMTFmlr5aNaejAQAg2b75JjHh7tJF2rpVWrHCJN29epnrAwcS3zNkiNStm5SQ4FzMKeFemObUGDlJNwDAPnFxprDYpk1SrlzSggVS+/ZSWNiV7wsJMZvFfv5ZuvtusxS9Rg1p5UpHwk4Rdw/epo1ZrwYAQABZskR68klz/b//meXlpUpd+768eaXBg82OMZfLvO/RR00t0UCwY4e0ebP56tGihTMx8C0BAGAPyzLD3z/8YJLsOXOkW2+98Wdy55aWLjUz3dHRprrJ4sU+CTdVzpyRZs821ywtBwAEmG3bTBXvixfNIrThw2/+mc6dTQXwkBBp4kSTwAZCTdQpU8xzvXqmnIwTSLoBAPYYPlwaPdoMg0+aJFWu7NnnIiPNPu8GDaRz50wS6+/nXs+dK509a5bPV6zodDQAAHjs33+lhg3NWHfVqtLXX3u+YKtNGzPmHBYmff+9NHCgd2NNLcsyX0kkZ8fISboBAKm3Y4f02mvm+oMPpKZNk/f5zJlNUbK77pL++0967DH/3jB2+eawQKsmAwBI1158Udq719QvnTVLypQpeZ9v0EAaP95cDxpkFqz5q99/N8XfQkOT/9XETiTdAIDUe+01c8ZIkybmbJGUyJTJJLOZM5tq5u+8Y2+MdomOlubNM9csLQcABJBffzXF0yQzA5wzZ8ru06aNKbZmWVKHDtKxY/bFaCf3GHmjRlJEhHNxkHQDAFLnl1/MmSJBQdLQoam7V4kSpsq5ZBL5tWtTH5/dZs0yx4WVKiWVKeN0NAAAeKxPH5Mot2kjVaiQunt9+KF0xx2munmnTua+/sSynK9a7kbSDQBIOcuSevc2148/LpUunfp7duxoKqDHxUnt2pljufwJS8sBAAFo6VJT6zQkxCwLT60sWUyXmDGjGY8eOTL197TTunXS7t0mzkaNnI2FpBsAkHLz50vLlpnNUgMG2HNPl0v67DOpSBFp166UL1f3hv/+kxYuNNdt2jgbCwAAHrp8jLxzZ+m22+y57913S2+/ba5feEHavt2e+9ph4kTz3LSp2bnmJJJuAEDKJCRIr7xirp97TipY0L57Z8tmekuXS/rqK2nRIvvunRpffGFm4O+5R7r9dqejAQDAI9Onmx1bWbJIr79u772fe84UV4uNlbp08Y9l5ufOmarsktS+vbOxSCTdAICUmjhR+u03c+RXnz72379KFXPutyQ9+6x0/rz9bSRHQoKZgZfMtwoAAAJAXJz06qvm+n//k/Lksff+LpdZWp45s7R8uRmfdtp330nHj0uFC0sPPuh0NCTdAICUuHBB6tvXXPfpI2XP7p12Bg2S8uaV/vor9UXaUmvRIunvv80gA0vLAQABYvx46c8/pVy5TNLtDYULJ+4ye/FFsxvLSaNGmednnpGCg52NRSLpBgCkxMyZ5pDPPHm8u+c6MjKxmvlbb5nDNp3inuV+9FGzPg8AAD9nWdJ775nrPn28e2xWjx7SXXeZGeaXXvJeOzfz++/SqlWmYFzHjs7FcTmSbgBA8l0+hOzt6iQtW0oNG5rZ9WefdWaz2MGDZqBBMhVoAAAIAD//bIqbZclijvXypgwZzPi0yyV9+aWplu4E9xh5s2ZSVJQzMVyNpBsAkDw7dkhLlphzuZ96yvvtuVzSJ59IYWGmB//qK++3ebXPP5fi46Vq1TibGwAQMNwJaLt23p3ldqtcObHsSZcupriaL505k1hAzZ/GyEm6AQDJM3q0eW7YUCpUyDdtFiki9etnrl98UTp2zDftSibZHjPGXFNADQAQIP77zxQUk3zbfQ0ZYmaYd+yQhg3zXbuSOTc8JsYciVa7tm/bvhGSbgCA586fTyxL6usE9IUXzCzz0aPSyy/7rt3586V9+0yxuFatfNcuAACp8MUXZmdWxYpShQq+azdbNun99831kCGmFqqvXL77LciPMl0/CgUA4PfcZ3AUKiTVr+/btt2bxSSz3Hv5ct+06+7Bn3hCypTJN20CAJAKCQmJC9OcWGbdurU5qis21nflWDZskNavlzJmNF22PyHpBgB4zp2APv20M2dwVK1qhq8lM9N+4YJ329uzR5o3z1y72wUAwM8tXizt3Gn2cbdt6/v2XS7p00/NWPWiRdI333i/zZEjzXOrVuZ4NH9C0g0A8MyWLdLKlSbZdvIMjrfeknLnNuVY337bu20NGGCmC+rWle64w7ttAQBgE/fCsA4dpKxZnYmhWDHpjTfM9QsvmIVy3rJzp6mYLkldu3qvnZQi6QYAeMbdgzdtKuXL51wct9ySeOjooEGmp/WGLVsSK6UPGuSdNgAAsNmhQ/5zyuX//ieVKmWKur3yivfa6dtXioszNV6rVfNeOylF0g0AuLkzZxITUH+o4N2unZl9Pn/ee5vFXn3VzHK3aiVVqmT//QEA8ILPPzcJaNWq0p13OhtLxoyJY/Zjxphzw+22fr00ZYpZ0j50qP33twNJNwDg5mbNMmdwFCsm1anjdDRXbhb76Sfpww/tvf+KFdKcOWYp/eDB9t4bAAAvsazEZdb+UoqkenXpqafM9aOPSidP2nt/9wx6hw7ODzIkhaQbAHBzkyeb5/bt/ecMjttuk95911y//LK0aZM997UsqXdvc/3UU9Ltt9tzXwAAvGzTJnNEV1iY1LKl09EkevddM26/d68ZDLBrgdrChaZQW8aM0sCB9tzTG/zkmxMAwG+dOGHOqpacKYF6I88+a/aYX7hgYjt9OvX3nD1bWrVKypxZ6tcv9fcDAMBH3GPkjRs7V0DteiIipEmTpJAQ6dtvzRL41EpISBwj79ZNKlIk9ff0FpJuAMCNzZghXbwolS1rqqH4E5dLGjdOyp9f+vNPqUeP1N0vLk7q08dc9+wp5c2b6hABAPCFhASzt1nyvzFyyZRHce/Yev55cwhJakyZYmb2IyJMGRZ/RtINALgx97C5P/bgkpQjhzkANCjIDJ27402JIUPMt4Ds2c2SdQAAAsSaNdK+fVJ4uNSggdPRXN+LL5o6qGfPmq8V58+n7D4HDkgvvWSuX35ZypnTvhi9gaQbAJC0I0fMZilJatPG2VhupEYNc16IZDaLrV6d/Ht89VXicvK335YiI+2LDwAAL3OPOTdrZvZ0+6OgINPd5sol/fab1LGjWUyXHKdOSY0amcS7RAmzMM3fkXQDAJL23Xdmvdo990i33up0NDf2+utSrVqmN37gAWnBAs8/u3ix1KmTue7d23wLAAAgQMTHS1Onmmt/XZjmFhUlff212d89aZIp+HbunGefvXhRevhh6ddfpTx5pHnzpCxZvBuvHUi6AQBJ8/el5ZcLCTHHfD34oFm31rixGTS4ma1bpRYtzH7utm3NEnMAAALIsmXSv/+a3VEPPOB0NDf34IPSzJnm5M85c8xy+JiYG3/GsqSuXaUffzS1Tr//Xipa1CfhphpJNwDg+v75R/r5Z3PdurWzsXgqSxZTffzhh81weJs20ujR1z+bxLKkdeukhg2l6Gjpvvuk8eP950g0AAA85B4jb9nSHJ8VCBo1MoejhIebQYPataXDh6//3pgYcx732LGmm548WapY0bfxpgbfLAAA1+dep3bffVKBAs7GkhwZM5r1ak8/bZbGd+4sFS5sNn0tXy4dOyZ98olUrpwppbpvn3THHYlD7gAABJCLF6Vp08x1ICxMu1yNGtLSpaYQ2oYNUsGCUr160mefmZn71avNjq+8eaXhw81nPvpIatLE0bCTzWVZdh1Nbo+YmBhFRkYqOjpaERERTocDAOlX5crS2rUmQe3a1eloks+ypIEDpXfeSfr87tBQqVUraehQ09P7iUDpCwMlTgBIy374wSzaypPHFBcLDnY6ouT74w+pQweTeCelRAlTsdyfyq542g8y0w0AuNauXSbhDgoySWkgcrlMNfIjR6RZs6THHpOyZTP/VqaM9MEH0sGD0oQJfpVwAwCQHO6l5a1bB2bCLZmEev166c8/pbfeMvVbJVOF/fHHpRUrpG3b/CvhTo4QpwMAAPihb781z7VrS7lzOxtLaoWFSQ89ZB4XL5r1avnzm6QcAIAAduGC2R0l+ffJnp4qXtwcItK7txkzz5xZyprV6ahSj6QbAHCtGTPMc8uWzsZhtwwZAmt/OgAAN7B4sSkyljevVKWK09HYK9DH/C/H8nIAwJUOHJB++cXMBDdt6nQ0AAAgCdOnm+dmzTh8w5/xfxoAwJXc69SqVDFD5wAAwO/Ex5uSJZLUvLmzseDGSLoBAFdyLy1v0cLZOAAAQJJWrzb7nrNlk2rWdDoa3AhJNwAg0bFj5sBMiWFzAAD8mHtpeZMmpmQJ/BdJNwAg0fffm/Vqd94pFSvmdDQAAOA6LCtxYRpj5P6PpBsAkMg9bM7ScgAA/NbmzdKePeZUzAcfdDoa3AxJNwDAOH1aWrDAXDNsDgCA33LPctevb86yhn8j6QYAGPPnS+fPS7feKpUt63Q0AAAgCSxMCyy2J91xcXHq27evihYtqrCwMBUrVkwDBw5UQkKC3U0BAOx0+eYwl8vZWOB19NcAEJj++kvaulUKCZEaNXI6GngixO4bDhs2TKNGjdKXX36p0qVLa/369XryyScVGRmpHj162N0cAMAOFy6YImoSw+bpBP01AAQm9xh57drSLbc4Gws8Y3vSvXr1ajVt2lSN/n/YpUiRIpo0aZLWr19/3ffHxsYqNjb20s8xMTF2hwQAuJnFi6WYGClvXqlyZaejgQ8kt7+W6LMBwB+4l5ZTfiVw2L68vHr16lq0aJH+/PNPSdKvv/6qFStWqGHDhtd9/9ChQxUZGXnpUbBgQbtDAgDcjHvYvGlTKYhyH+lBcvtriT4bAJx24ID0yy9mF1jTpk5HA0/ZPtPdu3dvRUdHq0SJEgoODlZ8fLwGDx6sdu3aXff9ffr00QsvvHDp55iYGDpxAPCl+Hhp5kxzzdLydCO5/bVEnw0ATnN311WqmMVpCAy2J91TpkzRhAkTNHHiRJUuXVqbN29Wz549lS9fPj3++OPXvD80NFShoaF2hwEA8NTq1dKRI1K2bFLNmk5HAx9Jbn8t0WcDgNMur3mKwGF70v3SSy/plVdeUdu2bSVJZcuW1d69ezV06NAkO3EAgIPcPXiTJlKGDM7GAp+hvwaAwHL8uLR0qbkm6Q4stm/cO3v2rIKu2g8YHBzMESQA4I8si4os6RT9NQAEljlzzI6wO++Ubr3V6WiQHLbPdDdp0kSDBw9WoUKFVLp0aW3atEkjRoxQx44d7W4KAJBav/4q7dkjhYVJDz7odDTwIfprAAgs7oVplF8JPLYn3R999JFef/11de3aVUeOHFG+fPnUuXNnvfHGG3Y3BQBILfcsd/36UubMzsYCn6K/BoDAceaM9OOP5pqFaYHHZVmW5XQQl4uJiVFkZKSio6MVERHhdDgAkLaVLStt2SJ99ZX06KNOR4P/Fyh9YaDECQCBbto0qVUrqVgxaedOc2QYnOdpP8hhrACQXv31l0m4Q0Kkxo2djgYAACTBvTCtRQsS7kBE0g0A6ZV7c1itWtIttzgbCwAAuK4LF6S5c801S8sDE0k3AKRXVGQBAMDvLVkiRUdLUVHSvfc6HQ1SgqQbANKjAwekNWvMGrWmTZ2OBgAAJMG9tLxZMymI7C0g8X82AEiPZs0yz1WqSHnzOhsLAAC4rvj4xC6bhWmBi6QbAG7k9Gnp+++lbducjsRe331nntkcBgBII379VZo/3xyvlVasXCn9+6+ULZtUs6bT0SClSLoB4GqWJa1dKz39tJkFbtJEKl1aKllS6ttX2rTJvCdQHTokLV1qrh9+2NFQAABIjehoaeRIqUIF6e67pQYNpFy5pJYtpW++Mf8eyCZPNs8tWkgZMjgbC1KOpBsALrdpk+m1K1eWxo41M92FCkkZM0p//CENHiyVLy/VqyfFxDgdbcp8+60ZNKhaVSpc2OloAABItoQE6aWXzNh4167Sxo2mqy5USDp3zuyD7tBBypfPnHEdiOLiTJctSW3bOhsLUoekGwDcdu+W6teXfvtNypRJevRRadkyac8e6b//zJB5y5bm3376SapTRzp61Omok889bE4PDgAIUH36SO+8YxLsUqWk994zNUL37DHj5337SnfcIZ09K7VuLX3+udMRJ9/ixeZrRq5c5nRPBC6SbgCQpOPHpYYNpSNHpLvukv75R/rqK+n++02F74gI6ZFHzF7oFSukHDmk9evNv//zj9PRe27PHmn1avM7tWrldDQAACTbyJHS8OHmeuxYacsWqWdPKWdO073dfbf05pvS1q1Sp05mVrxTJ2nECCejTj73GHmrVlJIiLOxIHVIugEgNtYUFPvjD6lAAWnuXJNUJ6VCBennn817t2+XqleX/vrLd/GmxtSp5rlmTaqWAwACzvffS927m+uBA00y7XJd/73BwdKYMdKLL5qf//c/MwMeCGVZYmMTjwpjYVrgI+kGkL4lJEhPPCEtX25ms+fNk/Lnv/nnSpY0M9633Sbt3WvWfQXCUnOWlgMAAtT69VKbNqbr7tjRJNA343KZWfEhQ8zPgwcnzpL7sx9/NEXg8uUzY/sIbCTdANK34cNNIhoSYiqtlC3r+WcLFzaJ9+23m41kHTv69/D5jh1mo1tICId9AgACyvHj5jCRs2elunWlUaOSnuG+mstl9oC/9575+bXXpDVrvBerHdxj5G3aSEFkbAGP/xMCSL/+/VcaNMhcf/KJ9MADyb9HnjzSlCmmZOqcOdLHH9sbo52mTDHPdeuajW8AAASIt96SDh82xdG++y5lx2f16GGS2Ph4qV07/z1O7MwZadYsc83CtLSBpBtA+jVokOnZ7rnHnMmdUnffLb39trl+8UXp119tCc9WliVNmmSu6cEBAAFk/37pww/N9bvvmt1gKeFySZ99JhUpYuqKdu7snwvU5s41M/pFi5qvKAh8JN0A0qe//zZr0yQzfO7pGrWkPPec1LixdOGCSWrPnEl9jHb6/XdTKC40VGra1OloAADwWP/+prDYffeZg0ZSIzLSjEEHB5sFYF98YUeE9rq8/Epqv57AP5B0A0ifXn9diouTHnxQql079fdzuaTx403Fkz/+MGvY/Im7B2/Y0HzjAAAgAGzblpgYDxtmTxJ6773mSDHJVEL/44/U39Mu0dGmpqvEwrS0hKQbQPqzcWPiUuu33rLvvjlzShMmmG8E48aZ0qP+ID7exCWZzWwAAASIV1811cqbN5eqVLHvvr17S3XqmGXcHTuaNvzB1KlmVr9kyeTVdoV/I+kGkP688op5fuQRsx/bTrVqST17muuuXaVz5+y9f0r88IPZEJcjB0vLAQABY+VKU1AsKMgc9WWnoCAzg541q7R6tTR2rL33T6nPPjPPNzp/HIGHpBtA+vLTT9LChabsqXttmd0GDpQKFJB27Uqsju4k9971J56QMmVyNBQAADxhWYlj5B07mplfuxUokNhN9+5tDjVx0vr10oYN5kCUxx93NhbYi6QbQPoyYIB5fvZZqVgx77SRNav00UfmevhwaetW77Tjib17EzeHPfOMc3EAAJAMixdLK1aYseL+/b3XTvfuUvny0smT0gsveK8dT7jHyB9+mJM90xqSbgDpx++/mx48ONgMaXtTs2bSQw+ZYm1duji3WWzsWDNdUKeOdPvtzsQAAEAyjRxpnjt2lPLn9147wcFmSXdQkDRxolkM54To6MRyM126OBMDvIekG0D64d4o1ayZqTLubR99JGXJYhL98eO9397VLl5M3KRGDw4ACBAHD0ozZ5prX3RfFStK3bqZa6fKsUyYYIq6lS4tVavm+/bhXSTdANKHM2ekr782175KQAsVSlzO/tJL0pEjvmnXbfZs6fBhKU8eCqgBAALG55+bgzeqVfNdBe9Bg8x4/M6d0pAhvmnTzbISl5Z37kwBtbSIpBtA+jB5shQTI912mz3ncnuqRw9TIf3ECenFF33XrpTYg3fqZArHAQDg5+LjpTFjzLUvF2lFREgffmiuhw2Ttm/3XdurVklbtkhhYdKjj/quXfgOSTeA9MGdgD7zjNm45SshIWZZu8tlZtoXL/ZNuzt3mkrtLpf09NO+aRMAgFSaP1/at0/Knl1q1cq3bbdoITVqZHZndeliZqB9wb37rV07KVs237QJ3yLpBpD2bdhgzuHImNEcm+VrlSqZaumS6cXPn/d+m6NHm+f69aUiRbzfHgAANnAnoE6cculySR9/bGacly8353h727Fj0tSp5rpzZ++3B2eQdANI+9w9eKtWUq5czsQwZIgUFSX99Zf01lvebevkSQqoAQACzr590ty55tqpUy6LFLmyHMvRo95t79NPpdhYqVw56Z57vNsWnEPSDSBti4kxZ4BIzg4hR0ZKH3xgrocOlXbs8F5bw4ebPeQlS5p1cgAABICxY80Jm7VqSXfc4VwcPXuaAm7HjpnE21v++096+21z/dJLFFBLy0i6AaRt33xjKpeXLCndd5+zsTz8sFnufeGCWW7ujc1iBw9K779vrocONQeQAgDg5/zplMsMGRLLsXzxhbR0qXfaGTJEOnXKzHK3aeOdNuAfSLoBpG3uvc1dujg/hOxymXVkYWHSkiWJ5VntNGCAOWC0alXpoYfsvz8AAF4wb5506JCUO7fUrJnT0UhVqiQukHv6aen0aXvvv2eP+UogmWrpvqzxCt/j/7wA0q5t26TNm82QdYcOTkdjFC0qvfmmue7Z08Rolx07pHHjzPWwYc4PMgAA4CH3TrDHHjN1T/3B0KFSgQLmQJDnnrP33m+8YRa+1akj1a1r773hf0i6AaRdU6aY5/r1zdkj/qJXL6lePTMj3batfdXMX3vNHHDapIlUvbo99wQAwMtOn5bmzDHX7do5G8vlsmUzu9SCgswyc/fAQGr99ps0YYK59nZtVfgHkm4AaZNlSZMnm+u2bZ2N5WpBQdKXX5o1dL//Lr34Yurv+csv0rRp5t5DhqT+fgAA+MicOWYcunhxs7/Zn9x/v/T66+a6Sxfp779Tf88+fczXlDZtpIoVU38/+D+SbgBp0+bN0p9/mv3T/ri3OSpK+uorc/3JJ9KsWSm/V0KC1Lu3uX7sMalMmdTHBwCAj1w+Ru6PO6P69jW1WE+dMjPxFy6k/F6LF5v96yEh0qBB9sUI/0bSDSBtcvfgjRpJWbM6G0tSHnwwcZa7Y0dzQGlK9O4tLVsmhYYmHi4KAEAAOHFC+uEHc+2vFbxDQsxy8FtukdatM7u5UmLXrsTFd888I912m30xwr+RdANIe/x5afnVBg82a8uOH5dq1Ej+urVPPpHeecdcjxsnFSpkf4wAAHjJzJnmuLAyZaTSpZ2OJmmFCiXWKn3nHalfv+Sd/HnsmNSwoTmbu1w59nKnNyTdANKeNWvMrHHWrKaH82cZM5q92LfdZs4PqV7dVFjxxOzZ0vPPm+vBg6X27b0WJgAA3hAoY+SS1Lx5YtmUgQOlHj3MDq+bOX/eHIO2Y4dJ3r//XgoP92qo8DMk3QDSHncP3qyZ2dPt7woVkn7+WbrzTunwYTPjvXr1jT+zbp35hpKQYA4Q7dPHN7ECAGCTI0ekRYvMtb8uLb9anz5mkZnLJX30kfT442amPikJCeY9K1ZIkZFmP3e+fL6LF/6BpBtA2hIfL02daq4DYdjcLSrK7MuuWlU6eVJ64AGz9mznzivf99df0iuvJB45Vr++9Omn/ll5BgCAG5g2zXTbFSsG1v7mrl3NHm/3Xu8GDczis8tPAI2NNV9H6tQxzxkySDNm+PcSenhPiNMBAICtli83s8W33CLVret0NMmTLZu0YIHUqpU0f74ZTu/TRypb1hSEW7NGWro08f333GN68hD+Uw4ACDyBtLT8ao88YmauW7Uys/WLFpldbY0aSXnymDO9jx417w0OlsaPl2rVcjZmOIdvagDSFncP3rKl2S8daLJkMceHffml9O235myR3383D8nMaNevb5aUN25shs4BAAgw//xjdlZJUuvWzsaSUo0amd1eY8ZI06eb32nKlMR/z5fPHE7SsaNUtKhzccJ5JN0A0o6LF6XvvjPXgbI57HoyZjRJ9dNPm6rms2ebIfTbbjM9d8GCTkcIAECqfPutqf5drVpgd2tlykgffCC9/75JwKdNk/7914z9N2jAYjQY/M8AQNqxbJlJUnPmlGrWdDoae2TPLj3xhHkAAJBGTJtmngN1lvtqLpdUqZJ5AFejkBqAtGPGDPPctClDywAA+KnDh6VVq8x18+bOxgL4Akk3gLQhISEx6W7RwtlYAABAkmbNMkvL77knsJeWA54i6QaQNqxdKx06JIWHm/M5AACAX3KPkTPLjfSCpBtA2uDuwRs2lEJDnY0FAABc18mT5mAOiaQb6QdJN4DAZ1nmrA6JpeUAAPixuXPNYSMlS0olSjgdDeAbJN0AAt/WrdLOnWaGu0EDp6MBAABJYGk50iOSbgCBzz3LXbeu2dMNAAD8zrlz0g8/mGsWpiE9IekGEPgYNgcAwO8tWCCdPSsVKiSVL+90NIDveCXpPnDggDp06KAcOXIoc+bMuvvuu7VhwwZvNAUgvdu9W9q8WQoKkh56yOlogIBCfw3Al9wL05o3l1wuZ2MBfCnE7hueOHFC1apVU61atfTDDz8od+7c+vvvv5UtWza7mwKAxFnu+++XcuZ0NhYggNBfA/ClixelOXPMNQvTkN7YnnQPGzZMBQsW1Pjx4y+9VqRIEbubAQCDpeVAitBfA/Cl5culEyfM+Hj16k5HA/iW7cvLZ8+erYoVK+rhhx9W7ty5Va5cOY0ZMybJ98fGxiomJuaKBwB45N9/pZUrzTVJN5Asye2vJfpsACnnXlretKkUHOxsLICv2Z5079q1SyNHjlTx4sX1448/qkuXLnr++ef11VdfXff9Q4cOVWRk5KVHwYIF7Q4JQFo1a5Y5o7tiRYn/dgDJktz+WqLPBpAyCQnSzJnmmjFypEcuy7IsO2+YMWNGVaxYUatWrbr02vPPP69169Zp9erV17w/NjZWsbGxl36OiYlRwYIFFR0drYiICDtDA5DW1K8v/fijNGSI1KeP09EAtomJiVFkZKRX+8Lk9tcSfTaAlFmzRqpSxZzqeeSIlCmT0xEB9vC0v7Z9pjtv3rwqVarUFa+VLFlS+/btu+77Q0NDFRERccUDAG7q5Elp8WJzzbA5kGzJ7a8l+mwAKeMuv9KwIQk30ifbk+5q1appx44dV7z2559/qnDhwnY3BSA9mzvXlEItWVIqUcLpaICAQ38NwBcsK3E/d4sWzsYCOMX2pLtXr15as2aNhgwZop07d2rixIkaPXq0unXrZndTANIzqpYDqUJ/DcAXtm6Vdu6UQkOlBg2cjgZwhu1J9z333KMZM2Zo0qRJKlOmjN588029//77at++vd1NAUivzp2TfvjBXJN0AylCfw3AF9xj5A88YPZ0A+mR7ed0S1Ljxo3VuHFjb9waAKQFC6SzZ03F8goVnI4GCFj01wC8jaXlgBdmugHA6y5fWu5yORsLAAC4rt27pc2bpaAgqUkTp6MBnEPSDSCwXLwozZ5trhk2BwDAb7nHyO+/X8qVy9lYACeRdAMILMuXSydOSDlzStWrOx0NAABIAjVPAYOkG0BgcffgTZtKwcHOxgIAAK7r33+llSvNNUk30juSbgCBIyGBYXMAAALArFnmjO6KFU3dUyA9I+kGEDjWrpUOHjRnjtSp43Q0AAAgCVQtBxJ55cgwAA66cEGaM0f68ktz3aSJ1KyZlD+/05Gl3tSp5rlRIylTJmdjAQAglf7+W/r8c2nJEqlcOallS1N0LCTAv6EfPSotWmSuSboBkm4g7di5U/rsM5Ns//df4us//ih17y5VqSI9+qjUubM5uyPQJCRIU6aY63btnI0FAIAUiouTvvtOGjNGWrw48fXVq6VPP5Vy5DBlS15+WbrjDufiTI3p083vWa5c4P4OgJ1IuoG0YNky6cEHpdhY83NUlPTkk1L27KbnW7068bFmjTRuXOANo69YYZaWR0aa3xUAgAATF2dKknz/vfnZ5ZLq1TOzwWvXSjNnSseOmdnvGTOkH36QKld2NOQUmTzZPLdt62wcgL8IwOkuAFfYvt0sH4+NlapVMz32/v3SkCHSiy9Kq1ZJ//wjDR1qqn1/9ZXUqpV0/rzTkSePuwdv3lwKDXU2FgAAksmypOeeMwl3pkzS669Lu3ZJ8+dLzzwjjR0rHT5slmVXrmxOx6xTR/rpJ6cjT55Dh6SlS81169aOhgL4DZJuIJAdPiw1bCidPGmWjy9caNakXT2LnT+/9MorZtY7NNSUFG3YUDp1ypGwk829Fk9i2BwAEJDeflsaNcrMbk+cKA0cKBUpcuV7QkKk2rVN4l23rnTmjClj4i5KFgi+/dYMMNx777W/H5BekXQDgerMGalxY2nPHum220wiHRZ248889JBZq5Y1q6naUqeOFB3tk3BTZckSs089Z07zbQQAgAAyebLUu7e5fu+9m596mSWLqYnasqWpifrww9LXX3s/Tju4y68wRg4kIukGAlF8vOnNNmwwFVd++EHKlcuzz9aqZZLYHDmkdetMYTXL8m68qeVeWt6qlZQhg7OxAACQDD//LD3+uLnu0cM8PBEaarq/jh1NLdGnnpI2b/ZamLbYu9fsanO5zEABAIOkGwhE48aZTWGhodLs2WamOzkqVpTmzjXr2KZMkcaP906cdoiNTVxXx7A5ACCAxMaag0MuXDCz2+++m7zPh4SYvd4PPWTu0batWejmr9wne9aoIeXL52wsgD8h6QYCzdmzUv/+5nroUKlq1ZTdp3JladAgc/3cc6Ygmz9asMDsWc+XT6pe3eloAADw2MiRZvY3b16zPDw4OPn3cLlMNfP8+aUdO6Tnn7c/TrtQtRy4PpJuINB88IEpDVqkiNS1a+ru9dJL0gMPmES+XTv/rGju7sFbt07ZtxUAABwQHZ04tj1ggNmnnVI5ckgTJiQm4O6u0Z/8+ae0caPpqlu2dDoawL+QdAOB5Ngx6a23zPWbb6b+6KygIHOEWM6c0q+/JlZ58Rdnz5oCcRLD5gCAgPLOO6bbvuMO6cknU3+/mjWl114z1507S7t3p/6ednIXUKtb13ytAJCIpBsIJEOHSjEx0l13SY88Ys898+aVvvzSXH/4oTRvnj33tcP335vNa0WKSJUqOR0NAAAeOXxYGjHCXA8Zcu1JninVr5/ZVRYTI7Vvb+qq+gPLkiZNMteMkQPXIukGAsXevdJHH5nrt94ys9R2adgwsZzqs8/6T5WWMWPM8yOPmDV1AAAEgIEDzWKtypVvfjxYcoSEmDO+IyKk1avNud/+YNUqUxomLExq1szpaAD/Q9INBIp+/Uzp0po1pQcftP/+gwdLhQtL+/aZzWdO27lT+uknk2w//bTT0QAA4JG//pJGjzbXw4bZP2ZcuLCZPZekV1+VDh609/4p4U7+27WTIiOdjQXwRyTdQCDYutXsvZa804NLpsLLxx+b6xEjpN9+s7+N5HB/Y2nQwCwvBwAgALz+uln23bChOTrLG7p0ke65xywz79XLO2146tgx6dtvE+MCcC2SbiAQvP++2TDVvLl39zY3biy1aGG+LXTuLCUkeK+tG4mNNeVZJRMHAAABYO/exLOq3bPR3hAcbMamg4NNez/84L22bubLL023Xa6cVLGic3EA/oykG/B30dFmA5fkm+HsDz+UwsOlNWsSZ5t9bdo0M3ReoICZKgAAIACMHWvGyGvXNjVPvenuuxPLsXTtavaQ+5plSZ99Zq67dKH8CpAUkm7A333zjelJS5aUqlf3fnv58yceLPrKK6YEq6+5e/Cnn7av5CsAAF508aI0bpy59tUirQEDpIIFpT17zEmivrZ0qTmfOzzc7OcGcH0k3YA/s6zE6iS+HELu1k2qUMHMsvt6s9i2bdLy5WbNXKdOvm0bAIAUmjNHOnRIyp3bdxW8s2ZNLMfyzjvSli2+adfN/RWlfXuTeAO4PpJuwJ+tXi39/rs5g+PRR33XrnuzWFCQNHmytGCB79p2z3I3aWJm3QEACADuBLRTJyljRt+1+9BDpuRLXJxvy7H8+680fbq5poAacGMk3YA/cyegbdpIt9zi27bLl5eee85cP/usdO6c99s8ezaxSjs9OAAgQPz9t7RwoXOnXH74oZn1XrUqcYm7t40fbxL9e+/1/v51INCRdAP+6vhxacoUc+1UAvrmm2a2edeuxH3e3jRlinTypFS0qFS3rvfbAwDABu66ow8+aLowXytQIHFP98svm1lob4qLS/ydGSMHbo6kG/BX7jM47r7bu8eE3Uh4uPTRR+b67bfNfmtvuXAhMbHv0sUsbQcAwM9dfsqlkwlo9+7m2K6TJ6X//c+7bX31lbR7t5Q9u9S6tXfbAtICvtUC/sifzuBo1szsr7540bubxUaPNjPqefKYQm4AAASA6dOlo0fNwrBGjZyLIyTEfHVwuczBJz/95J12zp2T3njDXL/6qik7A+DGSLoBf7RsmbRjh9mg9cgjzsbicpnZ7syZpRUrEofz7XTqVOK6uH79pCxZ7G8DAAAvcI+RP/WU86dc3nOPmfGWvFeO5eOPpQMHzFFljJEDniHpBvzR+PHm+ZFH/OMMjsKFpYEDzXWvXqZijJ1GjJCOHJFuu818awEAIADs2mXGyYOC/Kf7GjRIypdP2rlTevFFe+994oQ0ZIi5fvNNKVMme+8PpFUk3YC/OX9emjHDXD/2mLOxXK5nT+n++6XTp6W2bc0ebDscOWIOF5WkwYOlDBnsuS8AAF7mrndau7YpZuYPIiISx+4//TTxK4Ud3nrL7BkvU0bq0MG++wJpHUk34G9++MEsty5YUKpSxeloEgUHSxMmmKPL1q+X+va1576DBplEvmJFqVUre+4JAIAPTJ5sntu2dTaOq9WrJ730krnu1Enavz/19/znH3M0mSQNHWq+FgDwDEk34G/cPXibNv5XwbtgwcQ93W+/LS1YkLr77doljRplrt96y/9+XwAAkrBtm/Tbb2aBVvPmTkdzrUGDzB7vEyek9u2l+PjU3a9/f7MYr3p1ZwvGAYGIb7iAPzl9Wpozx1z727C5W7NmUteu5vqxx1J+GGhcnKnycvGiGZKvU8e2EAEA8Db30vIHHzRHZ/mbjBmlSZNMaZiff048lTMlli5NXLI+bJizh6oAgYikG/Anc+aYUqO33SaVL+90NEl75x2pbFmTcLdubZbDJ4dlmcR9wQJz1oh7TzcAAAHAsvx3afnlbr1VGjnSXA8cmLL93Vu3mvH2hASzj7tqVVtDBNIFkm7An1zeg/vzMHJYmIk1a1Zp+XLpgQekY8c8//xbb0ljxpjfcdIkk8ADABAgNm+W/vzTVO9+6CGno7mx9u2ljh1N0tyqlfTll55/9tAhqWFDKTpaqlbNdN0Ako+kG/AXJ06YImqSfw+bu5UqJS1aZNbUrV0r1aghHTx4889NnCi9+qq5/vBDqWlT78YJAIDN3GPkjRv7x8meN/PZZ9ITT5jE+4knpA8+uPlnTp82v9++fVLx4tKsWRwRBqQUSTfgL2bONPuby5SRSpd2OhrPVKpkZrrz5TPrz6pVMweDXo9lmd/xySfNz//7n9S9u89CBQDADpaVuJ87EMbIJSkkRBo3zpz+KZnnfv3M73I9//1n6rlu3CjlymXmBHLk8FW0QNpD0g34C3cP3qaNs3EkV+nS0ooVZuPYnj1SyZJS/frS6NHmDO7Dh81y8ttvN+VdL1ww69uGD3c6cgAAku2XX6S9e80Oq4YNnY7Gc0FB0ogR0ptvmp8HDpSKFJF69TLdeFyctHChKdWSP780b57ZTTZnjuniAaScy7KSGuNyRkxMjCIjIxUdHa2IiAinwwF847//pLx5zXkef/5p1nEFmsOHTTK9cmXia0FBZt+2+5yS8HCzrm3YMNOTA7iuQOkLAyVOwE49e5rl2e3bSxMmOB1NyowaJb34onTmTOJroaFSbGziz/fcY8bMa9f2fXxAoPC0H2SmG/AH06aZxLRChcBMuCUpKsoMle/YIQ0ZYn6XhATze1Wtas73PnTI7OMm4QYABKD4eGnqVHMdKEvLr6dLFzPeP3Om9OijUmSkSbizZTM7vzZvNuVaSLgBe4Q4HQAAJfbggba0/Hpuv13q08c89u8369WKFnU6KgAAUm3lSjN+nC2bVK+e09GkTliYqWXatKnZ+bV9u+nCGRcH7EfSDTjt6FFp2TJz3aqVs7HYrWBBpyMAAMA206eb54cekjJmdDYWO2XMKN11l9NRAGkXy8sBp82ZY5Zh3303M8IAAPgpy5JmzDDXLVo4GwuAwELSDTjN3YM3b+5sHAAAIEmbNpkzqzNnDvyl5QB8i6QbcNKpU9KCBeaaYXMAAPyWe2l5gwbsewaQPCTdgJPmzzflQm+7zZx3DQAA/BIL0wCkFEk34CT3sHmLFuY8awAA4Hd27JC2bZNCQqRGjZyOBkCgIekGnBIbK82da64ZNgcAwG+5Z7nr1DHHhQFAcpB0A05ZtMjs6c6XT6pUyeloAABAElhaDiA1SLoBp7h78GbNpCD+XxEAAH/0zz/S2rVmF1jTpk5HAyAQef2b/tChQ+VyudSzZ09vNwUEjvh4adYsc82wOQA/QH8NXN/Mmea5alUpKsrRUAAEKK8m3evWrdPo0aN15513erMZIPCsXCn99590yy1SjRpORwMgnaO/BpLmrnnKGDmAlPJa0n369Gm1b99eY8aM0S233JLk+2JjYxUTE3PFA0jz3EvLmzSRMmRwNhYA6Zqn/bVEn43059gxaflyc03SDSClvJZ0d+vWTY0aNdIDDzxww/cNHTpUkZGRlx4FCxb0VkiAf7AsKrIA8Bue9tcSfTbSn9mzzY6wu+6SihVzOhoAgcorSffkyZO1ceNGDR069Kbv7dOnj6Kjoy899u/f742QAP+xaZO0d6+UObP04INORwMgHUtOfy3RZyP9YYwcgB1C7L7h/v371aNHDy1YsECZMmW66ftDQ0MVGhpqdxiA/3JvDqtfXwoLczYWAOlWcvtriT4b6cvp09KCBea6RQtnYwEQ2GxPujds2KAjR46oQoUKl16Lj4/X8uXL9fHHHys2NlbBwcF2NwsEDvewOT04AAfRXwM39sMPUmysdOutUpkyTkcDIJDZnnTXqVNHv//++xWvPfnkkypRooR69+5NB470bccOads2KSREatTI6WgApGP018CNXb603OVyNhYAgc32pDs8PFxlrhoOzJIli3LkyHHN60C64+7Ba9eWsmVzNBQA6Rv9NZC02Fjp++/NNQvTAKSWV8/pBnAVlpYDAOD3Fi+WTp2S8uaVKld2OhoAgc72me7rWbp0qS+aAfzbP/9Ia9eaNWpNmzodDQBcg/4aMNw1T5s1k4KYogKQSvxnBPCVmTPNc9WqUlSUo6EAAIDri4+XZs0y1xwVBsAOJN2Ar3DYJwAAfm/VKum//0zplZo1nY4GQFpA0g34wrFj0rJl5pqkGwAAv+VeWt6kiZQhg7OxAEgbSLoBX5gzx6xXu+suqVgxp6MBAADXYVnUPAVgP5JuwBfcw+bMcgMA4Lc2bZL27pXCwqR69ZyOBkBaQdIN/3LsmLRihXT2rNOR2CcmRlqwwFyTdAMA0gDLMgnqn386HYm9pk0zz/XrS5kzOxsLgLSDpBvOS0iQFi2S2rWT8uWT7rtPypVLatVKmjjRJK2BbNYsKTZWKlFCKlvW6WgAAEixI0ekt982XVr58tIdd0ilSkmvvy5t3myS8UBlWdLkyea6TRtnYwGQtpB0w1nffScVLy498IDp6S5ckG65xcx0T5smtW8v5c4tffKJ05GmnLsHb9vWnNENAECAOXnSjI3nzy+9/LKZ4c6c2RQa275dGjRIKldOqlxZOnTI6WhTZv16adcu83s1bux0NADSEpJuOGfePJOI7tolRURIzz4rbdhglphv2CC9+qoZQo+Nlbp3lwYODLwh9GPHEpeWM2wOAAhAsbFmd9TkyVJcnFSpkjRmjHT4sDlaa8IE8+9hYdK6dVL16qZrDzTuMfKHHpKyZHE2FgBpC0k3nLFxo9S6tano/eij0sGD0qefmrVqLpd5HjzYDJ8PGGA+06+f1KuXWY4eKKZPN99Q7r7brMUDACCAWJbUqZO0dKkUHm7Krvzyi/TUU+bnyEizKG36dGnLFnNAx65dJvHessXp6D2XkCBNmWKu27Z1NhYAaQ9JN3xv716pUSPpzBmpTh1p7Nikh5RdLumNN6QPPjA/f/CB1LGjSWQDweVLywEACDCvvy59840UHGx2hFWrlvR7ixUzSXmZMmaJ+f33mwQ9EKxcKR04YAYR6td3OhoAaQ1JN3zr5EmpYUOzJq1MGbNvO2PGm3/u+eelr74yvf6XX0pdung91FQ7fNhMDUgsLQcABJwxY8yiM0kaPdqzI7Ty5pWWLZPuvVc6ccKUbNm2zbtx2sE9y928uRQa6mwsANIekm74jmWZGd9t20yV8nnzzJCypx591CTpQUHSuHHSpEnei9UO331n1qvde69UpIjT0QAA4LEVK0ypFcksOOvY0fPPZs8uLVxoZrpPnzYF2M6f906cdoiLk7791lyzMA2AN5B0w3fmzpV+/FHKlMlcFyyY/Hs0bSr17Wuuu3Tx70otLC0HAAQgyzIlVOLjpUcekfr3T/49smY1s8e5ckm//WYqnvurpUvNUWg5c0q1azsdDYC0iKQbvhEfL/XpY6579DCFxVLq9dfNprKYGPNt4OJFW0K01b59ZoOYyyU9/LDT0QAA4LHvvjPHZ2XNKr33XspPu4yKMjvCJOmjj6TZs+2L0U7uMfJWrcwRaABgN5Ju+MaECaaM6S23SL17p+5eISGmqku2bKZCyxtv2BKiraZONc81apil9AAABICLF82JnZL00ktS7typu1+DBtILL5jrJ580xcr8yYULZueaxMI0AN5D0g3vO3/ezE5LZrb7lltSf8/ChU3Vc0kaNkz66afU39NOLC0HAASgsWOlnTtNsu1OllNr6FCpQgXp+HGpQwez+M1fLFhgarzmy2eOOQMAbyDphvd9+qm0f79UoIDUvbt9923ZUurc2Ww+e/JJ6dQp++6dGtu2SRs2mErrLVs6HQ0AAB45fVoaMMBcv/GGWV5uh4wZTe3TLFnM/umPP7bnvnb46ivz/PDDptsGAG8g6YZ3nTyZeN7IwIFSWJi99x8xwhwM+s8/Ur9+9t47pT77zDw/9JCpygIAQAB4/33p33+lW2+Vnn7a3nsXLy69+6657tvXdNtO+/dfacYMc52c6uwAkFwk3fCu4cPNerJSpaTHHrP//pkzm5l0SfrgA2nTJvvbSI6zZxOrxgTCWeIAAEj67z/TZUvSoEFmdtpuTz8tVa1qZtR79LD//sn1+efmuLAqVaQ773Q6GgBpGUk3vOfYMTNsLpkNXd5at/Xgg1KbNuZM7M6dnd0sNmWKFB1tZt8feMC5OAAASIZ33zW7tMqXl1q39k4bQUHSqFGmHur06dKcOd5pxxMJCdLo0eaaMXIA3kbSDe/58kvp3DlzPFiTJt5t6733pMhIad06aeRI77Z1I+6l5c88Y75dAADg52JjE2uTvvGGd7uvsmWl//3PXHfvLp054722bmTBAmnPHlPblZM9AXgbWQG8w7ISE9Bnn035IZ+eypvXzKZL5qyTgwe92971bNpkjjDLkMEUdgMAIABMm2YWpxUoIDVq5P323nhDKlJE2rdP6t/f++1dz6hR5vnxx+0vNwMAVyPphncsXSr9+acpfdqunW/a7NxZqlzZrI9zYrOYe5ChRYvUH2wKAICPuLuvp54yS7+9LXNm6ZNPzPV770m//ur9Ni/3zz+JS9ufeca3bQNIn0i64R3uIeQOHaTwcN+0GRRkvjkEB0vffSfNm+ebdiWT6H/zjblmcxgAIEBs2yYtX266zqee8l27DRtKrVqZMiy+LscybpzZ012jhlSypO/aBZB+kXTDfpefwdG5s2/bvusuqVcvc921q+82i02caMqx3nGH6cUBAAgA7mJijRtL+fP7tu0PPjDj8r/8khiHt8XFSWPGmGvGyAH4Ckk37Dd+vHTxolnqfffdvm+/f3+pUCFp715zNri3WVbizH7nzt7fvw4AgA2cPuUyXz5pyBBz/cor0qFD3m9z7lzpwAEpZ06peXPvtwcAEkk37OYPZ3BkySJ9/LG5HjFC+v1377a3bJm0ebMUGmoqsgAAEACmTpVOnjRFzerVcyaGZ5+VKlaUYmISF6p5i2WZPeSS1LGj6bYBwBdIumGvhQul3bvN8V3eOujTE02amIJmcXFm9jkhwTvtWJYZnpekTp2k7Nm90w4AADbzh1Mug4PNWH1QkDRlijR/vvfa+vFHM04eGip16+a9dgDgaiTdsNflZ3BkzuxsLB98YKqnr16duIHLbjNmmM1omTNLr7/unTYAALDZ5s3SmjWmWnnHjs7GUq5c4qEjXbuaZe92S0hIHCPv3t3sQgMAXyHphn0OHkw8g8PXBdSup0ABadAgc927tzkQ1E5xceZMcEn63/+kqCh77w8AgJe4d4I1by7lyeNsLJIpwVKggFks540x7EmTzNFkkZFSnz723x8AboSkG/aZOtWc+VGlilSqlNPRGN27m4Ju0dFS+/YmUbbL+PHSjh2mGsuLL9p3XwAAvOjiRdNlS749JuxGsmaVRo401yNG2LvMPDZW6tvXXL/yipQjh333BgBPkHTDPpMnm+dHHnE2jssFB5vzs8PDpRUrEme+U+vsWalfP3Pdt68UEWHPfQEA8LJFi6Rjx6TcuaXatZ2OJlHjxol7rR9/XDp82J77jhol7dljqqU//7w99wSA5CDphj127zZ7m4OCpFatnI7mSrfemrjX/M03peXLU3/PDz80Z5sUKcJBnwCAgOIeI3/4YbOn25+8/bZUtqx05IhJvFNbBzUmJnG8vX9/58vNAEifSLphjylTzHOtWv65t/mRR6QnnjC9d/v20vHjKb/X0aPSW2+Z6zff5MwRAEDAOH/e1ACVpLZtnY3lesLCzKBAWJi0YIFZap4aw4ebbvuOO6Qnn7QnRgBILpJu2MM9bO6PPbjbRx9JxYtL//xjjveyrOTfIzZWatnS7BG/6y7/WkoPAMBNzJ9vZn8LFJCqVnU6musrVcocQCKZomdr16bsPt9/Lw0daq6HDPG/WX0A6QdJN1Jv+3ZTEjQkxJyN7a+yZjWDAxkySDNnmsQ7OYXVEhLMbPny5WYP94QJzh1sCgBACrjHyNu08e8u7KmnzG61uDipQQNp3brkfX79evM7JiSYI9GaN/dOnADgCT/+zy0Chntp+YMPStmzOxvLzZQvL33+uSmwNn686ZFjYz377GuvmW8rISHS9OlSmTLejRUAABudOZN4sqc/L0yTJJdLGjvWHEBy/Lgp+LZkiWef3bPHFGU7e1aqV8+UdXG5vBouANwQSTdSx7ISk+42bZyNxVMdOkjffSdlzGiS58aNpdOnb/yZzz5L3Mc9dqxUp4734wQAwEbff28S0WLFpAoVnI7m5iIjpZ9+Ml3u6dNmxnvWrBt/5sQJqWFD6d9/pTvvlL791ixwAwAnkXQjdX77TfrjD1NMrGlTp6PxXLNm0g8/mCXnP/1khtC///7aWe9ffzVnfXftan4eMMCUUwUAIMBcXn4lUGZ+s2aV5s41y8PdZVUGDpT+/vvK950+bRay3X+/2fVWoIA0bx4negLwDy7LSkk1Ke+JiYlRZGSkoqOjFcF/Kf1fnz5mBrhFC2naNKejSb61a83QubuaeXi41KiRWYY+darZFObWqZM0ZkzgfFMBELACpS8MlDhh6n/mzi1duGDGy8uWdTqi5ImLk55+Wvrii8TX7rrLJOMHD0qTJkmnTpnXs2WTli0zM90A4E2e9oPUcUTKWVZgVC2/kUqVTOL9wQdmqfmBA+Z3cv9eGTKYHv2pp6QHHiDhBgAEpJkzTcJdqlRgliQJCZHGjTMz2RMnmv3dv/5qHm633Wa66yeekPLkcSxUALgGSTdSbu1aU60kSxYzOxyobr1V+vBD6f33TXnUadPMNEC9etJjj0k5czodIQAAqRKIS8uvFhRkztp+8knp2DFp9myzMyw83Lx2//2B+7sBSNtIupFy7uXkTZpImTM7G4sdgoJMmdTKlZ2OBAAA25w8acqXSFLr1o6GYpscORITcADwdxRSQ8pYljRjhrn257O5AQBI5+bONXuiS5WS7rjD6WgAIP0h6UbKbNki7dxpqpY3aOB0NAAAIAnTp5tnxsgBwBkk3UgZ9yx3vXrmPA8AAOB3zp6V5s83182bOxsLAKRXJN1IGYbNAQDwewsWmMS7cGGpXDmnowGA9ImkG8m3a5c5oyM42BRRAwAAfsm9MK15cyp7A4BTSLqRfO4evEYNUz4UAAD4nYsXzbFaEgvTAMBJJN1IvsuHzQEAgF9atswcF5Yrl1S1qtPRAED6RdKN5Dl8WFq1ylw3a+ZoKAAAIGnuMfKmTc2OMACAM0i6kTyzZpkzuitVkgoUcDoaAABwHQkJiUk3S8sBwFm2J91Dhw7VPffco/DwcOXOnVvNmjXTjh077G4GTmFpOQCkCfTXadvatdKhQ1J4uFS7ttPRAED6ZnvSvWzZMnXr1k1r1qzRwoULFRcXp3r16unMmTN2NwVfO3lSWrTIXDNsDgABjf46bXOf7Nm4sRQa6mwsAJDehdh9w/nz51/x8/jx45U7d25t2LBB999//zXvj42NVWxs7KWfY2Ji7A4Jdpk7V4qLk0qVkm6/3eloAACpkNz+WqLPDhSWxcI0APAnXt/THR0dLUnKnj37df996NChioyMvPQoWLCgt0NCSrmHzenBASDNuVl/LdFnB4otW6SdO80Md4MGTkcDAHBZlmV56+aWZalp06Y6ceKEfv755+u+53qj5gULFlR0dLQiIiK8FRqS69w5KWdO6exZacMGqXx5pyMCgDQrJiZGkZGRPusLPemvJfrsQDFwoNSvn9SkSeI53QAA+3naX9u+vPxy3bt312+//aYVK1Yk+Z7Q0FCFstnI/y1YYBLuwoWlcuWcjgYAYCNP+muJPjtQsLQcAPyL15Lu5557TrNnz9by5ctVgKOlAt/lS8tdLmdjAQDYhv46bdm9W9q82ZzL3aSJ09EAACQvJN2WZem5557TjBkztHTpUhUtWtTuJuBrFy9Kc+aYa4bNASBNoL9Om9yz3Pffb3aFAQCcZ3vS3a1bN02cOFGzZs1SeHi4Dh8+LEmKjIxUWFiY3c3BF5Ytk06ckHLlkqpVczoaAIAN6K/TJvfCNE72BAD/YXv18pEjRyo6Olo1a9ZU3rx5Lz2mTJlid1PwFfewedOmZr0aACDg0V+nPf/+K61aZa6bNXM0FADAZbyyvBxpSEKCNHOmuWbYHADSDPrrtGfWLHNGd6VKEtvzAcB/eP2cbgS4tWulgwel8HCpdm2nowEAAEm4vOYpAMB/kHTjxtxLyxs1kjgmBgAAv3TypLR4sbkm6QYA/0LSjaRZFhVZAAAIAHPnmsNGSpWS7rjD6WgAAJcj6UbStm6Vdu40M9wNGjgdDQAASIJ7YRqz3ADgf0i6kTT3LHe9elLWrM7GAgAAruvsWemHH8w1C9MAwP/YXr083Tl7Vvr2W1Phu0ABqWVLqXp1KSQN/GmnTjXP9OAAgDTg99+lceOkvXulunXNrHDevE5HlXrz5pmvI0WKSOXKOR0NAOBqaSAzdMimTdKYMdI330gxMYmvf/yxlDOnOSDz2Wel8uUdCzFVtmwxy8szZmStGgAgYJ0+LU2ebLrstWsTX585U+reXapSRWrdWurSJXDrhU6ebJ7btJFcLmdjAQBci6Q7JUaMkP73v8SfixWTHn1U2r/f9OJHj0pjx0pff21mix96yLFQU8zdgzdoIEVGOhsLAAAp8O+/ZvHZzp3m55AQqWlTMx4+Z460Zo20apV5zJ1rdlUF2m6qmBgTuyS1betsLACA62NPd3JNnZqYcLdsKf30k/TXX1L//mbN2r//mtfq15diY83S7K+/djTkZLOsxKSbHhwAEIDOnJGaNDEJd7580vDh0oED0nffSa++Kq1ebcbK33tPypJFWrjQLDk/ftzpyJNn9mzp/HlTsfyuu5yOBgBwPSTdybFihZnRlqTnnzd7uevUkYIu+zOGhJjX5syRHntMio83zx995EzMKbFhg/T331LmzOYbCwAAASQ+XmrXTlq3TsqRQ1qyRHrpJSl37ivfV6CA1LOntGiRdMstZua7Rg3p0CFHwk6Ry8fIWVoOAP6JpNtTO3aYNWkXLpj92iNG3Lh3CwmRxo83yblkngcN8kmoqebuwZs0McP/AAAECMuSevQwY9+hoWYm+Pbbb/yZypWl5ctNUbUtW8yS9L17fRNvahw/Lv34o7lu08bZWAAASSPp9sSRI2Zv8/HjUqVKpnhacPDNPxcUJL3/vll6Lkmvv272fPuzhARpyhRzzdJyAECAGTFC+uQTMy4+YYJUtapnnytTxixoK1pU2rVLevhhM87uz6ZPl+LizLLykiWdjgYAkBSSbk8895y0e7cpmDZnjll27SmXS+rXT3rhBfNzx45mE5m/WrVK+ucfKSLC7EsHACBAbNkivfyyuX7nHalVq+R9vlgxsxT9llvM0vTXX7c/RjtRfgUAAgNJ982sX2+Kp7lc0rRp124I89TQoVKFCtKJE1KHDmbDmT9y9+DNm0uZMjkbCwAAydCnj1mw1by51KtXyu5RuLA5gEQyxdcWLLAvPjsdPmwGCCSWlgOAvyPpvhHLknr3NtePPirdfXfK75Uxo0los2Y1G8eGDLElRFvFxZnicBLD5gCAgPLzz9L335vdX2+9lbqiYi1amHO7JVML9cgRe2K003ffmQGGypXNkngAgP8i6b6RhQulxYtNwjxwYOrvd9tt0siR5rp/f2nlytTf005Ll5pvFjlymArsAAAEgMvHyJ966uaF0zwxYoRUurQ5CfTxx02C609YWg4AgYOkOykJCYk9eLduZr2ZHTp0MLPmCQnSI49IMTH23NcOkyaZ55YtpQwZnI0FAAAPzZplzt3OnNmUUbFDWJhJbDNlkubP96+TP/ftM+P2Lpcp+AYA8G8k3UmZMkXavNkUFHv1VXvv/ckn0q23ml6zb197751SMTGJVcsfecTZWAAA8FBcXGI33bOnOfbLLmXKmBlvybThL8eIjRtnnmvUkPLndzYWAMDNkXRfz4UL0muvmeuXX5Zy5rT3/uHh0qhR5vrjj02JVKd984105oxUooR0//1ORwMAgEe+/FLavl3Knj2xcrmdunSR7rtPOnvWHGZiWfa3kRxxcYmF3tz7zgEA/o2k+3pGjzZHhEVFmWFzb3jgAbPU3LKkzp1NL+oUy5I++8xcd+6cuuozAAD4yLlzicvJX3tNioy0vw2Xy4yTZ8hgTg2dOdP+NpLj+++lgwelXLlMlXYAgP8j6b5aQoL07rvm+vXXpSxZvNfWu++aw0A3bTIz3k755Rfp11/NxrXHHnMuDgAAkmHyZOnAAalgQalrV++1U6pU4iz6c89Jp055r62bcS+U69jR1HkFAPg/ku6rLVgg7dkjZcsmPfmkd9vKnVsaNsxc9+0r7d/v3faS4u7B27Qx6/MAAAgA7kVaXbuacWNveu01U47lwAEzJu+EXbukH380188840wMAIDkI+m+mjsBffxxU7rU2zp1kqpVM/upn3/e++1d7cSJxAJqnTv7vn0AAFJg82azUCtDBu+PkUvmK8Gnn5rrjz6SNm70fptXGzPGPNerJxUr5vv2AQApQ9J9uX/+MZulJN8loEFBJtEPCTEbxWbN8k27bl99JZ0/L915p3Tvvb5tGwCAFHLPcrdoIeXJ45s269Uz52InJJiZ5vh437QrmRqv7qrlFFADgMBC0n25ceNMD3r//VLJkr5rt0wZ6cUXzfVzz0mnT/umXctKnNnv0oUCagCAgHDqlDRhgrn29SKt994zBds2bDAngPrKjBnSf/9J+fJJjRv7rl0AQOqRdLvFxSWu23JiCPn116WiRc2+bncpVm/7+Wfpjz9Msbj27X3TJgAAqTRxohmfvv12qWZN37YdFSW99Za57tvXLJLzBffM/lNPmSX1AIDAQdLtNm+eqY6SM6dZq+ZrmTMnDpm//76paO5tI0ea50cekSIivN8eAACpdPkpl04t0nrmGbMj69QpqUcP77f3xx/SkiVmR9pTT3m/PQCAvUi63S4/gyM01JkYGjSQWrc2m8U6d/buZrHt26WpU801m8MAAAFi3TozLh0aamqeOiEoyCT+wcHS9OmJ5WC85c03zXPjxuZ4NABAYCHplswRYfPnm+unn3Y0FL3/vpl1XrcucSDAG1591ST3zZpJ5ct7rx0AAGzknuVu3drZUy7vvFN64QVz3a2bOYTEGzZtMsvpJal/f++0AQDwLpJuyezltiypbl3pttucjSVvXmnIEHPdp49Z8m631atNpfSgoMS2AADwcydPSpMmmWt/WKTVr59UuLC0b5/3yrH06WOe27WTypXzThsAAO8i6Y6Pl774wlz7yznVXbpIlSqZzWJPPGFmpO1iWVLv3ub6ySd9W6UdAIBUmDJFOnfOHPpRpYrT0Zg6pB9/bK5HjJCWLrX3/osXSz/+aAqnDRpk770BAL5D0r1ihXTwoJQtm9SkidPRGMHBZiAgLEz66SfpnXfsu/e8eaZqeaZMrFMDAASUyZPN8+OP+88pl40bmzFsy5I6dJCOHbPnvpePkXfpIhUrZs99AQC+R9Lt7sFbtpQyZnQ2lsuVLCl9+KG5fu01ae3a1N8zPl565RVz/fzzUoECqb8nAAA+cPCgtGyZuW7d2tlYrvbhh+b4sgMHpE6dTMKcWt99J61fL2XNao4mAwAErvSddF+8aHo1SWrTxtlYrqdTJ+nhh80Z4u3aSTExqbvfN99IW7aYWX138g0AQAD49luTzFatKhUq5HQ0V8qa1YzhZ8wozZqVeCJnSl28aMbbJenFF6XcuVMfIwDAOek76V68WDp6VMqVS6pVy+loruVySaNHmyotu3ZJzz6b8uHzw4dNxXLJVGW55Rb74gQAwMvcC9PatnU2jqSUKycNH26uX3hB+u23lN9r+HDpr7/M1xN3hXQAQOBK30m3uwd/+GEpJMTZWJKSLZsp1RocbM4McS85T44zZ8ymswMHpOLFpeeesz1MAAC8Zfduac0ac+jGww87HU3Snn9eatRIio01S+APH07+PSZPTlxO/tZbUni4vTECAHwv/SbdsbHS9Onm2l+Hzd2qVEksW9qzpzR4sOcz3nFx5vfbsEHKmdMUUgsL81qoAADYbepU81yzphQV5WgoN+RySePHS/nzSzt2SPfdJ+3Z4/nnly83ReIkqVcvqWNHr4QJAPCx9Jt0z59v9kjnzy9Vq+Z0NDfXu3fiIaB9+0ovvXTzxNuyzLD799+bauVz5jh/DjkAAMnk70vLL5crlyn4VrSotHOnVL26tG3bzT+3fbvUtKl04YLUooW9B5cAAJyVfpNudw/epo1Zr+bvXC5zxNf775uf331XeuopM5N9PXFxZnZ85Ejz2W++ke6911fRAgBgiz/+kDZvNrvAWrRwOhrP3HqrOZG0dGmzs+v++6V165J+/65dUsOG0smTpqueMCEwvpoAADyTPv+TfuaMNHu2uQ6EYfPL9ehhzvAOCpI+/9zMXL/wgrRypZSQYDa+9e1riq+98Yb5zHvvBc43FQAALjNlinmuV0/KkcPZWJIjXz4z412pkjm7u1o1qUEDaexY6b//TIXy6dPNa7fdZpah33ab+XrCLjAASFtclmXHaZL2iYmJUWRkpKKjoxUREeGdRqZMMcl2sWJm7ZfL5Z12vGnmTLPx6/JjxHLkMD27W86cZln6iy/6PDwAQMr5pC+0gbfjtCypVCkz2/3ll9Jjj9nehNedOmW+csybl/haUJAUGSmdOJH4Wu3a5sCSW2/1fYwAgJTxtB9MnzPdly8tD8SEW5KaNZMOHTLD5O3bSxERJuF2ucx0wNSpZk0bCTcAIED99ptJuENDzX7nQBQeLs2da/ZsDx4slS9vFqadOCHlySO98or055/SokUk3ACQVvnpOVledOqU9MMP5rpNG2djSa3MmaXmzc3jwgVp7VqpYEGztBwAgADnrlreoIGZGQ5kJUpIr75qHrt3m3HxypWlDBmcjgwA4G3pL+meN88cF1a8uHTnnU5HY5+MGU2JVAAA0gj3yZ7+fDZ3ShQtah4AgPQh/S0vnzHDPDdvHrhLywEASOO2bzdLyzNkkBo1cjoaAABSLn0l3efPm41VEtW8AQDwY+4x8jp1An9pOQAgfUtfSfeiRdLp0+Ycj3vucToaAACQhMsXpgEAEMjSV9J9eQ8elL5+dQAAAsW+fdL69WYXWKBWLQcAwC39ZJ5xcdKsWeaaYXMAAPzWzJnmuVo1c6wWAACBLP0k3StXSkePSrfcIt1/v9PRAACAJLC0HACQlqSfpNvdgz/0EIdiAgDgp44elZYvN9ck3QCAtCB9JN2WxbA5AAABYPZsKSFBuvtuzrIGAKQNXku6P/30UxUtWlSZMmVShQoV9PPPP3urqZvbuNFUZcmcWapXz7k4AADwM37VXytxjJyTPQEAaYVXku4pU6aoZ8+eeu2117Rp0ybdd999atCggfbt2+eN5m5u+nTz3KCBFBbmTAwAAPgZf+uvT52SFiww1yxMAwCkFV5JukeMGKFOnTrpqaeeUsmSJfX++++rYMGCGjlypDeauzmGzQEAuIa/9dc//CBduCAVLy6VLu1ICAAA2M72pPvChQvasGGD6l21jLtevXpatWrVNe+PjY1VTEzMFQ9b/fGHtH27KZ7WqJG99wYAIEAlt7+WvN9nX15+xeWy9dYAADgmxO4bHj16VPHx8cpz1cGaefLk0eHDh695/9ChQzVgwAC7w0gUESH172/KoUZGeq8dAAACSHL7a8n7fXbbtqb26cMPe60JAAB8zmuF1FxXDVFblnXNa5LUp08fRUdHX3rs37/f3kDy5ZP69ZM++sje+wIAkAZ42l9L3u+zmzaVJk+WKla09bYAADjK9pnunDlzKjg4+JpR8iNHjlwzmi5JoaGhCg0NtTsMAABwA8ntryX6bAAAUsL2me6MGTOqQoUKWrhw4RWvL1y4UFWrVrW7OQAAkAL01wAA+IbtM92S9MILL+jRRx9VxYoVVaVKFY0ePVr79u1Tly5dvNEcAABIAfprAAC8zytJd5s2bXTs2DENHDhQhw4dUpkyZTRv3jwVLlzYG80BAIAUoL8GAMD7XJZlWU4HcbmYmBhFRkYqOjpaERERTocDAIDPBUpfGChxAgDgDZ72g16rXg4AAAAAQHpH0g0AAAAAgJeQdAMAAAAA4CUk3QAAAAAAeAlJNwAAAAAAXkLSDQAAAACAl5B0AwAAAADgJSFOB3A197HhMTExDkcCAIAz3H2gu0/0V/TZAID0zNP+2u+S7lOnTkmSChYs6HAkAAA469SpU4qMjHQ6jCTRZwMAcPP+2mX52TB6QkKCDh48qPDwcLlcLlvuGRMTo4IFC2r//v2KiIiw5Z7pFX9Le/B3tA9/S/vwt7SHHX9Hy7J06tQp5cuXT0FB/rsTzO4+m/8N2oe/pX34W9qDv6N9+FvaJ7V/S0/7a7+b6Q4KClKBAgW8cu+IiAj+h2kT/pb24O9oH/6W9uFvaY/U/h39eYbbzVt9Nv8btA9/S/vwt7QHf0f78Le0T2r+lp701/47fA4AAAAAQIAj6QYAAAAAwEvSRdIdGhqqfv36KTQ01OlQAh5/S3vwd7QPf0v78Le0B3/HlONvZx/+lvbhb2kP/o724W9pH1/9Lf2ukBoAAAAAAGlFupjpBgAAAADACSTdAAAAAAB4CUk3AAAAAABeQtINAAAAAICXpPmk+9NPP1XRokWVKVMmVahQQT///LPTIQWcoUOH6p577lF4eLhy586tZs2aaceOHU6HFfCGDh0ql8ulnj17Oh1KQDpw4IA6dOigHDlyKHPmzLr77ru1YcMGp8MKOHFxcerbt6+KFi2qsLAwFStWTAMHDlRCQoLTofm95cuXq0mTJsqXL59cLpdmzpx5xb9blqX+/fsrX758CgsLU82aNbV161Zngg0Q9NmpR5/tHfTZqUOfbQ/67JTxh/46TSfdU6ZMUc+ePfXaa69p06ZNuu+++9SgQQPt27fP6dACyrJly9StWzetWbNGCxcuVFxcnOrVq6czZ844HVrAWrdunUaPHq0777zT6VAC0okTJ1StWjVlyJBBP/zwg7Zt26Z3331X2bJlczq0gDNs2DCNGjVKH3/8sbZv367hw4fr7bff1kcffeR0aH7vzJkzuuuuu/Txxx9f99+HDx+uESNG6OOPP9a6desUFRWlunXr6tSpUz6ONDDQZ9uDPtt+9NmpQ59tH/rslPGL/tpKwypVqmR16dLlitdKlChhvfLKKw5FlDYcOXLEkmQtW7bM6VAC0qlTp6zixYtbCxcutGrUqGH16NHD6ZACTu/eva3q1as7HUaa0KhRI6tjx45XvNaiRQurQ4cODkUUmCRZM2bMuPRzQkKCFRUVZb311luXXjt//rwVGRlpjRo1yoEI/R99tnfQZ6cOfXbq0Wfbhz479Zzqr9PsTPeFCxe0YcMG1atX74rX69Wrp1WrVjkUVdoQHR0tScqePbvDkQSmbt26qVGjRnrggQecDiVgzZ49WxUrVtTDDz+s3Llzq1y5chozZozTYQWk6tWra9GiRfrzzz8lSb/++qtWrFihhg0bOhxZYNu9e7cOHz58RR8UGhqqGjVq0AddB32299Bnpw59durRZ9uHPtt+vuqvQ2y7k585evSo4uPjlSdPnitez5Mnjw4fPuxQVIHPsiy98MILql69usqUKeN0OAFn8uTJ2rhxo9atW+d0KAFt165dGjlypF544QW9+uqrWrt2rZ5//nmFhobqscceczq8gNK7d29FR0erRIkSCg4OVnx8vAYPHqx27do5HVpAc/cz1+uD9u7d60RIfo0+2zvos1OHPtse9Nn2oc+2n6/66zSbdLu5XK4rfrYs65rX4Lnu3bvrt99+04oVK5wOJeDs379fPXr00IIFC5QpUyanwwloCQkJqlixooYMGSJJKleunLZu3aqRI0fSgSfTlClTNGHCBE2cOFGlS5fW5s2b1bNnT+XLl0+PP/640+EFPPqg5OHvZS/67JSjz7YPfbZ96LO9x9v9T5pNunPmzKng4OBrRsiPHDlyzUgGPPPcc89p9uzZWr58uQoUKOB0OAFnw4YNOnLkiCpUqHDptfj4eC1fvlwff/yxYmNjFRwc7GCEgSNv3rwqVarUFa+VLFlS06ZNcyiiwPXSSy/plVdeUdu2bSVJZcuW1d69ezV06FA68FSIioqSZEbQ8+bNe+l1+qDro8+2H3126tBn24c+2z702fbzVX+dZvd0Z8yYURUqVNDChQuveH3hwoWqWrWqQ1EFJsuy1L17d02fPl2LFy9W0aJFnQ4pINWpU0e///67Nm/efOlRsWJFtW/fXps3b6bzToZq1apdcwTOn3/+qcKFCzsUUeA6e/asgoKu7AqCg4M5fiSVihYtqqioqCv6oAsXLmjZsmX0QddBn20f+mx70Gfbhz7bPvTZ9vNVf51mZ7ol6YUXXtCjjz6qihUrqkqVKho9erT27dunLl26OB1aQOnWrZsmTpyoWbNmKTw8/NJMRGRkpMLCwhyOLnCEh4dfs6cuS5YsypEjB3vtkqlXr16qWrWqhgwZotatW2vt2rUaPXq0Ro8e7XRoAadJkyYaPHiwChUqpNKlS2vTpk0aMWKEOnbs6HRofu/06dPauXPnpZ93796tzZs3K3v27CpUqJB69uypIUOGqHjx4ipevLiGDBmizJkz65FHHnEwav9Fn20P+mx70Gfbhz7bPvTZKeMX/bVtddD91CeffGIVLlzYypgxo1W+fHmOzEgBSdd9jB8/3unQAh7Hj6TcnDlzrDJlylihoaFWiRIlrNGjRzsdUkCKiYmxevToYRUqVMjKlCmTVaxYMeu1116zYmNjnQ7N7y1ZsuS6/218/PHHLcsyx5D069fPioqKskJDQ63777/f+v33350N2s/RZ6cefbb30GenHH22PeizU8Yf+muXZVmWfSk8AAAAAABwS7N7ugEAAAAAcBpJNwAAAAAAXkLSDQAAAACAl5B0AwAAAADgJSTdAAAAAAB4CUk3AAAAAABeQtINAAAAAICXkHQDAAAAAOAlJN0AAAAAAHgJSTcAAAAAAF5C0g0AAAAAgJeQdAMAAAAA4CUk3QAAAAAAeAlJNwAAAAAAXkLSDQAAAACAl5B0AwAAAADgJSTdAAAAAAB4CUk3AAAAAABeQtINAAAAAICXhCT3A8uXL9fbb7+tDRs26NChQ5oxY4aaNWt26d8ty9KAAQM0evRonThxQpUrV9Ynn3yi0qVLe3T/hIQEHTx4UOHh4XK5XMkNDwCAgGdZlk6dOqV8+fIpKChl4+Pe7q8l+mwAQPrmaX+d7KT7zJkzuuuuu/Tkk0+qZcuW1/z78OHDNWLECH3xxRe6/fbbNWjQINWtW1c7duxQeHj4Te9/8OBBFSxYMLlhAQCQ5uzfv18FChRI0We93V9L9NkAAEg3769dlmVZKb25y+W6YuTcsizly5dPPXv2VO/evSVJsbGxypMnj4YNG6bOnTtfc4/Y2FjFxsZe+jk6OlqFChXS/v37FRERkdLQAAAIWDExMSpYsKBOnjypyMjIVN/Pjv7a/R76bAAADE/762TPdN/I7t27dfjwYdWrV+/Sa6GhoapRo4ZWrVp13U586NChGjBgwDWvR0RE0IEDANI1by3ZTkl/LdFnAwBwPTfrr20tpHb48GFJUp48ea54PU+ePJf+7Wp9+vRRdHT0pcf+/fvtDAkAAFwlJf21RJ8NAEBK2DrT7XZ1pm9ZVpLZf2hoqEJDQ70RBgAAuIHk9NcSfTYAAClh60x3VFSUJF0zSn7kyJFrRtMBAIAz6K8BAPAdW5PuokWLKioqSgsXLrz02oULF7Rs2TJVrVrVzqYAAEAK0V8DAOA7yV5efvr0ae3cufPSz7t379bmzZuVPXt2FSpUSD179tSQIUNUvHhxFS9eXEOGDFHmzJn1yCOP2Bo4AABIGv01AAD+IdlJ9/r161WrVq1LP7/wwguSpMcff1xffPGFXn75ZZ07d05du3bViRMnVLlyZS1YsMDjMz8BAEDq0V8DAOAfUnVOtzfExMQoMjJS0dHRHD8CAEiXAqUvDJQ4AQDwBk/7Qa9ULwcAAAAAwF/EJ1hau/u4jpw6r9zhmVSpaHYFB934fG27kHQDAAAAANKs+VsOacCcbToUff7Sa3kjM6lfk1KqXyav19u3tXo5AAAAACBwxSdYWv33Mc3afECr/z6m+AS/2o2cbPO3HNKzEzZekXBL0uHo83p2wkbN33LI6zEw0w0AAAAA6dTly673HD2rSWv36XBMYoIaFRGqdpUKqUjOLD5flp1a8QmWBszZpusNG1iSXJIGzNmmuqWivPo7kXQDAJAKLaa0UFTWKL1S/RUViizkdDgAAHjsesuur3Y4Jlbv/fTXpZ99uSw7tdbuPn7D382SdCj6vNbuPq4qt+bwWhwsLwcA+MTWI1s1detUHT592OlQbLM/er9m/DFDo9aPUrAr2OlwAADwWFLLrm/Gl8uyU+vIKc9+N0/fl1LMdAMAvOb0hdOasmWKxm4aqzX/rJEkueRStULV1LJkS7Uo2SKgZ4enbp0qSbqv8H3KH5Hf4WgAAPDMjZZd34wvl2WnVu7wTLa+L6WY6QYAeMXwlcOV9928emrOU1rzzxqFBIWodK7SsmRpxb4V6vVjLxV5v4gGLx8sywrMIi2Tt06WJLUt3dbhSAAA8NzNll3fjHtZ9hcrd/t1obVKRbMrb2QmJTUs4JJZLl+paHavxkHSDQCw3afrPlXvn3rr9IXTKp69uIY9MEz7e+3Xlq5btK/nPn1Q/wPdV+g+WbLUd0lfvbjgxYBLvHce36n1B9cr2BWslqVaOh0OAAAeiU+wtHLnUVvu9ebc7ao+bLHfLjUPDnKpX5NSknRN4u3+uV+TUl6frSfpBgDYas6OOXruh+ckSf1r9NeO7jv0crWXFZU1SpJUMLKgnq/8vJY/uVzvP/i+JGnEmhHqNLuT4hLinAo72aZsmSJJqlOsjnJnye1wNAAA3Nz8LYdUfdhifbxkp2339Pc93vXL5NXIDuUVFXnlEvKoyEwa2aG8TwrCsacbAGCb9QfXq+20tkqwEtSpXCe9UeMNuVxJjx73uLeHIjNFqtPsThq/ebyiY6M1scVEhYaE+jDqlJmy1STdLC0HAAQCd+E0u9eVBcIe7/pl8qpuqahLR6P5+ugzZroBALbYfWK3Gk1spLMXz+rBWx/UyEYjb5hwuz1x9xOa1nqaMgZn1PTt09Vxdke/X2q+9chW/X7kd2UIyqDmJZs7HQ4AADeUmsJpnrj86C1/FRzkUpVbc6jp3flV5dYcPh0cIOkGAKTaxfiLemjyQzpy5ojuynOXvn34W2UIzuDx55uVaKbv232vYFewJv4+UV/9+pUXo0099yx3g+INlC1TNmeDAQDgJpJTOC0qIlS9HiiuD9rerV4P3K6oCM8re6/c+Z9fFFaLT7C0+u9jmrX5gFb/fczxmFheDgBItc83fa4tR7YoZ+acmvvIXIWHhif7HnVvrasBNQeo75K+6javm6oUrKLbc9zuhWhTx7IsTd5C1XIAQODw9Bzq7rVuVa+6d1wxC9y99m36YuVuvTl3+00///GSvzVt4wH1a1LKJ3ulr2f+lkMaMGfbFYMMeSMzORoTM90AgFQ5c+GM+i/rL0nqV6Nfqs6rfqX6K6pVpJbOXDyjtt+1VWxcrE1R2mfT4U366/hfCgsJU5M7mjgdDgAAN+XpOdTVbst1zbLr4CCXnqhW9IZHb13OycJq7n3rV8/qO13sjaQbAJAq7695X4dPH1axW4rpmQrPpOpewUHB+rr518oRlkObDm/Sq4tetSlK+7hnuZvc0URZM2Z1OBoAAG4utedV3+jorau5F3IPmLPNp8u6b7Rv3amY3Ei6AQApdvTsUQ1fNVySNKjWIGUMzpjqe+aPyK/xTcdLMkeJ/fDXD6m+p10SrASqlgMAAoZ7b/P3vx1U23sKSUr5edVJHb11PU4UVrvZvnUni72xpxsAkGJDfh6imNgYlYsqpzZl2th23yZ3NNHzlZ7Xh2s/1FNzntL2btsVERph2/1TatmeZdoXvU8RoRFqULyB0+EAAJCk6+1tzpbZFDk9efbipdeikrHf2X301nsL//TorG9P95LbwdO2fBmTG0k3ACBF9p7cq0/WfSJJeuuBtxTksnfx1LC6wzRv5zztPL5TfRf31YcNPrT1/ikxasMoSVL7su2VKcTzaq4AAPhSUmdyR5+9KEtSrweKq0jOLCk6rzo4yKVqt+X0KOn2dC+5HTxty5cxubG8HACQIm8sfUMX4i+oTtE6qlusru33zxSSSSMbjZQkfbz2Y60/uN72NpLj39P/avr26ZKkzhU6OxoLAABJudneZpekyev2q/Gd+VJ8XvXN9ohLUrawDEqwLJ/toU7tvnVvIukGACTbzuM79fWvX0sys9wuV/I7bE88UOwBtS/bXpYsdf6+s+IS4rzSjifGbx6vuIQ43VvgXt0VdZdjcQAAcCO+2NvsSWG1k+cuqv3YX1R92GKfVA2/UUye7lv3FpJuAECyjd4wWpYs1b+tvirmq+jVtt6t966yZcqmjYc26pO1n3i1raQkWAn6bMNnkqQuFbo4EgMAAJ7w1d5mTwur+fK4rqRiiorMpJEdyjt2Tjd7ugEAyRIbF6vxm0118WcrPuv19vJkzaPhDwzXM98/o75L+qplqZYqEFHA6+1ebsHfC7Tn5B5ly5RNrUu39mnbAAAkhy/3NrsLq635+5i6Tdyok+cuXvMe95L2AXO2qW6pKK/PNLtjWrv7uI6cOp+ifet2Y6YbAJAs07dP19GzR5U/PL8aFm/okzY7le+kagWr6fSF03r+h+d90ubl3LPcj9/1uMIyhPm8fQAAPOXrvc3BQS4FBbmum3C7efu4LvfRaLM2H9Dqv49JkqrcmkNN786f4n3rdmKmGwCQLO4K3k+Xf1ohQb7pRoJcQRrVeJTKfVZOM/6Yodk7ZuuhOx7ySdv/xPyjOTvmSKKAGgDA/7n3Nj87YaNc0hUF1by1t9nJ47qudzRa3mQcg+YLzHQDADy2/b/tWr53uYJcQepUvpNP2y6Tu4xerPKiJKn7vO46feG0T9odt3Gc4q143V/4fpXMVdInbQIAkBq+3tvs1HFd7qPRri4c58t95J5gphsA4DH3Musmtzfx+b5qSXq9xuuasnWKdp/crf5L++udeu94tb24hDiN2ThGEgXUAAD+Lz7BumIv87KXamnD3hNe39vsXtJ+OPr8dY8qk648QsyOGDw5Gs1X+8hvhpluAIBHzl08py9//VKS1KWiMwlo5gyZ9UlDU8H8/TXva/PhzV5tb8qWKTpw6oByZs6pFiVbeLUtAABSY/6WQ6o+bLHajVmjHpM3q92YNarx9hJFn7vg9b3NThwh5ouj0exC0g0A8MjUrVN18vxJFclWRPVuredYHA2KN1Dr0q0Vb8Wr8/edFZ8Q75V2LsRf0OtLXpck9bq3l0JDQr3SDgAAqeUPy6x9fYSYk/vIk4ukGwDgEXcBtWfKP6Mgl7Pdx/sPvq+I0AitPbD20pJ3u322/jPtPrlbebPmVY/KPbzSBgAAqXWzZdaSWWYdn5DUwm/71C+TVyt619Y3nSorW1iG677Hrpic2keeEiTdAICb+v3f37XmnzUKCQrRk+WedDoc5Q3PqyG1h0iSXvnpFe0+sdvW+5+KPaU3l78pSepXo5+yZMxi6/0BALCLvy2z9sURYvEJlhISrCQTe8n+o9FSg6QbAHBTk7ZMkiQ1vr2xorJGORyN0aViF1UvVF2nLpxSu2ntdDE+6c49ud5d/a7+O/ufbs9xuzqW62jbfQEAsJs/LrP2tK0fthzS6r+PJWvG2713vf24X5JM7L11NFpKkXQDAG7IsixN3jJZktSuTDuHo0kUHBSsCc0nKFumbPrlwC/qt7SfLff99/S/emeVqYo+pPYQZQhOehQdAACn+eMya0/b+mr1XrUbs8bj4mpJ7V2/mreORkspkm4AwA2tO7hOu0/uVpYMWdSoeCOnw7lC4WyFNaaJOdLrrRVvadGuRam+55vL39SZi2dUKX8lKpYDAPye+7iupOZznVhmfbOYruZJcbUb7V13yxaWQd88VVkretf2m4RbIukGANyEe5b7oTse8su9za1KtdIz5Z+RJUuPznhU/535L8X32nF0x6XCbMMeGCaXy/klaQAA3MiNjutyapm1J0eIXc6T4mo327sumWPJglwuv1hSfjmSbgBAkhKsBE3ZOkWS1LZMW4ejSdp79d9TqVyldOj0IT0x64kUHSN29OxRNZnURHEJcWpwWwPVLFLT/kABAPCCpI7rcnKZtadHiLm5i6t9sXL3NYl3fIKllTuPenQffzgi7Gouy7K8Xzs+GWJiYhQZGano6GhFREQ4HQ4ApGvL9y5XjS9qKDI0Uv+++K9fn1X9+7+/654x9yg2PlatSrXShOYTPI73fNx5PfDVA1q5f6UKRxbWmqfWOFowLlD6wkCJEwDSi/gES2t3H9eRU+eVO9wsKXd61tcd0w9bDumr1Xs9+kzeyEzq16SU6pfJq/lbDmnAnG03neV2m/T0vapya47UhOwxT/vBEJ9EAwAISO6l5S1KtvDrhFuSyuYpq0ktJ6nttLb6btt3iomN0fTW02+6JD7BStBjMx7Tyv0rlS1TNs1rP89vKrQDAJAcwUEunyWcnro8Jk+T7kPR59VlwkbVKZFLi/7wbNuYS2Zm3x+OCLsay8sBANcVlxCnb7d9K8m/l5ZfrnnJ5vq+3ffKkiGLFvy9QHW/rqsT507c8DO9F/bWt9u+VYagDJrZZqZK5Srlo2gBAEid+ARLq/8+plmbDyT76C1fS25xNUnJSrgl/zki7GrMdAMArmvx7sU6evaocmbOqdpFazsdjsfq3lpXPz32kxp800Cr/1mt6uOr64V7X1DTEk2VM3NOSdLF+Iua+9dcjdk4RvP+midJGt90vGoUqeFk6AAAeOx6y64vX5btb9zF1Z6dsFEu6YZVyJMryo9/b4mkGwCQBPfS8odLPayQoMDqLu4tcK+WP7Fc9SbU07b/tumpOU/pme+fUY3CNVQmdxl9u+1bHT59+NL7hz0wTO3vbO9gxAAAeM59XvXViav76C1/OqP6cu7iasnZo30z3Wvdql517/DLGW63wPoWBQDwidi4WM34Y4akwFlafrWyecpq4zMb9fmmzzVt+zRtOrxJS/Ys0ZI9SyRJubPk1hN3PaFO5Tvp9hy3OxwtAACeudF51ZbMUusBc7apbqkov0xE65fJq7qlovTFyt16c+72VN+v2m25/PL3vBxJNwDgGgv+XqCT508qX3g+VS9U3elwUixveF69dv9reu3+17TrxC7N2D5D249uV8PiDdX49sbKGJzR6RABAEiWm51X7T56a+3u435XVM0tOMilJ6oV1dgVu3U4+nyKlpr7c+G0q5F0AwCuMW37NElSq5KtFORKGzU3i91STP+r+j+nwwAAIFU8PYfaH8+rvlxq9nj7e+G0q6WNb1IAANvEJcRpzp9zJJmjwgAAgP/IHZ7J1vc5yb3HOyoyebFGRWby233r18NMNwDgCsv3Ltfxc8eVM3POgF5aDgBAWuQ+eiupZdmBtOxaStzjvXb3cS3cdlifr9yT5Mx3p2pF9ECpKFUqmj0gZrjdSLoBAFeYvn26JKnpHU0VHBTscDQAAOByN1qWHWjLrt2Cg1yqcmsOVbk1hyoVzR5QR6F5gqQbAHBJgpWgmX/MlCQ1L9Hc2WAAAMB1JXX0lr+fV+2Jy2e+j5w6r9zhmQJuZvtqJN0AgEvWHVinA6cOKDxjuOoUq+N0OAAAIAlpMTl1c898pxUk3QCAS9xnczcs3lCZQvy/AAsAAOlZWktO0yqqlwMAJEmWZV3az03VcgAAAHsw0w0AkCRt+2+b/jr+l0KDQ9XgtgZOhwMAAK4Sn2ClyeXkaZ3tM91xcXHq27evihYtqrCwMBUrVkwDBw5UQkKC3U0BAGzkXlr+QLEHFB4a7nA08Db6awAILPO3HFL1YYvVbswa9Zi8We3GrFH1YYs1f8shp0PDTdg+0z1s2DCNGjVKX375pUqXLq3169frySefVGRkpHr06GF3cwAAm7C0PH2hvwaAwDF/yyE9O2HjNWdXH44+r2cnbNTIDuUDumJ5Wmd70r169Wo1bdpUjRo1kiQVKVJEkyZN0vr16+1uCgBgkz0n92jT4U0KcgWpye1NnA4HPkB/DQCBIT7B0oA5265JuCVzRrdL0oA521S3VBRLzf2U7cvLq1evrkWLFunPP/+UJP36669asWKFGjZseN33x8bGKiYm5ooHAMC33Gdz31/4fuXKksvZYOATye2vJfpsAHDC2t3HrziL+2qWpEPR57V293HfBYVksX2mu3fv3oqOjlaJEiUUHBys+Ph4DR48WO3atbvu+4cOHaoBAwbYHQYAIBncS8ubl2jucCTwleT21xJ9NgA44cippBPulLwPvmf7TPeUKVM0YcIETZw4URs3btSXX36pd955R19++eV139+nTx9FR0dfeuzfv9/ukAAAN/Dv6X+1Yt8KSSTd6Uly+2uJPhsAnJA7PJOt74Pv2T7T/dJLL+mVV15R27ZtJUlly5bV3r17NXToUD3++OPXvD80NFShoaF2hwEA8NDsHbNlyVLFfBVVMLKg0+HAR5LbX0v02QDghEpFsytvZCYdjj5/3X3dLklRkeb4MPgn22e6z549q6CgK28bHBzMESQA4KfcR4Uxy52+0F8DQGAIDnKpX5NSkkyCfTn3z/2alKKImh+zfaa7SZMmGjx4sAoVKqTSpUtr06ZNGjFihDp27Gh3UwCAVIo+H62fdv0kiaPC0hv6awAIHPXL5NXIDuU1YM62K4qqRUVmUr8mpTguzM/ZnnR/9NFHev3119W1a1cdOXJE+fLlU+fOnfXGG2/Y3RQAIJXm/TVPFxMuqkTOEiqRs4TT4cCH6K8BILDUL5NXdUtFae3u4zpy6rxyh5sl5cxw+z+XZVnX2xrgmJiYGEVGRio6OloRERFOhwMAaVrrb1vr223f6tXqr2pwncFOh4P/Fyh9YaDECQCAN3jaD9q+pxsAEBjOXTyneX/NkyQ1L8l+bgAAAG+wfXk5ACAw/LTrJ525eEYFIwqqQt4KTocDAACuEp9gsZw8DSDpBoB0avof0yWZquUuFx04ACBwpcXkdP6WQ9cUTstL4bSARNINAOlQXEKcZu+YLYml5QCAwJYWk9P5Ww7p2QkbrzmX+3D0eT07YaNGdigfsL9bekTSDQDp0PK9y3X83HHlzJxT1QtVdzocAACSxT2zvXDbYX2+cs81/34o+ry6TNioTtWK6IFSUQE18x2fYGnAnG3XJNySZMmczT1gzjbVLRUVML9TekfSDQDp0PTtZmn5Q7c/pJAgugIAQOC43sx2Usat3KNxK/cE1Mz32t3Hb/i7WTKDCmt3H1eVW3P4LjCkGNXLASAJ+6L3acDSAao4uqJaf9taU7ZM0anYU06HlWrxCfH6btt3kqSWpVo6HA0AAJ5zL7v2JOG+nHtZ9vwth7wUmX2OnPLsd/P0fXAe0xsAcBnLsjTzj5kavXG0ftz5o6z/X9y14dAGfbvtW4UGh+rB2x5Ur3t7qWaRms4Gm0LL9i7Tv2f+Vfaw7KpbrK7T4QAA4JEbLbu+GfdnXpn2u8IzZdC9xXL47dLs3OGZbH0fnMdMNwD8P8uy9OzcZ9ViagvN3zlflizVKlJL4x4ap1eqvaLi2YsrNj5Ws3fMVt2v62ri7xOdDjlFJm+ZLElqVbKVMgRncDgaAAA8c7Nl1544ee6i2o/9RdWHLfbbWe9KRbMrb2QmJTUk4JIpFFepaHZfhoVUIOkGgP83bOUwfbbhM7nk0ktVX9Jfz/2lxY8vVsdyHTX0gaHa0X2Hfuvym1qXbq24hDh1mN5Bn6771Omwk+VC/AVN2z5NktS2TFuHowEAwDPxCZZW7jxq2/38ebl5cJBL/ZqUkqRrEm/3z/2alPLbmXpci6QbACRN/H2i+izqI0n6oP4HGl53uG7LftsV73G5XCqbp6wmtZyk7vd0lyVL3eZ10+Dlg2VZKVns5ns/7fpJx88dV1TWKN1f+H6nwwEA4Kbmbzmk6sMW6+MlO227p7vXHjBnm+IT/K8Pr18mr0Z2KK+oyCuXkEdFZuK4sADEnm4A6d6yPcv05KwnJUm97u2l5yo/d8P3B7mC9GGDD3VL2C16c/mb6rukr05dOKW3HnjLF+Gmintp+cOlHlZwULDD0QAAcGNJnVdtB3+vAl6/TF7VLRWltbuP68ip88odnimgjj5DIma6AaRr2//brmZTmulC/AW1LNlS79R7x6PPuVwuDaw1UCPqjZBklqZP3TrVm6Gm2rmL5zTzj5mSWFoOAPB/KSmcVqdELknXLsu+EX+uAh4c5FKVW3Oo6d35VeVW/y3+hhsj6QaQblmWpafnPK2T50+qSoEq+rr51wpyJe8/i72q9NKr1V+VJD0z5xntObnHC5Ha44edP+jUhVMqFFlI9xa41+lwAAC4oeQUTssbmUmjOpTXuCcqadR1lmXfyF//ntbqv4/5xTLz+ARLq/8+plmbD/hNTEg9lpcDSLfm/DlHK/evVFhImL59+FuFZQhL0X361+yvxXsWa80/a/TItEe07IllflkV3L20vE3pNskeXAAAwNc8nYHuXutW9ap7x6VZYPey7DV/H1O3iRt18tzFG37+4yU79fGSncobmUn9mpRybL/0/C2HNGDOtisGGpyOCfbgWxeAdCkuIe5S4bSe9/ZU/oj8Kb5XhuAMmtRykiJCI7T6n9UasGyAXWHa5lTsKX3/5/eSWFoOAAgMnp5DXe22XNcsuw4Ocqla8Zx6q2VZueTZcnMnK5q7965fPbPvz1XW4TmSbgDp0le/fqVt/23TLZlu0cvVXk71/YpkK6IxTcZIkob8PERLdi9J9T3tNOfPOToXd07FsxdXuahyTocDAMANxSdYSkiwlC0s6ZVjnpxXnVQV8OtxqqL5jfau+3uVdXiGpBtAunPu4jn1W9pPkvTafa8pW6Zstty3denWeqrcU7JkqcOMDjp5/qQt97XDpC2TJJlZbpeLIiwAAP/lPiKs/bhfklwanpzzquuXyasVvWtr0tP3qnutW2/43ssrmvvKzfauOxET7EXSDSDd+Xjtx/on5h8VjCiobpW62Xrv9+u/r9tz3K6Dpw7q1UWv2nrvlPon5h/N+2ueJOmRso84HA0AAElLapn11ZJ7XrW7CnjxPOEevd+XFc09bcufq6zjxki6AaQrJ86d0NAVQyVJA2sNVKYQz6ubeiJLxiz6rPFnkqRR60dpzT9rbL1/SozdOFYJVoJqFqmpEjlLOB0OAADX5ckRYdnCMuibpyprRe/aKSou5uk+cU/fZwd/jAn2IukGkK4MXzlcJ86fUOlcpfXonY96pY2aRWrq8bselyVLnb/vrIvxN66a6k1xCXEas9HsNe9cobNjcQAAcDOeHBF28txFBblcKT6vulLR7MobmemGhdWyhWVQgmX5bA/1zWLyZO86/BtJN4B04+zFsxq5fqQkaXDtwQoOCvZaW+/Ue0c5wnLot39/0we/fOC1dm7m+z+/18FTB5Urcy41L9HcsTgAALgZXyyzDg5yqV+TUpKSrmh+8txFtR/7i6oPW+yTquE3iik5e9fhv0i6AaQbU7dOVXRstIpmK6omdzTxals5M+fU23XfliT1W9pPe0/u9Wp7Sflsg1nq3rFcR4WGhDoSAwAAnvDVMmtPK5r78riupGJK7t51+KcQpwMAAF8ZtX6UJOmZCs8oyOX9Mccn7n5CX/z6hZbvXa7uP3TX7LazfVo5fNeJXfpx54+SpKfLP+2zdgEASAn3MuvD0eevu6/bJZOE2rHMun6ZvKpbKkpr/j6mbhM3XrdKuvX/bQ6Ys011S0V5ZaY5PsHS2t3HdeTUeeUOz6RlL9XShr0nLv1cqWh2ZrjTAJJuAOnC5sOb9cuBX5QhKIOevPtJn7Tpcrk0qtEo3TXqLn3/5/eavn26WpZq6ZO2JWnMhjGyZKnerfV0a/YbH5ECAIDT3Musn52wUS7pisTbG8usg4NcCgpyJXksmXTlcV1Vbs1hS7tu87cc0oA5267Yx543MpP6NSmlpnfnt7UtOIvl5QDShc/Wm2XWzUs2V56seXzWbslcJfVytZclSc/Pf14xsTE+afdC/AV9vvlzSVKXCl180iYAAKnl62XWTh3XldTRaL5c0g7fYaYbQJp3KvaUJvw+QZIzCehr972myVsm6+8Tf+v1xa/rgwbeL6w284+ZOnLmiPKF51Pj2xt7vT0AAFLDqWXWnu4PP3oqVvEJli0x3OhoNF8saYfvMdMNIM2btGWSTl84rdtz3K6aRWr6vP2wDGEa2chUTf943cfacHCD19v8dN2nkqRO5TopQ3AGr7cH/F979x4XVZ3/D/x1ZoQZMBgFRVBRCa+I5i1LQc0Lhimbl1JJK8u1tCzNLtptjazI2mz3t5amXaxIsbykeCEtXRUvYSIqgncUUwgRHVCuzpzfH+zwFeQyA+fMOTO8no8HfzCdOZ83s+1+9j2f93m/iYjqKj4lE6ELdyBy+QHMik1G5PIDGPTxThgLS/Bwj1boF+gtW/JpzQgxAFiwOU2ybua1jUa7vaSdnAOTbiJyaqIoljdQe7b3s3ZtZHa7sMAwRAZHwiya8cymZ3DLfEu2tXam78SuC7vQSNMIf+/1d9nWISIiqi+ly6ytGSEmdUxKlbSTcph0E5FT++PyHzicdRg6rQ5P3vOkorEsenARmuibICkzCZ8lfibLGqIoYu6vcwGUfcnQxtBGlnWIiIjqq7Yya6CszNpkruoK6Vg7QkyqmOw1Go3Ug0k3ETk1yyn3+K7j4e0ubddRW/ne5YsPh34IAHhr51u4aLwo+Rpr09bi4OWDaOzSGG8PfFvy+xMREUlFTWXW4cF+SJg7BG+P7FLjdVLEVFtJu4CyLuZSjEYjdWDSTUROq6C0AKuPrwZQduqrBtN6T0O/1v1wo+QGHl//OExmk2T3LjWV4s0dbwIAXu73sl27tBMREdlKbWXWWo2AZh46q66tS0wms4j9Z69i09HLmHhvWSVa5cRbjtFopDx2Lycip7X51GbcLL2JgCYB6O/fX+lwAAAaQYNvR3+LXst6YdeFXYhOiMZbA9+S5N5fH/4ap66eQnP35ni5/8uS3JOIiEguaiyzlqubeVUzuZu4lzU6vV7wf3PCff83p1vq0WikLCbdROS0Yo/HAgAmBk9UrIFaVTp4d8DnD32OJ35+Au/89x0MbjcYIW1C6nXPmyU3EbUrCgDw9sC34anzlCJUIiIi2VjKrLOMRVU+1y2gLAm1Z5l1bTFZLNichi8T0q1KkC3N4irfz1hQChHAS8M6oF2zxrKORiNlsbyciJxSXnEeNp/aDKAs6Vabx+95HJO7T4ZJNOGxdY/hWuG1et3v37//G5k3MhHQJADP9lFHKT0REVFNauocrlSZtdTdzK2ZyR178CJGdW8p62g0UhaTbiJyShtObECxqRhdmnVBN59uSodTpc8f+hyBTQORYczAtLhpEMW6dUI9nn0cHyaUNWh7b8h7cNW6ShkmERGRbKrrHO5r0GPJ5F6KlFlL2c1cTc3iSDksLycip2QpLZ/QdYKqSstv56HzQOwjsej3VT+sTVuL9/e8jzcHvGlTvJfzL2PEDyOQX5KPQW0HqfJUn4iIqCbhwX4IC/JFYnousvOLVFFmbYlpxd50LNicVu11lqR5xd50TAkJqBCzySxi75kcq9bjTG7nxqSbiJzO1YKr2HZ2GwBgQvAEhaOpWZ+WffDPsH9i9i+z8fbOt5FXnIeFwxZalXjnF+dj1MpRuJh3EZ28O2HdhHXQCCxgIiIix6PVCOgXqOxoz8ps6Wa+YHMalu85h8i+bdCuWWOczynAqsQMZOVZl0xzJrdzY9JNRE5nXdo63DLfQg/fHujcrLPS4dRq1v2zcMt8C69sfwUf7/sY1wqvYemopdBqtNW+55b5FsavGY/DWYfh09gHWyZtgZcb53kSEZFjMJlFVZ1sV8eWZDgrrxif/nrapvsr0SyO7I9JNxE5nfKu5V0dp9T65f4vo6lbU0yLm4YvD38JY7ER3435DvpGd2721wqvYc62OYg/Ew+3Rm7YFLkJdze9W4GoiYiIbFfV+Cw/lY7KsrabeV1wJnfDwTpEInIqmfmZ2Jm+E4D6S8sre7rn0/jxkR/hqnXFT6k/ocU/W2DyuslYl7YON0tuYtf5XZi8bjL8PvHDiuQV0AgaxD4Si3tb3at06ERERFaxjM+q3FzMmk7gSrClm7mtlGwWR/bFk24iciprUtdAhIj7W9+Pdk3aKR2OzcYFjcNm/WY8teEp/Jn3J3449gN+OPYDNIIGZtFcfl33Ft0xf9B8/K3T3xSMloiIyHrWjM+KiktFWJCvqk5+Ld3MK5/O18fMwYF4KayTqv5Okg+TbiJyKo5YWl7ZsLuH4cLsCzjw5wGsTV2LtWlrccF4AXe53oXI4EhM6zUNfVr2UW1XdiIioqrYMj5LbU3VrO1mbq2Q9s2ZcDcgTLqJyGn8mfcn9l3cBwECHu36qNLh1ItG0KC/f3/09++Pfw7/J85dO4cWd7XAXa53KR0aERFRnVg7Fkut47O0GgFTQgLwZUJ6nZ/xZuO0honPdBOR0/j5xM8AgH7+/dDSo6WywUhIEAQEegUy4SYiIodmbSdwNY/Pqs8z3myc1nAx6SYip7EubR0AYGznsQpHQkRERJVZOoFXl24KKOtirvZTYMsz3r4G274cYOO0hovl5UTkFHIKcrD7wm4AwJguYxSOhoiIiCqznBLPiEmCAFQoz3a0U2DLM96WWePncwqwKjEDWXn/Vxrv66lDZN82aNessapnkZP8mHQTkVOIOxkHk2jCPS3u4cxqIiIilaquE7ivSud010SrESo0fJs5pH15Es4km27HpJuInML6E+sBAGM685SbiIhIzSqfEjtLglo5CSeyYNJNRA4vvzgf285uAwCM7cLnuYmIiNSOCSo1JGykRkQOL/5MPIpNxQhsGohgn2ClwyEiIiIiKseTbiJyeLeXlguCY5emERERORuTWXS6UnIiWzDpJiKHVnyrGJtObQLA0nIiIiK1iU/JvKNpmp8DNk0jqg9ZyssvXbqEyZMnw9vbG+7u7ujRowcOHTokx1JE1MDtSN+B/JJ8+N3lh/ta36d0OEQOhfs1EckpPiUTM2KSKiTcAJBlLMKMmCTEp2QqFBmRfUl+0n3t2jWEhIRg8ODB2Lp1K3x8fHD27Fk0adJE6qWIiLAubR0AYHTn0dAIbFNBZC3u10QkJ5NZRFRcaoVZ3BYiyuZyR8WlIizIl6Xm5PQkT7oXLlwIf39/fPPNN+WvtWvXrtrri4uLUVxcXP57Xl6e1CERkZMymU3YcHIDAI4KI7KVrfs1wD2biKyXmJ57xwn37UQAmcYiJKbnsos5OT3Jj4U2btyIPn364NFHH4WPjw969uyJ5cuXV3t9dHQ0DAZD+Y+/v7/UIRGRk9p7cS+uFFxBE30TPNDuAaXDIXIotu7XAPdsIrJedn71CXddriNyZJIn3efOncOSJUvQoUMH/PLLL5g+fTpefPFFfPfdd1Ve//rrr8NoNJb/XLx4UeqQiMhJrU8r61oe0TECLloXhaMhciy27tcA92wisp6Ph17S64gcmeTl5WazGX369MEHH3wAAOjZsyeOHz+OJUuW4Iknnrjjep1OB51OJ3UYROTkRFGsMCqMiGxj634NcM8mIuv1DfCCn0GPLGNRlc91CwB8DWXjw4icneQn3X5+fggKCqrwWpcuXZCRkSH1UkTUgB3OOowLxgtwa+SGB9s/qHQ4RA6H+zURyUmrETA/oux/Yyq3SbP8Pj8iiE3UqEGQPOkOCQnByZMnK7x26tQptG3bVuqliKgBs5SWh7cPh7uLu8LREDke7tdEJLfwYD8smdwLvoaKJeS+Bj2WTO7FOd3UYEheXv7SSy+hf//++OCDDzB+/HgkJiZi2bJlWLZsmdRLEVEDtu5E2aiwsV3GKhwJkWPifk1E9hAe7IewIF8kpuciO78IPh5lJeU84aaGRBBFsarHLOpl06ZNeP3113H69GkEBARgzpw5mDZtmlXvzcvLg8FggNFohKenp9ShEZETOHX1FDot7oRGmkbIfiUbTd2aKh0SkaTstRfWZ7+2Z5xERERqZO0+KPlJNwCMGjUKo0aNkuPWRETlpeVDAoYw4SaqB+7XRERE8pMl6SYikpOltJxdy4mIiNTHZBZZTk50GybdRORQ/sz7E4mXEiFAwMOdHlY6HCIiIrpNfEomouJSkWksKn/Nz6DH/IggNk6jBkvy7uVERHL6+cTPAIB+/v3g58HNm4iIHJvJLGL/2avYkHwJ+89ehcksebslu4lPycSMmKQKCTcAZBmLMCMmCfEpmQpFRqQsnnQTkUNZf6LseW6WlhMRkaOpXHZ97WYJFmyueCrs66lDZN82aNessUOVZpvMIqLiUlHVVwYiymZzR8WlIizI1yH+HiIpMekmIodxteAqdp3fBYBJNxEROZaqyq6rkpVXjE9/PV3+u6OUZiem59b4t4kAMo1FSEzPRb9Ab/sFRqQCLC8nckKiKCIpMwkH/jwAk9mkdDiS2XByA0yiCd1bdEegV6DS4RAREVmlurJrazhKaXZ2vnV/m7XXETkTnnQTOZHcwlx8f+R7fHn4S6RkpwAAfBr7YHSn0RgXNA6D2w2Gi9ZF4SjrLjYlFgAwoesEhSMhIiKyTk1l19ZwlNJsHw+9pNcROROedBM5geJbxZi2cRpaftISs3+ZjZTsFLg1ckMTfRNk38zGsqRleDDmQQT8OwBJmUlKh1sn2Tez8Vv6bwCYdBMRkeOorezaGpbS7BV701XbaK1vgBf8DHpU95WAgLJS+b4BXvYMi0gVmHQTOTizaMZTG57Cl4e/RLGpGD18e+Czhz7D5ZcvI/uVbPwy+Rc80+sZNHdvjkv5lzD428HYfWG30mHbbE3qGphFM/q07MPSciIicggms4i9Z3Iku9+CzWkIXbhDlaXmWo2A+RFBAHBH4m35fX5EkGpP6onkxKSbyMG9teMtrEpZhUaaRtg4cSOSnknCc/c+hyb6JnDRumB44HB8EfEFzrx4BgPbDkRecR4ejHkQW05vUTp0m1hKyyd2nahwJERERLWLT8lE6MIdWLzzjKT3VfMz3uHBflgyuRd8DRVLyH0NeiyZ3Ev1zeCI5CKIoqiqGpW8vDwYDAYYjUZ4enoqHQ6Rqn3xxxeYvnk6AOCbh7/BlB5Tary+sLQQ49eMx6ZTm9BI0wjfjf4Okd0i7RBp/fyZ9yf8P/UHAGTMzoC/wV/hiIjk5Sh7oaPESWRvlsZpcv2fbAFliWzC3CGqPDmuPBrNUcaeEdnK2n2QJ91EDmrL6S14bstzAID5g+bXmnADgJuLG9aNX4dJ3SbhlvkWJq2bhE2nNskcaf39dPwnAEBom1Am3EREpGr1bZxmjdvHb6mRViOgX6A3Hu7RCv0CvZlwU4PH7uVEDuj01dMY/9N4mEUznrznScwfNN/q97poXfDdmO+gb6THV4e/wpSfp+DojKNo6dFSxojrJ/Y4S8uJiMgx2NI4zc+gx9sju6BpYx2y84twPqcAqxIzkJXnWOO3eLJNVDMm3UQO6I0db+Bm6U0MbDsQyyKWQRBs29g0ggafPfQZkjKTcDjrMCavm4ztj2+HVqOVKeK6O3ftHBIvJUIjaPBI0CNKh0NERFQjaxPhmYMD8VJYpzuS05lD2mPF3nQs2JxW6z1y8othMouKJrjxKZmIikut8EWDn0GP+RFBfIab6H9YXk7kYBIvJWJN6hoIELB4xGK4al3rdB9dIx1iH4lFY5fG2Hl+JxbuXShxpNJYnbIaADAkYAha3NVC4WiIiIhqZu0c6pD2zatMlrUaAVNCAmocv2WhdDdzy7PrlU/21dzsjUgJTLqJHIgoipj761wAwBP3PIFuLbrV634dvTti8UOLAQD/2PkP7L+4v94xSo2l5URE5EikmFdd0/itypRKcGt6dt3yWlRcqmrnihPZE5NuIgfyy9lf8N/z/4Wr1hVRD0RJcs8n73kSkcGRMIkmRK6NxPWi65LcVwqpV1Jx9K+jcNG4YEyXMUqHQ0REVCPLs80jgn0hon7zqqsbv1WZUglubc+uq73ZG5E9MekmchBm0Yx5v84DAMy8dybaNmkryX0FQcDSUUsR0CQAF4wX8Oq2VyW5rxS+P/I9AGB44HB4uVV/IkBERKQ0y1zuyOUH8PXe8wCAyi1XbJ1XHR7sh4S5Q/D2yC41XqdEgmvts+tqafZGpCQm3UQOYtWxVTjy1xF46jzxxoA3JL23p84T3435DgDw5eEvkZCRIOn966LEVIKvk78GAEztOVXhaIiIiKpX3bPNloPnqSHtsGra/UiYO8Tm5mJajYBmHjqrrrVngmvts+vWXkfkzJh0EzmA4lvFeGvnWwCAuSFz4e3uLfkaoW1Cy5PbZzc9ixJTieRr2OLnEz8j+2Y2Wnq0xKiOoxSNhYiIqDq1zeUWAGxJyarXGC1rE1dLN3N7kOLZdaKGgkk3kQP49si3OH/9PPzu8sOs+2bJts5HYR+huXtzpF5JxSf7PpFtHWss/WMpgLJTbheti6KxEBERVccezzbXluBa2LObeU3N3mx5dp2oIWDSTaRyoihiyR9LAACv9H8FjV0by7aWl5sXPhlelmy/u/tdnLt2Tra1anIy5yR2nt8JjaDB33v9XZEYiIiIrGGPZ5vV2s28umZvtj67TuTsGikdABHV7ODlg0jOSoZOq8OUHlNkX29y98lYcWQFdqTvwHObn8PWSVshVO4EI7Nlh5YBAEZ2GIk2hjZ2XZuIiMgW9nq22ZLgRsWl1nqyLqCsm3lYkK/sJ83hwX4IC/JFYnousvOL4OOhr1cpPZEz4kk3kcpZyqzHdx1vlw7egiBgycglcNW64pezv+DH4z/KvubtCksLseLICgDA9D7T7bo2ERGRrez5bLNaupmbzCL2n72KDcmXsP/sVQBAv0BvPNyjFfoFejPhJqqESTeRil0rvIbYlFgA9k1AO3p3xBuhZR3SZ/8y266zu9ekrkFuYS7aGNrgwcAH7bYuERFRXdj72Walu5nfPhptVmwyIpcfsNtz5ESOikk3kYp9f/R7FN4qRDefbujXup9d154XOg8dvTsi60YW3vhN2hFlNVl6qOxk/5lez0Cr0dptXSIiorqy97PNSo3rqm40mj2fIydyRHymm0ilRFHEF4e+AAA82/tZuz9XrWukw9KRSzHkuyFY+sdSPHnPk7iv9X2yrnnsr2PYd3EfGmka4emeT8u6FhERUX2ZzGKFZ5l3vToYhy5ck/3ZZktJe5axqNpRZU3cXGAWRZjMoiQx1DQazd7PkRM5Gp50E6lUQkYCUq+kwt3FHZO7T1YkhsEBg/HEPU9AhIhnNj2DUlOprOt9euBTAMDDnR6Gnwc7nhIRkXpVVWY96OOdMBaWyP5sszXdzK8XlmLSl79LVvptj9FoRM6KSTeRSlnKrB8LfgwGvUGxOP4Z9k94uXnh6F9H8e/f/y3bOsezj+PbI98CKBuNRkREpFZqKLOurqS9MqlissdoNCJnxaSbSIVyCnKwJnUNAODZPs8qGkvzxs3xcdjHAID5/52PC9cvyLLOGzvegFk0Y0znMbi/9f2yrEFERFRftZVZA2Vl1iZzdYXf0rF0M/9h6n1o4uZS5TVSxaTUc+REzoBJN5EKfZv8LUpMJejt1xt9WvZROhw81eMpDGgzAAWlBXhm0zMwi2ZJ7783Yy82ntwIjaDBB0M/kPTeREREUlJbmbVWI0CjEXC9sPpHwOobk8kswmwWq03sAWlHoxE5GybdRCq0MmUlAGBqz6kKR1JGEAR8MeoL6Bvpse3sNny6/1PJ7i2KIub+OhcA8HSPp9G5WWfJ7k1ERCQ1NZZZyxmT5dn1SV/9Xm1iL8doNCJnwqSbSGVOXT2FpMwkaAUtHu36qNLhlOvSvAv+9eC/AACv//Y6/rj8hyT33XRqE/Ze3At9Iz3eeeAdSe5JREQkFzWWWVu7Vk5+sU0l5tU9u16ZXKPRiJwFk24ilVmdshoAEBYYhmbuzRSOpqJnej+DcV3GodRcisi1kcgvzq/X/UxmE+b9Ng8AMPu+2Wjl2UqKMImIiGRjGddV3XmuEmXWtcVksWBzmtXdzGt6dt2iiZsLfvj7fUiYO4QJN1ENmHQTqYgoiliVsgoAMLHrRIWjuZMgCFgesRz+nv44k3sGM7fOrNf9ViSvQOqVVDTVN8Xc0LkSRUlERCSfmsZ1KVVmbc0IMQtru5nX9uw6UDaWTCMILCknqgWTbiIVSclOQVpOGly1rhjdebTS4VSpqVtTrBy3EhpBg++OfIfvjnxXp/scvHQQL2x9AQDwxoA30ETfRMIoiYiI5FPduC4ly6ytHSEm/u9n3tpj2Hsmp8pyc5NZxN4zOVatyxFhRLVrpHQARPR/YlNiAQAPdXhI0dnctQltE4p3Br2Df/z3H5i6cSp0Wh0mBE+w+v3p19IxatUoFN4qRHj7cMy6b5aM0RIREUkvPNgPYUG+SEzPRXZ+EXw8ykrKlTz1tcS0Ym86FmxOq/Ha64WlmPTl7/Az6DE/Iqj8i4L4lExExaXWesptwRFhRLVj0k2kEqIoIvZ4WdKtxtLyyt4Y8AbSctKwKmUVItdG4nrRdatmiucW5mLEDyOQfTMbPXx74MdHfoSLtvoRJERERGql1QjoF+itdBgVaDUCmnnorL4+y1iE6TFJeGlYBxgLS/H13vNWvU9A2ck+R4QR1Y5JN5FK/HH5D5y7dg7uLu4Y1XGU0uHUSqvR4vsx38OgM2DpoaWYvnk6rhVdw7zQedW+p/hWMcasHoOTV0/C39Mfmx/bDA+dhx2jJiIiqjuTWVTVyXZ1bDl9thSXf/rraavfwxFhRLZh0k2kEquPl3Ut/1unv6Gxa2OFo7GOVqPF5yM/h5ebFz5I+ACv//Y6Tl09hWd6P4O+rfpCI5S1jSgsLcTatLX4T+J/kHgpEZ46T2yZtAUtPVoq/BcQERFZp6qy68ql2Wph6WaeZSyqsft4Xfmq9O8mUism3UQqYBbN5Un3hK7WPxutBoIg4P2h76OpW1O8uv1VfJP8Db5J/gatPFphTOcxAICYYzG4XnQdAKBvpMe68esQ7BOsYNRERETWs8yrrpzAWjqBq21GtaWb+YyYJAiApIn3zMGBeCmsE0+4iWzA7uVEKrDv4j78mfcnPHWeCG8frnQ4dfJK/1ewbfI2RAZHwsPVA5fyL2HxwcVYfHAxrhddR7sm7bBg8AKcfuE0ht49VOlwiYiIrFLTvGrLa1FxqVV2AVeStd3MbRXSvjkTbiIb8aSbSAUsXcvHdB4DfSPH7QIaFhiGsMAwFN0qwm/nfsP6E+txy3wLk7pNwtC7h5aXmxMRETmK2uZViwAyjUVITM9VXVM1SzfzA2ev4vmVSbheWFrne7FxGlHdMekmUphZNGNd2joAwPiu4xWORhr6RnqM7DgSIzuOVDoUIiKierF2DrVa51VrNQJCOjTDh+O6YUZMEgDby83ZOI2ofnjsRKSwxEuJyLyRCQ9XDwwNYNk1ERGRmljbCVzt86rrU27ua9Cr7rl1IkfCk24ihVlOuUd1HAVdI+vnahIREZH8ausE7khl15Zyc8vYs/M5BfjXr6cAVH36PTWkHYYF+ap2NBqRo2DSTaQgURSx/sR6ACjv9E1ERETqUVMncEcsu9ZqhArPnnfyvcthRqEROSom3UQKSslOwZncM9BpdRjRYYTS4RAREVEVLKXZlZNTZ5hXXfn028dDz5NtIokx6SZSkOWUe3jgcNzlepfC0RAREVF1nDk5rXz6TUTSYtJNpCCWlhMRETkOJqdEVBfsXk6kkPRr6UjOSoZW0CKiU4TS4RARERERkQx40k2kEMsp98C2A9HMvZnC0RAREVFlJrPolOXkRGRfsp90R0dHQxAEzJ49W+6liByKZVTY2C5jFY6EiIj7NVFl8SmZCF24A5HLD2BWbDIilx9A6MIdiE/JVDo0InIwsibdBw8exLJly9C9e3c5lyFyOFk3srDv4j4AwOjOo5UNhogaPO7XRBXFp2RiRkxShU7lAJBlLMKMmCQm3kRkE9mS7hs3bmDSpElYvnw5mjZtKtcyRA5pw4kNECGib6u+aO3ZWulwiKgB435NVJHJLCIqLrXCPG4Ly2tRcakwmau6gojoTrIl3c8//zxGjhyJYcOG1XhdcXEx8vLyKvwQOTt2LScitbB2vwa4Z1PDkJiee8cJ9+1EAJnGIiSm59ovKCJyaLI0UouNjUVSUhIOHjxY67XR0dGIioqSIwwiVbpedB070ncAYNJNRMqyZb8GuGdTw5CdX33CXZfriIgkP+m+ePEiZs2ahZiYGOj1+lqvf/3112E0Gst/Ll68KHVIRKqy+dRmlJpLEdQ8CJ2adVI6HCJqoGzdrwHu2dQw+HhY998Ha68jIpL8pPvQoUPIzs5G7969y18zmUzYvXs3Fi9ejOLiYmi12vJ/ptPpoNPppA6DSLVYWk5EamDrfg1wz6aGoW+AF/wMemQZi6p8rlsA4GsoGx9GRGQNyZPuoUOH4tixYxVee+qpp9C5c2fMnTv3jg2cqCEpLC3E1jNbATDpJiJlcb8mqppWI2B+RBBmxCRBACok3pYJ3fMjgjivm4isJnnS7eHhgeDg4AqvNW7cGN7e3ne8TtTQbDu7DQWlBWhjaINefr2UDoeIGjDu10TVCw/2w5LJvRAVl1qhqZqvQY/5EUEID/ZTMDoicjSyNFIjoqqtO7EOQNkptyDwG3IiIiK1Cg/2Q1iQLxLTc5GdXwQfj7KScp5wE5Gt7JJ0//e//7XHMkSqVmoqRdzJOADA2C5jFY6GiOhO3K+JKtJqBPQL9FY6DCJycLLN6SaiinZf2I1rRdfQ3L05QvxDlA6HiIiIiIjsgOXlRHayLq2stPxvnf4GrYYNioiIiNTGZBZZTk5EkmPSTWQHZtGMn0/+DICl5URE5PicMTmNT8m8o3GaHxunEZEEmHQT2UHipURczr8MD1cPDA0YqnQ4REREdeaMyWl8SiZmxCTdMZc7y1iEGTFJWDK5l8P+bUSkPCbdRHawPm09AOChDg9B10incDRERES2sZxsb0/Nwtd7z9/xzzONRZgek4SpIe0wLMjXoU6+TWYRUXGpdyTcQNmMbgFAVFwqwoJ8HeZvIiJ1YdJNJDNRFLH+RFnSzdJyIiJyNFWdbFfnq73n8dXe8w518p2Ynlvj3yai7EuFxPRcdjInojph93JSjRM5J/Dqtlcx7LthiPpvFFKyUyCKVX3v7FiSs5JxOvc09I30GNF+hNLhEBERWc1Sdm1Nwn07S1l2fEqmTJFJJzvfur/N2uuIiCrjSTcpquhWEX48/iOWJy1HQkZC+eu/pf+Gd3a9gw5eHfBI0COY028Omrk3UzDSuotNiQUAjOo4Ch46D4WjISIisk5NZde1sbxn3tpj8NC74P67vVVbmu3joZf0OiKiynjSTYq5WXITg1YMwpM/P4mEjARoBA0iOkbg3+H/RkTHCOi0OpzOPY3ohGiEfh2KDGOG0iHbTBRFxB4vS7ondp2ocDRERETWq63s2hrXC0sx6cvfEbpwh2pPvfsGeMHPoEd1XwkIKGsU1zfAy55hEZETYdJNijCZTYhcG4nES4loqm+K9wa/h4zZGdgYuREv3vciNkZuxJVXr2DVuFXw9/THyasnEfp1KE5dPaV06DY58OcBZBgzcJfrXXiow0NKh0NERGQVk1nE3jM5kt1PzeXmWo2A+RFBAHBH4m35fX5EkGpP6olI/Zh0k92JoogXt76IuFNx0DfSY/Njm/HmwDfRyrNVhes8dB6YGDwRe5/ei07enXAx7yJCvw7F4czDCkVuO0tp+ejOo+Hm4qZwNERERLWLT8lE6MIdWLzzjGT3tJSbR8WlwmRWX7+W8GA/LJncC76GiiXkvgY9x4URUb3xmW6yu0/2f4LP//gcAgTEjIlBP/9+NV7vb/DHnqf2IPyHcCRlJuGBbx/A1klb0d+/v30CriOT2YQfU38EwNJyIiJyDNXNq5aC2ruAhwf7ISzIF4npucjOL4KPh96hRp8RkXrxpJvs6qfjP+HV7a8CAD4Z/gnGBY2z6n3NGzfHjid2YGDbgcgrzsO4H8fhys0rcoZab3sy9iDrRhaa6psiLDBM6XCIiIhqVJfGaUM7NwdwZ1l2TdTcBVyrEdAv0BsP92iFfoHqbf5GRI6FSTfZzZWbVzB141QAwIt9X8Ts+2fb9H6D3oCtk7YiqHkQsm5kYcqGKaoeKWYpLR/XZRxcta4KR0NERFQzWxqn+Rn0WDq5F76a0hdLqyjLrklOfrEqSsxNZhH7z17FhuRL2H/2qipiIiLnxPJyspv3dr+H/JJ89PbrjUUPLoIg2P7tsbuLO2LHxeLe5fdiy+kt+Pfv/7Y5ebeHUlMp1qSuAQBMDGZpORERqZ+1J9AzBwfipbBO5afAlrLsA2ev4vmVSbheWFrj+xdsTsOXCemYHxGk2LPS8SmZiIpLrfAlg59Br2hMROS8eNJNdpF+LR1L/lgCAFg4bCG0Gm2d79WtRTcsenARAOC17a8hKTNJkhil9Fv6b7haeBUtGrfAA+0eUDocIiKiWlk7hzqkffM7yq61GgEhHZrhw3HdIKD2cnMlu5lbnluvfKqv5g7rROTYmHSTXby9822UmksxPHA4ht49tN73m9FnBkZ3Ho1Scyki10biRskNCaKUjqW0/NGgR+v1BQMREZHcLGXWWcZCeDV2rde86uq6gFemVDfzmp5bV3uHdSJyXEy6SXbJWcn44dgPAIAPh34oyT0FQcBXf/sKrT1b49TVU5gdP1uS+0qhsLQQ60+sB8DSciIiUjfLeLDI5Qfw0o9HkHuzpMqE1JZ51eHBfkiYOwRvj+xS43W3dzO3l9qeW1ciJiJyfky6SXav//Y6ACAyOBI9/XpKdl8vNy/8MPYHCBDw1eGvsOv8LsnuXR8/pf6EvOI8tDW0rXUcGhERkVKqK7Ouiq3zqrUaAc08dFZda89u5taupeYO60TkeNhIjWS1M30n4s/Eo5GmERYMXiD5/Qe2HYhnez+LpYeWYvrm6Uh+Nhm6RtZt8nL54tAXAIBnej8DjcDvtYiISH2sGQ/m1dgFb4/qCl/Pus2rtvYZcWuvk4IaYyIi58eMgGQjiiLm/TYPADC993QEegXKsk70sGi0aNwCJ3JO4KO9H8myhrWO/nUU+y7uQyNNIzzd82lFYyEiIqqONePBcm+WwtdTX+d51X0DvOBn0NfYVK2JmwvMomi3Z6hri8ma59aJiGzFpJtksydjDxIvJcLdxR1vDXxLtnWa6JvgX+H/AgC8v+d9nL56Wra1avPFH2Wn3KM7j4bvXb6KxUFERFQTe5RZazUC5kcEAai+m/n1wlJM+vJ3hC7cYZeu4TXFZMtz60REtmDSTbJZ+sdSAMCkbpPQ4q4Wsq41oesEDA8cjmJTMZ7b8hxE0f5dR2+U3MD3R78HUHayT0REpFb2KrO2tpu5Pcd1VReTrc+tExFZi890kyyu3LyCtWlrAQDP9n5W9vUEQcDnD32O4CXB+PXcr1h5bCUmdZ8k+7q3i02JRX5JPjp4dcDggMF2XZuIiMgWljLrLGNRtd3KfSUqsw4P9kNYkC8OnL2K51cm4Xph6R3XiP9bMyouFWFBvrKcNJvMIhLTc5GdXwQfDz12vToYhy5cK/+9Ls+tExFZgyfdJIsVyStQYipBn5Z90Ltlb7usGegViLcHvg0AeOmXl3Ct8Jpd1rWwnOyzgRoREamdvcustRoBGo1QZcJtIee4rttHo82KTUbk8gMY9PFOGAtL8HCPVnV+bp2IyBrMDEhyZtFc3sHb3mXWr/R/BUHNg3Cl4Arm/TrPbuv+cfkPHMo8BFetK6b0mGK3dYmIiOrK3mXWSo3rqm40mj1L2omoYWN5OUluR/oOnL12Fp46T0wMnmjXtV21rlg6cikGrhiIZUnL8MQ9TyCkTYjs61oaqD0S9AiauTeTfT0iIqK6UqrM2trnw0//dQP7z16VJI6aRqPZo6SdiAhg0k0ysJRZP979cTR2bWz39Qe0HYCpPafiq8NfYfrm6Uh6JgkuWhfZ1jMWGbEyZSUANlAjIiJ1i0/JRFRcaoVTXz+DHvMjgvBwj1ayrl3bc+QWi3eeweKdZ8rjqs+Je22j0W4vae8X6F3ndYiIasLycpJUZn4mfj7xMwD7NFCrzsJhC9HMvRlSslPwyf5PZF3rn/v+iYLSAgT7BCO0TaisaxEREdWV0mXW1owQkzoupUraiYhux6SbJPX14a9hEk3o798f3Vp0UywOb3dvfDK8LNl+d9e7SL+WLss6mfmZWHRgEQBgweAFEASWphERkfrUVmYNlJVZm8zyjty0doSYVHHZazQaEVFNmHSTZExmE5YlLQOgjjLrx7s/jsHtBqPwVqFss7vf3fUuCkoL0K91Pzzc6WHJ709ERCQFW8qs5RYe7IeEuUOwatr9mDk4sMZr6xuXpaS9uq/EBZSV10sxGo2IqDpMukkyO8/vRIYxA031TfFI0CNKhwNBELB01FK4al0Rfya+vKO6VE5dPYXlScsBAB8O+5Cn3EREpFpqK7PWagT0C/RGhxYeVl1fl7gsDeNGBPuWN027nRyj0YiIqsKkmyQTmxILABjfdTzcXNwUjqZMR++O+HDohwDKZnenZKdIdu+3drwFk2jCyA4jMbDtQMnuS0REJDW1lllbu15OfrFNJea3z+X+eu95AEDl78blGo1GRFQZk26SRImpBGvT1gKA3ceE1WbW/bMwov0IFN0qwsQ1E1FQWlDvex68dBA/pf4EAQKih0ZLECUREZF81FpmXVtcFgs2pyF04Q6rmqpV1zDOkrNPDWmHVdPuR8LcIUy4icgumHSTJLad3YbrRdfhd5cfBrQZoHQ4FWgEDVaMXgHfu3xx/MpxvPzLy/W6nyiKmPvrXADAE/c8oWjDOCIiImvU1DlcyTJrWzqaW9PNvKaGcZY1tqRkyTaLnIioKky6SRK3l5ZrNVqFo7mTT2MffD/mewgQsPTQUqxLW1fne/1w7AfsPL8TrlpXRD0QJWGURERE8qmuc7jSZdbWdjS3ppu5mhrGERFZNFI6AHJ8BaUF2HByAwD1lZbfbtjdw/BayGtYuHchpm6cisCmgbjH9x6b7rHr/C5M3TgVADA3ZC7aNmkrR6hERESyCA/2Q1iQLxLTc5GdXwQfD70qTn0tca3Ym44Fm9Oqvc6SNK/Ym44pIQEV4jaZRew9k2PVepzLTUT2xKSb6m3L6S24UXIDbQ1tcV+r+5QOp0YLBi/A7gu7sf/P/Ri0YhA2P7YZIW1CrHpv2pU0jF49GiWmEjwS9AjeeeAdeYMlIiKSgaVzuNpoNQKaeeisunbB5jQs33MOkX3boF2zxjifU4BViRnIyrMumeZcbiKyJybdVG+W0vKJwRNVPzbLReuCrZO2ImJVBPZk7EHY92FYN2EdwtuH1/i+rBtZeGjlQ7hedB39/fvju9HfQSPw6QwiIiIp2ZIMZ+UV49NfT9t0fwFl5fScy01E9sSsgeolvzgfm09vBgBM6DpB4WisY9AbED85Hg91eAiFtwrxt1V/w+qU1dVen5mfiYhVETh//Tw6eHXAhokbVDMSjYiIqDYms4j9Z69iQ/Il7D971abRW/ZmbTfzuuBcbiJSCk+6qV42ntyIoltF6OjdET18eygdjtXcXdyxfsJ6PPnzk4hNicXEtRPx8b6PMbbLWIzrMg6BXoH45cwvWJ60HJtObYJJNKGZezNsmbQFzdybKR0+ERGRVeJTMhEVl1qhuZifQY/5EUGqHJdl6WY+IyYJAlBtF/K68FXx301Ezo1JN9VL7PH/lZZ3VX9peWWuWlfEjIlBi8Yt8J/E/+BQ5iEcyjyEN3e8CQ9XD+SX5Jdf29+/P/4z4j9o79VewYiJiIisZ5lXXTlxtYzeUrJjeU0s3cwrf1lQHzMHB+KlsE484SYiRbC8nOostzAXv5z5BQAwIdgxSssr02q0+Ff4v5D5ciaWjVqG8PbhcNG4IL8kH95u3phz/xwcf+449j69F738eikdLhERkVVqmldtzegtpYUH+yFh7hC8PbKLJPcLad+cCTcRKYYn3VRnG05sQKm5FN18uiGoeZDS4dSLT2MfTOs9DdN6T8P1ous4kXMCPX17QtfIui6qREREamLLvGo1djIHykrNp4QE4MuEdGQZi+pUas7GaUSkBjzppjpbd2IdAODRoEcVjkRaTfRNcH/r+5lwExGRw7J2DrXa51VbnvEGYHNzNTZOIyK1YNJNdZJfnI/tZ7cDAMZ0GaNwNERERHQ7a0dvOcK8assz3r4G22L1NehV+9w6ETUsLC+nOtl6ZiuKTcXo4NUBXZt3VTocIiIiuo1l9FZ1ZdmOVnYdHuyHsCBfJKbnIju/COdzCrAqMQNZef93Uu/rqUNk3zZo16wxfDzK/jaecBORGjDppjpZf2I9AGBM5zEO17WciIjI2dU0estRy661GqHC8+czh7QvT8KZZBORmjHpJpsV3yrG5lObAbC0nIiISK2qG73lLPOqKyfhRERqxaSbbPZb+m/IL8lHS4+W6Nuqr9LhEBERUTUql2XzRJiIyP6YdJPN1qeVlZaP7jQaGoG9+IiIiNSMJ8JERMpixkQ2MZlN2HByAwBgbJexCkdDRERERESkbjzpJpvsvbgXVwquoKm+KQa2Hah0OERERFSJySyynJyISEUkP+mOjo7GvffeCw8PD/j4+GD06NE4efKk1MuQQtalrQMA/K3T3+CidVE4GiIiqivu184pPiUToQt3IHL5AcyKTUbk8gMIXbgD8SmZSodGRNRgSZ5079q1C88//zwOHDiA7du349atWxg+fDhu3rwp9VJkZ6IoVhgVRkREjov7tfOJT8nEjJikCp3KASDLWIQZMUlMvImIFCKIoijWflndXblyBT4+Pti1axcGDqy9HDkvLw8GgwFGoxGenp5yhkY2SspMQu9lveHu4o6cV3Pg5uKmdEhERE5Jib3Q1v0a4J6tJiaziNCFO+5IuC0ElI0KS5g7hKXmREQSsXYflP2ZbqPRCADw8vKq8p8XFxejuLi4/Pe8vDy5Q6I6spSWh7cPZ8JNRORkatuvAe7ZapaYnlttwg0AIoBMYxES03PZyZyIyM5k7V4uiiLmzJmD0NBQBAcHV3lNdHQ0DAZD+Y+/v7+cIVE9WErLx3Zm13IiImdizX4NcM9Ws+z86hPuulxHRETSkTXpnjlzJo4ePYpVq1ZVe83rr78Oo9FY/nPx4kU5Q6I6OplzEqlXUuGiccHIjiOVDoeIiCRkzX4NcM9WMx8PvaTXERGRdGQrL3/hhRewceNG7N69G61bt672Op1OB51OJ1cYJBHLKfeQgCFoom+ibDBERCQZa/drgHu2mvUN8IKfQY8sYxGqatZjeaa7b0D1jw8QEZE8JD/pFkURM2fOxLp167Bjxw4EBARIvQQpwPI899guLC0nInIG3K+di1YjYH5EEICyBPt2lt/nRwSxiRoRkQIkT7qff/55xMTEYOXKlfDw8EBWVhaysrJQWFgo9VJkJ3/m/YmDlw9CgICHOz2sdDhERCQB7tfOJzzYD0sm94KvoWIJua9BjyWTeyE82E+hyIiIGjbJR4YJQtXfoH7zzTeYMmVKre/n+BH1WZy4GC9sfQEh/iFIeDpB6XCIiJyePfbC+u7XAPdstTKZRSSm5yI7vwg+HmUl5TzhJiKSnmIjw2Qe+00KYGk5EZHz4X7tvLQagWPBiIhURNbu5eT4cgpysPvCbgDAmM5jFI6GiIiIiIjIscjWvZycQ9zJOJhEE3r49kBAUzbZISIiUhuWkxMRqRuTbqqRZVQYT7mJiMjROWNyGp+Siai4VGQai8pf8zPoMT8iiI3TiIhUgkk3VetGyQ1sO7sNAJ/nJiIix3N7kn0+pwCrEjOQlfd/yamvpw6RfdugXbPGDpmEx6dkYkZM0h1zubOMRZgRk8SO5UREKsGkm6q19fRWFJuK0d6rPbo276p0OERERFar6gS4sqy8Ynz66+ny3x3phNhkFhEVl3pHwg0AIspmc0fFpSIsyNehvkggInJGbKQmAbNoxpGsI8i+ma10KJJam7YWQFlpeXWjZYiIiNTGcgJcU8JdFcsJcXxKpkyRSScxPbfGv08EkGksQmJ6rv2CIiKiKvGkux4u51/GN4e/wVeHv0L69XRoBA0GtBmAsV3GYkznMfA3+CsdYp3dLLmJuFNxAIAJXScoHA0REZF1ajoBro0jnRBn51v3hYK11xERkXx40l0Hf+b9idGxo+H/qT/e2vkW0q+nw62RG8yiGbsu7MKs+Flo8682mLBmAgpLC5UOt07iTsWhoLQAgU0D0cuvl9LhEBERWaW2E+DaWE6IV+xNh8ms3lnmPh56Sa8jIiL5MOm20fWi63gw5kFsOLkBZtGM0Dah+Hb0t8h5LQfnZ53HouGLENomFAIE/Hj8R4T/EI684jylw7ZZbEosAGBi8ESWlhMRkUMwmUXsPZMjyb0WbE5D6MIdqi017xvgBT+DHtXt0ALKnlHvG+Blz7CIiKgKTLptUGIqwdjVY5F6JRUtPVri6PSj2PPUHjxxzxNwd3FH2yZt8VK/l7DnqT3YNWUXPHWe2H1hNwZ/OxhXbl5ROnyrXS+6jq1ntgIoS7qJiIjULj4lE6ELd2DxzjOS3VPNz3hrNQLmRwQBwB2Jt+X3+RFBqi6RJyJqKJh0W0kURUzdOBU7z+/EXa53YfNjm9GtRbdqrx/QdgB2PrkTzd2bIykzCQO+GYCLxot2jLjufj7xM0pMJejavCuCfYKVDoeIiKhGdW2cVhtLcXlUXKoqS83Dg/2wZHIv+BoqlpD7GvQcF0ZEpCJspGalf+z8B2KOxkAraLHm0TXo4duj1vf08uuFPU/tQdj3YTh59SQGrRiEQ88cQlO3pvIHXA+3l5YTERGpWX0ap1nj9i7g/QK9ZVql7sKD/RAW5Fs+j9wR540TETk7Jt1WWHVsFd7b8x4A4ItRX+DB9g9a/d5OzToh4ekEPLDiAaRfT8e0uGn46dGfVPuc9JWbV/DruV8BsGs5ERGpny2N03w9dYjs2wbtmjXG+ZwCrErMQFae43cB12oEVX4hQEREZVheXouC0gK8sv0VAMC8kHmY2muqzfdoY2iD1Y+sRiNNI6xNW4vlSculDlMya9PWwiSa0NuvNzp4d1A6HCIiohpZmwzPHByIvfOGYtawjni4RyvMGtYBe+cNwdsju1j1/tN/3cD+s1dVUWZuMovYf/YqNiRfUk1MRERUPSbdtfh/v/8/XM6/jLaGtnjngXfqfJ97W92L6KHRAIBZ8bNwPPu4RBFKi6XlRETkSKwdiRXSvvkdJddajYApIQE1dgG3WLzzDCKXH1C8o7mlYVzk8gOYFZusipiIiKhmTLprkFuYiw8TPgQALBi8ALpGunrdb06/OXgw8EEU3SpC5NpI1c3wvpR3Cbsv7AYAjO86XuFoiIiIalff0Vk1dQGvipIdzatrGKfmLutERMSku0bRe6JhLDaie4vueKzbY/W+n0bQ4NvR38KnsQ+OZR/Dq9tflSBK6fyU+hNEiAjxD0EbQxulwyEiIqqRySwiMT0XI4J9IaLuo7Oq6wJeFaU6mtfUME7tXdaJiBo6Jt3VyDBm4D+J/wEARA+NhlajleS+Le5qge/HfA8A+OzgZ+VNy5QmiiK+O/IdADZQIyIi9bu9zPrrvecBAJV7lNoyOis82A8Jc4dg1bT7MXNwYI3X3t7R3F5qaxinRExERGQdJt3VeOe/76DYVIxBbQdhRPsRkt57eOBwzLx3JgDguc3PoeiW8h1R/7j8Bw5nHYZOq0Nkt0ilwyEiIqpWdWXWlkPeqSHtsGra/UiYO8SmWdWWLuAdWnhYdb09O5pbu5aau6wTETVUTLqrcDz7OL498i0A4MNhH8oy3uv9oe+jpUdLnM49jeg90ZLf31ZfHPoCAPBI0CNo5t5M4WiIiIiqVttcbgHAlpSses2qtrY5W05+sd3Kua2NydrriIjIfph0VyFqVxTMohlju4zF/a3vl2UNT50n/h3+bwBAdEI0TuSckGUda1wvuo5VKasAANP7TFcsDiIiotrYo8y6tuZsFgs2p9mtc3h9G8YREZFymHRXcjn/MtalrQMAzB80X9a1xnUZh4c6PIRScymmb5oOUVSm+UnM0RgUlBaga/OuCPEPUSQGIiIia9ijzNqWjub26hxeU0zWNowjIiJlMOmu5OvDX8MkmhDiH4LuLbrLupYgCPjsoc/g1sgNuy7sKm9kZk+iKJaXlk/vM12WUnoiIiKp2KvM2tqO5vbsHF5dTLY0jCMiIvtrpHQAamIym7Ds0DIA9iuzbtekHd554B3M/XUuXt72MkZ2HGnXZ6r3XdyHlOwUuDVyw+Tuk+22LhERUV1YyqyzjEVVPtctoCwJlaLMOjzYD2FBvlixNx0LNqdVe93tJe39Ar3rvW5lltFo2flF8PHQY9erg3HowrXy3+vz/DoREcmPSfdt4s/E42LeRXi5eeGRoEfstu5L97+EmKMxOJZ9DK9tfw1fP/y13dZeemgpACAyOBJN9E3sti4REVFdWMqsZ8QkQQAqJN5ylFlrNQKaeeisulaOzuHxKZmIikut8By7n0GP+RFBeLhHK8nXIyIi6bG8/DaWBHTKPVOgb2S/7p8uWhcsHVW29jfJ32DX+V12WfdqwVX8dPwnAGygRkREjsPeZdZKdQ6vbjSavZ4jJyIiafCk+38yjBnYcnoLAOCZ3s/Yff3+/v3xbO9n8cWhLzB983QkP5sMXSPrvlmvq2+PfItiUzF6+vZEn5Z9ZF2LiIiovpQqs66tpB0Amri5wCyKMJlFSWKoaTSaiLJT/ai4VIQF+bK0nIhI5XjS/T9fJn0Js2jGkIAh6NSskyIxRA+Nhk9jH5zIOYGP930s61qlplJ8dvAzAGygRkRE6hefkonQhTsQufwAZsUmI3L5AQz6eCeMhSV4uEcr9Av0li35tKab+fXCUkz68nfJRojZYzQaERHZB5NulCWgXyZ9CQB4tvezisXR1K0pPn3wUwDAe7vfw+mrp2Vba3nScpy7dg4+jX3wWLfHZFuHiIiovtRQZm1tN3OpYrLHaDQiIrIPJt0ANp3ahMwbmfBp7IPRnUcrGktkcCTC7g5DsakYz215TpbZ3TdKbiBqVxQA4B8D/4G7XO+SfA0iIiIp1FZmDdhnXBdQlngnzB2CH6behyZuLlVeI1VMSj1HTkRE0mPSDZTPqZ7acypcta6KxiIIAj4f+Tl0Wh1+PfcrViSvkHyNT/d/iuyb2QhsGohpvadJfn8iIiKpqK3MWqsRoNEIuF5YKltMJrMIs1msNrEHysrc/SQajUZERPJq8En3Xzf+wvZz2wGUJd1q0N6rPd554B0AwAtbX8Cpq6cku/eVm1fw0b6PAADvD3lf8S8ZiIiIaqLGMms5Y7I8uz7pq9+rTezlGI1GRETyafBJ95rUNTCLZtzX6j4EegUqHU65V/u/igfaPYCbpTcxcc1EFN8qluS+7+95HzdKbqCXXy882vVRSe5JREQkFzWWWVu7Vk5+sU0l5tU9u16ZXKPRiIhIHg0+6Y49HgsAmNB1gsKRVKTVaBEzJgbebt44nHUYb/z2Rr3vmX4tHZ8f/BwAsHDYQmiEBv8fPxERqZxlXFd157lKlFnXFpPFgs1pVnczr+nZdYsmbi744e/3IWHuECbcREQOpEFnXReNF5GQkQABAsZ3Ha90OHdo5dkK3zz8DQBg0YFF2Hp6a73u9/bOt1FqLkXY3WEYdvcwKUIkIiKSVU3jupQqs7ZmhJiFtd3Ma3t2HSgbS6YRBJaUExE5mAaddP94/EcAwIC2A9DKs5XC0VQtolMEXuj7AgDgyZ+fRGZ+3UaQfPHHF/jh2A8AyuaBExEROYrqxnUpWWZt7Qgx8X8/89Yew94zOXeUm5vMIvafvYqtVo4Y44gwIiLH00jpAJRkKS2f2HWiwpHU7KOwj7D7wm4c+esIhn43FNse34bWnq2tfv+W01vw3JbnAABRD0Shd8vecoVKREQki/BgP4QF+SIxPRfZ+UXw8SgrKVfy1NcS04q96ViwOa3Ga68XlmLSl7/Dz6DH/IgghAf7IT4lE1FxqbWecN+OI8KIiBxPg026z+SewR+X/4BW0GJc0Dilw6mRvpEea8avwZBvhyAtJw2hX4di++Pb0cG7Q63vPXT5EMb/NB5m0YwpPabg7YFv2yFiIiIi6Wk1AvoFeisdRgVajYBmHjqrr880FmF6TBKGdm6O305csfp9AspO9jkijIjI8TTY8vLVKasBAEPvHgqfxj4KR1O79l7tkfB0Ajp6d8QF4wUM+GYAjmQdqfE956+fx6hVo3Cz9CbC7g7DslHLIAh8DoyIiByDpfR6Q/Il7D971aZO4PZUl9NnWxNugCPCiIgcVYM96XaU0vLbtTG0wZ6n9uDBmAeRnJWMQSsG4ZPhn2BMlzHwcvu/b76NRUasPLYSH+/7GFk3stC9RXesGb8GLloXBaMnIiKyXlWl17eXZquJpZt5lrGoxu7jdeWr0r+biIisI4iiqKqvjfPy8mAwGGA0GuHp6SnLGinZKei2pBtcNC7465W/0NStqSzryMVYZMSoVaOQkJEAANAKWgwOGIyIjhE4nHUYPx7/EQWlBQCA1p6tsX/qfpueASciImXZYy+UglxxWuZVV/4/KJYzXjXOqLbEDECyxPuJfm0xIthP8WfXiYioatbugw2yvNxSWh7ePtzhEm4AMOgN+GXyL3hv8Hvo3qI7TKIJv577FbPiZ2FF8goUlBYgqHkQFg1fhCPTjzDhJiIih1HTvGrLa1FxqaorNbe2m7ktRgT7oV+gNxNuIiIH1+DKy0VR/L/S8mDHKS2vzN3FHW8OfBNvDnwTZ3LPYF3aOmw7uw1tDW3x915/x/2t7+fz20RE5HBqm1ctoqwZWWJ6ruqaqlm6mR84exXPr0zC9cLSOt2HTdOIiJxLg0u6j2Ufw5ncM9BpdYjoGKF0OJJo79Uer4W8htdCXlM6FCIionqxdg61WudVazUCQjo0w4fjutWp3JxN04iInE+DKy9fn7YeAPBg+wfhofNQOBoiIiK6nbWdwNU+r7qu5ea+Br0qn1knIqK6a3An3etOrAMAjOk8RuFIiIiIqLLaOoE7Uum1pdw8MT0X21Oz8PXe8xBQ9cn31JB2GBbky6ZpREROqEEl3Wdzz+LoX0ehFbROU1pORETkTLQaAfMjgjAjJumOBNURS6+1GgH9Ar3RL9AbfQO8HGYMGhERSadBJd3rT5SVlg9qNwje7upqvkJERERlLKXZlRNUR59XffvJd3Z+EXw89DzZJiJqABpk0s3SciIiInVz1gTVcvJNREQNR4NJujPzM7H/4n4AwOjOo5UNhoiIiGrFBJWIiJxBg+levuHkBogQ0bdVX7T2bK10OERERERERNQANJiTbktp+djOYxWOhIiIiCozmUWnKyUnIiICGkjSfb3oOnak7wAAjOnC57mJiIjUJD4lk129iYjIaclWXv75558jICAAer0evXv3xp49e+RaqlabTm3CLfMtdG3eFR29OyoWBxERkdoovV/Hp2RiRkxShYQbALKMRZgRk4T4lEy7xkNERCQ1WZLu1atXY/bs2XjzzTdx+PBhDBgwACNGjEBGRoYcy9WKXcuJiIjupPR+bTKLiIpLrTCL28LyWlRcKkzmqq4gIiJyDLIk3YsWLcLUqVPx97//HV26dMG//vUv+Pv7Y8mSJXdcW1xcjLy8vAo/UiooLcDW01sBsLSciIjodrbs14D0e3Zieu4dJ9y3EwFkGouQmJ5br3WIiIiUJHnSXVJSgkOHDmH48OEVXh8+fDj27dt3x/XR0dEwGAzlP/7+/pLGc+yvYwCAtoa26OnbU9J7ExEROSpb92tA+j07O7/6hLsu1xEREamR5El3Tk4OTCYTWrRoUeH1Fi1aICsr647rX3/9dRiNxvKfixcvShrPfa3vQ85rOYiLjIMgsAsqERERYPt+DUi/Z/t46CW9joiISI1k615eOcEVRbHKpFen00Gn08kVBgDA3cUd3Vp0k3UNIiIiR2Ttfg1Iv2f3DfCCn0GPLGNRlc91CwB8DWXjw4iIiByV5CfdzZo1g1arveNb8uzs7Du+TSciIiJlqGG/1moEzI8IAlCWYN/O8vv8iCDO6yYiIocmedLt6uqK3r17Y/v27RVe3759O/r37y/1ckRERFQHatmvw4P9sGRyL/gaKpaQ+xr0WDK5F+d0ExGRw5OlvHzOnDl4/PHH0adPH/Tr1w/Lli1DRkYGpk+fLsdyREREVAdq2a/Dg/0QFuSLxPRcZOcXwcejrKScJ9xEROQMZEm6J0yYgKtXr+Ldd99FZmYmgoODsWXLFrRt21aO5YiIiKgO1LRfazUC+gV6231dIiIiuQmiKFbVu0QxeXl5MBgMMBqN8PT0VDocIiIiu3OUvdBR4iQiIpKDtfug5M90ExEREREREVEZJt1EREREREREMmHSTURERERERCQTJt1EREREREREMmHSTURERERERCQTJt1EREREREREMpFlTnd9WCaY5eXlKRwJERGRMix7oMqmet6BezYRETVk1u7Xqku68/PzAQD+/v4KR0JERKSs/Px8GAwGpcOoFvdsIiKi2vdrQVTZ1+hmsxmXL1+Gh4cHBEGQ5J55eXnw9/fHxYsXaxxaTrXjZykNfo7S4WcpHX6W0pDicxRFEfn5+WjZsiU0GvU+CSb1ns1/B6XDz1I6/Cylwc9ROvwspVPfz9La/Vp1J90ajQatW7eW5d6enp78F1Mi/Cylwc9ROvwspcPPUhr1/RzVfMJtIdeezX8HpcPPUjr8LKXBz1E6/CylU5/P0pr9Wr1fnxMRERERERE5OCbdRERERERERDJpEEm3TqfD/PnzodPplA7F4fGzlAY/R+nws5QOP0tp8HOsO3520uFnKR1+ltLg5ygdfpbSsddnqbpGakRERERERETOokGcdBMREREREREpgUk3ERERERERkUyYdBMRERERERHJhEk3ERERERERkUyYdBMRERERERHJxOmT7s8//xwBAQHQ6/Xo3bs39uzZo3RIDic6Ohr33nsvPDw84OPjg9GjR+PkyZNKh+XwoqOjIQgCZs+erXQoDunSpUuYPHkyvL294e7ujh49euDQoUNKh+Vwbt26hbfeegsBAQFwc3PD3XffjXfffRdms1np0FRv9+7diIiIQMuWLSEIAn7++ecK/1wURbzzzjto2bIl3Nzc8MADD+D48ePKBOsguGfXH/dseXDPrh/u2dLgnl03ativnTrpXr16NWbPno0333wThw8fxoABAzBixAhkZGQoHZpD2bVrF55//nkcOHAA27dvx61btzB8+HDcvHlT6dAc1sGDB7Fs2TJ0795d6VAc0rVr1xASEgIXFxds3boVqamp+OSTT9CkSROlQ3M4CxcuxNKlS7F48WKkpaXho48+wscff4z//Oc/Soemejdv3sQ999yDxYsXV/nPP/roIyxatAiLFy/GwYMH4evri7CwMOTn59s5UsfAPVsa3LOlxz27frhnS4d7dt2oYr8WnVjfvn3F6dOnV3itc+fO4rx58xSKyDlkZ2eLAMRdu3YpHYpDys/PFzt06CBu375dHDRokDhr1iylQ3I4c+fOFUNDQ5UOwymMHDlSfPrppyu8NnbsWHHy5MkKReSYAIjr168v/91sNou+vr7ihx9+WP5aUVGRaDAYxKVLlyoQofpxz5YH9+z64Z5df9yzpcM9u/6U2q+d9qS7pKQEhw4dwvDhwyu8Pnz4cOzbt0+hqJyD0WgEAHh5eSkciWN6/vnnMXLkSAwbNkzpUBzWxo0b0adPHzz66KPw8fFBz549sXz5cqXDckihoaH47bffcOrUKQDAkSNHkJCQgIceekjhyBxbeno6srKyKuxBOp0OgwYN4h5UBe7Z8uGeXT/cs+uPe7Z0uGdLz177dSPJ7qQyOTk5MJlMaNGiRYXXW7RogaysLIWicnyiKGLOnDkIDQ1FcHCw0uE4nNjYWCQlJeHgwYNKh+LQzp07hyVLlmDOnDl44403kJiYiBdffBE6nQ5PPPGE0uE5lLlz58JoNKJz587QarUwmUx4//33ERkZqXRoDs2yz1S1B124cEGJkFSNe7Y8uGfXD/dsaXDPlg73bOnZa7922qTbQhCECr+LonjHa2S9mTNn4ujRo0hISFA6FIdz8eJFzJo1C9u2bYNer1c6HIdmNpvRp08ffPDBBwCAnj174vjx41iyZAk3cButXr0aMTExWLlyJbp27Yrk5GTMnj0bLVu2xJNPPql0eA6Pe5Bt+HlJi3t23XHPlg73bOlwz5aP3PuP0ybdzZo1g1arveMb8uzs7Du+ySDrvPDCC9i4cSN2796N1q1bKx2Owzl06BCys7PRu3fv8tdMJhN2796NxYsXo7i4GFqtVsEIHYefnx+CgoIqvNalSxesXbtWoYgc16uvvop58+Zh4sSJAIBu3brhwoULiI6O5gZeD76+vgDKvkH38/Mrf517UNW4Z0uPe3b9cM+WDvds6XDPlp699munfabb1dUVvXv3xvbt2yu8vn37dvTv31+hqByTKIqYOXMm1q1bhx07diAgIEDpkBzS0KFDcezYMSQnJ5f/9OnTB5MmTUJycjI3bxuEhITcMQLn1KlTaNu2rUIROa6CggJoNBW3Aq1Wy/Ej9RQQEABfX98Ke1BJSQl27drFPagK3LOlwz1bGtyzpcM9Wzrcs6Vnr/3aaU+6AWDOnDl4/PHH0adPH/Tr1w/Lli1DRkYGpk+frnRoDuX555/HypUrsWHDBnh4eJSfRBgMBri5uSkcnePw8PC445m6xo0bw9vbm8/a2eill15C//798cEHH2D8+PFITEzEsmXLsGzZMqVDczgRERF4//330aZNG3Tt2hWHDx/GokWL8PTTTysdmurduHEDZ86cKf89PT0dycnJ8PLyQps2bTB79mx88MEH6NChAzp06IAPPvgA7u7ueOyxxxSMWr24Z0uDe7Y0uGdLh3u2dLhn140q9mvJ+qCr1GeffSa2bdtWdHV1FXv16sWRGXUAoMqfb775RunQHB7Hj9RdXFycGBwcLOp0OrFz587ismXLlA7JIeXl5YmzZs0S27RpI+r1evHuu+8W33zzTbG4uFjp0FRv586dVf5v45NPPimKYtkYkvnz54u+vr6iTqcTBw4cKB47dkzZoFWOe3b9cc+WD/fsuuOeLQ3u2XWjhv1aEEVRlC6FJyIiIiIiIiILp32mm4iIiIiIiEhpTLqJiIiIiIiIZMKkm4iIiIiIiEgmTLqJiIiIiIiIZMKkm4iIiIiIiEgmTLqJiIiIiIiIZMKkm4iIiIiIiEgmTLqJiIiIiIiIZMKkm4iIiIiIiEgmTLqJiIiIiIiIZMKkm4iIiIiIiEgm/x/qKjRkpY5HQwAAAABJRU5ErkJggg==",
      "text/plain": [
       "<Figure size 1000x800 with 4 Axes>"
      ]
     },
     "metadata": {},
     "output_type": "display_data"
    }
   ],
   "source": [
    "#14.Create subplots for the following data\n",
    "#x = np.arange(0, 10, 0.1)\n",
    "#y = np.sin(np.pi * x) + x \n",
    "#using an object-oriented approach, and arrange the subplots in a 2x2 grid layout\n",
    "x = np.arange(0, 10, 0.1)\n",
    "y = np.sin(np.pi * x) + x \n",
    "fig, axs=plt.subplots(2,2,figsize=(10,8))\n",
    "axs[0][0].plot(x,y,'r')\n",
    "axs[0][1].plot(x,y,'b')\n",
    "axs[1][0].plot(x,y,'g')\n",
    "axs[1][1].plot(x,y,'o')\n",
    "fig.suptitle(\"2x2 subplots\")\n",
    "\n",
    "#axs[0][0].set_title(\"subplots\")\n",
    "plt.tight_layout()"
   ]
  },
  {
   "cell_type": "markdown",
   "id": "ecb71886-800f-4aa0-8a6c-faf590c2ebd1",
   "metadata": {},
   "source": [
    "15Create a box plot on any values in the dataset. Ensure that it is analytically correct.\n"
   ]
  },
  {
   "cell_type": "code",
   "execution_count": 51,
   "id": "d998aa5c-85fb-4786-a03d-5b9df3c1c0ce",
   "metadata": {},
   "outputs": [
    {
     "data": {
      "image/png": "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",
      "text/plain": [
       "<Figure size 640x480 with 1 Axes>"
      ]
     },
     "metadata": {},
     "output_type": "display_data"
    }
   ],
   "source": [
    "#15Create a box plot on any values in the dataset. Ensure that it is analytically correct.\n",
    "# the average age of donors from the different race. \n",
    "import seaborn as sns\n",
    "sns.boxplot(x='race',y='age',data=df_donor_details)\n",
    "plt.title('Age differences from race')\n",
    "\n",
    "plt.show()"
   ]
  },
  {
   "cell_type": "code",
   "execution_count": 17,
   "id": "2815dc4e",
   "metadata": {},
   "outputs": [
    {
     "name": "stdout",
     "output_type": "stream",
     "text": [
      "The Year with maximum referrals is 2021\n"
     ]
    }
   ],
   "source": [
    "#Question 33.Which year had the maximum referrals\n",
    "dfs = pd.read_excel('OrganDonor_Consolidated.xlsx',sheet_name = 'ReferralDetails' )\n",
    "yearwise_count = dfs['Referral_Year'].value_counts()\n",
    "maxcount_year = yearwise_count.idxmax()\n",
    "print(f\"The Year with maximum referrals is {maxcount_year}\")"
   ]
  },
  {
   "cell_type": "code",
   "execution_count": 18,
   "id": "be73bfe7",
   "metadata": {},
   "outputs": [
    {
     "name": "stdout",
     "output_type": "stream",
     "text": [
      "3245\n"
     ]
    }
   ],
   "source": [
    "#Question 34 How Many Organs are recovered for transplant but not transplanted?\n",
    "dfs1 = pd.read_excel('OrganDonor_Consolidated.xlsx',sheet_name = 'Outcomes' )\n",
    "valuetobe_counted = 'Recovered for Transplant but not Transplanted'\n",
    "column_names  = dfs1.columns #['outcome_heart','outcome_liver','outcome_kidney_left','outcome_kidney_right','outcome_lung_left','outcome_lung_right','outcome_intestine','outcome_pancreas']\n",
    "count = 0\n",
    "for column_name in column_names:\n",
    "    count  += dfs1[column_name].value_counts().get(valuetobe_counted,0)\n",
    "    \n",
    "print(count)"
   ]
  },
  {
   "cell_type": "code",
   "execution_count": 19,
   "id": "824d9669",
   "metadata": {},
   "outputs": [
    {
     "name": "stdout",
     "output_type": "stream",
     "text": [
      "The 3 most frequent causes of death are Anoxia , Unknown , cerebrovascular accident\n"
     ]
    }
   ],
   "source": [
    "#Question 35 . What are the 3 most frequenst causes of death?\n",
    "dfs2 = pd.read_excel('OrganDonor_Consolidated.xlsx',sheet_name = 'DonorDetails' )\n",
    "cause_death = dfs2['causeofdeath'].value_counts()\n",
    "most_frequent = cause_death.head(3)\n",
    "\n",
    "key_cause = ' , '.join(most_frequent.keys())\n",
    "print(f\"The 3 most frequent causes of death are {key_cause}\")"
   ]
  },
  {
   "cell_type": "code",
   "execution_count": 20,
   "id": "f28b7139",
   "metadata": {},
   "outputs": [
    {
     "name": "stdout",
     "output_type": "stream",
     "text": [
      "OPO4    33641\n",
      "OPO1    32148\n",
      "OPO6    22915\n",
      "OPO2    16145\n",
      "OPO5    15738\n",
      "OPO3    12514\n",
      "Name: OPO, dtype: int64\n"
     ]
    }
   ],
   "source": [
    "#Question 36.How many transplants were registered under each OPO?\n",
    "dfs3 = pd.read_excel('OrganDonor_Consolidated.xlsx',sheet_name = 'OPO_HospDetails' )\n",
    "transplants_eachopo = dfs3['OPO'].value_counts()\n",
    "print(transplants_eachopo)"
   ]
  },
  {
   "cell_type": "code",
   "execution_count": null,
   "id": "6beec4bd",
   "metadata": {},
   "outputs": [],
   "source": [
    "#Question 37.Plot a stacked bar chart to show different procurement outcomes for organs - heart, liver, and pancreas.\n",
    " #Label the bars with the actual numbers for each outcome."
   ]
  },
  {
   "cell_type": "code",
   "execution_count": 21,
   "id": "ce3b043a",
   "metadata": {},
   "outputs": [
    {
     "name": "stdout",
     "output_type": "stream",
     "text": [
      "Percentage of left lung transplants is : 22.51%\n",
      "Percentage of right lung transplants is: 22.31%\n"
     ]
    }
   ],
   "source": [
    "#Question 38.What percentage of all transplants are lung transplants\n",
    "dfs1 = pd.read_excel('OrganDonor_Consolidated.xlsx',sheet_name = 'Outcomes' )\n",
    "count_patients = len(dfs1)\n",
    "\n",
    "valuetobe_counted = 'Transplanted'\n",
    "\n",
    "\n",
    "count_left = dfs1['outcome_lung_left'].value_counts()\n",
    "count_left_transplanted = count_left.get(valuetobe_counted, 0)\n",
    "\n",
    "\n",
    "count_right = dfs1['outcome_lung_right'].value_counts()\n",
    "count_right_transplanted = count_right.get(valuetobe_counted, 0)\n",
    "\n",
    "\n",
    "# percentage of left lung transplants\n",
    "percentage_left_lung = (count_left_transplanted/count_patients)*100\n",
    "percentage_right_lung = (count_right_transplanted/count_patients)*100\n",
    "print(f\"Percentage of left lung transplants is : {percentage_left_lung:.2f}%\")\n",
    "print(f\"Percentage of right lung transplants is: {percentage_right_lung:.2f}%\")"
   ]
  },
  {
   "cell_type": "code",
   "execution_count": 22,
   "id": "1307f93f",
   "metadata": {},
   "outputs": [
    {
     "name": "stdout",
     "output_type": "stream",
     "text": [
      "The year with the maximum procurements is 2035 with 1619 procurements.\n"
     ]
    }
   ],
   "source": [
    "#Question 39.Which year had the maximum number of procurements?\n",
    "dfs = pd.read_excel('OrganDonor_Consolidated.xlsx',sheet_name = 'ReferralDetails' )\n",
    "date_column = 'time_procured' \n",
    "dfs[date_column] = pd.to_datetime(dfs[date_column])\n",
    "dfs['year'] = dfs[date_column].dt.year\n",
    "year_count = dfs['year'].value_counts()\n",
    "max_year = year_count.idxmax()\n",
    "max_count = year_count.max()\n",
    "print(f\"The year with the maximum procurements is {int(max_year)} with {max_count} procurements.\")"
   ]
  },
  {
   "cell_type": "code",
   "execution_count": 23,
   "id": "c7cb4b69",
   "metadata": {},
   "outputs": [
    {
     "name": "stdout",
     "output_type": "stream",
     "text": [
      "                 PID        Date Referral Time\n",
      "0       OPO1_P320866  06/21/2033      06:49 AM\n",
      "1       OPO1_P549364  11/21/2036      08:41 AM\n",
      "2       OPO1_P536997  08/23/2030      11:28 PM\n",
      "3       OPO1_P463285  05/12/2034      05:34 PM\n",
      "4       OPO1_P284978  02/22/2033      04:45 AM\n",
      "...              ...         ...           ...\n",
      "133096  OPO6_P384794  07/10/2034      01:26 PM\n",
      "133097  OPO6_P902138  08/04/2035      05:13 AM\n",
      "133098    OPO6_P5461  03/13/2031      08:13 PM\n",
      "133099  OPO6_P942291  11/20/2032      01:32 PM\n",
      "133100  OPO6_P210235  02/26/2030      05:22 AM\n",
      "\n",
      "[133101 rows x 3 columns]\n"
     ]
    }
   ],
   "source": [
    "#Question 40.Create a dataframe with date and time as columns, where the values are the referral time.\n",
    "dfs = pd.read_excel('OrganDonor_Consolidated.xlsx',sheet_name = 'ReferralDetails' )\n",
    "datestamp_column = 'time_referred'\n",
    "dfs[datestamp_column] = pd.to_datetime(dfs[datestamp_column], errors='coerce')\n",
    "dfs['PID'] = dfs['PatientID']\n",
    "dfs['Date'] = dfs[datestamp_column].dt.strftime('%m/%d/%Y')\n",
    "dfs['Referral Time'] = dfs[datestamp_column].dt.strftime('%I:%M %p')\n",
    "print(dfs[['PID','Date','Referral Time']])"
   ]
  },
  {
   "cell_type": "code",
   "execution_count": null,
   "id": "4d49b6fc",
   "metadata": {},
   "outputs": [],
   "source": [
    "#Question 41.Create a pair plot of the outcomes, using different outcome statuses as the hue."
   ]
  },
  {
   "cell_type": "code",
   "execution_count": 24,
   "id": "40faba87",
   "metadata": {},
   "outputs": [
    {
     "name": "stdout",
     "output_type": "stream",
     "text": [
      "2015    13.19\n",
      "2016    12.63\n",
      "2017    13.26\n",
      "2018    15.06\n",
      "2019    13.45\n",
      "2020    16.36\n",
      "2021    18.22\n",
      "dtype: float64\n"
     ]
    }
   ],
   "source": [
    "#Question 42.What is the ratio of referrals to transplants by year?\n",
    "yearly_counts = dfs['Referral_Year'].value_counts()\n",
    "count_transplanted =dfs[dfs['transplanted'] == 1].groupby('Referral_Year').size()\n",
    "ratio = yearly_counts / count_transplanted\n",
    "print(ratio.round(2))"
   ]
  },
  {
   "cell_type": "code",
   "execution_count": 25,
   "id": "03309b57",
   "metadata": {},
   "outputs": [
    {
     "name": "stdout",
     "output_type": "stream",
     "text": [
      "Number of Donors died from Drug Overdose are : 156\n"
     ]
    }
   ],
   "source": [
    "#Question 43.How many donors died from a drug overdose?\n",
    "dfs2 = pd.read_excel('OrganDonor_Consolidated.xlsx',sheet_name = 'DonorDetails' )\n",
    "cause_death = dfs2['causeofdeath'].value_counts()\n",
    "count_DrugOverdose = cause_death.get('Drug Overdose',0)\n",
    "print(f\"Number of Donors died from Drug Overdose are : {count_DrugOverdose}\")"
   ]
  },
  {
   "cell_type": "code",
   "execution_count": 43,
   "id": "eff36914",
   "metadata": {},
   "outputs": [
    {
     "data": {
      "image/png": "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\n",
      "text/plain": [
       "<Figure size 800x400 with 1 Axes>"
      ]
     },
     "metadata": {},
     "output_type": "display_data"
    }
   ],
   "source": [
    "#Question 44.Create a count plot to show distribution of patient-ages in any 2 mechanisms of death.\n",
    "dfs2 = pd.read_excel('OrganDonor_Consolidated.xlsx',sheet_name = 'DonorDetails' )\n",
    "step_size = [0, 10, 20, 30, 40, 50, 60, 70, 80, 90]\n",
    "groups = ['0-10', '11-20', '21-30', '31-40', '41-50', '51-60', '61-70', '71-80', '81-90']\n",
    "dfs2['age_group'] = pd.cut(dfs2['age'], bins=step_size, labels=groups, right=False)\n",
    "mech_of_death = ['Stroke','Cardiovascular' ]\n",
    "selected_mechofdeath = dfs2[dfs2['mechanism_of_death'].isin(mech_of_death)]\n",
    "plt.figure(figsize=(8, 4))\n",
    "dee = sns.countplot(data=selected_mechofdeath, x='age_group', hue='mechanism_of_death')\n",
    "for container in dee.containers:\n",
    "   dee.bar_label(container, fmt='%d', label_type='edge')\n",
    "plt.title('Distribution of Patient Ages in Selected Mechanisms of Death')\n",
    "plt.xlabel('Age')\n",
    "plt.ylabel('Count')\n",
    "plt.legend(title='Mechanism of Death')\n",
    "#plt.tight_layout()\n",
    "plt.show()"
   ]
  },
  {
   "cell_type": "code",
   "execution_count": 57,
   "id": "d8748ffd",
   "metadata": {},
   "outputs": [
    {
     "name": "stdout",
     "output_type": "stream",
     "text": [
      "Unknown                      25.97\n",
      "Cardiovascular               20.49\n",
      "Natural Causes               19.45\n",
      "Stroke                       13.36\n",
      "None of the Above             6.58\n",
      "Blunt Injury                  6.25\n",
      "Drug Intoxication             2.88\n",
      "Gun Shot Wound                1.50\n",
      "Asphyxiation                  1.46\n",
      "Death from Natural Causes     0.67\n",
      "Seizure                       0.58\n",
      "Drowning                      0.38\n",
      "Gunshot Wound                 0.22\n",
      "Other                         0.08\n",
      "Stab                          0.06\n",
      "Electrical                    0.04\n",
      "Sudden Infant Death           0.03\n",
      "None of the above             0.01\n",
      "Name: mechanism_of_death, dtype: float64\n"
     ]
    }
   ],
   "source": [
    "#Question 45.Create a Waffle chart to show what percentage of total deaths belong to each mechanism\n",
    "import matplotlib as mpl\n",
    "dfs2 = pd.read_excel('OrganDonor_Consolidated.xlsx',sheet_name = 'DonorDetails' )\n",
    "count_of_mech = dfs2['mechanism_of_death'].value_counts()\n",
    "total_deaths = len(dfs2)\n",
    "percentages_each_mech = (count_of_mech / total_deaths * 100).round(2)\n",
    "print(percentages_each_mech)\n",
    "\n",
    "\n",
    "\n",
    "\n"
   ]
  },
  {
   "cell_type": "code",
   "execution_count": 26,
   "id": "ed36a970",
   "metadata": {},
   "outputs": [
    {
     "name": "stdout",
     "output_type": "stream",
     "text": [
      "OPO4_H16532    3682\n",
      "OPO6_H22175    3629\n",
      "OPO6_H6602     3578\n",
      "OPO3_H4291     3123\n",
      "OPO4_H30877    2335\n",
      "               ... \n",
      "OPO5_H11845       1\n",
      "OPO2_H6517        1\n",
      "OPO2_H5905        1\n",
      "OPO2_H158         1\n",
      "OPO6_H21263       1\n",
      "Name: HospitalID, Length: 557, dtype: int64\n"
     ]
    }
   ],
   "source": [
    "#Question 46.How many donors were registered under each hospital?\n",
    "dfs3 = pd.read_excel('OrganDonor_Consolidated.xlsx',sheet_name = 'OPO_HospDetails' )\n",
    "donors_eachhosp = dfs3['HospitalID'].value_counts()\n",
    "print(donors_eachhosp)"
   ]
  },
  {
   "cell_type": "code",
   "execution_count": 27,
   "id": "ebe47ccf",
   "metadata": {},
   "outputs": [
    {
     "name": "stdout",
     "output_type": "stream",
     "text": [
      " The predominant mechanism of death among the youngest donors who is of age 0 is Unknown\n"
     ]
    }
   ],
   "source": [
    "#Question 47.What is the predominant 'identified mechanism of death' among the youngest donors in the dataset.\n",
    "dfs2 = pd.read_excel('OrganDonor_Consolidated.xlsx',sheet_name = 'DonorDetails' )\n",
    "youngest_donor_age = dfs2['age'].min()\n",
    "youngest_donors = dfs2[dfs2['age']== youngest_donor_age]\n",
    "mech_of_death = youngest_donors['causeofdeath'].value_counts()\n",
    "max_mech_of_death = mech_of_death.idxmax()\n",
    "print(f\" The predominant mechanism of death among the youngest donors who is of age {int(youngest_donor_age)} is {max_mech_of_death}\")"
   ]
  },
  {
   "cell_type": "code",
   "execution_count": null,
    "id": "3d4205c6-1f3b-44b5-93ab-c3803959a7e1",
    "metadata": {},
   "outputs": [],
   "source": []
  }
 ],
 "metadata": {
  "kernelspec": {
   "display_name": "Python 3 (ipykernel)",
   "language": "python",
   "name": "python3"
  },
  "language_info": {
   "codemirror_mode": {
    "name": "ipython",
    "version": 3
   },
   "file_extension": ".py",
   "mimetype": "text/x-python",
   "name": "python",
   "nbconvert_exporter": "python",
   "pygments_lexer": "ipython3",
   "version": "3.9.13"
  }
 },
 "nbformat": 4,
 "nbformat_minor": 5
}
