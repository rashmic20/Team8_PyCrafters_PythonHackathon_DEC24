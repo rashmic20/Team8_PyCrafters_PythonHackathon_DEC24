{
 "cells": [
  {
   "cell_type": "code",
   "execution_count": 1,
   "id": "8d040ee3-0155-4639-8b53-821c5235f201",
   "metadata": {},
   "outputs": [
    {
     "name": "stdout",
     "output_type": "stream",
     "text": [
      "Requirement already satisfied: pandas in c:\\users\\sateesh\\anaconda3\\lib\\site-packages (2.2.2)Note: you may need to restart the kernel to use updated packages.\n",
      "\n",
      "Requirement already satisfied: numpy>=1.26.0 in c:\\users\\sateesh\\anaconda3\\lib\\site-packages (from pandas) (1.26.4)\n",
      "Requirement already satisfied: python-dateutil>=2.8.2 in c:\\users\\sateesh\\anaconda3\\lib\\site-packages (from pandas) (2.9.0.post0)\n",
      "Requirement already satisfied: pytz>=2020.1 in c:\\users\\sateesh\\anaconda3\\lib\\site-packages (from pandas) (2024.1)\n",
      "Requirement already satisfied: tzdata>=2022.7 in c:\\users\\sateesh\\anaconda3\\lib\\site-packages (from pandas) (2023.3)\n",
      "Requirement already satisfied: six>=1.5 in c:\\users\\sateesh\\anaconda3\\lib\\site-packages (from python-dateutil>=2.8.2->pandas) (1.16.0)\n"
     ]
    }
   ],
   "source": [
    "pip install pandas"
   ]
  },
  {
   "cell_type": "code",
   "execution_count": 2,
   "id": "b17c20e9-5d9a-4422-8c0c-efdb9f6d53f1",
   "metadata": {},
   "outputs": [
    {
     "name": "stdout",
     "output_type": "stream",
     "text": [
      "Requirement already satisfied: matplotlib in c:\\users\\sateesh\\anaconda3\\lib\\site-packages (3.9.2)\n",
      "Requirement already satisfied: contourpy>=1.0.1 in c:\\users\\sateesh\\anaconda3\\lib\\site-packages (from matplotlib) (1.2.0)\n",
      "Requirement already satisfied: cycler>=0.10 in c:\\users\\sateesh\\anaconda3\\lib\\site-packages (from matplotlib) (0.11.0)\n",
      "Requirement already satisfied: fonttools>=4.22.0 in c:\\users\\sateesh\\anaconda3\\lib\\site-packages (from matplotlib) (4.51.0)\n",
      "Requirement already satisfied: kiwisolver>=1.3.1 in c:\\users\\sateesh\\anaconda3\\lib\\site-packages (from matplotlib) (1.4.4)\n",
      "Requirement already satisfied: numpy>=1.23 in c:\\users\\sateesh\\anaconda3\\lib\\site-packages (from matplotlib) (1.26.4)\n",
      "Requirement already satisfied: packaging>=20.0 in c:\\users\\sateesh\\anaconda3\\lib\\site-packages (from matplotlib) (24.1)\n",
      "Requirement already satisfied: pillow>=8 in c:\\users\\sateesh\\anaconda3\\lib\\site-packages (from matplotlib) (10.4.0)\n",
      "Requirement already satisfied: pyparsing>=2.3.1 in c:\\users\\sateesh\\anaconda3\\lib\\site-packages (from matplotlib) (3.1.2)\n",
      "Requirement already satisfied: python-dateutil>=2.7 in c:\\users\\sateesh\\anaconda3\\lib\\site-packages (from matplotlib) (2.9.0.post0)\n",
      "Requirement already satisfied: six>=1.5 in c:\\users\\sateesh\\anaconda3\\lib\\site-packages (from python-dateutil>=2.7->matplotlib) (1.16.0)\n",
      "Note: you may need to restart the kernel to use updated packages.\n"
     ]
    }
   ],
   "source": [
    "pip install matplotlib"
   ]
  },
  {
   "cell_type": "code",
   "execution_count": 3,
   "id": "0aa02aa1-ea57-4698-97dd-18ccc7257493",
   "metadata": {},
   "outputs": [],
   "source": [
    "import numpy as np\n",
    "import pandas as pd\n",
    "import matplotlib\n",
    "import matplotlib.pyplot as plt\n",
    "import seaborn as sns\n"
   ]
  },
  {
   "cell_type": "code",
   "execution_count": 4,
   "id": "f4973288-a481-499f-b4f0-5c4aaeda36d8",
   "metadata": {},
   "outputs": [],
   "source": [
    "df_outcomes_details=pd.read_excel('OrganDonor_Consolidated.xlsx',sheet_name='Outcomes')\n",
    "df_donor_details=pd.read_excel('OrganDonor_Consolidated.xlsx',sheet_name='DonorDetails')\n",
    "df_referral_details=pd.read_excel('OrganDonor_Consolidated.xlsx',sheet_name='ReferralDetails')\n",
    "DataD_df=pd.read_excel('DataDictionary.xlsx')\n"
   ]
  },
  {
   "cell_type": "markdown",
   "id": "0cda83db-593f-4075-85ee-d165ff1cd76d",
   "metadata": {},
   "source": [
    "1.Using numpy functions, multiply the following arrays using matrix multiplication.\n"
   ]
  },
  {
   "cell_type": "code",
   "execution_count": 6,
   "id": "602fde59-60bb-469e-bff1-01e74fb1c510",
   "metadata": {},
   "outputs": [
    {
     "name": "stdout",
     "output_type": "stream",
     "text": [
      "[[0 1]\n",
      " [2 3]]\n",
      "[[0 2 4]\n",
      " [1 3 5]]\n",
      "[[ 1  3  5]\n",
      " [ 3 13 23]]\n"
     ]
    }
   ],
   "source": [
    "#1.Using numpy functions, multiply the following arrays using matrix multiplication.\n",
    " #a=np.arange(4).reshape(2,2)\n",
    "# b=np.arange(6).reshape(3,2)\n",
    "\n",
    "a=np.arange(4).reshape(2,2)\n",
    "b=np.arange(6).reshape(3,2)\n",
    "b_trps=np.transpose(b)\n",
    "print(a)\n",
    "print(b_trps)\n",
    "c=a @ b_trps\n",
    "print(c)"
   ]
  },
  {
   "cell_type": "markdown",
   "id": "3c85fc1f-f02a-4486-997c-f161d0495646",
   "metadata": {},
   "source": [
    "2.On Average, what is the time that passes between approach and procurement?"
   ]
  },
  {
   "cell_type": "code",
   "execution_count": 7,
   "id": "4a908e0b-b727-4775-9fb3-e686b94b04b0",
   "metadata": {},
   "outputs": [
    {
     "name": "stdout",
     "output_type": "stream",
     "text": [
      "           PatientID  Approached Relatives  Authorized By Family  \\\n",
      "25      OPO1_P648384                     1                     1   \n",
      "49      OPO1_P404478                     1                     1   \n",
      "65      OPO1_P340806                     1                     1   \n",
      "70      OPO1_P278912                     1                     1   \n",
      "92      OPO1_P160928                     1                     1   \n",
      "...              ...                   ...                   ...   \n",
      "133010  OPO6_P925470                     1                     1   \n",
      "133023  OPO6_P273753                     1                     1   \n",
      "133026  OPO6_P751972                     1                     1   \n",
      "133081  OPO6_P667026                     1                     1   \n",
      "133090  OPO6_P721333                     1                     1   \n",
      "\n",
      "        Cross_Clamped  transplanted  Tissue_Referral  Eye_Referral  \\\n",
      "25                  1             1                1             1   \n",
      "49                  1             1                1             1   \n",
      "65                  1             1                1             1   \n",
      "70                  1             1                1             1   \n",
      "92                  1             1                1             1   \n",
      "...               ...           ...              ...           ...   \n",
      "133010              1             1                1             1   \n",
      "133023              1             1                1             1   \n",
      "133026              1             0                1             1   \n",
      "133081              1             1                1             1   \n",
      "133090              1             1                1             1   \n",
      "\n",
      "                 time_referred     time_approached     time_authorized  \\\n",
      "25     2035-03-09 13:19:38.767 2035-03-11 17:28:00 2035-03-11 17:28:00   \n",
      "49     2031-04-17 22:41:00.000 2031-04-19 13:00:00 2031-04-19 13:00:00   \n",
      "65     2035-05-15 16:54:46.200 2035-05-16 18:05:00 2035-05-16 19:38:00   \n",
      "70     2035-01-29 04:55:52.807 2035-02-02 11:35:00 2035-02-01 19:00:00   \n",
      "92     2036-10-18 05:54:06.447 2036-10-19 11:30:00 2036-10-19 13:00:00   \n",
      "...                        ...                 ...                 ...   \n",
      "133010 2035-05-24 05:12:00.000 2035-05-28 18:16:00 2035-05-28 20:50:00   \n",
      "133023 2036-11-19 13:03:00.000 2036-11-20 19:30:00 2036-11-20 19:43:00   \n",
      "133026 2033-12-16 14:47:00.000 2033-12-17 15:00:00 2033-12-17 18:38:00   \n",
      "133081 2033-07-16 06:43:00.000 2033-07-18 02:30:00 2033-07-18 02:30:00   \n",
      "133090 2036-10-29 19:41:00.000 2036-10-29 22:00:00 2036-10-29 22:00:00   \n",
      "\n",
      "             time_procured Referral_DayofWeek  Referral_Year  Procured_Year  \\\n",
      "25     2035-03-14 07:18:00           Thursday           2019         2019.0   \n",
      "49     2031-04-20 18:57:00             Monday           2017         2017.0   \n",
      "65     2035-05-20 01:14:00           Thursday           2019         2019.0   \n",
      "70     2035-02-04 17:03:00             Friday           2020         2020.0   \n",
      "92     2036-10-22 03:10:00           Thursday           2020         2020.0   \n",
      "...                    ...                ...            ...            ...   \n",
      "133010 2035-06-01 02:03:00             Sunday           2021         2021.0   \n",
      "133023 2036-11-23 06:57:00             Friday           2021         2021.0   \n",
      "133026 2033-12-20 20:51:00             Friday           2019         2019.0   \n",
      "133081 2033-07-20 06:15:00             Friday           2018         2018.0   \n",
      "133090 2036-10-30 21:23:00             Monday           2020         2020.0   \n",
      "\n",
      "        difference  \n",
      "25               2  \n",
      "49               1  \n",
      "65               3  \n",
      "70               2  \n",
      "92               2  \n",
      "...            ...  \n",
      "133010           3  \n",
      "133023           2  \n",
      "133026           3  \n",
      "133081           2  \n",
      "133090           0  \n",
      "\n",
      "[9414 rows x 15 columns]\n",
      "3.1798385383471426\n"
     ]
    },
    {
     "name": "stderr",
     "output_type": "stream",
     "text": [
      "C:\\Users\\sateesh\\AppData\\Local\\Temp\\ipykernel_2784\\851664507.py:4: SettingWithCopyWarning: \n",
      "A value is trying to be set on a copy of a slice from a DataFrame.\n",
      "Try using .loc[row_indexer,col_indexer] = value instead\n",
      "\n",
      "See the caveats in the documentation: https://pandas.pydata.org/pandas-docs/stable/user_guide/indexing.html#returning-a-view-versus-a-copy\n",
      "  df_clean['time_approached']=pd.to_datetime(df_clean['time_approached'])\n",
      "C:\\Users\\sateesh\\AppData\\Local\\Temp\\ipykernel_2784\\851664507.py:7: SettingWithCopyWarning: \n",
      "A value is trying to be set on a copy of a slice from a DataFrame.\n",
      "Try using .loc[row_indexer,col_indexer] = value instead\n",
      "\n",
      "See the caveats in the documentation: https://pandas.pydata.org/pandas-docs/stable/user_guide/indexing.html#returning-a-view-versus-a-copy\n",
      "  df_clean['time_procured']=pd.to_datetime(df_clean['time_procured'])\n",
      "C:\\Users\\sateesh\\AppData\\Local\\Temp\\ipykernel_2784\\851664507.py:10: SettingWithCopyWarning: \n",
      "A value is trying to be set on a copy of a slice from a DataFrame.\n",
      "Try using .loc[row_indexer,col_indexer] = value instead\n",
      "\n",
      "See the caveats in the documentation: https://pandas.pydata.org/pandas-docs/stable/user_guide/indexing.html#returning-a-view-versus-a-copy\n",
      "  df_clean['difference']=(df_clean['time_procured']-df_clean['time_approached']).dt.days\n"
     ]
    }
   ],
   "source": [
    "#2.On Average, what is the time that passes between approach and procurement?\n",
    "\n",
    "#From Referral details table removing empty rows of time approached and procured\n",
    "df_clean=df_referral_details.dropna(subset=['time_approached','time_procured'])\n",
    "\n",
    "df_clean['time_approached']=pd.to_datetime(df_clean['time_approached'])\n",
    "#df_clean['year']=df_clean['time_approached'].dt.year\n",
    "\n",
    "df_clean['time_procured']=pd.to_datetime(df_clean['time_procured'])\n",
    "#df_clean['year']=df_clean['time_referred'].dt.year\n",
    "\n",
    "df_clean['difference']=(df_clean['time_procured']-df_clean['time_approached']).dt.days\n",
    "avg=df_clean['difference'].mean()\n",
    "print(df_clean)\n",
    "print(avg)\n"
   ]
  },
  {
   "cell_type": "markdown",
   "id": "eb9a167a-07f1-406e-b1dc-a46f518d8c81",
   "metadata": {},
   "source": [
    "3.Plot the time series of Donor referrals with 5 month intervals between each."
   ]
  },
  {
   "cell_type": "code",
   "execution_count": null,
   "id": "50c40e0c-fdd6-4199-923d-5a5f74f5fb8a",
   "metadata": {},
   "outputs": [],
   "source": [
    "#3.Plot the time series of Donor referrals with 5 month intervals between each.\n",
    "df_referral_details['time_referred']=pd.to_datetime(df_referral_details['time_referred'])\n",
    "df_referral_details['year']=df_referral_details['time_referred'].dt.year\n",
    "df_referral_details_maxYear=df_referral_details['year'].max()\n",
    "df_referral_details_minYear=df_referral_details['year'].min()\n",
    "#print(df_referral_details_maxYear)\n",
    "\n",
    "#print(df_referral_details_minYear)\n",
    "#x=np.arange(df_referral_details_maxYear,df_referral_details_minYear,5)\n",
    "df_referral_details_resample=df_referral_details['year'].resample('5M').sum()\n",
    "\n",
    "title_font = {'family': 'sans-serif', 'color': 'crimson', 'weight': 'bold', 'size': 20}\n",
    "label_font = {'family': 'sans-serif', 'color': 'DarkBlue', 'weight': 'normal', 'size': 15}\n",
    "\n",
    "\n",
    "\n",
    "plt.title('With 5 month intervals',fontdict=title_font)\n",
    "plt.xlabel('time_referred',fontdict=label_font)\n",
    "plt.ylabel('Patient_ID',fontdict=label_font)\n",
    "plt.plot(df_referral_details_resample.index,df_referral_details_resample.values,color='Blue',marker='o',ms = 15,mec='DarkGreen',mfc='lime',mew=3)\n",
    "plt.tight_layout()\n",
    "\n",
    "\n",
    "plt.show()"
   ]
  },
  {
   "cell_type": "markdown",
   "id": "7a5d80f6-c43d-4c36-b5af-b59cfa776869",
   "metadata": {},
   "source": [
    "4.Who is the oldest patient who died of drug overdose?"
   ]
  },
  {
   "cell_type": "code",
   "execution_count": 9,
   "id": "518ae7d4-3d5f-422c-a4c1-1f17949abbff",
   "metadata": {},
   "outputs": [
    {
     "data": {
      "text/plain": [
       "patien_ID    OPO4_P442864\n",
       "age_donor            80.0\n",
       "cd_donor         Overdose\n",
       "Name: 68688, dtype: object"
      ]
     },
     "execution_count": 9,
     "metadata": {},
     "output_type": "execute_result"
    }
   ],
   "source": [
    "#4.Who is the oldest patient who died of drug overdose?\n",
    "\n",
    "#From Donor details table taking lists\n",
    "patient_donor=df_donor_details['PatientID']\n",
    "age_donor=df_donor_details['age']\n",
    "causeofdeath_donor=df_donor_details['causeofdeath']\n",
    "mechanism_death_donor=df_donor_details['mechanism_of_death']\n",
    "died_donor={\n",
    "    \"patien_ID\":patient_donor,\n",
    "    \"age_donor\":age_donor,\n",
    "    \"cd_donor\":causeofdeath_donor\n",
    "}\n",
    "data_donor=pd.DataFrame(died_donor)\n",
    "#data_donor_diet=data_donor[(data_donor['cd_donor']==\"Overdose\") | (data_donor['md_donor']==\"Overdose\")]\n",
    "data_donor_overdose=data_donor[(data_donor['cd_donor']==\"Overdose\")]\n",
    "data_donor_oldPatient=data_donor_overdose.loc[data_donor_overdose['age_donor'].idxmax()]\n",
    "data_donor_oldPatient"
   ]
  },
  {
   "cell_type": "markdown",
   "id": "c4682a72-11f1-401e-a73f-7d949018be37",
   "metadata": {},
   "source": [
    "5.What is the average age of patients with renal failure?"
   ]
  },
  {
   "cell_type": "code",
   "execution_count": 11,
   "id": "78029b0e-2da6-40bf-8744-69c018a8ffa5",
   "metadata": {},
   "outputs": [
    {
     "data": {
      "text/plain": [
       "PatientID\n",
       "OPO1_P100082    23.0\n",
       "OPO1_P100320    10.0\n",
       "OPO1_P100538    19.0\n",
       "OPO1_P101409    13.0\n",
       "OPO1_P101470    24.0\n",
       "                ... \n",
       "OPO6_P991622    47.0\n",
       "OPO6_P992125    31.0\n",
       "OPO6_P994456    44.0\n",
       "OPO6_P996619    62.0\n",
       "OPO6_P997730    35.0\n",
       "Name: age, Length: 7476, dtype: float64"
      ]
     },
     "execution_count": 11,
     "metadata": {},
     "output_type": "execute_result"
    }
   ],
   "source": [
    "#5.What is the average age of patients with renal failure?\n",
    "\n",
    "#df_outcomes_details\n",
    "#Merged two tables of donor_details and outcomes_details\n",
    "merged_df=pd.merge(df_donor_details,df_outcomes_details,on='PatientID',how='left')\n",
    "merged_df\n",
    "renal_failure_List=merged_df[(merged_df['outcome_kidney_left']==\"Transplanted\") | (merged_df['outcome_kidney_right']==\"Transplanted\")]\n",
    "renal_failure_List\n",
    "renal_failure_List.groupby(['PatientID'])['age'].mean()\n",
    "\n",
    "\n"
   ]
  },
  {
   "cell_type": "markdown",
   "id": "efa09f67-42e5-402b-8ef3-e3ff78ad0ccd",
   "metadata": {},
   "source": [
    "6.List all male donors over 75 who had organs recovered for research"
   ]
  },
  {
   "cell_type": "code",
   "execution_count": 13,
   "id": "b0ff4548-3150-4e56-8e30-00ac705bff23",
   "metadata": {},
   "outputs": [
    {
     "data": {
      "text/html": [
       "<div>\n",
       "<style scoped>\n",
       "    .dataframe tbody tr th:only-of-type {\n",
       "        vertical-align: middle;\n",
       "    }\n",
       "\n",
       "    .dataframe tbody tr th {\n",
       "        vertical-align: top;\n",
       "    }\n",
       "\n",
       "    .dataframe thead th {\n",
       "        text-align: right;\n",
       "    }\n",
       "</style>\n",
       "<table border=\"1\" class=\"dataframe\">\n",
       "  <thead>\n",
       "    <tr style=\"text-align: right;\">\n",
       "      <th></th>\n",
       "      <th>PatientID</th>\n",
       "      <th>age</th>\n",
       "      <th>gender</th>\n",
       "      <th>race</th>\n",
       "      <th>causeofdeath</th>\n",
       "      <th>mechanism_of_death</th>\n",
       "      <th>brain_death</th>\n",
       "      <th>time_asystole</th>\n",
       "      <th>time_brain_death</th>\n",
       "      <th>outcome_heart</th>\n",
       "      <th>outcome_liver</th>\n",
       "      <th>outcome_kidney_left</th>\n",
       "      <th>outcome_kidney_right</th>\n",
       "      <th>outcome_lung_left</th>\n",
       "      <th>outcome_lung_right</th>\n",
       "      <th>outcome_intestine</th>\n",
       "      <th>outcome_pancreas</th>\n",
       "    </tr>\n",
       "  </thead>\n",
       "  <tbody>\n",
       "    <tr>\n",
       "      <th>13815</th>\n",
       "      <td>OPO1_P463597</td>\n",
       "      <td>76.0</td>\n",
       "      <td>M</td>\n",
       "      <td>Hispanic</td>\n",
       "      <td>cerebrovascular accident</td>\n",
       "      <td>Stroke</td>\n",
       "      <td>1</td>\n",
       "      <td>NaT</td>\n",
       "      <td>2033-07-11 12:29:00</td>\n",
       "      <td>NaN</td>\n",
       "      <td>Transplanted</td>\n",
       "      <td>NaN</td>\n",
       "      <td>NaN</td>\n",
       "      <td>NaN</td>\n",
       "      <td>Recovered for Research</td>\n",
       "      <td>NaN</td>\n",
       "      <td>NaN</td>\n",
       "    </tr>\n",
       "    <tr>\n",
       "      <th>35962</th>\n",
       "      <td>OPO3_P862019</td>\n",
       "      <td>83.0</td>\n",
       "      <td>M</td>\n",
       "      <td>White</td>\n",
       "      <td>Anoxia</td>\n",
       "      <td>Cardiovascular</td>\n",
       "      <td>1</td>\n",
       "      <td>NaT</td>\n",
       "      <td>2035-12-10 17:50:00</td>\n",
       "      <td>NaN</td>\n",
       "      <td>Transplanted</td>\n",
       "      <td>Transplanted</td>\n",
       "      <td>Transplanted</td>\n",
       "      <td>Recovered for Research</td>\n",
       "      <td>Recovered for Research</td>\n",
       "      <td>NaN</td>\n",
       "      <td>NaN</td>\n",
       "    </tr>\n",
       "    <tr>\n",
       "      <th>45616</th>\n",
       "      <td>OPO4_P199498</td>\n",
       "      <td>77.0</td>\n",
       "      <td>M</td>\n",
       "      <td>White</td>\n",
       "      <td>cerebrovascular accident</td>\n",
       "      <td>Stroke</td>\n",
       "      <td>1</td>\n",
       "      <td>NaT</td>\n",
       "      <td>2030-06-16 07:50:00</td>\n",
       "      <td>NaN</td>\n",
       "      <td>Transplanted</td>\n",
       "      <td>Recovered for Research</td>\n",
       "      <td>Recovered for Research</td>\n",
       "      <td>Recovered for Research</td>\n",
       "      <td>NaN</td>\n",
       "      <td>NaN</td>\n",
       "      <td>NaN</td>\n",
       "    </tr>\n",
       "    <tr>\n",
       "      <th>47887</th>\n",
       "      <td>OPO4_P877754</td>\n",
       "      <td>77.0</td>\n",
       "      <td>M</td>\n",
       "      <td>White</td>\n",
       "      <td>cerebrovascular accident</td>\n",
       "      <td>Stroke</td>\n",
       "      <td>1</td>\n",
       "      <td>NaT</td>\n",
       "      <td>2030-11-19 13:50:00</td>\n",
       "      <td>NaN</td>\n",
       "      <td>Transplanted</td>\n",
       "      <td>Recovered for Research</td>\n",
       "      <td>NaN</td>\n",
       "      <td>Recovered for Research</td>\n",
       "      <td>Recovered for Research</td>\n",
       "      <td>NaN</td>\n",
       "      <td>NaN</td>\n",
       "    </tr>\n",
       "    <tr>\n",
       "      <th>50813</th>\n",
       "      <td>OPO4_P92279</td>\n",
       "      <td>76.0</td>\n",
       "      <td>M</td>\n",
       "      <td>Hispanic</td>\n",
       "      <td>Head Trauma</td>\n",
       "      <td>Blunt Injury</td>\n",
       "      <td>1</td>\n",
       "      <td>NaT</td>\n",
       "      <td>2031-10-25 11:27:00</td>\n",
       "      <td>NaN</td>\n",
       "      <td>Recovered for Research</td>\n",
       "      <td>Recovered for Research</td>\n",
       "      <td>Recovered for Research</td>\n",
       "      <td>NaN</td>\n",
       "      <td>NaN</td>\n",
       "      <td>NaN</td>\n",
       "      <td>NaN</td>\n",
       "    </tr>\n",
       "    <tr>\n",
       "      <th>51321</th>\n",
       "      <td>OPO4_P628770</td>\n",
       "      <td>77.0</td>\n",
       "      <td>M</td>\n",
       "      <td>White</td>\n",
       "      <td>cerebrovascular accident</td>\n",
       "      <td>Stroke</td>\n",
       "      <td>1</td>\n",
       "      <td>NaT</td>\n",
       "      <td>2031-02-14 11:20:00</td>\n",
       "      <td>NaN</td>\n",
       "      <td>Transplanted</td>\n",
       "      <td>Recovered for Research</td>\n",
       "      <td>Recovered for Research</td>\n",
       "      <td>Recovered for Research</td>\n",
       "      <td>Recovered for Research</td>\n",
       "      <td>NaN</td>\n",
       "      <td>NaN</td>\n",
       "    </tr>\n",
       "    <tr>\n",
       "      <th>52429</th>\n",
       "      <td>OPO4_P908004</td>\n",
       "      <td>76.0</td>\n",
       "      <td>M</td>\n",
       "      <td>White</td>\n",
       "      <td>cerebrovascular accident</td>\n",
       "      <td>Stroke</td>\n",
       "      <td>1</td>\n",
       "      <td>NaT</td>\n",
       "      <td>2033-01-16 13:50:00</td>\n",
       "      <td>Recovered for Research</td>\n",
       "      <td>Transplanted</td>\n",
       "      <td>NaN</td>\n",
       "      <td>NaN</td>\n",
       "      <td>Recovered for Research</td>\n",
       "      <td>Recovered for Research</td>\n",
       "      <td>NaN</td>\n",
       "      <td>NaN</td>\n",
       "    </tr>\n",
       "    <tr>\n",
       "      <th>60562</th>\n",
       "      <td>OPO4_P435716</td>\n",
       "      <td>78.0</td>\n",
       "      <td>M</td>\n",
       "      <td>Hispanic</td>\n",
       "      <td>Anoxia</td>\n",
       "      <td>Cardiovascular</td>\n",
       "      <td>1</td>\n",
       "      <td>NaT</td>\n",
       "      <td>2032-11-14 16:03:00</td>\n",
       "      <td>NaN</td>\n",
       "      <td>Transplanted</td>\n",
       "      <td>NaN</td>\n",
       "      <td>NaN</td>\n",
       "      <td>Recovered for Research</td>\n",
       "      <td>Recovered for Research</td>\n",
       "      <td>NaN</td>\n",
       "      <td>NaN</td>\n",
       "    </tr>\n",
       "    <tr>\n",
       "      <th>64894</th>\n",
       "      <td>OPO4_P487002</td>\n",
       "      <td>79.0</td>\n",
       "      <td>M</td>\n",
       "      <td>White</td>\n",
       "      <td>cerebrovascular accident</td>\n",
       "      <td>Stroke</td>\n",
       "      <td>1</td>\n",
       "      <td>NaT</td>\n",
       "      <td>2034-02-27 11:41:00</td>\n",
       "      <td>NaN</td>\n",
       "      <td>Transplanted</td>\n",
       "      <td>Recovered for Research</td>\n",
       "      <td>Recovered for Research</td>\n",
       "      <td>Recovered for Research</td>\n",
       "      <td>Recovered for Research</td>\n",
       "      <td>Recovered for Research</td>\n",
       "      <td>Recovered for Research</td>\n",
       "    </tr>\n",
       "    <tr>\n",
       "      <th>81716</th>\n",
       "      <td>OPO5_P287897</td>\n",
       "      <td>79.0</td>\n",
       "      <td>M</td>\n",
       "      <td>Black</td>\n",
       "      <td>Head Trauma</td>\n",
       "      <td>Blunt Injury</td>\n",
       "      <td>1</td>\n",
       "      <td>2032-09-15 12:56:00</td>\n",
       "      <td>2032-09-14 20:34:00</td>\n",
       "      <td>Recovered for Research</td>\n",
       "      <td>Transplanted</td>\n",
       "      <td>NaN</td>\n",
       "      <td>NaN</td>\n",
       "      <td>NaN</td>\n",
       "      <td>NaN</td>\n",
       "      <td>NaN</td>\n",
       "      <td>NaN</td>\n",
       "    </tr>\n",
       "    <tr>\n",
       "      <th>85013</th>\n",
       "      <td>OPO5_P463195</td>\n",
       "      <td>78.0</td>\n",
       "      <td>M</td>\n",
       "      <td>White</td>\n",
       "      <td>Head Trauma</td>\n",
       "      <td>Stroke</td>\n",
       "      <td>1</td>\n",
       "      <td>2032-01-30 10:36:00</td>\n",
       "      <td>2032-01-29 16:17:00</td>\n",
       "      <td>NaN</td>\n",
       "      <td>Recovered for Research</td>\n",
       "      <td>NaN</td>\n",
       "      <td>NaN</td>\n",
       "      <td>NaN</td>\n",
       "      <td>NaN</td>\n",
       "      <td>NaN</td>\n",
       "      <td>NaN</td>\n",
       "    </tr>\n",
       "    <tr>\n",
       "      <th>88522</th>\n",
       "      <td>OPO5_P223804</td>\n",
       "      <td>78.0</td>\n",
       "      <td>M</td>\n",
       "      <td>Black</td>\n",
       "      <td>Stroke</td>\n",
       "      <td>Stroke</td>\n",
       "      <td>1</td>\n",
       "      <td>2034-04-08 05:19:00</td>\n",
       "      <td>2034-04-06 14:11:00</td>\n",
       "      <td>Recovered for Research</td>\n",
       "      <td>Transplanted</td>\n",
       "      <td>Recovered for Research</td>\n",
       "      <td>Recovered for Research</td>\n",
       "      <td>Recovered for Research</td>\n",
       "      <td>Recovered for Research</td>\n",
       "      <td>Recovered for Research</td>\n",
       "      <td>Recovered for Research</td>\n",
       "    </tr>\n",
       "  </tbody>\n",
       "</table>\n",
       "</div>"
      ],
      "text/plain": [
       "          PatientID   age gender      race              causeofdeath  \\\n",
       "13815  OPO1_P463597  76.0      M  Hispanic  cerebrovascular accident   \n",
       "35962  OPO3_P862019  83.0      M     White                    Anoxia   \n",
       "45616  OPO4_P199498  77.0      M     White  cerebrovascular accident   \n",
       "47887  OPO4_P877754  77.0      M     White  cerebrovascular accident   \n",
       "50813   OPO4_P92279  76.0      M  Hispanic               Head Trauma   \n",
       "51321  OPO4_P628770  77.0      M     White  cerebrovascular accident   \n",
       "52429  OPO4_P908004  76.0      M     White  cerebrovascular accident   \n",
       "60562  OPO4_P435716  78.0      M  Hispanic                    Anoxia   \n",
       "64894  OPO4_P487002  79.0      M     White  cerebrovascular accident   \n",
       "81716  OPO5_P287897  79.0      M     Black               Head Trauma   \n",
       "85013  OPO5_P463195  78.0      M     White               Head Trauma   \n",
       "88522  OPO5_P223804  78.0      M     Black                    Stroke   \n",
       "\n",
       "      mechanism_of_death  brain_death       time_asystole    time_brain_death  \\\n",
       "13815             Stroke            1                 NaT 2033-07-11 12:29:00   \n",
       "35962     Cardiovascular            1                 NaT 2035-12-10 17:50:00   \n",
       "45616             Stroke            1                 NaT 2030-06-16 07:50:00   \n",
       "47887             Stroke            1                 NaT 2030-11-19 13:50:00   \n",
       "50813       Blunt Injury            1                 NaT 2031-10-25 11:27:00   \n",
       "51321             Stroke            1                 NaT 2031-02-14 11:20:00   \n",
       "52429             Stroke            1                 NaT 2033-01-16 13:50:00   \n",
       "60562     Cardiovascular            1                 NaT 2032-11-14 16:03:00   \n",
       "64894             Stroke            1                 NaT 2034-02-27 11:41:00   \n",
       "81716       Blunt Injury            1 2032-09-15 12:56:00 2032-09-14 20:34:00   \n",
       "85013             Stroke            1 2032-01-30 10:36:00 2032-01-29 16:17:00   \n",
       "88522             Stroke            1 2034-04-08 05:19:00 2034-04-06 14:11:00   \n",
       "\n",
       "                outcome_heart           outcome_liver     outcome_kidney_left  \\\n",
       "13815                     NaN            Transplanted                     NaN   \n",
       "35962                     NaN            Transplanted            Transplanted   \n",
       "45616                     NaN            Transplanted  Recovered for Research   \n",
       "47887                     NaN            Transplanted  Recovered for Research   \n",
       "50813                     NaN  Recovered for Research  Recovered for Research   \n",
       "51321                     NaN            Transplanted  Recovered for Research   \n",
       "52429  Recovered for Research            Transplanted                     NaN   \n",
       "60562                     NaN            Transplanted                     NaN   \n",
       "64894                     NaN            Transplanted  Recovered for Research   \n",
       "81716  Recovered for Research            Transplanted                     NaN   \n",
       "85013                     NaN  Recovered for Research                     NaN   \n",
       "88522  Recovered for Research            Transplanted  Recovered for Research   \n",
       "\n",
       "         outcome_kidney_right       outcome_lung_left      outcome_lung_right  \\\n",
       "13815                     NaN                     NaN  Recovered for Research   \n",
       "35962            Transplanted  Recovered for Research  Recovered for Research   \n",
       "45616  Recovered for Research  Recovered for Research                     NaN   \n",
       "47887                     NaN  Recovered for Research  Recovered for Research   \n",
       "50813  Recovered for Research                     NaN                     NaN   \n",
       "51321  Recovered for Research  Recovered for Research  Recovered for Research   \n",
       "52429                     NaN  Recovered for Research  Recovered for Research   \n",
       "60562                     NaN  Recovered for Research  Recovered for Research   \n",
       "64894  Recovered for Research  Recovered for Research  Recovered for Research   \n",
       "81716                     NaN                     NaN                     NaN   \n",
       "85013                     NaN                     NaN                     NaN   \n",
       "88522  Recovered for Research  Recovered for Research  Recovered for Research   \n",
       "\n",
       "            outcome_intestine        outcome_pancreas  \n",
       "13815                     NaN                     NaN  \n",
       "35962                     NaN                     NaN  \n",
       "45616                     NaN                     NaN  \n",
       "47887                     NaN                     NaN  \n",
       "50813                     NaN                     NaN  \n",
       "51321                     NaN                     NaN  \n",
       "52429                     NaN                     NaN  \n",
       "60562                     NaN                     NaN  \n",
       "64894  Recovered for Research  Recovered for Research  \n",
       "81716                     NaN                     NaN  \n",
       "85013                     NaN                     NaN  \n",
       "88522  Recovered for Research  Recovered for Research  "
      ]
     },
     "execution_count": 13,
     "metadata": {},
     "output_type": "execute_result"
    }
   ],
   "source": [
    "#6.List all male donors over 75 who had organs recovered for research\n",
    "\n",
    "##Merged two tables of donor_details and outcomes_details\n",
    "merged_df=pd.merge(df_donor_details,df_outcomes_details,on='PatientID',how='left')\n",
    "merged_df_recovered=merged_df[((merged_df['outcome_heart']== \"Recovered for Research\") | (merged_df['outcome_liver']== \"Recovered for Research\") | (merged_df['outcome_kidney_left']== \"Recovered for Research\") | (merged_df['outcome_kidney_right']== \"Recovered for Research\") | (merged_df['outcome_lung_left']== \"Recovered for Research\") | (merged_df['outcome_lung_right']== \"Recovered for Research\") | (merged_df['outcome_intestine']== \"Recovered for Research\") | (merged_df['outcome_pancreas']== \"Recovered for Research\") )]\n",
    "merged_df_recovered_patients=merged_df_recovered[(merged_df_recovered['age']>75) & (merged_df_recovered['gender']==\"M\")]\n",
    "merged_df_recovered_patients"
   ]
  },
  {
   "cell_type": "markdown",
   "id": "83c791f0-7cf8-4a77-8956-e04896b7d33f",
   "metadata": {},
   "source": [
    "7.Make Patient ID as index to the table."
   ]
  },
  {
   "cell_type": "code",
   "execution_count": 15,
   "id": "7fa3047e-a4b9-4fde-b24b-b26313b44467",
   "metadata": {},
   "outputs": [
    {
     "data": {
      "text/html": [
       "<div>\n",
       "<style scoped>\n",
       "    .dataframe tbody tr th:only-of-type {\n",
       "        vertical-align: middle;\n",
       "    }\n",
       "\n",
       "    .dataframe tbody tr th {\n",
       "        vertical-align: top;\n",
       "    }\n",
       "\n",
       "    .dataframe thead th {\n",
       "        text-align: right;\n",
       "    }\n",
       "</style>\n",
       "<table border=\"1\" class=\"dataframe\">\n",
       "  <thead>\n",
       "    <tr style=\"text-align: right;\">\n",
       "      <th></th>\n",
       "      <th>age</th>\n",
       "      <th>gender</th>\n",
       "      <th>race</th>\n",
       "      <th>causeofdeath</th>\n",
       "      <th>mechanism_of_death</th>\n",
       "      <th>brain_death</th>\n",
       "      <th>time_asystole</th>\n",
       "      <th>time_brain_death</th>\n",
       "    </tr>\n",
       "    <tr>\n",
       "      <th>PatientID</th>\n",
       "      <th></th>\n",
       "      <th></th>\n",
       "      <th></th>\n",
       "      <th></th>\n",
       "      <th></th>\n",
       "      <th></th>\n",
       "      <th></th>\n",
       "      <th></th>\n",
       "    </tr>\n",
       "  </thead>\n",
       "  <tbody>\n",
       "    <tr>\n",
       "      <th>OPO1_P155959</th>\n",
       "      <td>NaN</td>\n",
       "      <td>NaN</td>\n",
       "      <td>NaN</td>\n",
       "      <td>NaN</td>\n",
       "      <td>NaN</td>\n",
       "      <td>NaN</td>\n",
       "      <td>NaT</td>\n",
       "      <td>NaT</td>\n",
       "    </tr>\n",
       "    <tr>\n",
       "      <th>OPO1_P297347</th>\n",
       "      <td>NaN</td>\n",
       "      <td>NaN</td>\n",
       "      <td>NaN</td>\n",
       "      <td>NaN</td>\n",
       "      <td>NaN</td>\n",
       "      <td>NaN</td>\n",
       "      <td>NaT</td>\n",
       "      <td>NaT</td>\n",
       "    </tr>\n",
       "    <tr>\n",
       "      <th>OPO1_P399316</th>\n",
       "      <td>NaN</td>\n",
       "      <td>NaN</td>\n",
       "      <td>NaN</td>\n",
       "      <td>NaN</td>\n",
       "      <td>NaN</td>\n",
       "      <td>NaN</td>\n",
       "      <td>NaT</td>\n",
       "      <td>NaT</td>\n",
       "    </tr>\n",
       "    <tr>\n",
       "      <th>OPO1_P246407</th>\n",
       "      <td>NaN</td>\n",
       "      <td>NaN</td>\n",
       "      <td>NaN</td>\n",
       "      <td>NaN</td>\n",
       "      <td>NaN</td>\n",
       "      <td>NaN</td>\n",
       "      <td>NaT</td>\n",
       "      <td>NaT</td>\n",
       "    </tr>\n",
       "    <tr>\n",
       "      <th>OPO1_P187209</th>\n",
       "      <td>NaN</td>\n",
       "      <td>NaN</td>\n",
       "      <td>NaN</td>\n",
       "      <td>NaN</td>\n",
       "      <td>NaN</td>\n",
       "      <td>NaN</td>\n",
       "      <td>NaT</td>\n",
       "      <td>NaT</td>\n",
       "    </tr>\n",
       "    <tr>\n",
       "      <th>...</th>\n",
       "      <td>...</td>\n",
       "      <td>...</td>\n",
       "      <td>...</td>\n",
       "      <td>...</td>\n",
       "      <td>...</td>\n",
       "      <td>...</td>\n",
       "      <td>...</td>\n",
       "      <td>...</td>\n",
       "    </tr>\n",
       "    <tr>\n",
       "      <th>OPO6_P54946</th>\n",
       "      <td>NaN</td>\n",
       "      <td>NaN</td>\n",
       "      <td>NaN</td>\n",
       "      <td>NaN</td>\n",
       "      <td>NaN</td>\n",
       "      <td>NaN</td>\n",
       "      <td>NaT</td>\n",
       "      <td>NaT</td>\n",
       "    </tr>\n",
       "    <tr>\n",
       "      <th>OPO6_P630991</th>\n",
       "      <td>NaN</td>\n",
       "      <td>NaN</td>\n",
       "      <td>NaN</td>\n",
       "      <td>NaN</td>\n",
       "      <td>NaN</td>\n",
       "      <td>NaN</td>\n",
       "      <td>NaT</td>\n",
       "      <td>NaT</td>\n",
       "    </tr>\n",
       "    <tr>\n",
       "      <th>OPO6_P8748</th>\n",
       "      <td>NaN</td>\n",
       "      <td>NaN</td>\n",
       "      <td>NaN</td>\n",
       "      <td>NaN</td>\n",
       "      <td>NaN</td>\n",
       "      <td>NaN</td>\n",
       "      <td>NaT</td>\n",
       "      <td>NaT</td>\n",
       "    </tr>\n",
       "    <tr>\n",
       "      <th>OPO6_P5461</th>\n",
       "      <td>NaN</td>\n",
       "      <td>NaN</td>\n",
       "      <td>NaN</td>\n",
       "      <td>NaN</td>\n",
       "      <td>NaN</td>\n",
       "      <td>NaN</td>\n",
       "      <td>NaT</td>\n",
       "      <td>NaT</td>\n",
       "    </tr>\n",
       "    <tr>\n",
       "      <th>OPO6_P942291</th>\n",
       "      <td>NaN</td>\n",
       "      <td>NaN</td>\n",
       "      <td>NaN</td>\n",
       "      <td>NaN</td>\n",
       "      <td>NaN</td>\n",
       "      <td>NaN</td>\n",
       "      <td>NaT</td>\n",
       "      <td>NaT</td>\n",
       "    </tr>\n",
       "  </tbody>\n",
       "</table>\n",
       "<p>133101 rows × 8 columns</p>\n",
       "</div>"
      ],
      "text/plain": [
       "              age gender race causeofdeath mechanism_of_death  brain_death  \\\n",
       "PatientID                                                                    \n",
       "OPO1_P155959  NaN    NaN  NaN          NaN                NaN          NaN   \n",
       "OPO1_P297347  NaN    NaN  NaN          NaN                NaN          NaN   \n",
       "OPO1_P399316  NaN    NaN  NaN          NaN                NaN          NaN   \n",
       "OPO1_P246407  NaN    NaN  NaN          NaN                NaN          NaN   \n",
       "OPO1_P187209  NaN    NaN  NaN          NaN                NaN          NaN   \n",
       "...           ...    ...  ...          ...                ...          ...   \n",
       "OPO6_P54946   NaN    NaN  NaN          NaN                NaN          NaN   \n",
       "OPO6_P630991  NaN    NaN  NaN          NaN                NaN          NaN   \n",
       "OPO6_P8748    NaN    NaN  NaN          NaN                NaN          NaN   \n",
       "OPO6_P5461    NaN    NaN  NaN          NaN                NaN          NaN   \n",
       "OPO6_P942291  NaN    NaN  NaN          NaN                NaN          NaN   \n",
       "\n",
       "             time_asystole time_brain_death  \n",
       "PatientID                                    \n",
       "OPO1_P155959           NaT              NaT  \n",
       "OPO1_P297347           NaT              NaT  \n",
       "OPO1_P399316           NaT              NaT  \n",
       "OPO1_P246407           NaT              NaT  \n",
       "OPO1_P187209           NaT              NaT  \n",
       "...                    ...              ...  \n",
       "OPO6_P54946            NaT              NaT  \n",
       "OPO6_P630991           NaT              NaT  \n",
       "OPO6_P8748             NaT              NaT  \n",
       "OPO6_P5461             NaT              NaT  \n",
       "OPO6_P942291           NaT              NaT  \n",
       "\n",
       "[133101 rows x 8 columns]"
      ]
     },
     "execution_count": 15,
     "metadata": {},
     "output_type": "execute_result"
    }
   ],
   "source": [
    "#7.Make Patient ID as index to the table.\n",
    "\n",
    "#Creating sub dataframe \n",
    "subdf_donor_details=df_donor_details['PatientID']\n",
    "column_name=['age','gender','race','causeofdeath','mechanism_of_death','brain_death','time_asystole','time_brain_death']\n",
    "subdf_donor_details\n",
    "s1=pd.DataFrame(data=df_donor_details,index=subdf_donor_details,columns=column_name)\n",
    "s1"
   ]
  },
  {
   "cell_type": "markdown",
   "id": "2204782f-c127-49b5-abd7-e46776821055",
   "metadata": {},
   "source": [
    "8.Create a dictionary with the Age and Cause of Death for any 5 random donors.\n",
    " Access any one cause of death using the donors age using the get() function"
   ]
  },
  {
   "cell_type": "code",
   "execution_count": 17,
   "id": "58f093c5-d24f-46de-9953-164d43ebe98f",
   "metadata": {},
   "outputs": [
    {
     "name": "stdout",
     "output_type": "stream",
     "text": [
      "{'PatientID': ['OPO1_P155959', 'OPO1_P297347', 'OPO1_P399316', 'OPO1_P246407', 'OPO1_P187209'], 'age': [54, 78, 57, 78, 70], 'causeofdeath': ['Unknown', 'Unknown', 'Anoxia', 'cerebrovascular accident', 'Unknown']}\n"
     ]
    }
   ],
   "source": [
    "#8.Create a dictionary with the Age and Cause of Death for any 5 random donors.\n",
    " #Access any one cause of death using the donors age using the get() function\n",
    "\n",
    "dic={\n",
    "    \"PatientID\":['OPO1_P155959','OPO1_P297347','OPO1_P399316','OPO1_P246407','OPO1_P187209'],\n",
    "    \"age\":[54,78,57,78,70],\n",
    "    \"causeofdeath\":['Unknown','Unknown','Anoxia','cerebrovascular accident','Unknown']\n",
    "}\n",
    "print(dic)\n"
   ]
  },
  {
   "cell_type": "code",
   "execution_count": 18,
   "id": "b969e080-491e-4115-94ea-cc0a01b23ea0",
   "metadata": {},
   "outputs": [
    {
     "name": "stdout",
     "output_type": "stream",
     "text": [
      "cerebrovascular accident\n"
     ]
    }
   ],
   "source": [
    "#8.Access any one cause of death using the donors age using the get() function\n",
    "#Frome above dictionary\n",
    "age=dic['age']\n",
    "causeofdeath=dic['causeofdeath']\n",
    "data=dict(zip(age,causeofdeath))\n",
    "#data\n",
    "print(data.get(78))"
   ]
  },
  {
   "cell_type": "markdown",
   "id": "c63fdaa4-12bf-4485-b38e-ae5a0a926328",
   "metadata": {},
   "source": [
    "9.Create a heatmap on the donor details table.\n"
   ]
  },
  {
   "cell_type": "code",
   "execution_count": 53,
   "id": "1969e96f-de20-4f75-a948-dfa238592cbb",
   "metadata": {},
   "outputs": [
    {
     "data": {
      "image/png": "[encoded data removed]",
      "text/plain": [
       "<Figure size 640x480 with 2 Axes>"
      ]
     },
     "metadata": {},
     "output_type": "display_data"
    }
   ],
   "source": [
    "#9.Create a heatmap on the donor details table.\n",
    "df_donor_details\n",
    "\n",
    "#heatmap works for numerical values.should avoid the string datatype columns for heatmap\n",
    "#if we include those will get this error(ValueError: could not convert string to float: 'OPO1_P155959')\n",
    "\n",
    "numerical_columns = df_donor_details.select_dtypes(include=['number']).columns\n",
    "correlation_matrix = df_donor_details[numerical_columns].corr()\n",
    "hm=sns.heatmap(data=correlation_matrix)\n",
    "plt.title('Donor details table')\n",
    "\n",
    "plt.show()"
   ]
  },
  {
   "cell_type": "markdown",
   "id": "c13519c0-4031-47c4-83fe-3b8b45523a5c",
   "metadata": {},
   "source": [
    "10.Create a bar chart showing the number of donors by procured year. \n",
    "Add hatching to the bars using the set_hatch() method, and exclude any outlier years."
   ]
  },
  {
   "cell_type": "code",
   "execution_count": 20,
   "id": "82144161-197d-439b-8523-963052949aac",
   "metadata": {},
   "outputs": [
    {
     "name": "stderr",
     "output_type": "stream",
     "text": [
      "C:\\Users\\sateesh\\AppData\\Local\\Temp\\ipykernel_2784\\4214951040.py:11: SettingWithCopyWarning: \n",
      "A value is trying to be set on a copy of a slice from a DataFrame.\n",
      "Try using .loc[row_indexer,col_indexer] = value instead\n",
      "\n",
      "See the caveats in the documentation: https://pandas.pydata.org/pandas-docs/stable/user_guide/indexing.html#returning-a-view-versus-a-copy\n",
      "  merged_don_ref_df_cleaned['Year'] = merged_don_ref_df_cleaned['time_procured'].dt.year\n"
     ]
    },
    {
     "data": {
      "image/png": "[encoded data removed]",
      "text/plain": [
       "<Figure size 800x600 with 1 Axes>"
      ]
     },
     "metadata": {},
     "output_type": "display_data"
    }
   ],
   "source": [
    "#10.Create a bar chart showing the number of donors by procured year. \n",
    "#Add hatching to the bars using the set_hatch() method, and exclude any outlier years.\n",
    "\n",
    "# Merging two data sets of donor_details and referral_details\n",
    "merged_don_ref_df=pd.merge(df_donor_details,df_referral_details,on='PatientID',how='left')\n",
    "#merged_don_ref_df\n",
    "merged_don_ref_df['time_procured']=pd.to_datetime(merged_don_ref_df['time_procured'])\n",
    "#merged_don_ref_df['year']=merged_don_ref_df['time_procured'].dt.year\n",
    "\n",
    "\n",
    "merged_don_ref_df_cleaned = merged_don_ref_df.dropna(subset=['time_procured'])\n",
    "merged_don_ref_df_cleaned['Year'] = merged_don_ref_df_cleaned['time_procured'].dt.year\n",
    "donors_by_year = merged_don_ref_df_cleaned.groupby('Year').size()\n",
    "\n",
    "# Identify outlier years using IQR (Interquartile Range)\n",
    "Q1 = donors_by_year.quantile(0.25)\n",
    "Q3 = donors_by_year.quantile(0.75)\n",
    "IQR = Q3 - Q1\n",
    "\n",
    "# Define outliers as those outside of 1.5 * IQR range\n",
    "lower_bound = Q1 - 1.5 * IQR\n",
    "upper_bound = Q3 + 1.5 * IQR\n",
    "\n",
    "donors_by_year_cleaned = donors_by_year[(donors_by_year >= lower_bound) & (donors_by_year <= upper_bound)]\n",
    "\n",
    "fig, ax = plt.subplots(figsize=(8, 6))\n",
    "bars = ax.bar(donors_by_year_cleaned.index, donors_by_year_cleaned.values, color='orange')\n",
    "\n",
    "for bar in bars:\n",
    "    bar.set_hatch('x')  # 'x' creates a crosshatch pattern\n",
    "\n",
    "ax.set_title('Number of Donors by time_procured ', fontsize=16)\n",
    "ax.set_xlabel('time_procured', fontsize=12)\n",
    "ax.set_ylabel('Number of Donors', fontsize=12)\n",
    "\n",
    "# Show the plot\n",
    "plt.tight_layout()\n",
    "plt.show()"
   ]
  },
  {
   "cell_type": "markdown",
   "id": "28c7ce8d-e609-4d11-a625-9d178ecac50c",
   "metadata": {},
   "source": [
    "11.Plot a Donut chart to show donor distribution by Gender.\n"
   ]
  },
  {
   "cell_type": "code",
   "execution_count": 57,
   "id": "7c31389a-a211-4220-b71c-efea8fce6398",
   "metadata": {},
   "outputs": [
    {
     "data": {
      "image/png": "[encoded data removed]",
      "text/plain": [
       "<Figure size 800x600 with 1 Axes>"
      ]
     },
     "metadata": {},
     "output_type": "display_data"
    }
   ],
   "source": [
    "#11.Plot a Donut chart to show donor distribution by Gender.\n",
    "#Donor detials table\n",
    "df_donor_details\n",
    "\n",
    "# count the number of donors by gender\n",
    "gender_counts = df_donor_details['gender'].value_counts()\n",
    "\n",
    "mycolors=['Khaki','DarkOliveGreen']\n",
    "\n",
    "plt.figure(figsize=(8, 6))\n",
    "plt.pie(gender_counts, labels=gender_counts.index, autopct='%1.1f%%', startangle=90, colors=mycolors)\n",
    "\n",
    "# Add a circle at the center to create a donut effect\n",
    "centre_circle = plt.Circle((0, 0), 0.70, color='white', fc='white', linewidth=0)\n",
    "plt.gca().add_artist(centre_circle)\n",
    "\n",
    "plt.title('Donor Distribution by Gender')\n",
    "plt.axis('equal')  \n",
    "plt.show()\n"
   ]
  },
  {
   "cell_type": "markdown",
   "id": "db648c3b-ae0a-41e4-a798-1d5195870c4e",
   "metadata": {},
   "source": [
    "12.Using loc, retrieve the race and time of aysytole of donors between indices 1001 and 2001."
   ]
  },
  {
   "cell_type": "code",
   "execution_count": 23,
   "id": "d7e231dc-9cb8-4812-83b3-0967d6641df5",
   "metadata": {},
   "outputs": [
    {
     "data": {
      "text/html": [
       "<div>\n",
       "<style scoped>\n",
       "    .dataframe tbody tr th:only-of-type {\n",
       "        vertical-align: middle;\n",
       "    }\n",
       "\n",
       "    .dataframe tbody tr th {\n",
       "        vertical-align: top;\n",
       "    }\n",
       "\n",
       "    .dataframe thead th {\n",
       "        text-align: right;\n",
       "    }\n",
       "</style>\n",
       "<table border=\"1\" class=\"dataframe\">\n",
       "  <thead>\n",
       "    <tr style=\"text-align: right;\">\n",
       "      <th></th>\n",
       "      <th>race</th>\n",
       "      <th>time_asystole</th>\n",
       "      <th>PatientID</th>\n",
       "    </tr>\n",
       "  </thead>\n",
       "  <tbody>\n",
       "    <tr>\n",
       "      <th>1001</th>\n",
       "      <td>White</td>\n",
       "      <td>2034-03-28 16:47:00</td>\n",
       "      <td>OPO1_P124711</td>\n",
       "    </tr>\n",
       "    <tr>\n",
       "      <th>1002</th>\n",
       "      <td>Hispanic</td>\n",
       "      <td>NaT</td>\n",
       "      <td>OPO1_P934782</td>\n",
       "    </tr>\n",
       "    <tr>\n",
       "      <th>1003</th>\n",
       "      <td>White</td>\n",
       "      <td>2034-01-19 12:00:00</td>\n",
       "      <td>OPO1_P496267</td>\n",
       "    </tr>\n",
       "    <tr>\n",
       "      <th>1004</th>\n",
       "      <td>Hispanic</td>\n",
       "      <td>2032-01-19 18:49:00</td>\n",
       "      <td>OPO1_P962984</td>\n",
       "    </tr>\n",
       "    <tr>\n",
       "      <th>1005</th>\n",
       "      <td>Hispanic</td>\n",
       "      <td>2036-02-05 18:31:00</td>\n",
       "      <td>OPO1_P725315</td>\n",
       "    </tr>\n",
       "    <tr>\n",
       "      <th>...</th>\n",
       "      <td>...</td>\n",
       "      <td>...</td>\n",
       "      <td>...</td>\n",
       "    </tr>\n",
       "    <tr>\n",
       "      <th>1997</th>\n",
       "      <td>Hispanic</td>\n",
       "      <td>2037-05-19 23:10:00</td>\n",
       "      <td>OPO1_P136906</td>\n",
       "    </tr>\n",
       "    <tr>\n",
       "      <th>1998</th>\n",
       "      <td>Hispanic</td>\n",
       "      <td>NaT</td>\n",
       "      <td>OPO1_P966799</td>\n",
       "    </tr>\n",
       "    <tr>\n",
       "      <th>1999</th>\n",
       "      <td>White</td>\n",
       "      <td>2034-11-20 21:21:00</td>\n",
       "      <td>OPO1_P636889</td>\n",
       "    </tr>\n",
       "    <tr>\n",
       "      <th>2000</th>\n",
       "      <td>Hispanic</td>\n",
       "      <td>2034-02-04 15:00:00</td>\n",
       "      <td>OPO1_P154285</td>\n",
       "    </tr>\n",
       "    <tr>\n",
       "      <th>2001</th>\n",
       "      <td>White</td>\n",
       "      <td>2035-06-15 05:58:00</td>\n",
       "      <td>OPO1_P693114</td>\n",
       "    </tr>\n",
       "  </tbody>\n",
       "</table>\n",
       "<p>1001 rows × 3 columns</p>\n",
       "</div>"
      ],
      "text/plain": [
       "          race       time_asystole     PatientID\n",
       "1001     White 2034-03-28 16:47:00  OPO1_P124711\n",
       "1002  Hispanic                 NaT  OPO1_P934782\n",
       "1003     White 2034-01-19 12:00:00  OPO1_P496267\n",
       "1004  Hispanic 2032-01-19 18:49:00  OPO1_P962984\n",
       "1005  Hispanic 2036-02-05 18:31:00  OPO1_P725315\n",
       "...        ...                 ...           ...\n",
       "1997  Hispanic 2037-05-19 23:10:00  OPO1_P136906\n",
       "1998  Hispanic                 NaT  OPO1_P966799\n",
       "1999     White 2034-11-20 21:21:00  OPO1_P636889\n",
       "2000  Hispanic 2034-02-04 15:00:00  OPO1_P154285\n",
       "2001     White 2035-06-15 05:58:00  OPO1_P693114\n",
       "\n",
       "[1001 rows x 3 columns]"
      ]
     },
     "execution_count": 23,
     "metadata": {},
     "output_type": "execute_result"
    }
   ],
   "source": [
    "#12.Using loc, retrieve the race and time of aysytole of donors between indices 1001 and 2001.\n",
    "df_donor_details.loc[1001:2001,['race','time_asystole','PatientID']]\n"
   ]
  },
  {
   "cell_type": "markdown",
   "id": "d87b19cb-53ce-4402-9116-ecba70e2372d",
   "metadata": {},
   "source": [
    "13.np.arange(1,31).reshape(6,5)\n",
    "    1. Find array slicing to get the elements 1,2,8,30. \n",
    "    2. When the value is less than 9, print as 0,else print 99"
   ]
  },
  {
   "cell_type": "code",
   "execution_count": 25,
   "id": "f727f946-b3df-459a-a3b7-389357696a09",
   "metadata": {},
   "outputs": [
    {
     "name": "stdout",
     "output_type": "stream",
     "text": [
      "[[1 2]]\n",
      "1\n",
      "2\n",
      "8\n",
      "30\n"
     ]
    }
   ],
   "source": [
    "#13.np.arange(1,31).reshape(6,5)\n",
    "   # 1. Find array slicing to get the elements 1,2,8,30. \n",
    "   # 2. When the value is less than 9, print as 0,else print 99\n",
    "arr1=np.arange(1,31).reshape(6,5)\n",
    "arr1\n",
    "print(arr1[0:1,0:2])\n",
    "print(arr1[0,0])\n",
    "print(arr1[0,1])\n",
    "print(arr1[1,2])\n",
    "print(arr1[5,4])\n",
    "\n",
    "\n"
   ]
  },
  {
   "cell_type": "code",
   "execution_count": 26,
   "id": "56bdf584-3c1b-4943-a568-408bbf6e621b",
   "metadata": {},
   "outputs": [
    {
     "data": {
      "text/plain": [
       "array([[ 0,  0,  0,  0,  0],\n",
       "       [ 0,  0,  0, 99, 99],\n",
       "       [99, 99, 99, 99, 99],\n",
       "       [99, 99, 99, 99, 99],\n",
       "       [99, 99, 99, 99, 99],\n",
       "       [99, 99, 99, 99, 99]])"
      ]
     },
     "execution_count": 26,
     "metadata": {},
     "output_type": "execute_result"
    }
   ],
   "source": [
    "  # 13.2. When the value is less than 9, print as 0,else print 99\n",
    "arr1=np.arange(1,31).reshape(6,5)\n",
    "newarr=np.where(arr1<9,0,99)\n",
    "newarr"
   ]
  },
  {
   "cell_type": "markdown",
   "id": "7f1ff362-a8b4-44ff-b8e9-bb8a17f07c0f",
   "metadata": {},
   "source": [
    "14.Create subplots for the following data\n",
    "x = np.arange(0, 10, 0.1)\n",
    "y = np.sin(np.pi * x) + x \n",
    "using an object-oriented approach, and arrange the subplots in a 2x2 grid layout"
   ]
  },
  {
   "cell_type": "code",
   "execution_count": 28,
   "id": "93ca1a45-af06-46f7-8209-034f836de755",
   "metadata": {},
   "outputs": [
    {
     "data": {
      "image/png": "[encoded data removed]",
      "text/plain": [
       "<Figure size 1000x800 with 4 Axes>"
      ]
     },
     "metadata": {},
     "output_type": "display_data"
    }
   ],
   "source": [
    "#14.Create subplots for the following data\n",
    "#x = np.arange(0, 10, 0.1)\n",
    "#y = np.sin(np.pi * x) + x \n",
    "#using an object-oriented approach, and arrange the subplots in a 2x2 grid layout\n",
    "x = np.arange(0, 10, 0.1)\n",
    "y = np.sin(np.pi * x) + x \n",
    "fig, axs=plt.subplots(2,2,figsize=(10,8))\n",
    "axs[0][0].plot(x,y,'r')\n",
    "axs[0][1].plot(x,y,'b')\n",
    "axs[1][0].plot(x,y,'g')\n",
    "axs[1][1].plot(x,y,'o')\n",
    "fig.suptitle(\"2x2 subplots\")\n",
    "\n",
    "#axs[0][0].set_title(\"subplots\")\n",
    "plt.tight_layout()"
   ]
  },
  {
   "cell_type": "markdown",
   "id": "ecb71886-800f-4aa0-8a6c-faf590c2ebd1",
   "metadata": {},
   "source": [
    "15Create a box plot on any values in the dataset. Ensure that it is analytically correct.\n"
   ]
  },
  {
   "cell_type": "code",
   "execution_count": 51,
   "id": "d998aa5c-85fb-4786-a03d-5b9df3c1c0ce",
   "metadata": {},
   "outputs": [
    {
     "data": {
      "image/png": "[encoded data removed]",
      "text/plain": [
       "<Figure size 640x480 with 1 Axes>"
      ]
     },
     "metadata": {},
     "output_type": "display_data"
    }
   ],
   "source": [
    "#15Create a box plot on any values in the dataset. Ensure that it is analytically correct.\n",
    "# the average age of donors from the different race. \n",
    "import seaborn as sns\n",
    "sns.boxplot(x='race',y='age',data=df_donor_details)\n",
    "plt.title('Age differences from race')\n",
    "\n",
    "plt.show()"
   ]
  },
  {
   "cell_type": "code",
   "execution_count": null,
   "id": "fcb9375e-2e0a-495e-a932-a563070de5d8",
   "metadata": {},
   "outputs": [],
   "source": []
  },
  {
   "cell_type": "code",
   "execution_count": 1,
   "id": "8d040ee3-0155-4639-8b53-821c5235f201",
   "metadata": {},
   "outputs": [
    {
     "name": "stdout",
     "output_type": "stream",
     "text": [
      "Requirement already satisfied: pandas in c:\\users\\sateesh\\anaconda3\\lib\\site-packages (2.2.2)Note: you may need to restart the kernel to use updated packages.\n",
      "\n",
      "Requirement already satisfied: numpy>=1.26.0 in c:\\users\\sateesh\\anaconda3\\lib\\site-packages (from pandas) (1.26.4)\n",
      "Requirement already satisfied: python-dateutil>=2.8.2 in c:\\users\\sateesh\\anaconda3\\lib\\site-packages (from pandas) (2.9.0.post0)\n",
      "Requirement already satisfied: pytz>=2020.1 in c:\\users\\sateesh\\anaconda3\\lib\\site-packages (from pandas) (2024.1)\n",
      "Requirement already satisfied: tzdata>=2022.7 in c:\\users\\sateesh\\anaconda3\\lib\\site-packages (from pandas) (2023.3)\n",
      "Requirement already satisfied: six>=1.5 in c:\\users\\sateesh\\anaconda3\\lib\\site-packages (from python-dateutil>=2.8.2->pandas) (1.16.0)\n"
     ]
    }
   ],
   "source": [
    "pip install pandas"
   ]
  },
  {
   "cell_type": "code",
   "execution_count": 2,
   "id": "b17c20e9-5d9a-4422-8c0c-efdb9f6d53f1",
   "metadata": {},
   "outputs": [
    {
     "name": "stdout",
     "output_type": "stream",
     "text": [
      "Requirement already satisfied: matplotlib in c:\\users\\sateesh\\anaconda3\\lib\\site-packages (3.9.2)\n",
      "Requirement already satisfied: contourpy>=1.0.1 in c:\\users\\sateesh\\anaconda3\\lib\\site-packages (from matplotlib) (1.2.0)\n",
      "Requirement already satisfied: cycler>=0.10 in c:\\users\\sateesh\\anaconda3\\lib\\site-packages (from matplotlib) (0.11.0)\n",
      "Requirement already satisfied: fonttools>=4.22.0 in c:\\users\\sateesh\\anaconda3\\lib\\site-packages (from matplotlib) (4.51.0)\n",
      "Requirement already satisfied: kiwisolver>=1.3.1 in c:\\users\\sateesh\\anaconda3\\lib\\site-packages (from matplotlib) (1.4.4)\n",
      "Requirement already satisfied: numpy>=1.23 in c:\\users\\sateesh\\anaconda3\\lib\\site-packages (from matplotlib) (1.26.4)\n",
      "Requirement already satisfied: packaging>=20.0 in c:\\users\\sateesh\\anaconda3\\lib\\site-packages (from matplotlib) (24.1)\n",
      "Requirement already satisfied: pillow>=8 in c:\\users\\sateesh\\anaconda3\\lib\\site-packages (from matplotlib) (10.4.0)\n",
      "Requirement already satisfied: pyparsing>=2.3.1 in c:\\users\\sateesh\\anaconda3\\lib\\site-packages (from matplotlib) (3.1.2)\n",
      "Requirement already satisfied: python-dateutil>=2.7 in c:\\users\\sateesh\\anaconda3\\lib\\site-packages (from matplotlib) (2.9.0.post0)\n",
      "Requirement already satisfied: six>=1.5 in c:\\users\\sateesh\\anaconda3\\lib\\site-packages (from python-dateutil>=2.7->matplotlib) (1.16.0)\n",
      "Note: you may need to restart the kernel to use updated packages.\n"
     ]
    }
   ],
   "source": [
    "pip install matplotlib"
   ]
  },
  {
   "cell_type": "code",
   "execution_count": 3,
   "id": "0aa02aa1-ea57-4698-97dd-18ccc7257493",
   "metadata": {},
   "outputs": [],
   "source": [
    "import numpy as np\n",
    "import pandas as pd\n",
    "import matplotlib\n",
    "import matplotlib.pyplot as plt\n",
    "import seaborn as sns\n"
   ]
  },
  {
   "cell_type": "code",
   "execution_count": 4,
   "id": "f4973288-a481-499f-b4f0-5c4aaeda36d8",
   "metadata": {},
   "outputs": [],
   "source": [
    "df_outcomes_details=pd.read_excel('OrganDonor_Consolidated.xlsx',sheet_name='Outcomes')\n",
    "df_donor_details=pd.read_excel('OrganDonor_Consolidated.xlsx',sheet_name='DonorDetails')\n",
    "df_referral_details=pd.read_excel('OrganDonor_Consolidated.xlsx',sheet_name='ReferralDetails')\n",
    "DataD_df=pd.read_excel('DataDictionary.xlsx')\n"
   ]
  },
  {
   "cell_type": "markdown",
   "id": "0cda83db-593f-4075-85ee-d165ff1cd76d",
   "metadata": {},
   "source": [
    "1.Using numpy functions, multiply the following arrays using matrix multiplication.\n"
   ]
  },
  {
   "cell_type": "code",
   "execution_count": 6,
   "id": "602fde59-60bb-469e-bff1-01e74fb1c510",
   "metadata": {},
   "outputs": [
    {
     "name": "stdout",
     "output_type": "stream",
     "text": [
      "[[0 1]\n",
      " [2 3]]\n",
      "[[0 2 4]\n",
      " [1 3 5]]\n",
      "[[ 1  3  5]\n",
      " [ 3 13 23]]\n"
     ]
    }
   ],
   "source": [
    "#1.Using numpy functions, multiply the following arrays using matrix multiplication.\n",
    " #a=np.arange(4).reshape(2,2)\n",
    "# b=np.arange(6).reshape(3,2)\n",
    "\n",
    "a=np.arange(4).reshape(2,2)\n",
    "b=np.arange(6).reshape(3,2)\n",
    "b_trps=np.transpose(b)\n",
    "print(a)\n",
    "print(b_trps)\n",
    "c=a @ b_trps\n",
    "print(c)"
   ]
  },
  {
   "cell_type": "markdown",
   "id": "3c85fc1f-f02a-4486-997c-f161d0495646",
   "metadata": {},
   "source": [
    "2.On Average, what is the time that passes between approach and procurement?"
   ]
  },
  {
   "cell_type": "code",
   "execution_count": 7,
   "id": "4a908e0b-b727-4775-9fb3-e686b94b04b0",
   "metadata": {},
   "outputs": [
    {
     "name": "stdout",
     "output_type": "stream",
     "text": [
      "           PatientID  Approached Relatives  Authorized By Family  \\\n",
      "25      OPO1_P648384                     1                     1   \n",
      "49      OPO1_P404478                     1                     1   \n",
      "65      OPO1_P340806                     1                     1   \n",
      "70      OPO1_P278912                     1                     1   \n",
      "92      OPO1_P160928                     1                     1   \n",
      "...              ...                   ...                   ...   \n",
      "133010  OPO6_P925470                     1                     1   \n",
      "133023  OPO6_P273753                     1                     1   \n",
      "133026  OPO6_P751972                     1                     1   \n",
      "133081  OPO6_P667026                     1                     1   \n",
      "133090  OPO6_P721333                     1                     1   \n",
      "\n",
      "        Cross_Clamped  transplanted  Tissue_Referral  Eye_Referral  \\\n",
      "25                  1             1                1             1   \n",
      "49                  1             1                1             1   \n",
      "65                  1             1                1             1   \n",
      "70                  1             1                1             1   \n",
      "92                  1             1                1             1   \n",
      "...               ...           ...              ...           ...   \n",
      "133010              1             1                1             1   \n",
      "133023              1             1                1             1   \n",
      "133026              1             0                1             1   \n",
      "133081              1             1                1             1   \n",
      "133090              1             1                1             1   \n",
      "\n",
      "                 time_referred     time_approached     time_authorized  \\\n",
      "25     2035-03-09 13:19:38.767 2035-03-11 17:28:00 2035-03-11 17:28:00   \n",
      "49     2031-04-17 22:41:00.000 2031-04-19 13:00:00 2031-04-19 13:00:00   \n",
      "65     2035-05-15 16:54:46.200 2035-05-16 18:05:00 2035-05-16 19:38:00   \n",
      "70     2035-01-29 04:55:52.807 2035-02-02 11:35:00 2035-02-01 19:00:00   \n",
      "92     2036-10-18 05:54:06.447 2036-10-19 11:30:00 2036-10-19 13:00:00   \n",
      "...                        ...                 ...                 ...   \n",
      "133010 2035-05-24 05:12:00.000 2035-05-28 18:16:00 2035-05-28 20:50:00   \n",
      "133023 2036-11-19 13:03:00.000 2036-11-20 19:30:00 2036-11-20 19:43:00   \n",
      "133026 2033-12-16 14:47:00.000 2033-12-17 15:00:00 2033-12-17 18:38:00   \n",
      "133081 2033-07-16 06:43:00.000 2033-07-18 02:30:00 2033-07-18 02:30:00   \n",
      "133090 2036-10-29 19:41:00.000 2036-10-29 22:00:00 2036-10-29 22:00:00   \n",
      "\n",
      "             time_procured Referral_DayofWeek  Referral_Year  Procured_Year  \\\n",
      "25     2035-03-14 07:18:00           Thursday           2019         2019.0   \n",
      "49     2031-04-20 18:57:00             Monday           2017         2017.0   \n",
      "65     2035-05-20 01:14:00           Thursday           2019         2019.0   \n",
      "70     2035-02-04 17:03:00             Friday           2020         2020.0   \n",
      "92     2036-10-22 03:10:00           Thursday           2020         2020.0   \n",
      "...                    ...                ...            ...            ...   \n",
      "133010 2035-06-01 02:03:00             Sunday           2021         2021.0   \n",
      "133023 2036-11-23 06:57:00             Friday           2021         2021.0   \n",
      "133026 2033-12-20 20:51:00             Friday           2019         2019.0   \n",
      "133081 2033-07-20 06:15:00             Friday           2018         2018.0   \n",
      "133090 2036-10-30 21:23:00             Monday           2020         2020.0   \n",
      "\n",
      "        difference  \n",
      "25               2  \n",
      "49               1  \n",
      "65               3  \n",
      "70               2  \n",
      "92               2  \n",
      "...            ...  \n",
      "133010           3  \n",
      "133023           2  \n",
      "133026           3  \n",
      "133081           2  \n",
      "133090           0  \n",
      "\n",
      "[9414 rows x 15 columns]\n",
      "3.1798385383471426\n"
     ]
    },
    {
     "name": "stderr",
     "output_type": "stream",
     "text": [
      "C:\\Users\\sateesh\\AppData\\Local\\Temp\\ipykernel_2784\\851664507.py:4: SettingWithCopyWarning: \n",
      "A value is trying to be set on a copy of a slice from a DataFrame.\n",
      "Try using .loc[row_indexer,col_indexer] = value instead\n",
      "\n",
      "See the caveats in the documentation: https://pandas.pydata.org/pandas-docs/stable/user_guide/indexing.html#returning-a-view-versus-a-copy\n",
      "  df_clean['time_approached']=pd.to_datetime(df_clean['time_approached'])\n",
      "C:\\Users\\sateesh\\AppData\\Local\\Temp\\ipykernel_2784\\851664507.py:7: SettingWithCopyWarning: \n",
      "A value is trying to be set on a copy of a slice from a DataFrame.\n",
      "Try using .loc[row_indexer,col_indexer] = value instead\n",
      "\n",
      "See the caveats in the documentation: https://pandas.pydata.org/pandas-docs/stable/user_guide/indexing.html#returning-a-view-versus-a-copy\n",
      "  df_clean['time_procured']=pd.to_datetime(df_clean['time_procured'])\n",
      "C:\\Users\\sateesh\\AppData\\Local\\Temp\\ipykernel_2784\\851664507.py:10: SettingWithCopyWarning: \n",
      "A value is trying to be set on a copy of a slice from a DataFrame.\n",
      "Try using .loc[row_indexer,col_indexer] = value instead\n",
      "\n",
      "See the caveats in the documentation: https://pandas.pydata.org/pandas-docs/stable/user_guide/indexing.html#returning-a-view-versus-a-copy\n",
      "  df_clean['difference']=(df_clean['time_procured']-df_clean['time_approached']).dt.days\n"
     ]
    }
   ],
   "source": [
    "#2.On Average, what is the time that passes between approach and procurement?\n",
    "\n",
    "#From Referral details table removing empty rows of time approached and procured\n",
    "df_clean=df_referral_details.dropna(subset=['time_approached','time_procured'])\n",
    "\n",
    "df_clean['time_approached']=pd.to_datetime(df_clean['time_approached'])\n",
    "#df_clean['year']=df_clean['time_approached'].dt.year\n",
    "\n",
    "df_clean['time_procured']=pd.to_datetime(df_clean['time_procured'])\n",
    "#df_clean['year']=df_clean['time_referred'].dt.year\n",
    "\n",
    "df_clean['difference']=(df_clean['time_procured']-df_clean['time_approached']).dt.days\n",
    "avg=df_clean['difference'].mean()\n",
    "print(df_clean)\n",
    "print(avg)\n"
   ]
  },
  {
   "cell_type": "markdown",
   "id": "eb9a167a-07f1-406e-b1dc-a46f518d8c81",
   "metadata": {},
   "source": [
    "3.Plot the time series of Donor referrals with 5 month intervals between each."
   ]
  },
  {
   "cell_type": "code",
   "execution_count": null,
   "id": "50c40e0c-fdd6-4199-923d-5a5f74f5fb8a",
   "metadata": {},
   "outputs": [],
   "source": [
    "#3.Plot the time series of Donor referrals with 5 month intervals between each.\n",
    "df_referral_details['time_referred']=pd.to_datetime(df_referral_details['time_referred'])\n",
    "df_referral_details['year']=df_referral_details['time_referred'].dt.year\n",
    "df_referral_details_maxYear=df_referral_details['year'].max()\n",
    "df_referral_details_minYear=df_referral_details['year'].min()\n",
    "#print(df_referral_details_maxYear)\n",
    "\n",
    "#print(df_referral_details_minYear)\n",
    "#x=np.arange(df_referral_details_maxYear,df_referral_details_minYear,5)\n",
    "df_referral_details_resample=df_referral_details['year'].resample('5M').sum()\n",
    "\n",
    "title_font = {'family': 'sans-serif', 'color': 'crimson', 'weight': 'bold', 'size': 20}\n",
    "label_font = {'family': 'sans-serif', 'color': 'DarkBlue', 'weight': 'normal', 'size': 15}\n",
    "\n",
    "\n",
    "\n",
    "plt.title('With 5 month intervals',fontdict=title_font)\n",
    "plt.xlabel('time_referred',fontdict=label_font)\n",
    "plt.ylabel('Patient_ID',fontdict=label_font)\n",
    "plt.plot(df_referral_details_resample.index,df_referral_details_resample.values,color='Blue',marker='o',ms = 15,mec='DarkGreen',mfc='lime',mew=3)\n",
    "plt.tight_layout()\n",
    "\n",
    "\n",
    "plt.show()"
   ]
  },
  {
   "cell_type": "markdown",
   "id": "7a5d80f6-c43d-4c36-b5af-b59cfa776869",
   "metadata": {},
   "source": [
    "4.Who is the oldest patient who died of drug overdose?"
   ]
  },
  {
   "cell_type": "code",
   "execution_count": 9,
   "id": "518ae7d4-3d5f-422c-a4c1-1f17949abbff",
   "metadata": {},
   "outputs": [
    {
     "data": {
      "text/plain": [
       "patien_ID    OPO4_P442864\n",
       "age_donor            80.0\n",
       "cd_donor         Overdose\n",
       "Name: 68688, dtype: object"
      ]
     },
     "execution_count": 9,
     "metadata": {},
     "output_type": "execute_result"
    }
   ],
   "source": [
    "#4.Who is the oldest patient who died of drug overdose?\n",
    "\n",
    "#From Donor details table taking lists\n",
    "patient_donor=df_donor_details['PatientID']\n",
    "age_donor=df_donor_details['age']\n",
    "causeofdeath_donor=df_donor_details['causeofdeath']\n",
    "mechanism_death_donor=df_donor_details['mechanism_of_death']\n",
    "died_donor={\n",
    "    \"patien_ID\":patient_donor,\n",
    "    \"age_donor\":age_donor,\n",
    "    \"cd_donor\":causeofdeath_donor\n",
    "}\n",
    "data_donor=pd.DataFrame(died_donor)\n",
    "#data_donor_diet=data_donor[(data_donor['cd_donor']==\"Overdose\") | (data_donor['md_donor']==\"Overdose\")]\n",
    "data_donor_overdose=data_donor[(data_donor['cd_donor']==\"Overdose\")]\n",
    "data_donor_oldPatient=data_donor_overdose.loc[data_donor_overdose['age_donor'].idxmax()]\n",
    "data_donor_oldPatient"
   ]
  },
  {
   "cell_type": "markdown",
   "id": "c4682a72-11f1-401e-a73f-7d949018be37",
   "metadata": {},
   "source": [
    "5.What is the average age of patients with renal failure?"
   ]
  },
  {
   "cell_type": "code",
   "execution_count": 11,
   "id": "78029b0e-2da6-40bf-8744-69c018a8ffa5",
   "metadata": {},
   "outputs": [
    {
     "data": {
      "text/plain": [
       "PatientID\n",
       "OPO1_P100082    23.0\n",
       "OPO1_P100320    10.0\n",
       "OPO1_P100538    19.0\n",
       "OPO1_P101409    13.0\n",
       "OPO1_P101470    24.0\n",
       "                ... \n",
       "OPO6_P991622    47.0\n",
       "OPO6_P992125    31.0\n",
       "OPO6_P994456    44.0\n",
       "OPO6_P996619    62.0\n",
       "OPO6_P997730    35.0\n",
       "Name: age, Length: 7476, dtype: float64"
      ]
     },
     "execution_count": 11,
     "metadata": {},
     "output_type": "execute_result"
    }
   ],
   "source": [
    "#5.What is the average age of patients with renal failure?\n",
    "\n",
    "#df_outcomes_details\n",
    "#Merged two tables of donor_details and outcomes_details\n",
    "merged_df=pd.merge(df_donor_details,df_outcomes_details,on='PatientID',how='left')\n",
    "merged_df\n",
    "renal_failure_List=merged_df[(merged_df['outcome_kidney_left']==\"Transplanted\") | (merged_df['outcome_kidney_right']==\"Transplanted\")]\n",
    "renal_failure_List\n",
    "renal_failure_List.groupby(['PatientID'])['age'].mean()\n",
    "\n",
    "\n"
   ]
  },
  {
   "cell_type": "markdown",
   "id": "efa09f67-42e5-402b-8ef3-e3ff78ad0ccd",
   "metadata": {},
   "source": [
    "6.List all male donors over 75 who had organs recovered for research"
   ]
  },
  {
   "cell_type": "code",
   "execution_count": 13,
   "id": "b0ff4548-3150-4e56-8e30-00ac705bff23",
   "metadata": {},
   "outputs": [
    {
     "data": {
      "text/html": [
       "<div>\n",
       "<style scoped>\n",
       "    .dataframe tbody tr th:only-of-type {\n",
       "        vertical-align: middle;\n",
       "    }\n",
       "\n",
       "    .dataframe tbody tr th {\n",
       "        vertical-align: top;\n",
       "    }\n",
       "\n",
       "    .dataframe thead th {\n",
       "        text-align: right;\n",
       "    }\n",
       "</style>\n",
       "<table border=\"1\" class=\"dataframe\">\n",
       "  <thead>\n",
       "    <tr style=\"text-align: right;\">\n",
       "      <th></th>\n",
       "      <th>PatientID</th>\n",
       "      <th>age</th>\n",
       "      <th>gender</th>\n",
       "      <th>race</th>\n",
       "      <th>causeofdeath</th>\n",
       "      <th>mechanism_of_death</th>\n",
       "      <th>brain_death</th>\n",
       "      <th>time_asystole</th>\n",
       "      <th>time_brain_death</th>\n",
       "      <th>outcome_heart</th>\n",
       "      <th>outcome_liver</th>\n",
       "      <th>outcome_kidney_left</th>\n",
       "      <th>outcome_kidney_right</th>\n",
       "      <th>outcome_lung_left</th>\n",
       "      <th>outcome_lung_right</th>\n",
       "      <th>outcome_intestine</th>\n",
       "      <th>outcome_pancreas</th>\n",
       "    </tr>\n",
       "  </thead>\n",
       "  <tbody>\n",
       "    <tr>\n",
       "      <th>13815</th>\n",
       "      <td>OPO1_P463597</td>\n",
       "      <td>76.0</td>\n",
       "      <td>M</td>\n",
       "      <td>Hispanic</td>\n",
       "      <td>cerebrovascular accident</td>\n",
       "      <td>Stroke</td>\n",
       "      <td>1</td>\n",
       "      <td>NaT</td>\n",
       "      <td>2033-07-11 12:29:00</td>\n",
       "      <td>NaN</td>\n",
       "      <td>Transplanted</td>\n",
       "      <td>NaN</td>\n",
       "      <td>NaN</td>\n",
       "      <td>NaN</td>\n",
       "      <td>Recovered for Research</td>\n",
       "      <td>NaN</td>\n",
       "      <td>NaN</td>\n",
       "    </tr>\n",
       "    <tr>\n",
       "      <th>35962</th>\n",
       "      <td>OPO3_P862019</td>\n",
       "      <td>83.0</td>\n",
       "      <td>M</td>\n",
       "      <td>White</td>\n",
       "      <td>Anoxia</td>\n",
       "      <td>Cardiovascular</td>\n",
       "      <td>1</td>\n",
       "      <td>NaT</td>\n",
       "      <td>2035-12-10 17:50:00</td>\n",
       "      <td>NaN</td>\n",
       "      <td>Transplanted</td>\n",
       "      <td>Transplanted</td>\n",
       "      <td>Transplanted</td>\n",
       "      <td>Recovered for Research</td>\n",
       "      <td>Recovered for Research</td>\n",
       "      <td>NaN</td>\n",
       "      <td>NaN</td>\n",
       "    </tr>\n",
       "    <tr>\n",
       "      <th>45616</th>\n",
       "      <td>OPO4_P199498</td>\n",
       "      <td>77.0</td>\n",
       "      <td>M</td>\n",
       "      <td>White</td>\n",
       "      <td>cerebrovascular accident</td>\n",
       "      <td>Stroke</td>\n",
       "      <td>1</td>\n",
       "      <td>NaT</td>\n",
       "      <td>2030-06-16 07:50:00</td>\n",
       "      <td>NaN</td>\n",
       "      <td>Transplanted</td>\n",
       "      <td>Recovered for Research</td>\n",
       "      <td>Recovered for Research</td>\n",
       "      <td>Recovered for Research</td>\n",
       "      <td>NaN</td>\n",
       "      <td>NaN</td>\n",
       "      <td>NaN</td>\n",
       "    </tr>\n",
       "    <tr>\n",
       "      <th>47887</th>\n",
       "      <td>OPO4_P877754</td>\n",
       "      <td>77.0</td>\n",
       "      <td>M</td>\n",
       "      <td>White</td>\n",
       "      <td>cerebrovascular accident</td>\n",
       "      <td>Stroke</td>\n",
       "      <td>1</td>\n",
       "      <td>NaT</td>\n",
       "      <td>2030-11-19 13:50:00</td>\n",
       "      <td>NaN</td>\n",
       "      <td>Transplanted</td>\n",
       "      <td>Recovered for Research</td>\n",
       "      <td>NaN</td>\n",
       "      <td>Recovered for Research</td>\n",
       "      <td>Recovered for Research</td>\n",
       "      <td>NaN</td>\n",
       "      <td>NaN</td>\n",
       "    </tr>\n",
       "    <tr>\n",
       "      <th>50813</th>\n",
       "      <td>OPO4_P92279</td>\n",
       "      <td>76.0</td>\n",
       "      <td>M</td>\n",
       "      <td>Hispanic</td>\n",
       "      <td>Head Trauma</td>\n",
       "      <td>Blunt Injury</td>\n",
       "      <td>1</td>\n",
       "      <td>NaT</td>\n",
       "      <td>2031-10-25 11:27:00</td>\n",
       "      <td>NaN</td>\n",
       "      <td>Recovered for Research</td>\n",
       "      <td>Recovered for Research</td>\n",
       "      <td>Recovered for Research</td>\n",
       "      <td>NaN</td>\n",
       "      <td>NaN</td>\n",
       "      <td>NaN</td>\n",
       "      <td>NaN</td>\n",
       "    </tr>\n",
       "    <tr>\n",
       "      <th>51321</th>\n",
       "      <td>OPO4_P628770</td>\n",
       "      <td>77.0</td>\n",
       "      <td>M</td>\n",
       "      <td>White</td>\n",
       "      <td>cerebrovascular accident</td>\n",
       "      <td>Stroke</td>\n",
       "      <td>1</td>\n",
       "      <td>NaT</td>\n",
       "      <td>2031-02-14 11:20:00</td>\n",
       "      <td>NaN</td>\n",
       "      <td>Transplanted</td>\n",
       "      <td>Recovered for Research</td>\n",
       "      <td>Recovered for Research</td>\n",
       "      <td>Recovered for Research</td>\n",
       "      <td>Recovered for Research</td>\n",
       "      <td>NaN</td>\n",
       "      <td>NaN</td>\n",
       "    </tr>\n",
       "    <tr>\n",
       "      <th>52429</th>\n",
       "      <td>OPO4_P908004</td>\n",
       "      <td>76.0</td>\n",
       "      <td>M</td>\n",
       "      <td>White</td>\n",
       "      <td>cerebrovascular accident</td>\n",
       "      <td>Stroke</td>\n",
       "      <td>1</td>\n",
       "      <td>NaT</td>\n",
       "      <td>2033-01-16 13:50:00</td>\n",
       "      <td>Recovered for Research</td>\n",
       "      <td>Transplanted</td>\n",
       "      <td>NaN</td>\n",
       "      <td>NaN</td>\n",
       "      <td>Recovered for Research</td>\n",
       "      <td>Recovered for Research</td>\n",
       "      <td>NaN</td>\n",
       "      <td>NaN</td>\n",
       "    </tr>\n",
       "    <tr>\n",
       "      <th>60562</th>\n",
       "      <td>OPO4_P435716</td>\n",
       "      <td>78.0</td>\n",
       "      <td>M</td>\n",
       "      <td>Hispanic</td>\n",
       "      <td>Anoxia</td>\n",
       "      <td>Cardiovascular</td>\n",
       "      <td>1</td>\n",
       "      <td>NaT</td>\n",
       "      <td>2032-11-14 16:03:00</td>\n",
       "      <td>NaN</td>\n",
       "      <td>Transplanted</td>\n",
       "      <td>NaN</td>\n",
       "      <td>NaN</td>\n",
       "      <td>Recovered for Research</td>\n",
       "      <td>Recovered for Research</td>\n",
       "      <td>NaN</td>\n",
       "      <td>NaN</td>\n",
       "    </tr>\n",
       "    <tr>\n",
       "      <th>64894</th>\n",
       "      <td>OPO4_P487002</td>\n",
       "      <td>79.0</td>\n",
       "      <td>M</td>\n",
       "      <td>White</td>\n",
       "      <td>cerebrovascular accident</td>\n",
       "      <td>Stroke</td>\n",
       "      <td>1</td>\n",
       "      <td>NaT</td>\n",
       "      <td>2034-02-27 11:41:00</td>\n",
       "      <td>NaN</td>\n",
       "      <td>Transplanted</td>\n",
       "      <td>Recovered for Research</td>\n",
       "      <td>Recovered for Research</td>\n",
       "      <td>Recovered for Research</td>\n",
       "      <td>Recovered for Research</td>\n",
       "      <td>Recovered for Research</td>\n",
       "      <td>Recovered for Research</td>\n",
       "    </tr>\n",
       "    <tr>\n",
       "      <th>81716</th>\n",
       "      <td>OPO5_P287897</td>\n",
       "      <td>79.0</td>\n",
       "      <td>M</td>\n",
       "      <td>Black</td>\n",
       "      <td>Head Trauma</td>\n",
       "      <td>Blunt Injury</td>\n",
       "      <td>1</td>\n",
       "      <td>2032-09-15 12:56:00</td>\n",
       "      <td>2032-09-14 20:34:00</td>\n",
       "      <td>Recovered for Research</td>\n",
       "      <td>Transplanted</td>\n",
       "      <td>NaN</td>\n",
       "      <td>NaN</td>\n",
       "      <td>NaN</td>\n",
       "      <td>NaN</td>\n",
       "      <td>NaN</td>\n",
       "      <td>NaN</td>\n",
       "    </tr>\n",
       "    <tr>\n",
       "      <th>85013</th>\n",
       "      <td>OPO5_P463195</td>\n",
       "      <td>78.0</td>\n",
       "      <td>M</td>\n",
       "      <td>White</td>\n",
       "      <td>Head Trauma</td>\n",
       "      <td>Stroke</td>\n",
       "      <td>1</td>\n",
       "      <td>2032-01-30 10:36:00</td>\n",
       "      <td>2032-01-29 16:17:00</td>\n",
       "      <td>NaN</td>\n",
       "      <td>Recovered for Research</td>\n",
       "      <td>NaN</td>\n",
       "      <td>NaN</td>\n",
       "      <td>NaN</td>\n",
       "      <td>NaN</td>\n",
       "      <td>NaN</td>\n",
       "      <td>NaN</td>\n",
       "    </tr>\n",
       "    <tr>\n",
       "      <th>88522</th>\n",
       "      <td>OPO5_P223804</td>\n",
       "      <td>78.0</td>\n",
       "      <td>M</td>\n",
       "      <td>Black</td>\n",
       "      <td>Stroke</td>\n",
       "      <td>Stroke</td>\n",
       "      <td>1</td>\n",
       "      <td>2034-04-08 05:19:00</td>\n",
       "      <td>2034-04-06 14:11:00</td>\n",
       "      <td>Recovered for Research</td>\n",
       "      <td>Transplanted</td>\n",
       "      <td>Recovered for Research</td>\n",
       "      <td>Recovered for Research</td>\n",
       "      <td>Recovered for Research</td>\n",
       "      <td>Recovered for Research</td>\n",
       "      <td>Recovered for Research</td>\n",
       "      <td>Recovered for Research</td>\n",
       "    </tr>\n",
       "  </tbody>\n",
       "</table>\n",
       "</div>"
      ],
      "text/plain": [
       "          PatientID   age gender      race              causeofdeath  \\\n",
       "13815  OPO1_P463597  76.0      M  Hispanic  cerebrovascular accident   \n",
       "35962  OPO3_P862019  83.0      M     White                    Anoxia   \n",
       "45616  OPO4_P199498  77.0      M     White  cerebrovascular accident   \n",
       "47887  OPO4_P877754  77.0      M     White  cerebrovascular accident   \n",
       "50813   OPO4_P92279  76.0      M  Hispanic               Head Trauma   \n",
       "51321  OPO4_P628770  77.0      M     White  cerebrovascular accident   \n",
       "52429  OPO4_P908004  76.0      M     White  cerebrovascular accident   \n",
       "60562  OPO4_P435716  78.0      M  Hispanic                    Anoxia   \n",
       "64894  OPO4_P487002  79.0      M     White  cerebrovascular accident   \n",
       "81716  OPO5_P287897  79.0      M     Black               Head Trauma   \n",
       "85013  OPO5_P463195  78.0      M     White               Head Trauma   \n",
       "88522  OPO5_P223804  78.0      M     Black                    Stroke   \n",
       "\n",
       "      mechanism_of_death  brain_death       time_asystole    time_brain_death  \\\n",
       "13815             Stroke            1                 NaT 2033-07-11 12:29:00   \n",
       "35962     Cardiovascular            1                 NaT 2035-12-10 17:50:00   \n",
       "45616             Stroke            1                 NaT 2030-06-16 07:50:00   \n",
       "47887             Stroke            1                 NaT 2030-11-19 13:50:00   \n",
       "50813       Blunt Injury            1                 NaT 2031-10-25 11:27:00   \n",
       "51321             Stroke            1                 NaT 2031-02-14 11:20:00   \n",
       "52429             Stroke            1                 NaT 2033-01-16 13:50:00   \n",
       "60562     Cardiovascular            1                 NaT 2032-11-14 16:03:00   \n",
       "64894             Stroke            1                 NaT 2034-02-27 11:41:00   \n",
       "81716       Blunt Injury            1 2032-09-15 12:56:00 2032-09-14 20:34:00   \n",
       "85013             Stroke            1 2032-01-30 10:36:00 2032-01-29 16:17:00   \n",
       "88522             Stroke            1 2034-04-08 05:19:00 2034-04-06 14:11:00   \n",
       "\n",
       "                outcome_heart           outcome_liver     outcome_kidney_left  \\\n",
       "13815                     NaN            Transplanted                     NaN   \n",
       "35962                     NaN            Transplanted            Transplanted   \n",
       "45616                     NaN            Transplanted  Recovered for Research   \n",
       "47887                     NaN            Transplanted  Recovered for Research   \n",
       "50813                     NaN  Recovered for Research  Recovered for Research   \n",
       "51321                     NaN            Transplanted  Recovered for Research   \n",
       "52429  Recovered for Research            Transplanted                     NaN   \n",
       "60562                     NaN            Transplanted                     NaN   \n",
       "64894                     NaN            Transplanted  Recovered for Research   \n",
       "81716  Recovered for Research            Transplanted                     NaN   \n",
       "85013                     NaN  Recovered for Research                     NaN   \n",
       "88522  Recovered for Research            Transplanted  Recovered for Research   \n",
       "\n",
       "         outcome_kidney_right       outcome_lung_left      outcome_lung_right  \\\n",
       "13815                     NaN                     NaN  Recovered for Research   \n",
       "35962            Transplanted  Recovered for Research  Recovered for Research   \n",
       "45616  Recovered for Research  Recovered for Research                     NaN   \n",
       "47887                     NaN  Recovered for Research  Recovered for Research   \n",
       "50813  Recovered for Research                     NaN                     NaN   \n",
       "51321  Recovered for Research  Recovered for Research  Recovered for Research   \n",
       "52429                     NaN  Recovered for Research  Recovered for Research   \n",
       "60562                     NaN  Recovered for Research  Recovered for Research   \n",
       "64894  Recovered for Research  Recovered for Research  Recovered for Research   \n",
       "81716                     NaN                     NaN                     NaN   \n",
       "85013                     NaN                     NaN                     NaN   \n",
       "88522  Recovered for Research  Recovered for Research  Recovered for Research   \n",
       "\n",
       "            outcome_intestine        outcome_pancreas  \n",
       "13815                     NaN                     NaN  \n",
       "35962                     NaN                     NaN  \n",
       "45616                     NaN                     NaN  \n",
       "47887                     NaN                     NaN  \n",
       "50813                     NaN                     NaN  \n",
       "51321                     NaN                     NaN  \n",
       "52429                     NaN                     NaN  \n",
       "60562                     NaN                     NaN  \n",
       "64894  Recovered for Research  Recovered for Research  \n",
       "81716                     NaN                     NaN  \n",
       "85013                     NaN                     NaN  \n",
       "88522  Recovered for Research  Recovered for Research  "
      ]
     },
     "execution_count": 13,
     "metadata": {},
     "output_type": "execute_result"
    }
   ],
   "source": [
    "#6.List all male donors over 75 who had organs recovered for research\n",
    "\n",
    "##Merged two tables of donor_details and outcomes_details\n",
    "merged_df=pd.merge(df_donor_details,df_outcomes_details,on='PatientID',how='left')\n",
    "merged_df_recovered=merged_df[((merged_df['outcome_heart']== \"Recovered for Research\") | (merged_df['outcome_liver']== \"Recovered for Research\") | (merged_df['outcome_kidney_left']== \"Recovered for Research\") | (merged_df['outcome_kidney_right']== \"Recovered for Research\") | (merged_df['outcome_lung_left']== \"Recovered for Research\") | (merged_df['outcome_lung_right']== \"Recovered for Research\") | (merged_df['outcome_intestine']== \"Recovered for Research\") | (merged_df['outcome_pancreas']== \"Recovered for Research\") )]\n",
    "merged_df_recovered_patients=merged_df_recovered[(merged_df_recovered['age']>75) & (merged_df_recovered['gender']==\"M\")]\n",
    "merged_df_recovered_patients"
   ]
  },
  {
   "cell_type": "markdown",
   "id": "83c791f0-7cf8-4a77-8956-e04896b7d33f",
   "metadata": {},
   "source": [
    "7.Make Patient ID as index to the table."
   ]
  },
  {
   "cell_type": "code",
   "execution_count": 15,
   "id": "7fa3047e-a4b9-4fde-b24b-b26313b44467",
   "metadata": {},
   "outputs": [
    {
     "data": {
      "text/html": [
       "<div>\n",
       "<style scoped>\n",
       "    .dataframe tbody tr th:only-of-type {\n",
       "        vertical-align: middle;\n",
       "    }\n",
       "\n",
       "    .dataframe tbody tr th {\n",
       "        vertical-align: top;\n",
       "    }\n",
       "\n",
       "    .dataframe thead th {\n",
       "        text-align: right;\n",
       "    }\n",
       "</style>\n",
       "<table border=\"1\" class=\"dataframe\">\n",
       "  <thead>\n",
       "    <tr style=\"text-align: right;\">\n",
       "      <th></th>\n",
       "      <th>age</th>\n",
       "      <th>gender</th>\n",
       "      <th>race</th>\n",
       "      <th>causeofdeath</th>\n",
       "      <th>mechanism_of_death</th>\n",
       "      <th>brain_death</th>\n",
       "      <th>time_asystole</th>\n",
       "      <th>time_brain_death</th>\n",
       "    </tr>\n",
       "    <tr>\n",
       "      <th>PatientID</th>\n",
       "      <th></th>\n",
       "      <th></th>\n",
       "      <th></th>\n",
       "      <th></th>\n",
       "      <th></th>\n",
       "      <th></th>\n",
       "      <th></th>\n",
       "      <th></th>\n",
       "    </tr>\n",
       "  </thead>\n",
       "  <tbody>\n",
       "    <tr>\n",
       "      <th>OPO1_P155959</th>\n",
       "      <td>NaN</td>\n",
       "      <td>NaN</td>\n",
       "      <td>NaN</td>\n",
       "      <td>NaN</td>\n",
       "      <td>NaN</td>\n",
       "      <td>NaN</td>\n",
       "      <td>NaT</td>\n",
       "      <td>NaT</td>\n",
       "    </tr>\n",
       "    <tr>\n",
       "      <th>OPO1_P297347</th>\n",
       "      <td>NaN</td>\n",
       "      <td>NaN</td>\n",
       "      <td>NaN</td>\n",
       "      <td>NaN</td>\n",
       "      <td>NaN</td>\n",
       "      <td>NaN</td>\n",
       "      <td>NaT</td>\n",
       "      <td>NaT</td>\n",
       "    </tr>\n",
       "    <tr>\n",
       "      <th>OPO1_P399316</th>\n",
       "      <td>NaN</td>\n",
       "      <td>NaN</td>\n",
       "      <td>NaN</td>\n",
       "      <td>NaN</td>\n",
       "      <td>NaN</td>\n",
       "      <td>NaN</td>\n",
       "      <td>NaT</td>\n",
       "      <td>NaT</td>\n",
       "    </tr>\n",
       "    <tr>\n",
       "      <th>OPO1_P246407</th>\n",
       "      <td>NaN</td>\n",
       "      <td>NaN</td>\n",
       "      <td>NaN</td>\n",
       "      <td>NaN</td>\n",
       "      <td>NaN</td>\n",
       "      <td>NaN</td>\n",
       "      <td>NaT</td>\n",
       "      <td>NaT</td>\n",
       "    </tr>\n",
       "    <tr>\n",
       "      <th>OPO1_P187209</th>\n",
       "      <td>NaN</td>\n",
       "      <td>NaN</td>\n",
       "      <td>NaN</td>\n",
       "      <td>NaN</td>\n",
       "      <td>NaN</td>\n",
       "      <td>NaN</td>\n",
       "      <td>NaT</td>\n",
       "      <td>NaT</td>\n",
       "    </tr>\n",
       "    <tr>\n",
       "      <th>...</th>\n",
       "      <td>...</td>\n",
       "      <td>...</td>\n",
       "      <td>...</td>\n",
       "      <td>...</td>\n",
       "      <td>...</td>\n",
       "      <td>...</td>\n",
       "      <td>...</td>\n",
       "      <td>...</td>\n",
       "    </tr>\n",
       "    <tr>\n",
       "      <th>OPO6_P54946</th>\n",
       "      <td>NaN</td>\n",
       "      <td>NaN</td>\n",
       "      <td>NaN</td>\n",
       "      <td>NaN</td>\n",
       "      <td>NaN</td>\n",
       "      <td>NaN</td>\n",
       "      <td>NaT</td>\n",
       "      <td>NaT</td>\n",
       "    </tr>\n",
       "    <tr>\n",
       "      <th>OPO6_P630991</th>\n",
       "      <td>NaN</td>\n",
       "      <td>NaN</td>\n",
       "      <td>NaN</td>\n",
       "      <td>NaN</td>\n",
       "      <td>NaN</td>\n",
       "      <td>NaN</td>\n",
       "      <td>NaT</td>\n",
       "      <td>NaT</td>\n",
       "    </tr>\n",
       "    <tr>\n",
       "      <th>OPO6_P8748</th>\n",
       "      <td>NaN</td>\n",
       "      <td>NaN</td>\n",
       "      <td>NaN</td>\n",
       "      <td>NaN</td>\n",
       "      <td>NaN</td>\n",
       "      <td>NaN</td>\n",
       "      <td>NaT</td>\n",
       "      <td>NaT</td>\n",
       "    </tr>\n",
       "    <tr>\n",
       "      <th>OPO6_P5461</th>\n",
       "      <td>NaN</td>\n",
       "      <td>NaN</td>\n",
       "      <td>NaN</td>\n",
       "      <td>NaN</td>\n",
       "      <td>NaN</td>\n",
       "      <td>NaN</td>\n",
       "      <td>NaT</td>\n",
       "      <td>NaT</td>\n",
       "    </tr>\n",
       "    <tr>\n",
       "      <th>OPO6_P942291</th>\n",
       "      <td>NaN</td>\n",
       "      <td>NaN</td>\n",
       "      <td>NaN</td>\n",
       "      <td>NaN</td>\n",
       "      <td>NaN</td>\n",
       "      <td>NaN</td>\n",
       "      <td>NaT</td>\n",
       "      <td>NaT</td>\n",
       "    </tr>\n",
       "  </tbody>\n",
       "</table>\n",
       "<p>133101 rows × 8 columns</p>\n",
       "</div>"
      ],
      "text/plain": [
       "              age gender race causeofdeath mechanism_of_death  brain_death  \\\n",
       "PatientID                                                                    \n",
       "OPO1_P155959  NaN    NaN  NaN          NaN                NaN          NaN   \n",
       "OPO1_P297347  NaN    NaN  NaN          NaN                NaN          NaN   \n",
       "OPO1_P399316  NaN    NaN  NaN          NaN                NaN          NaN   \n",
       "OPO1_P246407  NaN    NaN  NaN          NaN                NaN          NaN   \n",
       "OPO1_P187209  NaN    NaN  NaN          NaN                NaN          NaN   \n",
       "...           ...    ...  ...          ...                ...          ...   \n",
       "OPO6_P54946   NaN    NaN  NaN          NaN                NaN          NaN   \n",
       "OPO6_P630991  NaN    NaN  NaN          NaN                NaN          NaN   \n",
       "OPO6_P8748    NaN    NaN  NaN          NaN                NaN          NaN   \n",
       "OPO6_P5461    NaN    NaN  NaN          NaN                NaN          NaN   \n",
       "OPO6_P942291  NaN    NaN  NaN          NaN                NaN          NaN   \n",
       "\n",
       "             time_asystole time_brain_death  \n",
       "PatientID                                    \n",
       "OPO1_P155959           NaT              NaT  \n",
       "OPO1_P297347           NaT              NaT  \n",
       "OPO1_P399316           NaT              NaT  \n",
       "OPO1_P246407           NaT              NaT  \n",
       "OPO1_P187209           NaT              NaT  \n",
       "...                    ...              ...  \n",
       "OPO6_P54946            NaT              NaT  \n",
       "OPO6_P630991           NaT              NaT  \n",
       "OPO6_P8748             NaT              NaT  \n",
       "OPO6_P5461             NaT              NaT  \n",
       "OPO6_P942291           NaT              NaT  \n",
       "\n",
       "[133101 rows x 8 columns]"
      ]
     },
     "execution_count": 15,
     "metadata": {},
     "output_type": "execute_result"
    }
   ],
   "source": [
    "#7.Make Patient ID as index to the table.\n",
    "\n",
    "#Creating sub dataframe \n",
    "subdf_donor_details=df_donor_details['PatientID']\n",
    "column_name=['age','gender','race','causeofdeath','mechanism_of_death','brain_death','time_asystole','time_brain_death']\n",
    "subdf_donor_details\n",
    "s1=pd.DataFrame(data=df_donor_details,index=subdf_donor_details,columns=column_name)\n",
    "s1"
   ]
  },
  {
   "cell_type": "markdown",
   "id": "2204782f-c127-49b5-abd7-e46776821055",
   "metadata": {},
   "source": [
    "8.Create a dictionary with the Age and Cause of Death for any 5 random donors.\n",
    " Access any one cause of death using the donors age using the get() function"
   ]
  },
  {
   "cell_type": "code",
   "execution_count": 17,
   "id": "58f093c5-d24f-46de-9953-164d43ebe98f",
   "metadata": {},
   "outputs": [
    {
     "name": "stdout",
     "output_type": "stream",
     "text": [
      "{'PatientID': ['OPO1_P155959', 'OPO1_P297347', 'OPO1_P399316', 'OPO1_P246407', 'OPO1_P187209'], 'age': [54, 78, 57, 78, 70], 'causeofdeath': ['Unknown', 'Unknown', 'Anoxia', 'cerebrovascular accident', 'Unknown']}\n"
     ]
    }
   ],
   "source": [
    "#8.Create a dictionary with the Age and Cause of Death for any 5 random donors.\n",
    " #Access any one cause of death using the donors age using the get() function\n",
    "\n",
    "dic={\n",
    "    \"PatientID\":['OPO1_P155959','OPO1_P297347','OPO1_P399316','OPO1_P246407','OPO1_P187209'],\n",
    "    \"age\":[54,78,57,78,70],\n",
    "    \"causeofdeath\":['Unknown','Unknown','Anoxia','cerebrovascular accident','Unknown']\n",
    "}\n",
    "print(dic)\n"
   ]
  },
  {
   "cell_type": "code",
   "execution_count": 18,
   "id": "b969e080-491e-4115-94ea-cc0a01b23ea0",
   "metadata": {},
   "outputs": [
    {
     "name": "stdout",
     "output_type": "stream",
     "text": [
      "cerebrovascular accident\n"
     ]
    }
   ],
   "source": [
    "#8.Access any one cause of death using the donors age using the get() function\n",
    "#Frome above dictionary\n",
    "age=dic['age']\n",
    "causeofdeath=dic['causeofdeath']\n",
    "data=dict(zip(age,causeofdeath))\n",
    "#data\n",
    "print(data.get(78))"
   ]
  },
  {
   "cell_type": "markdown",
   "id": "c63fdaa4-12bf-4485-b38e-ae5a0a926328",
   "metadata": {},
   "source": [
    "9.Create a heatmap on the donor details table.\n"
   ]
  },
  {
   "cell_type": "code",
   "execution_count": 53,
   "id": "1969e96f-de20-4f75-a948-dfa238592cbb",
   "metadata": {},
   "outputs": [
    {
     "data": {
      "image/png": "[encoded data removed]",
      "text/plain": [
       "<Figure size 640x480 with 2 Axes>"
      ]
     },
     "metadata": {},
     "output_type": "display_data"
    }
   ],
   "source": [
    "#9.Create a heatmap on the donor details table.\n",
    "df_donor_details\n",
    "\n",
    "#heatmap works for numerical values.should avoid the string datatype columns for heatmap\n",
    "#if we include those will get this error(ValueError: could not convert string to float: 'OPO1_P155959')\n",
    "\n",
    "numerical_columns = df_donor_details.select_dtypes(include=['number']).columns\n",
    "correlation_matrix = df_donor_details[numerical_columns].corr()\n",
    "hm=sns.heatmap(data=correlation_matrix)\n",
    "plt.title('Donor details table')\n",
    "\n",
    "plt.show()"
   ]
  },
  {
   "cell_type": "markdown",
   "id": "c13519c0-4031-47c4-83fe-3b8b45523a5c",
   "metadata": {},
   "source": [
    "10.Create a bar chart showing the number of donors by procured year. \n",
    "Add hatching to the bars using the set_hatch() method, and exclude any outlier years."
   ]
  },
  {
   "cell_type": "code",
   "execution_count": 20,
   "id": "82144161-197d-439b-8523-963052949aac",
   "metadata": {},
   "outputs": [
    {
     "name": "stderr",
     "output_type": "stream",
     "text": [
      "C:\\Users\\sateesh\\AppData\\Local\\Temp\\ipykernel_2784\\4214951040.py:11: SettingWithCopyWarning: \n",
      "A value is trying to be set on a copy of a slice from a DataFrame.\n",
      "Try using .loc[row_indexer,col_indexer] = value instead\n",
      "\n",
      "See the caveats in the documentation: https://pandas.pydata.org/pandas-docs/stable/user_guide/indexing.html#returning-a-view-versus-a-copy\n",
      "  merged_don_ref_df_cleaned['Year'] = merged_don_ref_df_cleaned['time_procured'].dt.year\n"
     ]
    },
    {
     "data": {
      "image/png": "[encoded data removed]",
      "text/plain": [
       "<Figure size 800x600 with 1 Axes>"
      ]
     },
     "metadata": {},
     "output_type": "display_data"
    }
   ],
   "source": [
    "#10.Create a bar chart showing the number of donors by procured year. \n",
    "#Add hatching to the bars using the set_hatch() method, and exclude any outlier years.\n",
    "\n",
    "# Merging two data sets of donor_details and referral_details\n",
    "merged_don_ref_df=pd.merge(df_donor_details,df_referral_details,on='PatientID',how='left')\n",
    "#merged_don_ref_df\n",
    "merged_don_ref_df['time_procured']=pd.to_datetime(merged_don_ref_df['time_procured'])\n",
    "#merged_don_ref_df['year']=merged_don_ref_df['time_procured'].dt.year\n",
    "\n",
    "\n",
    "merged_don_ref_df_cleaned = merged_don_ref_df.dropna(subset=['time_procured'])\n",
    "merged_don_ref_df_cleaned['Year'] = merged_don_ref_df_cleaned['time_procured'].dt.year\n",
    "donors_by_year = merged_don_ref_df_cleaned.groupby('Year').size()\n",
    "\n",
    "# Identify outlier years using IQR (Interquartile Range)\n",
    "Q1 = donors_by_year.quantile(0.25)\n",
    "Q3 = donors_by_year.quantile(0.75)\n",
    "IQR = Q3 - Q1\n",
    "\n",
    "# Define outliers as those outside of 1.5 * IQR range\n",
    "lower_bound = Q1 - 1.5 * IQR\n",
    "upper_bound = Q3 + 1.5 * IQR\n",
    "\n",
    "donors_by_year_cleaned = donors_by_year[(donors_by_year >= lower_bound) & (donors_by_year <= upper_bound)]\n",
    "\n",
    "fig, ax = plt.subplots(figsize=(8, 6))\n",
    "bars = ax.bar(donors_by_year_cleaned.index, donors_by_year_cleaned.values, color='orange')\n",
    "\n",
    "for bar in bars:\n",
    "    bar.set_hatch('x')  # 'x' creates a crosshatch pattern\n",
    "\n",
    "ax.set_title('Number of Donors by time_procured ', fontsize=16)\n",
    "ax.set_xlabel('time_procured', fontsize=12)\n",
    "ax.set_ylabel('Number of Donors', fontsize=12)\n",
    "\n",
    "# Show the plot\n",
    "plt.tight_layout()\n",
    "plt.show()"
   ]
  },
  {
   "cell_type": "markdown",
   "id": "28c7ce8d-e609-4d11-a625-9d178ecac50c",
   "metadata": {},
   "source": [
    "11.Plot a Donut chart to show donor distribution by Gender.\n"
   ]
  },
  {
   "cell_type": "code",
   "execution_count": 57,
   "id": "7c31389a-a211-4220-b71c-efea8fce6398",
   "metadata": {},
   "outputs": [
    {
     "data": {
      "image/png": "[encoded data removed]",
      "text/plain": [
       "<Figure size 800x600 with 1 Axes>"
      ]
     },
     "metadata": {},
     "output_type": "display_data"
    }
   ],
   "source": [
    "#11.Plot a Donut chart to show donor distribution by Gender.\n",
    "#Donor detials table\n",
    "df_donor_details\n",
    "\n",
    "# count the number of donors by gender\n",
    "gender_counts = df_donor_details['gender'].value_counts()\n",
    "\n",
    "mycolors=['Khaki','DarkOliveGreen']\n",
    "\n",
    "plt.figure(figsize=(8, 6))\n",
    "plt.pie(gender_counts, labels=gender_counts.index, autopct='%1.1f%%', startangle=90, colors=mycolors)\n",
    "\n",
    "# Add a circle at the center to create a donut effect\n",
    "centre_circle = plt.Circle((0, 0), 0.70, color='white', fc='white', linewidth=0)\n",
    "plt.gca().add_artist(centre_circle)\n",
    "\n",
    "plt.title('Donor Distribution by Gender')\n",
    "plt.axis('equal')  \n",
    "plt.show()\n"
   ]
  },
  {
   "cell_type": "markdown",
   "id": "db648c3b-ae0a-41e4-a798-1d5195870c4e",
   "metadata": {},
   "source": [
    "12.Using loc, retrieve the race and time of aysytole of donors between indices 1001 and 2001."
   ]
  },
  {
   "cell_type": "code",
   "execution_count": 23,
   "id": "d7e231dc-9cb8-4812-83b3-0967d6641df5",
   "metadata": {},
   "outputs": [
    {
     "data": {
      "text/html": [
       "<div>\n",
       "<style scoped>\n",
       "    .dataframe tbody tr th:only-of-type {\n",
       "        vertical-align: middle;\n",
       "    }\n",
       "\n",
       "    .dataframe tbody tr th {\n",
       "        vertical-align: top;\n",
       "    }\n",
       "\n",
       "    .dataframe thead th {\n",
       "        text-align: right;\n",
       "    }\n",
       "</style>\n",
       "<table border=\"1\" class=\"dataframe\">\n",
       "  <thead>\n",
       "    <tr style=\"text-align: right;\">\n",
       "      <th></th>\n",
       "      <th>race</th>\n",
       "      <th>time_asystole</th>\n",
       "      <th>PatientID</th>\n",
       "    </tr>\n",
       "  </thead>\n",
       "  <tbody>\n",
       "    <tr>\n",
       "      <th>1001</th>\n",
       "      <td>White</td>\n",
       "      <td>2034-03-28 16:47:00</td>\n",
       "      <td>OPO1_P124711</td>\n",
       "    </tr>\n",
       "    <tr>\n",
       "      <th>1002</th>\n",
       "      <td>Hispanic</td>\n",
       "      <td>NaT</td>\n",
       "      <td>OPO1_P934782</td>\n",
       "    </tr>\n",
       "    <tr>\n",
       "      <th>1003</th>\n",
       "      <td>White</td>\n",
       "      <td>2034-01-19 12:00:00</td>\n",
       "      <td>OPO1_P496267</td>\n",
       "    </tr>\n",
       "    <tr>\n",
       "      <th>1004</th>\n",
       "      <td>Hispanic</td>\n",
       "      <td>2032-01-19 18:49:00</td>\n",
       "      <td>OPO1_P962984</td>\n",
       "    </tr>\n",
       "    <tr>\n",
       "      <th>1005</th>\n",
       "      <td>Hispanic</td>\n",
       "      <td>2036-02-05 18:31:00</td>\n",
       "      <td>OPO1_P725315</td>\n",
       "    </tr>\n",
       "    <tr>\n",
       "      <th>...</th>\n",
       "      <td>...</td>\n",
       "      <td>...</td>\n",
       "      <td>...</td>\n",
       "    </tr>\n",
       "    <tr>\n",
       "      <th>1997</th>\n",
       "      <td>Hispanic</td>\n",
       "      <td>2037-05-19 23:10:00</td>\n",
       "      <td>OPO1_P136906</td>\n",
       "    </tr>\n",
       "    <tr>\n",
       "      <th>1998</th>\n",
       "      <td>Hispanic</td>\n",
       "      <td>NaT</td>\n",
       "      <td>OPO1_P966799</td>\n",
       "    </tr>\n",
       "    <tr>\n",
       "      <th>1999</th>\n",
       "      <td>White</td>\n",
       "      <td>2034-11-20 21:21:00</td>\n",
       "      <td>OPO1_P636889</td>\n",
       "    </tr>\n",
       "    <tr>\n",
       "      <th>2000</th>\n",
       "      <td>Hispanic</td>\n",
       "      <td>2034-02-04 15:00:00</td>\n",
       "      <td>OPO1_P154285</td>\n",
       "    </tr>\n",
       "    <tr>\n",
       "      <th>2001</th>\n",
       "      <td>White</td>\n",
       "      <td>2035-06-15 05:58:00</td>\n",
       "      <td>OPO1_P693114</td>\n",
       "    </tr>\n",
       "  </tbody>\n",
       "</table>\n",
       "<p>1001 rows × 3 columns</p>\n",
       "</div>"
      ],
      "text/plain": [
       "          race       time_asystole     PatientID\n",
       "1001     White 2034-03-28 16:47:00  OPO1_P124711\n",
       "1002  Hispanic                 NaT  OPO1_P934782\n",
       "1003     White 2034-01-19 12:00:00  OPO1_P496267\n",
       "1004  Hispanic 2032-01-19 18:49:00  OPO1_P962984\n",
       "1005  Hispanic 2036-02-05 18:31:00  OPO1_P725315\n",
       "...        ...                 ...           ...\n",
       "1997  Hispanic 2037-05-19 23:10:00  OPO1_P136906\n",
       "1998  Hispanic                 NaT  OPO1_P966799\n",
       "1999     White 2034-11-20 21:21:00  OPO1_P636889\n",
       "2000  Hispanic 2034-02-04 15:00:00  OPO1_P154285\n",
       "2001     White 2035-06-15 05:58:00  OPO1_P693114\n",
       "\n",
       "[1001 rows x 3 columns]"
      ]
     },
     "execution_count": 23,
     "metadata": {},
     "output_type": "execute_result"
    }
   ],
   "source": [
    "#12.Using loc, retrieve the race and time of aysytole of donors between indices 1001 and 2001.\n",
    "df_donor_details.loc[1001:2001,['race','time_asystole','PatientID']]\n"
   ]
  },
  {
   "cell_type": "markdown",
   "id": "d87b19cb-53ce-4402-9116-ecba70e2372d",
   "metadata": {},
   "source": [
    "13.np.arange(1,31).reshape(6,5)\n",
    "    1. Find array slicing to get the elements 1,2,8,30. \n",
    "    2. When the value is less than 9, print as 0,else print 99"
   ]
  },
  {
   "cell_type": "code",
   "execution_count": 25,
   "id": "f727f946-b3df-459a-a3b7-389357696a09",
   "metadata": {},
   "outputs": [
    {
     "name": "stdout",
     "output_type": "stream",
     "text": [
      "[[1 2]]\n",
      "1\n",
      "2\n",
      "8\n",
      "30\n"
     ]
    }
   ],
   "source": [
    "#13.np.arange(1,31).reshape(6,5)\n",
    "   # 1. Find array slicing to get the elements 1,2,8,30. \n",
    "   # 2. When the value is less than 9, print as 0,else print 99\n",
    "arr1=np.arange(1,31).reshape(6,5)\n",
    "arr1\n",
    "print(arr1[0:1,0:2])\n",
    "print(arr1[0,0])\n",
    "print(arr1[0,1])\n",
    "print(arr1[1,2])\n",
    "print(arr1[5,4])\n",
    "\n",
    "\n"
   ]
  },
  {
   "cell_type": "code",
   "execution_count": 26,
   "id": "56bdf584-3c1b-4943-a568-408bbf6e621b",
   "metadata": {},
   "outputs": [
    {
     "data": {
      "text/plain": [
       "array([[ 0,  0,  0,  0,  0],\n",
       "       [ 0,  0,  0, 99, 99],\n",
       "       [99, 99, 99, 99, 99],\n",
       "       [99, 99, 99, 99, 99],\n",
       "       [99, 99, 99, 99, 99],\n",
       "       [99, 99, 99, 99, 99]])"
      ]
     },
     "execution_count": 26,
     "metadata": {},
     "output_type": "execute_result"
    }
   ],
   "source": [
    "  # 13.2. When the value is less than 9, print as 0,else print 99\n",
    "arr1=np.arange(1,31).reshape(6,5)\n",
    "newarr=np.where(arr1<9,0,99)\n",
    "newarr"
   ]
  },
  {
   "cell_type": "markdown",
   "id": "7f1ff362-a8b4-44ff-b8e9-bb8a17f07c0f",
   "metadata": {},
   "source": [
    "14.Create subplots for the following data\n",
    "x = np.arange(0, 10, 0.1)\n",
    "y = np.sin(np.pi * x) + x \n",
    "using an object-oriented approach, and arrange the subplots in a 2x2 grid layout"
   ]
  },
  {
   "cell_type": "code",
   "execution_count": 28,
   "id": "93ca1a45-af06-46f7-8209-034f836de755",
   "metadata": {},
   "outputs": [
    {
     "data": {
      "image/png": "[encoded data removed]",
      "text/plain": [
       "<Figure size 1000x800 with 4 Axes>"
      ]
     },
     "metadata": {},
     "output_type": "display_data"
    }
   ],
   "source": [
    "#14.Create subplots for the following data\n",
    "#x = np.arange(0, 10, 0.1)\n",
    "#y = np.sin(np.pi * x) + x \n",
    "#using an object-oriented approach, and arrange the subplots in a 2x2 grid layout\n",
    "x = np.arange(0, 10, 0.1)\n",
    "y = np.sin(np.pi * x) + x \n",
    "fig, axs=plt.subplots(2,2,figsize=(10,8))\n",
    "axs[0][0].plot(x,y,'r')\n",
    "axs[0][1].plot(x,y,'b')\n",
    "axs[1][0].plot(x,y,'g')\n",
    "axs[1][1].plot(x,y,'o')\n",
    "fig.suptitle(\"2x2 subplots\")\n",
    "\n",
    "#axs[0][0].set_title(\"subplots\")\n",
    "plt.tight_layout()"
   ]
  },
  {
   "cell_type": "markdown",
   "id": "ecb71886-800f-4aa0-8a6c-faf590c2ebd1",
   "metadata": {},
   "source": [
    "15Create a box plot on any values in the dataset. Ensure that it is analytically correct.\n"
   ]
  },
  {
   "cell_type": "code",
   "execution_count": 51,
   "id": "d998aa5c-85fb-4786-a03d-5b9df3c1c0ce",
   "metadata": {},
   "outputs": [
    {
     "data": {
      "image/png": "[encoded data removed]",
      "text/plain": [
       "<Figure size 640x480 with 1 Axes>"
      ]
     },
     "metadata": {},
     "output_type": "display_data"
    }
   ],
   "source": [
    "#15Create a box plot on any values in the dataset. Ensure that it is analytically correct.\n",
    "# the average age of donors from the different race. \n",
    "import seaborn as sns\n",
    "sns.boxplot(x='race',y='age',data=df_donor_details)\n",
    "plt.title('Age differences from race')\n",
    "\n",
    "plt.show()"
   ]
  },
  {
   "cell_type": "code",
   "execution_count": 17,
   "id": "fcb9375e-2e0a-495e-a932-a563070de5d8",
   "metadata": {},
   "outputs": [
    {
     "name": "stdout",
     "output_type": "stream",
     "text": [
      "The Year with maximum referrals is 2021\n"
     ]
    }
   ],
   "source": [
    "#Question 33.Which year had the maximum referrals\n",
    "dfs = pd.read_excel('OrganDonor_Consolidated.xlsx',sheet_name = 'ReferralDetails' )\n",
    "yearwise_count = dfs['Referral_Year'].value_counts()\n",
    "maxcount_year = yearwise_count.idxmax()\n",
    "print(f\"The Year with maximum referrals is {maxcount_year}\")"
   ]
  },
  {
   "cell_type": "code",
   "execution_count": 18,
   "id": "be73bfe7",
   "metadata": {},
   "outputs": [
    {
     "name": "stdout",
     "output_type": "stream",
     "text": [
      "3245\n"
     ]
    }
   ],
   "source": [
    "#Question 34 How Many Organs are recovered for transplant but not transplanted?\n",
    "dfs1 = pd.read_excel('OrganDonor_Consolidated.xlsx',sheet_name = 'Outcomes' )\n",
    "valuetobe_counted = 'Recovered for Transplant but not Transplanted'\n",
    "column_names  = dfs1.columns #['outcome_heart','outcome_liver','outcome_kidney_left','outcome_kidney_right','outcome_lung_left','outcome_lung_right','outcome_intestine','outcome_pancreas']\n",
    "count = 0\n",
    "for column_name in column_names:\n",
    "    count  += dfs1[column_name].value_counts().get(valuetobe_counted,0)\n",
    "    \n",
    "print(count)"
   ]
  },
  {
   "cell_type": "code",
   "execution_count": 19,
   "id": "824d9669",
   "metadata": {},
   "outputs": [
    {
     "name": "stdout",
     "output_type": "stream",
     "text": [
      "The 3 most frequent causes of death are Anoxia , Unknown , cerebrovascular accident\n"
     ]
    }
   ],
   "source": [
    "#Question 35 . What are the 3 most frequenst causes of death?\n",
    "dfs2 = pd.read_excel('OrganDonor_Consolidated.xlsx',sheet_name = 'DonorDetails' )\n",
    "cause_death = dfs2['causeofdeath'].value_counts()\n",
    "most_frequent = cause_death.head(3)\n",
    "\n",
    "key_cause = ' , '.join(most_frequent.keys())\n",
    "print(f\"The 3 most frequent causes of death are {key_cause}\")"
   ]
  },
  {
   "cell_type": "code",
   "execution_count": 20,
   "id": "f28b7139",
   "metadata": {},
   "outputs": [
    {
     "name": "stdout",
     "output_type": "stream",
     "text": [
      "OPO4    33641\n",
      "OPO1    32148\n",
      "OPO6    22915\n",
      "OPO2    16145\n",
      "OPO5    15738\n",
      "OPO3    12514\n",
      "Name: OPO, dtype: int64\n"
     ]
    }
   ],
   "source": [
    "#Question 36.How many transplants were registered under each OPO?\n",
    "dfs3 = pd.read_excel('OrganDonor_Consolidated.xlsx',sheet_name = 'OPO_HospDetails' )\n",
    "transplants_eachopo = dfs3['OPO'].value_counts()\n",
    "print(transplants_eachopo)"
   ]
  },
  {
   "cell_type": "code",
   "execution_count": null,
   "id": "6beec4bd",
   "metadata": {},
   "outputs": [],
   "source": [
    "#Question 37.Plot a stacked bar chart to show different procurement outcomes for organs - heart, liver, and pancreas.\n",
    " #Label the bars with the actual numbers for each outcome."
   ]
  },
  {
   "cell_type": "code",
   "execution_count": 21,
   "id": "ce3b043a",
   "metadata": {},
   "outputs": [
    {
     "name": "stdout",
     "output_type": "stream",
     "text": [
      "Percentage of left lung transplants is : 22.51%\n",
      "Percentage of right lung transplants is: 22.31%\n"
     ]
    }
   ],
   "source": [
    "#Question 38.What percentage of all transplants are lung transplants\n",
    "dfs1 = pd.read_excel('OrganDonor_Consolidated.xlsx',sheet_name = 'Outcomes' )\n",
    "count_patients = len(dfs1)\n",
    "\n",
    "valuetobe_counted = 'Transplanted'\n",
    "\n",
    "\n",
    "count_left = dfs1['outcome_lung_left'].value_counts()\n",
    "count_left_transplanted = count_left.get(valuetobe_counted, 0)\n",
    "\n",
    "\n",
    "count_right = dfs1['outcome_lung_right'].value_counts()\n",
    "count_right_transplanted = count_right.get(valuetobe_counted, 0)\n",
    "\n",
    "\n",
    "# percentage of left lung transplants\n",
    "percentage_left_lung = (count_left_transplanted/count_patients)*100\n",
    "percentage_right_lung = (count_right_transplanted/count_patients)*100\n",
    "print(f\"Percentage of left lung transplants is : {percentage_left_lung:.2f}%\")\n",
    "print(f\"Percentage of right lung transplants is: {percentage_right_lung:.2f}%\")"
   ]
  },
  {
   "cell_type": "code",
   "execution_count": 22,
   "id": "1307f93f",
   "metadata": {},
   "outputs": [
    {
     "name": "stdout",
     "output_type": "stream",
     "text": [
      "The year with the maximum procurements is 2035 with 1619 procurements.\n"
     ]
    }
   ],
   "source": [
    "#Question 39.Which year had the maximum number of procurements?\n",
    "dfs = pd.read_excel('OrganDonor_Consolidated.xlsx',sheet_name = 'ReferralDetails' )\n",
    "date_column = 'time_procured' \n",
    "dfs[date_column] = pd.to_datetime(dfs[date_column])\n",
    "dfs['year'] = dfs[date_column].dt.year\n",
    "year_count = dfs['year'].value_counts()\n",
    "max_year = year_count.idxmax()\n",
    "max_count = year_count.max()\n",
    "print(f\"The year with the maximum procurements is {int(max_year)} with {max_count} procurements.\")"
   ]
  },
  {
   "cell_type": "code",
   "execution_count": 23,
   "id": "c7cb4b69",
   "metadata": {},
   "outputs": [
    {
     "name": "stdout",
     "output_type": "stream",
     "text": [
      "                 PID        Date Referral Time\n",
      "0       OPO1_P320866  06/21/2033      06:49 AM\n",
      "1       OPO1_P549364  11/21/2036      08:41 AM\n",
      "2       OPO1_P536997  08/23/2030      11:28 PM\n",
      "3       OPO1_P463285  05/12/2034      05:34 PM\n",
      "4       OPO1_P284978  02/22/2033      04:45 AM\n",
      "...              ...         ...           ...\n",
      "133096  OPO6_P384794  07/10/2034      01:26 PM\n",
      "133097  OPO6_P902138  08/04/2035      05:13 AM\n",
      "133098    OPO6_P5461  03/13/2031      08:13 PM\n",
      "133099  OPO6_P942291  11/20/2032      01:32 PM\n",
      "133100  OPO6_P210235  02/26/2030      05:22 AM\n",
      "\n",
      "[133101 rows x 3 columns]\n"
     ]
    }
   ],
   "source": [
    "#Question 40.Create a dataframe with date and time as columns, where the values are the referral time.\n",
    "dfs = pd.read_excel('OrganDonor_Consolidated.xlsx',sheet_name = 'ReferralDetails' )\n",
    "datestamp_column = 'time_referred'\n",
    "dfs[datestamp_column] = pd.to_datetime(dfs[datestamp_column], errors='coerce')\n",
    "dfs['PID'] = dfs['PatientID']\n",
    "dfs['Date'] = dfs[datestamp_column].dt.strftime('%m/%d/%Y')\n",
    "dfs['Referral Time'] = dfs[datestamp_column].dt.strftime('%I:%M %p')\n",
    "print(dfs[['PID','Date','Referral Time']])"
   ]
  },
  {
   "cell_type": "code",
   "execution_count": null,
   "id": "4d49b6fc",
   "metadata": {},
   "outputs": [],
   "source": [
    "#Question 41.Create a pair plot of the outcomes, using different outcome statuses as the hue."
   ]
  },
  {
   "cell_type": "code",
   "execution_count": 24,
   "id": "40faba87",
   "metadata": {},
   "outputs": [
    {
     "name": "stdout",
     "output_type": "stream",
     "text": [
      "2015    13.19\n",
      "2016    12.63\n",
      "2017    13.26\n",
      "2018    15.06\n",
      "2019    13.45\n",
      "2020    16.36\n",
      "2021    18.22\n",
      "dtype: float64\n"
     ]
    }
   ],
   "source": [
    "#Question 42.What is the ratio of referrals to transplants by year?\n",
    "yearly_counts = dfs['Referral_Year'].value_counts()\n",
    "count_transplanted =dfs[dfs['transplanted'] == 1].groupby('Referral_Year').size()\n",
    "ratio = yearly_counts / count_transplanted\n",
    "print(ratio.round(2))"
   ]
  },
  {
   "cell_type": "code",
   "execution_count": 25,
   "id": "03309b57",
   "metadata": {},
   "outputs": [
    {
     "name": "stdout",
     "output_type": "stream",
     "text": [
      "Number of Donors died from Drug Overdose are : 156\n"
     ]
    }
   ],
   "source": [
    "#Question 43.How many donors died from a drug overdose?\n",
    "dfs2 = pd.read_excel('OrganDonor_Consolidated.xlsx',sheet_name = 'DonorDetails' )\n",
    "cause_death = dfs2['causeofdeath'].value_counts()\n",
    "count_DrugOverdose = cause_death.get('Drug Overdose',0)\n",
    "print(f\"Number of Donors died from Drug Overdose are : {count_DrugOverdose}\")"
   ]
  },
  {
   "cell_type": "code",
   "execution_count": 43,
   "id": "eff36914",
   "metadata": {},
   "outputs": [
    {
     "data": {
      "image/png": "[encoded data removed]",
      "text/plain": [
       "<Figure size 800x400 with 1 Axes>"
      ]
     },
     "metadata": {},
     "output_type": "display_data"
    }
   ],
   "source": [
    "#Question 44.Create a count plot to show distribution of patient-ages in any 2 mechanisms of death.\n",
    "dfs2 = pd.read_excel('OrganDonor_Consolidated.xlsx',sheet_name = 'DonorDetails' )\n",
    "step_size = [0, 10, 20, 30, 40, 50, 60, 70, 80, 90]\n",
    "groups = ['0-10', '11-20', '21-30', '31-40', '41-50', '51-60', '61-70', '71-80', '81-90']\n",
    "dfs2['age_group'] = pd.cut(dfs2['age'], bins=step_size, labels=groups, right=False)\n",
    "mech_of_death = ['Stroke','Cardiovascular' ]\n",
    "selected_mechofdeath = dfs2[dfs2['mechanism_of_death'].isin(mech_of_death)]\n",
    "plt.figure(figsize=(8, 4))\n",
    "dee = sns.countplot(data=selected_mechofdeath, x='age_group', hue='mechanism_of_death')\n",
    "for container in dee.containers:\n",
    "   dee.bar_label(container, fmt='%d', label_type='edge')\n",
    "plt.title('Distribution of Patient Ages in Selected Mechanisms of Death')\n",
    "plt.xlabel('Age')\n",
    "plt.ylabel('Count')\n",
    "plt.legend(title='Mechanism of Death')\n",
    "#plt.tight_layout()\n",
    "plt.show()"
   ]
  },
  {
   "cell_type": "code",
   "execution_count": 57,
   "id": "d8748ffd",
   "metadata": {},
   "outputs": [
    {
     "name": "stdout",
     "output_type": "stream",
     "text": [
      "Unknown                      25.97\n",
      "Cardiovascular               20.49\n",
      "Natural Causes               19.45\n",
      "Stroke                       13.36\n",
      "None of the Above             6.58\n",
      "Blunt Injury                  6.25\n",
      "Drug Intoxication             2.88\n",
      "Gun Shot Wound                1.50\n",
      "Asphyxiation                  1.46\n",
      "Death from Natural Causes     0.67\n",
      "Seizure                       0.58\n",
      "Drowning                      0.38\n",
      "Gunshot Wound                 0.22\n",
      "Other                         0.08\n",
      "Stab                          0.06\n",
      "Electrical                    0.04\n",
      "Sudden Infant Death           0.03\n",
      "None of the above             0.01\n",
      "Name: mechanism_of_death, dtype: float64\n"
     ]
    }
   ],
   "source": [
    "#Question 45.Create a Waffle chart to show what percentage of total deaths belong to each mechanism\n",
    "import matplotlib as mpl\n",
    "dfs2 = pd.read_excel('OrganDonor_Consolidated.xlsx',sheet_name = 'DonorDetails' )\n",
    "count_of_mech = dfs2['mechanism_of_death'].value_counts()\n",
    "total_deaths = len(dfs2)\n",
    "percentages_each_mech = (count_of_mech / total_deaths * 100).round(2)\n",
    "print(percentages_each_mech)\n",
    "\n",
    "\n",
    "\n",
    "\n"
   ]
  },
  {
   "cell_type": "code",
   "execution_count": 26,
   "id": "ed36a970",
   "metadata": {},
   "outputs": [
    {
     "name": "stdout",
     "output_type": "stream",
     "text": [
      "OPO4_H16532    3682\n",
      "OPO6_H22175    3629\n",
      "OPO6_H6602     3578\n",
      "OPO3_H4291     3123\n",
      "OPO4_H30877    2335\n",
      "               ... \n",
      "OPO5_H11845       1\n",
      "OPO2_H6517        1\n",
      "OPO2_H5905        1\n",
      "OPO2_H158         1\n",
      "OPO6_H21263       1\n",
      "Name: HospitalID, Length: 557, dtype: int64\n"
     ]
    }
   ],
   "source": [
    "#Question 46.How many donors were registered under each hospital?\n",
    "dfs3 = pd.read_excel('OrganDonor_Consolidated.xlsx',sheet_name = 'OPO_HospDetails' )\n",
    "donors_eachhosp = dfs3['HospitalID'].value_counts()\n",
    "print(donors_eachhosp)"
   ]
  },
  {
   "cell_type": "code",
   "execution_count": 27,
   "id": "ebe47ccf",
   "metadata": {},
   "outputs": [
    {
     "name": "stdout",
     "output_type": "stream",
     "text": [
      " The predominant mechanism of death among the youngest donors who is of age 0 is Unknown\n"
     ]
    }
   ],
   "source": [
    "#Question 47.What is the predominant 'identified mechanism of death' among the youngest donors in the dataset.\n",
    "dfs2 = pd.read_excel('OrganDonor_Consolidated.xlsx',sheet_name = 'DonorDetails' )\n",
    "youngest_donor_age = dfs2['age'].min()\n",
    "youngest_donors = dfs2[dfs2['age']== youngest_donor_age]\n",
    "mech_of_death = youngest_donors['causeofdeath'].value_counts()\n",
    "max_mech_of_death = mech_of_death.idxmax()\n",
    "print(f\" The predominant mechanism of death among the youngest donors who is of age {int(youngest_donor_age)} is {max_mech_of_death}\")"
   ]
  },
  {
   "cell_type": "code",
   "execution_count": null,
   "id": "8aaad4f9",
   "metadata": {},
   "outputs": [],
   "source": []
  }
 ],
 "metadata": {
  "kernelspec": {
   "display_name": "Python 3 (ipykernel)",
   "language": "python",
   "name": "python3"
  },
  "language_info": {
   "codemirror_mode": {
    "name": "ipython",
    "version": 3
   },
   "file_extension": ".py",
   "mimetype": "text/x-python",
   "name": "python",
   "nbconvert_exporter": "python",
   "pygments_lexer": "ipython3",
   "version": "3.9.13"
  }
 },
 "nbformat": 4,
 "nbformat_minor": 5
}
